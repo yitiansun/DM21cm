{
 "cells": [
  {
   "cell_type": "code",
   "execution_count": 3,
   "metadata": {},
   "outputs": [],
   "source": [
    "%reload_ext autoreload\n",
    "%autoreload 2\n",
    "\n",
    "import os\n",
    "import sys\n",
    "import numpy as np\n",
    "\n",
    "sys.path.append(os.environ['DH_DIR'])\n",
    "from darkhistory.spec.spectrum import Spectrum"
   ]
  },
  {
   "cell_type": "code",
   "execution_count": 66,
   "metadata": {},
   "outputs": [],
   "source": [
    "from astropy.cosmology import Planck18\n",
    "\n",
    "sys.path.append(\"..\")\n",
    "from dm21cm.data_cacher import Cacher as XRayCacher\n",
    "from dm21cm.profiler import Profiler"
   ]
  },
  {
   "cell_type": "code",
   "execution_count": 74,
   "metadata": {},
   "outputs": [],
   "source": [
    "profiler = Profiler()\n",
    "xray_cacher = XRayCacher(data_path='tmp.h5', cosmo=Planck18, N=64, dx=2.)\n",
    "rs = 300.\n",
    "eng = np.geomspace(1e-4, 1e12, 500)\n",
    "for i in range(200):\n",
    "    s = Spectrum(eng, 10**np.random.uniform(-10, 10, 500), spec_type='N', rs=rs)\n",
    "    xray_cacher.spectrum_cache.cache_spectrum(s, rs-1)\n",
    "    attenuation_arr = np.full((500,), 0.95)\n",
    "    rs -= 1.\n",
    "    profiler.start()\n",
    "    xray_cacher.advance_spectrum(attenuation_arr, rs-1)\n",
    "    profiler.record('advance')"
   ]
  },
  {
   "cell_type": "code",
   "execution_count": 75,
   "metadata": {},
   "outputs": [
    {
     "data": {
      "text/plain": [
       "<Axes: xlabel='Iteration', ylabel='Time [s]'>"
      ]
     },
     "execution_count": 75,
     "metadata": {},
     "output_type": "execute_result"
    },
    {
     "data": {
      "image/png": "[encoded data removed]",
      "text/plain": [
       "<Figure size 720x480 with 1 Axes>"
      ]
     },
     "metadata": {},
     "output_type": "display_data"
    }
   ],
   "source": [
    "profiler.plot()"
   ]
  },
  {
   "cell_type": "code",
   "execution_count": 76,
   "metadata": {},
   "outputs": [],
   "source": [
    "def f():\n",
    "    profiler = Profiler()\n",
    "    xray_cacher = XRayCacher(data_path='tmp.h5', cosmo=Planck18, N=64, dx=2.)\n",
    "    rs = 300.\n",
    "    eng = np.geomspace(1e-4, 1e12, 500)\n",
    "    for i in range(200):\n",
    "        s = Spectrum(eng, 10**np.random.uniform(-10, 10, 500), spec_type='N', rs=rs)\n",
    "        xray_cacher.spectrum_cache.cache_spectrum(s, rs-1)\n",
    "        attenuation_arr = np.full((500,), 0.95)\n",
    "        rs -= 1.\n",
    "        profiler.start()\n",
    "        xray_cacher.advance_spectrum(attenuation_arr, rs-1)\n",
    "        profiler.record('advance')"
   ]
  },
  {
   "cell_type": "code",
   "execution_count": 78,
   "metadata": {},
   "outputs": [],
   "source": [
    "import cProfile\n",
    "import pstats"
   ]
  },
  {
   "cell_type": "code",
   "execution_count": 79,
   "metadata": {},
   "outputs": [],
   "source": [
    "profiler = cProfile.Profile()\n",
    "profiler.enable()\n",
    "f()\n",
    "profiler.disable()"
   ]
  },
  {
   "cell_type": "code",
   "execution_count": 84,
   "metadata": {},
   "outputs": [],
   "source": [
    "fn = f\"{os.environ['P21C_CACHE_DIR']}/test_elec/xray_brightness.h5\""
   ]
  },
  {
   "cell_type": "code",
   "execution_count": 85,
   "metadata": {},
   "outputs": [],
   "source": [
    "import h5py"
   ]
  },
  {
   "cell_type": "code",
   "execution_count": null,
   "metadata": {},
   "outputs": [],
   "source": [
    "os.listdir(os.environ['P21C_CACHE_DIR']+'/test_elec')"
   ]
  },
  {
   "cell_type": "code",
   "execution_count": 80,
   "metadata": {},
   "outputs": [
    {
     "name": "stdout",
     "output_type": "stream",
     "text": [
      "         3654168 function calls (3654153 primitive calls) in 4.047 seconds\n",
      "\n",
      "   Ordered by: cumulative time\n",
      "   List reduced from 470 to 50 due to restriction <50>\n",
      "\n",
      "   ncalls  tottime  percall  cumtime  percall filename:lineno(function)\n",
      "        2    0.000    0.000    4.047    2.023 /n/home07/yitians/.conda/envs/dm21cm/lib/python3.11/site-packages/IPython/core/interactiveshell.py:3490(run_code)\n",
      "        2    0.000    0.000    4.047    2.023 {built-in method builtins.exec}\n",
      "        1    0.003    0.003    4.047    4.047 /tmp/ipykernel_1144794/2561460246.py:1(f)\n",
      "      200    0.000    0.000    4.024    0.020 /n/home07/yitians/dm21cm/DM21cm/benchmarking/../dm21cm/data_cacher.py:49(advance_spectrum)\n",
      "      200    0.015    0.000    3.994    0.020 /n/home07/yitians/dm21cm/DM21cm/benchmarking/../dm21cm/data_cacher.py:123(redshift)\n",
      "    20100    0.108    0.000    3.979    0.000 /n/home07/yitians/darkhistory/DarkHistory/darkhistory/spec/spectrum.py:1136(redshift)\n",
      "    20100    1.138    0.000    3.871    0.000 /n/home07/yitians/darkhistory/DarkHistory/darkhistory/spec/spectrum.py:788(rebin)\n",
      "    20100    0.196    0.000    1.062    0.000 /n/home07/yitians/.conda/envs/dm21cm/lib/python3.11/site-packages/scipy/interpolate/_interpolate.py:490(__init__)\n",
      "    20100    0.029    0.000    0.469    0.000 /n/home07/yitians/.conda/envs/dm21cm/lib/python3.11/site-packages/scipy/interpolate/_polyint.py:58(__call__)\n",
      "    20100    0.195    0.000    0.459    0.000 /n/home07/yitians/.conda/envs/dm21cm/lib/python3.11/site-packages/numpy/lib/function_base.py:5368(insert)\n",
      "    40200    0.145    0.000    0.421    0.000 /n/home07/yitians/.conda/envs/dm21cm/lib/python3.11/site-packages/numpy/core/numeric.py:1393(moveaxis)\n",
      "    80603    0.106    0.000    0.292    0.000 /n/home07/yitians/.conda/envs/dm21cm/lib/python3.11/site-packages/numpy/core/fromnumeric.py:71(_wrapreduction)\n",
      "    60300    0.066    0.000    0.290    0.000 /n/home07/yitians/.conda/envs/dm21cm/lib/python3.11/site-packages/numpy/core/fromnumeric.py:2177(sum)\n",
      "    20100    0.041    0.000    0.265    0.000 /n/home07/yitians/.conda/envs/dm21cm/lib/python3.11/site-packages/scipy/interpolate/_interpolate.py:748(_evaluate)\n",
      "    20100    0.039    0.000    0.260    0.000 /n/home07/yitians/.conda/envs/dm21cm/lib/python3.11/site-packages/scipy/interpolate/_polyint.py:106(_reshape_yi)\n",
      "    80401    0.144    0.000    0.218    0.000 /n/home07/yitians/.conda/envs/dm21cm/lib/python3.11/site-packages/numpy/core/numeric.py:1330(normalize_axis_tuple)\n",
      "    20100    0.017    0.000    0.192    0.000 /n/home07/yitians/.conda/envs/dm21cm/lib/python3.11/site-packages/scipy/interpolate/_polyint.py:51(__init__)\n",
      "    20100    0.087    0.000    0.184    0.000 /n/home07/yitians/.conda/envs/dm21cm/lib/python3.11/site-packages/scipy/interpolate/_interpolate.py:638(fill_value)\n",
      "    20100    0.051    0.000    0.175    0.000 /n/home07/yitians/.conda/envs/dm21cm/lib/python3.11/site-packages/scipy/interpolate/_polyint.py:114(_set_yi)\n",
      "    20100    0.020    0.000    0.151    0.000 /n/home07/yitians/.conda/envs/dm21cm/lib/python3.11/site-packages/scipy/interpolate/_polyint.py:89(_prepare_x)\n",
      "    60322    0.062    0.000    0.145    0.000 /n/home07/yitians/.conda/envs/dm21cm/lib/python3.11/site-packages/numpy/core/numerictypes.py:357(issubdtype)\n",
      "    20100    0.021    0.000    0.143    0.000 /n/home07/yitians/.conda/envs/dm21cm/lib/python3.11/site-packages/scipy/interpolate/_interpolate.py:675(_call_linear_np)\n",
      "    80603    0.131    0.000    0.131    0.000 {method 'reduce' of 'numpy.ufunc' objects}\n",
      "    20100    0.057    0.000    0.127    0.000 /n/home07/yitians/.conda/envs/dm21cm/lib/python3.11/site-packages/scipy/_lib/_util.py:194(_asarray_validated)\n",
      "    20300    0.109    0.000    0.124    0.000 /n/home07/yitians/.conda/envs/dm21cm/lib/python3.11/site-packages/numpy/lib/function_base.py:1324(diff)\n",
      "    40200    0.029    0.000    0.123    0.000 /n/home07/yitians/.conda/envs/dm21cm/lib/python3.11/site-packages/numpy/core/fromnumeric.py:53(_wrapfunc)\n",
      "    20100    0.024    0.000    0.119    0.000 /n/home07/yitians/.conda/envs/dm21cm/lib/python3.11/site-packages/scipy/interpolate/_polyint.py:134(_set_dtype)\n",
      "    20100    0.032    0.000    0.118    0.000 /n/home07/yitians/.conda/envs/dm21cm/lib/python3.11/site-packages/numpy/lib/function_base.py:1461(interp)\n",
      "    40200    0.101    0.000    0.101    0.000 {method 'at' of 'numpy.ufunc' objects}\n",
      "    20300    0.018    0.000    0.095    0.000 /n/home07/yitians/.conda/envs/dm21cm/lib/python3.11/site-packages/numpy/core/fromnumeric.py:2421(all)\n",
      "   120644    0.054    0.000    0.077    0.000 /n/home07/yitians/.conda/envs/dm21cm/lib/python3.11/site-packages/numpy/core/numerictypes.py:283(issubclass_)\n",
      "    20100    0.015    0.000    0.077    0.000 /n/home07/yitians/.conda/envs/dm21cm/lib/python3.11/site-packages/numpy/core/fromnumeric.py:1025(argsort)\n",
      "    20100    0.075    0.000    0.075    0.000 /n/home07/yitians/.conda/envs/dm21cm/lib/python3.11/site-packages/scipy/interpolate/_interpolate.py:763(_check_bounds)\n",
      "    20100    0.014    0.000    0.075    0.000 /n/home07/yitians/.conda/envs/dm21cm/lib/python3.11/site-packages/numpy/core/fromnumeric.py:95(take)\n",
      "    80408    0.073    0.000    0.073    0.000 {method 'astype' of 'numpy.ndarray' objects}\n",
      "    40200    0.055    0.000    0.070    0.000 /n/home07/yitians/.conda/envs/dm21cm/lib/python3.11/site-packages/scipy/interpolate/_interpolate.py:361(_check_broadcast_up_to)\n",
      "    20100    0.068    0.000    0.068    0.000 {built-in method numpy.core._multiarray_umath.interp}\n",
      "    80401    0.035    0.000    0.050    0.000 /n/home07/yitians/.conda/envs/dm21cm/lib/python3.11/site-packages/numpy/core/numeric.py:1380(<listcomp>)\n",
      "    80413    0.049    0.000    0.049    0.000 {built-in method numpy.array}\n",
      "    20100    0.047    0.000    0.047    0.000 {method 'take' of 'numpy.ndarray' objects}\n",
      "    80603    0.046    0.000    0.046    0.000 /n/home07/yitians/.conda/envs/dm21cm/lib/python3.11/site-packages/numpy/core/fromnumeric.py:72(<dictcomp>)\n",
      "   442554    0.042    0.000    0.042    0.000 {built-in method builtins.len}\n",
      "    20100    0.042    0.000    0.042    0.000 {method 'argsort' of 'numpy.ndarray' objects}\n",
      "   221327    0.033    0.000    0.033    0.000 {built-in method builtins.issubclass}\n",
      "    20102    0.032    0.000    0.032    0.000 {built-in method numpy.arange}\n",
      "      200    0.021    0.000    0.030    0.000 /n/home07/yitians/dm21cm/DM21cm/benchmarking/../dm21cm/data_cacher.py:119(attenuate)\n",
      "   161020    0.028    0.000    0.028    0.000 {built-in method numpy.asarray}\n",
      "   202084    0.028    0.000    0.028    0.000 {built-in method builtins.isinstance}\n",
      "    20100    0.014    0.000    0.024    0.000 /n/home07/yitians/.conda/envs/dm21cm/lib/python3.11/site-packages/scipy/interpolate/_polyint.py:95(_finish_y)\n",
      "    40202    0.023    0.000    0.023    0.000 {method 'reshape' of 'numpy.ndarray' objects}\n",
      "\n",
      "\n"
     ]
    },
    {
     "data": {
      "text/plain": [
       "<pstats.Stats at 0x7f5eb6009ad0>"
      ]
     },
     "execution_count": 80,
     "metadata": {},
     "output_type": "execute_result"
    }
   ],
   "source": [
    "stats = pstats.Stats(profiler).sort_stats('cumulative')\n",
    "\n",
    "stats.print_stats(50)"
   ]
  },
  {
   "cell_type": "code",
   "execution_count": 50,
   "metadata": {},
   "outputs": [],
   "source": [
    "class NewSpectrum (Spectrum):\n",
    "\n",
    "    def redshift_fast(self, new_rs):\n",
    "        if self.rs <= 0:\n",
    "            raise ValueError('self.rs must be initialized.')\n",
    "\n",
    "        fac = new_rs/self.rs\n",
    "\n",
    "        eng_orig = self.eng\n",
    "\n",
    "        self.eng = self.eng*fac\n",
    "        if self._spec_type == 'dNdE':\n",
    "            self.dNdE = self.dNdE/fac\n",
    "        self.underflow['eng'] *= fac\n",
    "\n",
    "        self.rebin_fast(eng_orig)\n",
    "        self.rs = new_rs\n",
    "\n",
    "    def redshift_faster(self, new_rs):\n",
    "        \"\"\"Redshifts the :class:`Spectrum` object as a photon spectrum fast.\n",
    "\n",
    "        Parameters\n",
    "        ----------\n",
    "        new_rs : float\n",
    "            The new redshift (1+z) to redshift to.\n",
    "        \"\"\"\n",
    "        if self.rs < 0:\n",
    "            raise ValueError('Redshift must be set.')\n",
    "        if self.spec_type == 'dNdE':\n",
    "            raise NotImplementedError('Spectrum must be in N.')\n",
    "        \n",
    "        eng_extended = np.insert(self.eng, 0, self.eng[0]**2/self.eng[1]) # prepend eng log-symmetrically\n",
    "        dN = self._data * (1 - new_rs/self.rs) * self.eng / np.diff(eng_extended)\n",
    "        self._data -= dN\n",
    "        self._data[:-1] += dN[1:]\n",
    "        self.underflow['N'] += dN[0]\n",
    "        self.underflow['eng'] += dN[0] * eng_extended[0]\n",
    "        self.rs = new_rs"
   ]
  },
  {
   "cell_type": "code",
   "execution_count": 54,
   "metadata": {},
   "outputs": [],
   "source": [
    "eng = np.linspace(2, 200, 500)\n",
    "N = np.random.uniform(-10, 10, 500)\n",
    "underflow = {'N': np.random.uniform(), 'eng': np.random.uniform()}\n",
    "rs = 10.\n",
    "\n",
    "spec0 = NewSpectrum(eng, N, rs=rs, spec_type='N')\n",
    "spec0.underflow = underflow\n",
    "spec1 = NewSpectrum(eng, N, rs=rs, spec_type='N')\n",
    "spec1.underflow = underflow\n",
    "spec2 = NewSpectrum(eng, N, rs=rs, spec_type='N')\n",
    "spec2.underflow = underflow"
   ]
  },
  {
   "cell_type": "code",
   "execution_count": 59,
   "metadata": {},
   "outputs": [],
   "source": [
    "s = Spectrum(np.array([1., 2., 3.]), np.array([0., 0., 1.]), rs=5, spec_type='N')"
   ]
  },
  {
   "cell_type": "code",
   "execution_count": 60,
   "metadata": {},
   "outputs": [
    {
     "data": {
      "text/plain": [
       "<darkhistory.spec.spectrum.Spectrum at 0x7f5ed23c00d0>"
      ]
     },
     "execution_count": 60,
     "metadata": {},
     "output_type": "execute_result"
    }
   ],
   "source": [
    "s.N *= 2\n",
    "s"
   ]
  },
  {
   "cell_type": "code",
   "execution_count": 61,
   "metadata": {},
   "outputs": [
    {
     "data": {
      "text/plain": [
       "array([0., 0., 2.])"
      ]
     },
     "execution_count": 61,
     "metadata": {},
     "output_type": "execute_result"
    }
   ],
   "source": [
    "s.N"
   ]
  },
  {
   "cell_type": "code",
   "execution_count": 55,
   "metadata": {},
   "outputs": [],
   "source": [
    "def f0():\n",
    "    spec1.rs = 10.\n",
    "    spec1.redshift(8.)"
   ]
  },
  {
   "cell_type": "code",
   "execution_count": 56,
   "metadata": {},
   "outputs": [
    {
     "name": "stdout",
     "output_type": "stream",
     "text": [
      "127 µs ± 67.5 ns per loop (mean ± std. dev. of 7 runs, 10,000 loops each)\n"
     ]
    }
   ],
   "source": [
    "%timeit f0()"
   ]
  },
  {
   "cell_type": "code",
   "execution_count": 57,
   "metadata": {},
   "outputs": [],
   "source": [
    "def f0_fast():\n",
    "    spec1.rs = 10.\n",
    "    spec1.redshift_fast(8.)"
   ]
  },
  {
   "cell_type": "code",
   "execution_count": 58,
   "metadata": {},
   "outputs": [
    {
     "name": "stdout",
     "output_type": "stream",
     "text": [
      "107 µs ± 63.6 ns per loop (mean ± std. dev. of 7 runs, 10,000 loops each)\n"
     ]
    }
   ],
   "source": [
    "%timeit f0_fast()"
   ]
  },
  {
   "cell_type": "code",
   "execution_count": 45,
   "metadata": {},
   "outputs": [],
   "source": [
    "spec2.redshift_fast(8.)"
   ]
  },
  {
   "cell_type": "code",
   "execution_count": 46,
   "metadata": {},
   "outputs": [
    {
     "data": {
      "text/plain": [
       "81.9690458077649"
      ]
     },
     "execution_count": 46,
     "metadata": {},
     "output_type": "execute_result"
    }
   ],
   "source": [
    "spec1.toteng()"
   ]
  },
  {
   "cell_type": "code",
   "execution_count": 47,
   "metadata": {},
   "outputs": [
    {
     "data": {
      "text/plain": [
       "81.96904580776491"
      ]
     },
     "execution_count": 47,
     "metadata": {},
     "output_type": "execute_result"
    }
   ],
   "source": [
    "spec2.toteng()"
   ]
  },
  {
   "cell_type": "code",
   "execution_count": null,
   "metadata": {},
   "outputs": [
    {
     "data": {
      "text/plain": [
       "102.78223016509136"
      ]
     },
     "metadata": {},
     "output_type": "display_data"
    }
   ],
   "source": [
    "spec1.toteng()"
   ]
  },
  {
   "cell_type": "code",
   "execution_count": null,
   "metadata": {},
   "outputs": [
    {
     "data": {
      "text/plain": [
       "102.78223016509136"
      ]
     },
     "metadata": {},
     "output_type": "display_data"
    }
   ],
   "source": [
    "spec2.toteng()"
   ]
  },
  {
   "cell_type": "code",
   "execution_count": 48,
   "metadata": {},
   "outputs": [
    {
     "data": {
      "text/plain": [
       "array([ True,  True,  True,  True,  True,  True,  True,  True,  True,\n",
       "        True,  True,  True,  True,  True,  True,  True,  True,  True,\n",
       "        True,  True,  True,  True,  True,  True,  True,  True,  True,\n",
       "        True,  True,  True,  True,  True,  True,  True,  True,  True,\n",
       "        True,  True,  True, False, False,  True,  True,  True,  True,\n",
       "        True,  True,  True,  True, False, False,  True,  True,  True,\n",
       "        True,  True,  True,  True,  True,  True,  True,  True,  True,\n",
       "        True,  True,  True,  True,  True,  True,  True,  True,  True,\n",
       "        True,  True,  True,  True,  True,  True,  True,  True,  True,\n",
       "        True,  True,  True,  True,  True,  True,  True,  True,  True,\n",
       "        True,  True,  True,  True,  True,  True,  True,  True,  True,\n",
       "        True])"
      ]
     },
     "execution_count": 48,
     "metadata": {},
     "output_type": "execute_result"
    }
   ],
   "source": [
    "np.isclose(spec1._data, spec2._data)"
   ]
  },
  {
   "cell_type": "code",
   "execution_count": null,
   "metadata": {},
   "outputs": [],
   "source": [
    "import matplotlib.pyplot as plt"
   ]
  },
  {
   "cell_type": "code",
   "execution_count": 49,
   "metadata": {},
   "outputs": [
    {
     "data": {
      "text/plain": [
       "[<matplotlib.lines.Line2D at 0x7f5ed23e4d50>]"
      ]
     },
     "execution_count": 49,
     "metadata": {},
     "output_type": "execute_result"
    },
    {
     "data": {
      "image/png": "[encoded data removed]",
      "text/plain": [
       "<Figure size 640x480 with 1 Axes>"
      ]
     },
     "metadata": {},
     "output_type": "display_data"
    }
   ],
   "source": [
    "plt.plot(spec1._data)\n",
    "plt.plot(spec2._data)"
   ]
  }
 ],
 "metadata": {
  "kernelspec": {
   "display_name": "dm21cm",
   "language": "python",
   "name": "python3"
  },
  "language_info": {
   "codemirror_mode": {
    "name": "ipython",
    "version": 3
   },
   "file_extension": ".py",
   "mimetype": "text/x-python",
   "name": "python",
   "nbconvert_exporter": "python",
   "pygments_lexer": "ipython3",
   "version": "3.11.5"
  },
  "orig_nbformat": 4
 },
 "nbformat": 4,
 "nbformat_minor": 2
}
