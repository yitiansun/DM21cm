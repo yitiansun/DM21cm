{
 "cells": [
  {
   "cell_type": "code",
   "execution_count": 1,
   "metadata": {},
   "outputs": [
    {
     "name": "stderr",
     "output_type": "stream",
     "text": [
      "/n/home07/yitians/.conda/envs/dm21cm/lib/python3.11/site-packages/py21cmfast/_cfg.py:59: UserWarning: Your configuration file is out of date. Updating...\n",
      "  warnings.warn(\n",
      "/n/home07/yitians/.conda/envs/dm21cm/lib/python3.11/site-packages/py21cmfast/_cfg.py:43: UserWarning: Your configuration file is out of date. Updating...\n",
      "  warnings.warn(\"Your configuration file is out of date. Updating...\")\n"
     ]
    },
    {
     "name": "stdout",
     "output_type": "stream",
     "text": [
      "Default cache dir: /n/netscratch/iaifi_lab/Lab/yitians/dm21cm/21cmFAST-cache\n"
     ]
    }
   ],
   "source": [
    "%reload_ext autoreload\n",
    "%autoreload 2\n",
    "\n",
    "import os\n",
    "import sys\n",
    "import shutil\n",
    "import numpy as np\n",
    "from scipy import stats\n",
    "from tqdm import tqdm\n",
    "from IPython.display import clear_output\n",
    "\n",
    "import py21cmfish\n",
    "from py21cmfish.power_spectra import *\n",
    "from py21cmfish.io import *\n",
    "\n",
    "WDIR = os.environ['DM21CM_DIR']\n",
    "sys.path.append(WDIR)\n",
    "\n",
    "from scripts.step_size import decay_phot_lifetime, decay_elec_lifetime, pwave_phot_c_sigma, pwave_elec_c_sigma, pbh_hr_f, pbh_acc_f\n",
    "\n",
    "%matplotlib inline\n",
    "import matplotlib as mpl\n",
    "import matplotlib.pyplot as plt\n",
    "mpl.rc_file(f\"{WDIR}/matplotlibrc\")"
   ]
  },
  {
   "cell_type": "markdown",
   "metadata": {},
   "source": [
    "## 1. 21cmFISH standard astrophysics"
   ]
  },
  {
   "cell_type": "code",
   "execution_count": 2,
   "metadata": {
    "scrolled": false
   },
   "outputs": [],
   "source": [
    "noise_dir = '/n/home07/yitians/dm21cm/21cmSense_fid_EOS21/'\n",
    "bkg_dir = '/n/holystore01/LABS/iaifi_lab/Users/yitians/dm21cm/outputs/bkg/'\n",
    "\n",
    "\n",
    "astro_params_vary = ['DM', 'F_STAR10', 'F_STAR7_MINI', 'ALPHA_STAR', 'ALPHA_STAR_MINI', 't_STAR',\n",
    "                     'F_ESC10', 'F_ESC7_MINI', 'ALPHA_ESC', 'L_X', 'L_X_MINI', 'NU_X_THRESH', 'A_LW']\n",
    "default_param_values = [0, -1.25, -2.5, 0.5, 0.0, 0.5, -1.35, -1.35, -0.3, 40.5, 40.5, 500, 2.0]\n",
    "\n",
    "astro_params_vary = list(np.array(astro_params_vary))\n",
    "default_param_values = default_param_values\n",
    "astro_params_fid = dict()\n",
    "for i in range(len(astro_params_vary)):\n",
    "    astro_params_fid[astro_params_vary[i]] = default_param_values[i]\n",
    "    \n",
    "# Load each parameter into a dictionary\n",
    "params_EoS = {}\n",
    "\n",
    "for param in astro_params_vary[1:]:\n",
    "    params_EoS[param] = py21cmfish.Parameter(\n",
    "        HII_DIM=128, BOX_LEN=256, param=param,\n",
    "        output_dir = bkg_dir,\n",
    "        PS_err_dir = noise_dir,\n",
    "        new = False\n",
    ")\n",
    "clear_output()"
   ]
  },
  {
   "cell_type": "markdown",
   "metadata": {},
   "source": [
    "## 2. Fisher analysis at each mass"
   ]
  },
  {
   "cell_type": "code",
   "execution_count": 3,
   "metadata": {},
   "outputs": [
    {
     "name": "stdout",
     "output_type": "stream",
     "text": [
      "log10m2.000\n"
     ]
    }
   ],
   "source": [
    "! ls /n/holystore01/LABS/iaifi_lab/Users/yitians/dm21cm/outputs/pbh-acc-rs2500"
   ]
  },
  {
   "cell_type": "code",
   "execution_count": 5,
   "metadata": {},
   "outputs": [
    {
     "data": {
      "text/plain": [
       "['log10m2.000']"
      ]
     },
     "execution_count": 5,
     "metadata": {},
     "output_type": "execute_result"
    }
   ],
   "source": [
    "run_name = 'debug'\n",
    "model = 'PRc23' # for pbh-acc only\n",
    "\n",
    "inj_dir = f'/n/holystore01/LABS/iaifi_lab/Users/yitians/dm21cm/outputs/pbh-acc-rs3000'\n",
    "os.listdir(inj_dir)"
   ]
  },
  {
   "cell_type": "code",
   "execution_count": 6,
   "metadata": {},
   "outputs": [
    {
     "name": "stdout",
     "output_type": "stream",
     "text": [
      "log10m [2]\n",
      "f [0.00017783]\n"
     ]
    }
   ],
   "source": [
    "EPSILON = 1e-6\n",
    "\n",
    "if run_name == 'decay-phot':\n",
    "    log10m_s = np.linspace(1.5, 12, 22)\n",
    "    m_s = 10**log10m_s\n",
    "    tau_s = decay_phot_lifetime(m_s)\n",
    "    print('tau', tau_s)\n",
    "    mass_s = m_s\n",
    "    inj_s = 1/tau_s\n",
    "\n",
    "elif run_name == 'decay-elec':\n",
    "    log10m_s = np.linspace(6.5, 12, 23)\n",
    "    m_s = 10**log10m_s\n",
    "    tau_s = decay_elec_lifetime(m_s)\n",
    "    print('tau', tau_s)\n",
    "    mass_s = m_s\n",
    "    inj_s = 1/tau_s\n",
    "\n",
    "elif run_name == 'pwave-phot':\n",
    "    m_s = 10**np.array([1.5] + list(range(2, 11)) + [12])\n",
    "    c_s = pwave_phot_c_sigma(m_s)\n",
    "    run_name = 'pwave/pwave-phot-iter-3'\n",
    "    print('c', c_s)\n",
    "    mass_s = m_s\n",
    "    inj_s = c_s\n",
    "\n",
    "elif run_name == 'pwave-elec':\n",
    "    m_s = 10**np.array([6.5, 8, 9, 10, 11, 12])\n",
    "    c_s = pwave_elec_c_sigma(m_s)\n",
    "    run_name = 'pwave/pwave-elec-iter-3'\n",
    "    print('c', c_s)\n",
    "    mass_s = m_s\n",
    "    inj_s = c_s\n",
    "\n",
    "elif run_name.startswith('pbh-hr'):\n",
    "    log10m_s = np.arange(13.5, 18 + EPSILON, 1.5)\n",
    "    m_PBH_s = 10 ** log10m_s # [g]\n",
    "    f_PBH_s = pbh_hr_f(m_PBH_s) # [1]\n",
    "    print('log10m', log10m_s)\n",
    "    print('f', f_PBH_s)\n",
    "    mass_s = m_PBH_s\n",
    "    inj_s = f_PBH_s\n",
    "\n",
    "elif run_name.startswith('pbh-acc'):\n",
    "    log10m_s = np.array([0, 2, 4])\n",
    "    m_PBH_s = 10 ** log10m_s # [M_sun]\n",
    "    f_PBH_s = pbh_acc_f(m_PBH_s, model) # [1]\n",
    "    print('log10m', log10m_s)\n",
    "    print('f', f_PBH_s)\n",
    "    mass_s = m_PBH_s\n",
    "    inj_s = f_PBH_s\n",
    "\n",
    "else: # debug\n",
    "    log10m_s = np.array([2])\n",
    "    m_PBH_s = 10 ** log10m_s # [M_sun]\n",
    "    f_PBH_s = pbh_acc_f(m_PBH_s, model) # [1]\n",
    "    print('log10m', log10m_s)\n",
    "    print('f', f_PBH_s)\n",
    "    mass_s = m_PBH_s\n",
    "    inj_s = f_PBH_s"
   ]
  },
  {
   "cell_type": "code",
   "execution_count": 7,
   "metadata": {},
   "outputs": [
    {
     "name": "stdout",
     "output_type": "stream",
     "text": [
      "2.000 "
     ]
    }
   ],
   "source": [
    "# Copy the fiducial lightcone in each mass directory\n",
    "for m in mass_s:\n",
    "    source_file = f'{bkg_dir}/LightCone_z5.0_HIIDIM=128_BOXLEN=256_fisher_fid_r54321.h5'\n",
    "    target_file = f'{inj_dir}/log10m{np.log10(m):.3f}/LightCone_z5.0_HIIDIM=128_BOXLEN=256_fisher_fid_r54321.h5'\n",
    "    if not os.path.isfile(target_file):\n",
    "        print(f'{np.log10(m):.3f}', end=' ')\n",
    "        shutil.copyfile(source_file, target_file)"
   ]
  },
  {
   "cell_type": "code",
   "execution_count": null,
   "metadata": {
    "scrolled": true
   },
   "outputs": [],
   "source": [
    "sigma_s = []\n",
    "force_new = False\n",
    "\n",
    "for m in tqdm(mass_s):\n",
    "\n",
    "    lc_dir = f'{inj_dir}/log10m{np.log10(m):.3f}/'\n",
    "    new = ('lc_redshifts.npy' not in os.listdir(lc_dir)) or force_new\n",
    "    \n",
    "    for param in astro_params_vary[:1]:\n",
    "        params_EoS[param] = py21cmfish.Parameter(\n",
    "            HII_DIM=128, BOX_LEN=256, param=param,\n",
    "            output_dir=lc_dir,\n",
    "            PS_err_dir=noise_dir, new=new,\n",
    "        )\n",
    "\n",
    "    Fij_matrix_PS, Finv_PS= py21cmfish.make_fisher_matrix(\n",
    "        params_EoS,\n",
    "        fisher_params=astro_params_vary,\n",
    "        hpeak=0.0, obs='PS',\n",
    "        k_min=0.1, k_max=1,\n",
    "        sigma_mod_frac=0.2,\n",
    "        add_sigma_poisson=True\n",
    "    )\n",
    "    sigma_s.append(np.sqrt(Finv_PS[0, 0]))\n",
    "    \n",
    "sigma_s = np.array(sigma_s)\n",
    "print('sigma', sigma_s)"
   ]
  },
  {
   "cell_type": "code",
   "execution_count": 11,
   "metadata": {},
   "outputs": [
    {
     "data": {
      "text/plain": [
       "array([48.86207329, 43.01595104, 57.8287214 ])"
      ]
     },
     "execution_count": 11,
     "metadata": {},
     "output_type": "execute_result"
    }
   ],
   "source": [
    "# check sigma as a multiple of step size. recommended: 30-100\n",
    "sigma_s"
   ]
  },
  {
   "cell_type": "code",
   "execution_count": null,
   "metadata": {},
   "outputs": [],
   "source": [
    "fig, ax = plt.subplots(1, 1, figsize=(6, 4))\n",
    "\n",
    "one_sigma = inj_s * sigma_s\n",
    "upper_limit = np.sqrt(stats.chi2.ppf(.9, df=1)) * one_sigma\n",
    "\n",
    "ax.plot(mass_s, upper_limit, 'k-s', label='limit')\n",
    "ax.fill_between(mass_s, upper_limit + one_sigma, upper_limit - one_sigma, color=mpl.colormaps['viridis'](0.75), label='1$\\sigma$')\n",
    "ax.fill_between(mass_s, upper_limit + 2*one_sigma, upper_limit + one_sigma, color=mpl.colormaps['viridis'](1.0), label='2$\\sigma$')\n",
    "\n",
    "ax.set(xscale='log', yscale='log')\n",
    "\n",
    "if run_name == 'decay-phot':\n",
    "    m_s = np.geomspace(mass_s[0], mass_s[-1], 100)\n",
    "    ax.plot(m_s, 1/decay_phot_lifetime(m_s), 'r--', label='step size')\n",
    "    ax.set(xlabel=r'$m_{DM}$ [eV]', ylabel=r'$1/\\tau$ [s$^{-1}$]')\n",
    "elif run_name == 'decay-elec':\n",
    "    m_s = np.geomspace(mass_s[0], mass_s[-1], 100)\n",
    "    ax.plot(m_s, 1/decay_elec_lifetime(m_s), 'r--', label='step size')\n",
    "    ax.set(xlabel=r'$m_{DM}$ [eV]', ylabel=r'$1/\\tau$ [s$^{-1}$]')\n",
    "elif run_name == 'pwave-phot':\n",
    "    m_s = np.geomspace(mass_s[0], mass_s[-1], 100)\n",
    "    ax.plot(m_s, pwave_phot_c_sigma(m_s), 'r--', label='step size')\n",
    "    ax.set(xlabel=r'$m_{DM}$ [eV]', ylabel=r'$C_\\sigma$ [cm$^3$/s]')\n",
    "elif run_name == 'pwave-elec':\n",
    "    m_s = np.geomspace(mass_s[0], mass_s[-1], 100)\n",
    "    ax.plot(m_s, pwave_elec_c_sigma(m_s), 'r--', label='step size')\n",
    "    ax.set(xlabel=r'$m_{DM}$ [eV]', ylabel=r'$C_\\sigma$ [cm$^3$/s]')\n",
    "elif run_name.startswith('pbh-hr'):\n",
    "    m_s = np.geomspace(mass_s[0], mass_s[-1], 100)\n",
    "    ax.plot(m_s, pbh_hr_f(m_s), 'r--', label='step size')\n",
    "    ax.set(xlabel=r'$M$ [g]', ylabel=r'$f$')\n",
    "elif run_name.startswith('pbh-acc'):\n",
    "    m_s = np.geomspace(mass_s[0], mass_s[-1], 100)\n",
    "    ax.plot(m_s, pbh_acc_f(m_s, model), 'r--', label='step size')\n",
    "    ax.set(xlabel=r'$M$ [Msun]', ylabel=r'$f$')\n",
    "ax.legend()"
   ]
  },
  {
   "cell_type": "code",
   "execution_count": 13,
   "metadata": {},
   "outputs": [],
   "source": [
    "save_fn = f'../outputs/limits/{run_name}.txt'\n",
    "dir_path = os.path.dirname(save_fn)\n",
    "os.makedirs(dir_path, exist_ok=True)\n",
    "np.savetxt(save_fn, np.array([mass_s, inj_s, sigma_s]).T, header='mass_s inj_s sigma_s')"
   ]
  },
  {
   "cell_type": "code",
   "execution_count": null,
   "metadata": {},
   "outputs": [],
   "source": []
  }
 ],
 "metadata": {
  "kernelspec": {
   "display_name": "dm21cm",
   "language": "python",
   "name": "python3"
  },
  "language_info": {
   "codemirror_mode": {
    "name": "ipython",
    "version": 3
   },
   "file_extension": ".py",
   "mimetype": "text/x-python",
   "name": "python",
   "nbconvert_exporter": "python",
   "pygments_lexer": "ipython3",
   "version": "3.11.5"
  }
 },
 "nbformat": 4,
 "nbformat_minor": 4
}
