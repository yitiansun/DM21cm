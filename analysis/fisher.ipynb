{
 "cells": [
  {
   "cell_type": "code",
   "execution_count": null,
   "metadata": {},
   "outputs": [
    {
     "name": "stderr",
     "output_type": "stream",
     "text": [
      "/n/home07/yitians/.conda/envs/dm21cm/lib/python3.11/site-packages/py21cmfast/_cfg.py:59: UserWarning: Your configuration file is out of date. Updating...\n",
      "  warnings.warn(\n",
      "/n/home07/yitians/.conda/envs/dm21cm/lib/python3.11/site-packages/py21cmfast/_cfg.py:43: UserWarning: Your configuration file is out of date. Updating...\n",
      "  warnings.warn(\"Your configuration file is out of date. Updating...\")\n"
     ]
    },
    {
     "name": "stdout",
     "output_type": "stream",
     "text": [
      "Default cache dir: /n/netscratch/iaifi_lab/Lab/yitians/dm21cm/21cmFAST-cache\n"
     ]
    }
   ],
   "source": [
    "%reload_ext autoreload\n",
    "%autoreload 2\n",
    "\n",
    "import os\n",
    "import sys\n",
    "import shutil\n",
    "import numpy as np\n",
    "from scipy import stats\n",
    "from tqdm import tqdm\n",
    "from IPython.display import clear_output\n",
    "\n",
    "import py21cmfish\n",
    "from py21cmfish.power_spectra import *\n",
    "from py21cmfish.io import *\n",
    "\n",
    "WDIR = os.environ['DM21CM_DIR']\n",
    "sys.path.append(WDIR)\n",
    "\n",
    "from scripts.step_size import decay_phot_lifetime, decay_elec_lifetime, pwave_phot_c_sigma, pwave_elec_c_sigma, pbhhr_f, pbhacc_f\n",
    "\n",
    "%matplotlib inline\n",
    "import matplotlib as mpl\n",
    "import matplotlib.pyplot as plt\n",
    "mpl.rc_file(f\"{WDIR}/matplotlibrc\")"
   ]
  },
  {
   "cell_type": "code",
   "execution_count": 2,
   "metadata": {},
   "outputs": [],
   "source": [
    "noise_dir = \"/n/home07/yitians/dm21cm/21cmSense_fid_EOS21/\"\n",
    "outputs_dir = \"/n/holystore01/LABS/iaifi_lab/Users/yitians/dm21cm/outputs\""
   ]
  },
  {
   "cell_type": "markdown",
   "metadata": {},
   "source": [
    "## 1. 21cmFISH standard astrophysics"
   ]
  },
  {
   "cell_type": "code",
   "execution_count": 3,
   "metadata": {
    "scrolled": false
   },
   "outputs": [],
   "source": [
    "bkg_dir = f\"{outputs_dir}/bkg/\"\n",
    "\n",
    "astro_params_vary = ['DM', 'F_STAR10', 'F_STAR7_MINI', 'ALPHA_STAR', 'ALPHA_STAR_MINI', 't_STAR',\n",
    "                     'F_ESC10', 'F_ESC7_MINI', 'ALPHA_ESC', 'L_X', 'L_X_MINI', 'NU_X_THRESH', 'A_LW']\n",
    "default_param_values = [0, -1.25, -2.5, 0.5, 0.0, 0.5, -1.35, -1.35, -0.3, 40.5, 40.5, 500, 2.0]\n",
    "\n",
    "astro_params_vary = list(np.array(astro_params_vary))\n",
    "default_param_values = default_param_values\n",
    "astro_params_fid = dict()\n",
    "for i in range(len(astro_params_vary)):\n",
    "    astro_params_fid[astro_params_vary[i]] = default_param_values[i]\n",
    "    \n",
    "# Load each parameter into a dictionary\n",
    "params_EoS = {}\n",
    "for param in astro_params_vary[1:]:\n",
    "    params_EoS[param] = py21cmfish.Parameter(\n",
    "        HII_DIM=128, BOX_LEN=256, param=param,\n",
    "        output_dir = bkg_dir,\n",
    "        PS_err_dir = noise_dir,\n",
    "        new = False\n",
    ")\n",
    "clear_output()"
   ]
  },
  {
   "cell_type": "markdown",
   "metadata": {},
   "source": [
    "## 2. Fisher analysis at each mass"
   ]
  },
  {
   "cell_type": "code",
   "execution_count": 7,
   "metadata": {},
   "outputs": [
    {
     "name": "stdout",
     "output_type": "stream",
     "text": [
      "log10m13.500  log10m15.000  log10m16.500  log10m18.000\n"
     ]
    }
   ],
   "source": [
    "! ls /n/holystore01/LABS/iaifi_lab/Users/yitians/dm21cm/outputs/active/pbh-hr"
   ]
  },
  {
   "cell_type": "code",
   "execution_count": null,
   "metadata": {},
   "outputs": [
    {
     "name": "stdout",
     "output_type": "stream",
     "text": [
      "['log10m15.000', 'log10m13.500', 'log10m18.000', 'log10m16.500']\n",
      "log10m [13.5 15.  16.5 18. ]\n",
      "f [1.00000000e-12 3.16227766e-11 5.62341325e-06 1.00000000e+00]\n"
     ]
    }
   ],
   "source": [
    "run_name = 'pbhhr'\n",
    "run_fullname = 'pbhhr'\n",
    "# model = 'PRc23' # for pbh-acc only\n",
    "inj_dir = f\"{outputs_dir}/active/{run_fullname}\"\n",
    "print(os.listdir(inj_dir))\n",
    "\n",
    "EPSILON = 1e-6\n",
    "\n",
    "if run_name == 'decay-phot':\n",
    "    log10m_s = np.linspace(1.5, 12, 22)\n",
    "    m_s = 10**log10m_s\n",
    "    tau_s = decay_phot_lifetime(m_s)\n",
    "    print('tau', tau_s)\n",
    "    mass_s = m_s\n",
    "    inj_s = 1/tau_s\n",
    "\n",
    "elif run_name == 'decay-elec':\n",
    "    log10m_s = np.linspace(6.5, 12, 23)\n",
    "    m_s = 10**log10m_s\n",
    "    tau_s = decay_elec_lifetime(m_s)\n",
    "    print('tau', tau_s)\n",
    "    mass_s = m_s\n",
    "    inj_s = 1/tau_s\n",
    "\n",
    "elif run_name == 'pwave-phot':\n",
    "    # m_s = 10**np.array([1.5] + list(range(2, 11)) + [12])\n",
    "    m_s = 10**np.array([1.5, 5, 8.5, 12]) # [eV]\n",
    "    c_s = pwave_phot_c_sigma(m_s)\n",
    "    print('c', c_s)\n",
    "    mass_s = m_s\n",
    "    inj_s = c_s\n",
    "\n",
    "elif run_name == 'pwave-elec':\n",
    "    # m_s = 10**np.array([6.5, 8, 9, 10, 11, 12])\n",
    "    m_s = 10**np.array([6.5, 8.5, 10.5, 12]) # [eV]\n",
    "    c_s = pwave_elec_c_sigma(m_s)\n",
    "    print('c', c_s)\n",
    "    mass_s = m_s\n",
    "    inj_s = c_s\n",
    "\n",
    "elif run_name.startswith('pbhhr'):\n",
    "    log10m_s = np.arange(13.5, 18 + EPSILON, 1.5)\n",
    "    m_PBH_s = 10 ** log10m_s # [g]\n",
    "    f_PBH_s = pbh_hr_f(m_PBH_s) # [1]\n",
    "    print('log10m', log10m_s)\n",
    "    print('f', f_PBH_s)\n",
    "    mass_s = m_PBH_s\n",
    "    inj_s = f_PBH_s\n",
    "\n",
    "elif run_name.startswith('pbhacc'):\n",
    "    log10m_s = np.array([0, 2, 4])\n",
    "    m_PBH_s = 10 ** log10m_s # [M_sun]\n",
    "    f_PBH_s = pbh_acc_f(m_PBH_s, model) # [1]\n",
    "    print('log10m', log10m_s)\n",
    "    print('f', f_PBH_s)\n",
    "    mass_s = m_PBH_s\n",
    "    inj_s = f_PBH_s\n",
    "\n",
    "else: # debug\n",
    "    log10m_s = np.array([2])\n",
    "    m_PBH_s = 10 ** log10m_s # [M_sun]\n",
    "    f_PBH_s = pbh_acc_f(m_PBH_s, model) # [1]\n",
    "    print('log10m', log10m_s)\n",
    "    print('f', f_PBH_s)\n",
    "    mass_s = m_PBH_s\n",
    "    inj_s = f_PBH_s"
   ]
  },
  {
   "cell_type": "code",
   "execution_count": 10,
   "metadata": {},
   "outputs": [],
   "source": [
    "# Copy the fiducial lightcone in each mass directory\n",
    "for m in mass_s:\n",
    "    source_file = f'{bkg_dir}/LightCone_z5.0_HIIDIM=128_BOXLEN=256_fisher_fid_r54321.h5'\n",
    "    target_file = f'{inj_dir}/log10m{np.log10(m):.3f}/LightCone_z5.0_HIIDIM=128_BOXLEN=256_fisher_fid_r54321.h5'\n",
    "    if not os.path.isfile(target_file):\n",
    "        print(f'{np.log10(m):.3f}', end=' ')\n",
    "        shutil.copyfile(source_file, target_file)"
   ]
  },
  {
   "cell_type": "code",
   "execution_count": 11,
   "metadata": {
    "scrolled": true
   },
   "outputs": [
    {
     "name": "stderr",
     "output_type": "stream",
     "text": [
      "  0%|          | 0/4 [00:00<?, ?it/s]"
     ]
    },
    {
     "name": "stdout",
     "output_type": "stream",
     "text": [
      "########### fisher set up for DM\n",
      "    Loaded redshifts\n",
      "    Loaded redshifts\n",
      "    Loaded T(z) from /n/holystore01/LABS/iaifi_lab/Users/yitians/dm21cm/outputs/active/pbh-hr/log10m13.500/global_signal_dict_DM.npy\n",
      "    Loaded param values from /n/holystore01/LABS/iaifi_lab/Users/yitians/dm21cm/outputs/active/pbh-hr/log10m13.500/params_dict_DM.npy\n",
      "    Loading global signal and power spectra from saved files\n",
      "    Loaded PS from /n/holystore01/LABS/iaifi_lab/Users/yitians/dm21cm/outputs/active/pbh-hr/log10m13.500/power_spectrum_dict_DM.npy\n",
      "    Loaded fiducial PS from /n/holystore01/LABS/iaifi_lab/Users/yitians/dm21cm/outputs/active/pbh-hr/log10m13.500/power_spectrum_fid_21cmsense.npy, shape:(23, 46)\n",
      "    Loading 21cmsense errors from /n/home07/yitians/dm21cm/21cmSense_fid_EOS21/\n"
     ]
    },
    {
     "name": "stderr",
     "output_type": "stream",
     "text": [
      " 25%|██▌       | 1/4 [00:01<00:03,  1.02s/it]"
     ]
    },
    {
     "name": "stdout",
     "output_type": "stream",
     "text": [
      "    Loaded PS_z_HERA from /n/holystore01/LABS/iaifi_lab/Users/yitians/dm21cm/outputs/active/pbh-hr/log10m13.500/PS_z_HERA.npy shape= (23,)\n",
      "    Loaded GS derivatives from /n/holystore01/LABS/iaifi_lab/Users/yitians/dm21cm/outputs/active/pbh-hr/log10m13.500/global_signal_deriv_dict_DM.npy\n",
      "    Loaded PS derivatives from /n/holystore01/LABS/iaifi_lab/Users/yitians/dm21cm/outputs/active/pbh-hr/log10m13.500/power_spectrum_deriv_dict_DM.npy shape= (69, 46)\n",
      "    Loading Poisson noise for PS\n",
      "    Fiducial: DM=1\n",
      "PS shape: (23, 24)\n",
      "########### fisher set up for DM\n",
      "    Loaded redshifts\n",
      "    Loaded redshifts\n",
      "    Loaded T(z) from /n/holystore01/LABS/iaifi_lab/Users/yitians/dm21cm/outputs/active/pbh-hr/log10m15.000/global_signal_dict_DM.npy\n",
      "    Loaded param values from /n/holystore01/LABS/iaifi_lab/Users/yitians/dm21cm/outputs/active/pbh-hr/log10m15.000/params_dict_DM.npy\n",
      "    Loading global signal and power spectra from saved files\n",
      "    Loaded PS from /n/holystore01/LABS/iaifi_lab/Users/yitians/dm21cm/outputs/active/pbh-hr/log10m15.000/power_spectrum_dict_DM.npy\n",
      "    Loaded fiducial PS from /n/holystore01/LABS/iaifi_lab/Users/yitians/dm21cm/outputs/active/pbh-hr/log10m15.000/power_spectrum_fid_21cmsense.npy, shape:(23, 46)\n",
      "    Loading 21cmsense errors from /n/home07/yitians/dm21cm/21cmSense_fid_EOS21/\n"
     ]
    },
    {
     "name": "stderr",
     "output_type": "stream",
     "text": [
      " 50%|█████     | 2/4 [00:01<00:01,  1.10it/s]"
     ]
    },
    {
     "name": "stdout",
     "output_type": "stream",
     "text": [
      "    Loaded PS_z_HERA from /n/holystore01/LABS/iaifi_lab/Users/yitians/dm21cm/outputs/active/pbh-hr/log10m15.000/PS_z_HERA.npy shape= (23,)\n",
      "    Loaded GS derivatives from /n/holystore01/LABS/iaifi_lab/Users/yitians/dm21cm/outputs/active/pbh-hr/log10m15.000/global_signal_deriv_dict_DM.npy\n",
      "    Loaded PS derivatives from /n/holystore01/LABS/iaifi_lab/Users/yitians/dm21cm/outputs/active/pbh-hr/log10m15.000/power_spectrum_deriv_dict_DM.npy shape= (69, 46)\n",
      "    Loading Poisson noise for PS\n",
      "    Fiducial: DM=1\n",
      "PS shape: (23, 24)\n",
      "########### fisher set up for DM\n",
      "    Loaded redshifts\n",
      "    Loaded redshifts\n",
      "    Loaded T(z) from /n/holystore01/LABS/iaifi_lab/Users/yitians/dm21cm/outputs/active/pbh-hr/log10m16.500/global_signal_dict_DM.npy\n",
      "    Loaded param values from /n/holystore01/LABS/iaifi_lab/Users/yitians/dm21cm/outputs/active/pbh-hr/log10m16.500/params_dict_DM.npy\n",
      "    Loading global signal and power spectra from saved files\n",
      "    Loaded PS from /n/holystore01/LABS/iaifi_lab/Users/yitians/dm21cm/outputs/active/pbh-hr/log10m16.500/power_spectrum_dict_DM.npy\n",
      "    Loaded fiducial PS from /n/holystore01/LABS/iaifi_lab/Users/yitians/dm21cm/outputs/active/pbh-hr/log10m16.500/power_spectrum_fid_21cmsense.npy, shape:(23, 46)\n",
      "    Loading 21cmsense errors from /n/home07/yitians/dm21cm/21cmSense_fid_EOS21/\n"
     ]
    },
    {
     "name": "stderr",
     "output_type": "stream",
     "text": [
      " 75%|███████▌  | 3/4 [00:02<00:00,  1.16it/s]"
     ]
    },
    {
     "name": "stdout",
     "output_type": "stream",
     "text": [
      "    Loaded PS_z_HERA from /n/holystore01/LABS/iaifi_lab/Users/yitians/dm21cm/outputs/active/pbh-hr/log10m16.500/PS_z_HERA.npy shape= (23,)\n",
      "    Loaded GS derivatives from /n/holystore01/LABS/iaifi_lab/Users/yitians/dm21cm/outputs/active/pbh-hr/log10m16.500/global_signal_deriv_dict_DM.npy\n",
      "    Loaded PS derivatives from /n/holystore01/LABS/iaifi_lab/Users/yitians/dm21cm/outputs/active/pbh-hr/log10m16.500/power_spectrum_deriv_dict_DM.npy shape= (69, 46)\n",
      "    Loading Poisson noise for PS\n",
      "    Fiducial: DM=1\n",
      "PS shape: (23, 24)\n",
      "########### fisher set up for DM\n",
      "    Loaded redshifts\n",
      "    Loaded redshifts\n",
      "    Loaded T(z) from /n/holystore01/LABS/iaifi_lab/Users/yitians/dm21cm/outputs/active/pbh-hr/log10m18.000/global_signal_dict_DM.npy\n",
      "    Loaded param values from /n/holystore01/LABS/iaifi_lab/Users/yitians/dm21cm/outputs/active/pbh-hr/log10m18.000/params_dict_DM.npy\n",
      "    Loading global signal and power spectra from saved files\n",
      "    Loaded PS from /n/holystore01/LABS/iaifi_lab/Users/yitians/dm21cm/outputs/active/pbh-hr/log10m18.000/power_spectrum_dict_DM.npy\n",
      "    Loaded fiducial PS from /n/holystore01/LABS/iaifi_lab/Users/yitians/dm21cm/outputs/active/pbh-hr/log10m18.000/power_spectrum_fid_21cmsense.npy, shape:(23, 46)\n",
      "    Loading 21cmsense errors from /n/home07/yitians/dm21cm/21cmSense_fid_EOS21/\n"
     ]
    },
    {
     "name": "stderr",
     "output_type": "stream",
     "text": [
      "100%|██████████| 4/4 [00:03<00:00,  1.15it/s]"
     ]
    },
    {
     "name": "stdout",
     "output_type": "stream",
     "text": [
      "    Loaded PS_z_HERA from /n/holystore01/LABS/iaifi_lab/Users/yitians/dm21cm/outputs/active/pbh-hr/log10m18.000/PS_z_HERA.npy shape= (23,)\n",
      "    Loaded GS derivatives from /n/holystore01/LABS/iaifi_lab/Users/yitians/dm21cm/outputs/active/pbh-hr/log10m18.000/global_signal_deriv_dict_DM.npy\n",
      "    Loaded PS derivatives from /n/holystore01/LABS/iaifi_lab/Users/yitians/dm21cm/outputs/active/pbh-hr/log10m18.000/power_spectrum_deriv_dict_DM.npy shape= (69, 46)\n",
      "    Loading Poisson noise for PS\n",
      "    Fiducial: DM=1\n",
      "PS shape: (23, 24)\n",
      "sigma [ 67.28579359  20.75699446  19.90076022 138.10925747]\n"
     ]
    },
    {
     "name": "stderr",
     "output_type": "stream",
     "text": [
      "\n"
     ]
    }
   ],
   "source": [
    "sigma_s = []\n",
    "force_new = False\n",
    "\n",
    "for m in tqdm(mass_s):\n",
    "\n",
    "    lc_dir = f'{inj_dir}/log10m{np.log10(m):.3f}/'\n",
    "    new = ('lc_redshifts.npy' not in os.listdir(lc_dir)) or force_new\n",
    "    \n",
    "    for param in astro_params_vary[:1]:\n",
    "        params_EoS[param] = py21cmfish.Parameter(\n",
    "            HII_DIM=128, BOX_LEN=256, param=param,\n",
    "            output_dir=lc_dir,\n",
    "            PS_err_dir=noise_dir, new=new,\n",
    "        )\n",
    "\n",
    "    Fij_matrix_PS, Finv_PS= py21cmfish.make_fisher_matrix(\n",
    "        params_EoS,\n",
    "        fisher_params=astro_params_vary,\n",
    "        hpeak=0.0, obs='PS',\n",
    "        k_min=0.1, k_max=1,\n",
    "        sigma_mod_frac=0.2,\n",
    "        add_sigma_poisson=True\n",
    "    )\n",
    "    sigma_s.append(np.sqrt(Finv_PS[0, 0]))\n",
    "    \n",
    "sigma_s = np.array(sigma_s)\n",
    "print('sigma', sigma_s)"
   ]
  },
  {
   "cell_type": "code",
   "execution_count": 12,
   "metadata": {},
   "outputs": [
    {
     "data": {
      "text/plain": [
       "array([ 67.28579359,  20.75699446,  19.90076022, 138.10925747])"
      ]
     },
     "execution_count": 12,
     "metadata": {},
     "output_type": "execute_result"
    }
   ],
   "source": [
    "# check sigma as a multiple of step size. recommended: 30-100\n",
    "sigma_s"
   ]
  },
  {
   "cell_type": "code",
   "execution_count": null,
   "metadata": {},
   "outputs": [
    {
     "data": {
      "text/plain": [
       "<matplotlib.legend.Legend at 0x7f3d38bd4450>"
      ]
     },
     "execution_count": 13,
     "metadata": {},
     "output_type": "execute_result"
    },
    {
     "data": {
      "image/png": "[encoded data removed]",
      "text/plain": [
       "<Figure size 900x600 with 1 Axes>"
      ]
     },
     "metadata": {},
     "output_type": "display_data"
    }
   ],
   "source": [
    "fig, ax = plt.subplots(1, 1, figsize=(6, 4))\n",
    "\n",
    "one_sigma = inj_s * sigma_s\n",
    "upper_limit = np.sqrt(stats.chi2.ppf(.9, df=1)) * one_sigma\n",
    "\n",
    "ax.plot(mass_s, upper_limit, 'k-s', label='limit')\n",
    "ax.fill_between(mass_s, upper_limit + one_sigma, upper_limit - one_sigma, color=mpl.colormaps['viridis'](0.75), label='1$\\sigma$')\n",
    "ax.fill_between(mass_s, upper_limit + 2*one_sigma, upper_limit + one_sigma, color=mpl.colormaps['viridis'](1.0), label='2$\\sigma$')\n",
    "\n",
    "ax.set(xscale='log', yscale='log')\n",
    "ax.set(title=run_fullname)\n",
    "\n",
    "m_s = np.geomspace(mass_s[0], mass_s[-1], 100)\n",
    "if run_name == 'decay-phot':\n",
    "    ax.plot(m_s, 1/decay_phot_lifetime(m_s), 'r--', label='step size')\n",
    "    ax.set(xlabel=r'$m_\\chi$ [eV]', ylabel=r'$1/\\tau$ [s$^{-1}$]')\n",
    "elif run_name == 'decay-elec':\n",
    "    ax.plot(m_s, 1/decay_elec_lifetime(m_s), 'r--', label='step size')\n",
    "    ax.set(xlabel=r'$m_\\chi$ [eV]', ylabel=r'$1/\\tau$ [s$^{-1}$]')\n",
    "elif run_name == 'pwave-phot':\n",
    "    ax.plot(m_s, pwave_phot_c_sigma(m_s), 'r--', label='step size')\n",
    "    ax.set(xlabel=r'$m_\\chi$ [eV]', ylabel=r'$C_\\sigma$ [cm$^3$/s]')\n",
    "elif run_name == 'pwave-elec':\n",
    "    ax.plot(m_s, pwave_elec_c_sigma(m_s), 'r--', label='step size')\n",
    "    ax.set(xlabel=r'$m_\\chi$ [eV]', ylabel=r'$C_\\sigma$ [cm$^3$/s]')\n",
    "elif run_name.startswith('pbhhr'):\n",
    "    ax.plot(m_s, pbhhr_f(m_s), 'r--', label='step size')\n",
    "    ax.set(xlabel=r'$M$ [g]', ylabel=r'$f$')\n",
    "elif run_name.startswith('pbhacc'):\n",
    "    ax.plot(m_s, pbhacc_f(m_s, model), 'r--', label='step size')\n",
    "    ax.set(xlabel=r'$M$ [Msun]', ylabel=r'$f$')\n",
    "ax.legend()"
   ]
  },
  {
   "cell_type": "code",
   "execution_count": 28,
   "metadata": {},
   "outputs": [],
   "source": [
    "save_fn = f'../outputs/limits/{run_fullname}.txt'\n",
    "dir_path = os.path.dirname(save_fn)\n",
    "os.makedirs(dir_path, exist_ok=True)\n",
    "np.savetxt(save_fn, np.array([mass_s, inj_s, sigma_s]).T, header='mass_s inj_s sigma_s')"
   ]
  },
  {
   "cell_type": "code",
   "execution_count": null,
   "metadata": {},
   "outputs": [],
   "source": []
  }
 ],
 "metadata": {
  "kernelspec": {
   "display_name": "dm21cm",
   "language": "python",
   "name": "python3"
  },
  "language_info": {
   "codemirror_mode": {
    "name": "ipython",
    "version": 3
   },
   "file_extension": ".py",
   "mimetype": "text/x-python",
   "name": "python",
   "nbconvert_exporter": "python",
   "pygments_lexer": "ipython3",
   "version": "3.11.5"
  }
 },
 "nbformat": 4,
 "nbformat_minor": 4
}
