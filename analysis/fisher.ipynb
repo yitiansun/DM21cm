{
 "cells": [
  {
   "cell_type": "code",
   "execution_count": 1,
   "metadata": {},
   "outputs": [
    {
     "name": "stderr",
     "output_type": "stream",
     "text": [
      "/n/home07/yitians/.conda/envs/dm21cm/lib/python3.11/site-packages/py21cmfast/_cfg.py:59: UserWarning: Your configuration file is out of date. Updating...\n",
      "  warnings.warn(\n",
      "/n/home07/yitians/.conda/envs/dm21cm/lib/python3.11/site-packages/py21cmfast/_cfg.py:43: UserWarning: Your configuration file is out of date. Updating...\n",
      "  warnings.warn(\"Your configuration file is out of date. Updating...\")\n"
     ]
    },
    {
     "name": "stdout",
     "output_type": "stream",
     "text": [
      "Default cache dir: /n/netscratch/iaifi_lab/Lab/yitians/dm21cm/21cmFAST-cache\n"
     ]
    }
   ],
   "source": [
    "%reload_ext autoreload\n",
    "%autoreload 2\n",
    "\n",
    "import os\n",
    "import sys\n",
    "import shutil\n",
    "import numpy as np\n",
    "from scipy import stats\n",
    "from tqdm import tqdm\n",
    "from IPython.display import clear_output\n",
    "import re\n",
    "\n",
    "import py21cmfish\n",
    "from py21cmfish.power_spectra import *\n",
    "from py21cmfish.io import *\n",
    "\n",
    "WDIR = os.environ['DM21CM_DIR']\n",
    "sys.path.append(WDIR)\n",
    "\n",
    "from scripts.step_size import *\n",
    "\n",
    "%matplotlib inline\n",
    "import matplotlib as mpl\n",
    "import matplotlib.pyplot as plt\n",
    "mpl.rc_file(f\"{WDIR}/matplotlibrc\")"
   ]
  },
  {
   "cell_type": "code",
   "execution_count": 2,
   "metadata": {},
   "outputs": [],
   "source": [
    "noise_dir = \"/n/home07/yitians/dm21cm/21cmSense_fid_EOS21/\"\n",
    "outputs_dir = \"/n/holystore01/LABS/iaifi_lab/Users/yitians/dm21cm/outputs\""
   ]
  },
  {
   "cell_type": "markdown",
   "metadata": {},
   "source": [
    "## 1. 21cmFISH standard astrophysics"
   ]
  },
  {
   "cell_type": "code",
   "execution_count": 3,
   "metadata": {
    "scrolled": false
   },
   "outputs": [],
   "source": [
    "bkg_dir = f\"{outputs_dir}/bkg/\"\n",
    "\n",
    "astro_params_vary = ['DM', 'F_STAR10', 'F_STAR7_MINI', 'ALPHA_STAR', 'ALPHA_STAR_MINI', 't_STAR',\n",
    "                     'F_ESC10', 'F_ESC7_MINI', 'ALPHA_ESC', 'L_X', 'L_X_MINI', 'NU_X_THRESH', 'A_LW']\n",
    "default_param_values = [0, -1.25, -2.5, 0.5, 0.0, 0.5, -1.35, -1.35, -0.3, 40.5, 40.5, 500, 2.0]\n",
    "\n",
    "astro_params_vary = list(np.array(astro_params_vary))\n",
    "default_param_values = default_param_values\n",
    "astro_params_fid = dict()\n",
    "for i in range(len(astro_params_vary)):\n",
    "    astro_params_fid[astro_params_vary[i]] = default_param_values[i]\n",
    "    \n",
    "# Load each parameter into a dictionary\n",
    "params_EoS = {}\n",
    "for param in astro_params_vary[1:]:\n",
    "    params_EoS[param] = py21cmfish.Parameter(\n",
    "        HII_DIM=128, BOX_LEN=256, param=param,\n",
    "        output_dir = bkg_dir,\n",
    "        PS_err_dir = noise_dir,\n",
    "        new = False\n",
    ")\n",
    "clear_output()"
   ]
  },
  {
   "cell_type": "markdown",
   "metadata": {},
   "source": [
    "## 2. Fisher analysis at each mass"
   ]
  },
  {
   "cell_type": "code",
   "execution_count": 4,
   "metadata": {},
   "outputs": [
    {
     "name": "stdout",
     "output_type": "stream",
     "text": [
      "archive\t\t       pbhacc-PRc23dp-250630  pwave-elec-250428\n",
      "pbhacc-BHLl2-250630    pbhacc-PRc23H-250630   pwave-phot-250428\n",
      "pbhacc-PRc14-250630    pbhacc-PRc29-250630    pwave-tau-250428\n",
      "pbhacc-PRc23-250630    pbhacc-startrs\t      pwave-tau-iter0\n",
      "pbhacc-PRc23B-250630   pbhacc-zm\n",
      "pbhacc-PRc23dm-250630  pbhhr-iter0\n"
     ]
    }
   ],
   "source": [
    "! ls $outputs_dir/active"
   ]
  },
  {
   "cell_type": "code",
   "execution_count": 19,
   "metadata": {},
   "outputs": [
    {
     "name": "stdout",
     "output_type": "stream",
     "text": [
      "['log10m0.000', 'log10m2.000', 'log10m4.000']\n",
      "log10m_s [0. 2. 4.]\n",
      "Copied : 0.000 2.000 4.000 "
     ]
    }
   ],
   "source": [
    "run_name = 'pbhacc-PRc23B-250630'\n",
    "channel = run_name.rsplit('-', 1)[0]\n",
    "inj_dir = f\"{outputs_dir}/active/{run_name}\"\n",
    "print(os.listdir(inj_dir))\n",
    "\n",
    "# Get the simulated masses of the injected signal\n",
    "log10m_s = np.sort([\n",
    "    float(re.match(r'log10m([-\\d\\.]+)', d).group(1))\n",
    "    for d in os.listdir(inj_dir)\n",
    "    if re.match(r'log10m([-\\d\\.]+)', d)\n",
    "])\n",
    "# log10m_s = np.sort(log10m_s)\n",
    "m_s = 10**log10m_s\n",
    "print('log10m_s', log10m_s)\n",
    "\n",
    "EPSILON = 1e-6\n",
    "\n",
    "if channel == 'decay-phot':\n",
    "    tau_s = decay_phot_lifetime(m_s)\n",
    "    inj_s = 1/tau_s\n",
    "elif channel == 'decay-elec':\n",
    "    tau_s = decay_elec_lifetime(m_s)\n",
    "    inj_s = 1/tau_s\n",
    "elif channel == 'pwave-phot':\n",
    "    c_s = pwave_phot_c_sigma(m_s)\n",
    "    inj_s = c_s\n",
    "elif channel == 'pwave-elec':\n",
    "    c_s = pwave_elec_c_sigma(m_s)\n",
    "    inj_s = c_s\n",
    "elif channel == 'pwave-tau':\n",
    "    c_s = pwave_tau_c_sigma(m_s)\n",
    "    inj_s = c_s\n",
    "elif channel.startswith('pbhhr'):\n",
    "    f_s = pbhhr_f(m_s)\n",
    "    inj_s = f_s\n",
    "elif channel.startswith('pbhacc'):\n",
    "    model = channel.split('-')[1]\n",
    "    f_s = pbhacc_f(m_s, model)\n",
    "    inj_s = f_s\n",
    "\n",
    "# Copy the fiducial lightcone in each mass directory\n",
    "print('Copied :', end=' ')\n",
    "for m in m_s:\n",
    "    source_file = f'{bkg_dir}/LightCone_z5.0_HIIDIM=128_BOXLEN=256_fisher_fid_r54321.h5'\n",
    "    target_file = f'{inj_dir}/log10m{np.log10(m):.3f}/LightCone_z5.0_HIIDIM=128_BOXLEN=256_fisher_fid_r54321.h5'\n",
    "    if not os.path.isfile(target_file):\n",
    "        print(f'{np.log10(m):.3f}', end=' ')\n",
    "        shutil.copyfile(source_file, target_file)"
   ]
  },
  {
   "cell_type": "code",
   "execution_count": null,
   "metadata": {
    "scrolled": true
   },
   "outputs": [
    {
     "name": "stderr",
     "output_type": "stream",
     "text": [
      "  0%|          | 0/3 [00:00<?, ?it/s]"
     ]
    },
    {
     "name": "stdout",
     "output_type": "stream",
     "text": [
      "########### fisher set up for DM\n",
      "    New parameter, making new global signal and power spectra from the lightcones, make derivatives\n",
      "    Searching for lightcones with name /n/holystore01/LABS/iaifi_lab/Users/yitians/dm21cm/outputs/active/pbhacc-PRc23B-250630/log10m0.000/LightCone_z5.0_*HIIDIM=128_BOXLEN=256_fisher_**DM*.h5\n",
      "Fiducial file: /n/holystore01/LABS/iaifi_lab/Users/yitians/dm21cm/outputs/active/pbhacc-PRc23B-250630/log10m0.000/LightCone_z5.0_*HIIDIM=128_BOXLEN=256_fisher_**fid*.h5\n",
      "    Found 3 lightcones to load\n",
      "    Loaded lightcones /n/holystore01/LABS/iaifi_lab/Users/yitians/dm21cm/outputs/active/pbhacc-PRc23B-250630/log10m0.000/LightCone_z5.0_HIIDIM=128_BOXLEN=256_fisher_DM_2_r54321.h5\n",
      "    Loaded lightcones /n/holystore01/LABS/iaifi_lab/Users/yitians/dm21cm/outputs/active/pbhacc-PRc23B-250630/log10m0.000/LightCone_z5.0_HIIDIM=128_BOXLEN=256_fisher_DM_1_r54321.h5\n",
      "    Loaded lightcones /n/holystore01/LABS/iaifi_lab/Users/yitians/dm21cm/outputs/active/pbhacc-PRc23B-250630/log10m0.000/LightCone_z5.0_HIIDIM=128_BOXLEN=256_fisher_fid_r54321.h5\n",
      "    saved params to /n/holystore01/LABS/iaifi_lab/Users/yitians/dm21cm/outputs/active/pbhacc-PRc23B-250630/log10m0.000/params_dict_DM.npy\n",
      "    saved GS to /n/holystore01/LABS/iaifi_lab/Users/yitians/dm21cm/outputs/active/pbhacc-PRc23B-250630/log10m0.000/global_signal_dict_DM.npy\n",
      "Calculating global signal derivative for DM parameter\n",
      "    saved GS derivatives to /n/holystore01/LABS/iaifi_lab/Users/yitians/dm21cm/outputs/active/pbhacc-PRc23B-250630/log10m0.000/global_signal_deriv_dict_DM.npy\n",
      "    Loading 21cmsense errors from /n/home07/yitians/dm21cm/21cmSense_fid_EOS21/\n",
      "    Found k_min, k_max, n_psbins to match 21cmsense noise\n",
      "    Making powerspectra in 24 redshift chunks and 46 k bins\n",
      "    Getting PS for CDM, DM=2\n",
      "        - Using k:0.03337118317301632-2.675685850887854\n"
     ]
    },
    {
     "name": "stderr",
     "output_type": "stream",
     "text": [
      "/n/home07/yitians/.conda/envs/dm21cm/lib/python3.11/site-packages/powerbox/tools.py:325: UserWarning: One or more radial bins had no cells within it.\n",
      "  return angular_average(\n",
      "/n/home07/yitians/.conda/envs/dm21cm/lib/python3.11/site-packages/powerbox/tools.py:180: RuntimeWarning: invalid value encountered in divide\n",
      "  np.bincount(\n",
      "/n/home07/yitians/.conda/envs/dm21cm/lib/python3.11/site-packages/powerbox/tools.py:219: RuntimeWarning: invalid value encountered in divide\n",
      "  res = np.bincount(indx, weights=field, minlength=len(V1) + 2)[1:-1] / (V1 - V2 / V1)\n",
      "/n/home07/yitians/.conda/envs/dm21cm/lib/python3.11/site-packages/powerbox/tools.py:222: RuntimeWarning: invalid value encountered in divide\n",
      "  res *= V2 / V1**2\n"
     ]
    },
    {
     "name": "stdout",
     "output_type": "stream",
     "text": [
      "    Getting PS for CDM, DM=1\n",
      "        - Using k:0.03337118317301632-2.675685850887854\n",
      "    Getting PS for CDM, DM=0\n",
      "        - Using k:0.03337118317301632-2.675685850887854\n",
      "    saved PS to /n/holystore01/LABS/iaifi_lab/Users/yitians/dm21cm/outputs/active/pbhacc-PRc23B-250630/log10m0.000/power_spectrum_dict_DM.npy\n",
      "    saved PS_z_HERA to /n/holystore01/LABS/iaifi_lab/Users/yitians/dm21cm/outputs/active/pbhacc-PRc23B-250630/log10m0.000/PS_z_HERA.npy\n",
      "    Fiducial: DM=1\n",
      "    saved fiducial PS to /n/holystore01/LABS/iaifi_lab/Users/yitians/dm21cm/outputs/active/pbhacc-PRc23B-250630/log10m0.000/power_spectrum_fid_21cmsense.npy\n"
     ]
    },
    {
     "name": "stderr",
     "output_type": "stream",
     "text": [
      "No artists with labels found to put in legend.  Note that artists whose label start with an underscore are ignored when legend() is called with no argument.\n"
     ]
    },
    {
     "name": "stdout",
     "output_type": "stream",
     "text": [
      "theta = [0. 1. 2.]\n"
     ]
    },
    {
     "name": "stderr",
     "output_type": "stream",
     "text": [
      " 33%|███▎      | 1/3 [00:50<01:40, 50.26s/it]"
     ]
    },
    {
     "name": "stdout",
     "output_type": "stream",
     "text": [
      "    saved PS derivatives to /n/holystore01/LABS/iaifi_lab/Users/yitians/dm21cm/outputs/active/pbhacc-PRc23B-250630/log10m0.000/power_spectrum_deriv_dict_DM.npy\n",
      "    Loading Poisson noise for PS\n",
      "    Fiducial: DM=1\n",
      "PS shape: (23, 24)\n",
      "########### fisher set up for DM\n",
      "    New parameter, making new global signal and power spectra from the lightcones, make derivatives\n",
      "    Searching for lightcones with name /n/holystore01/LABS/iaifi_lab/Users/yitians/dm21cm/outputs/active/pbhacc-PRc23B-250630/log10m2.000/LightCone_z5.0_*HIIDIM=128_BOXLEN=256_fisher_**DM*.h5\n",
      "Fiducial file: /n/holystore01/LABS/iaifi_lab/Users/yitians/dm21cm/outputs/active/pbhacc-PRc23B-250630/log10m2.000/LightCone_z5.0_*HIIDIM=128_BOXLEN=256_fisher_**fid*.h5\n",
      "    Found 3 lightcones to load\n",
      "    Loaded lightcones /n/holystore01/LABS/iaifi_lab/Users/yitians/dm21cm/outputs/active/pbhacc-PRc23B-250630/log10m2.000/LightCone_z5.0_HIIDIM=128_BOXLEN=256_fisher_DM_2_r54321.h5\n",
      "    Loaded lightcones /n/holystore01/LABS/iaifi_lab/Users/yitians/dm21cm/outputs/active/pbhacc-PRc23B-250630/log10m2.000/LightCone_z5.0_HIIDIM=128_BOXLEN=256_fisher_DM_1_r54321.h5\n",
      "    Loaded lightcones /n/holystore01/LABS/iaifi_lab/Users/yitians/dm21cm/outputs/active/pbhacc-PRc23B-250630/log10m2.000/LightCone_z5.0_HIIDIM=128_BOXLEN=256_fisher_fid_r54321.h5\n",
      "    saved params to /n/holystore01/LABS/iaifi_lab/Users/yitians/dm21cm/outputs/active/pbhacc-PRc23B-250630/log10m2.000/params_dict_DM.npy\n",
      "    saved GS to /n/holystore01/LABS/iaifi_lab/Users/yitians/dm21cm/outputs/active/pbhacc-PRc23B-250630/log10m2.000/global_signal_dict_DM.npy\n",
      "Calculating global signal derivative for DM parameter\n",
      "    saved GS derivatives to /n/holystore01/LABS/iaifi_lab/Users/yitians/dm21cm/outputs/active/pbhacc-PRc23B-250630/log10m2.000/global_signal_deriv_dict_DM.npy\n",
      "    Loading 21cmsense errors from /n/home07/yitians/dm21cm/21cmSense_fid_EOS21/\n",
      "    Found k_min, k_max, n_psbins to match 21cmsense noise\n",
      "    Making powerspectra in 24 redshift chunks and 46 k bins\n",
      "    Getting PS for CDM, DM=2\n",
      "        - Using k:0.03337118317301632-2.675685850887854\n",
      "    Getting PS for CDM, DM=1\n",
      "        - Using k:0.03337118317301632-2.675685850887854\n",
      "    Getting PS for CDM, DM=0\n",
      "        - Using k:0.03337118317301632-2.675685850887854\n",
      "    saved PS to /n/holystore01/LABS/iaifi_lab/Users/yitians/dm21cm/outputs/active/pbhacc-PRc23B-250630/log10m2.000/power_spectrum_dict_DM.npy\n",
      "    saved PS_z_HERA to /n/holystore01/LABS/iaifi_lab/Users/yitians/dm21cm/outputs/active/pbhacc-PRc23B-250630/log10m2.000/PS_z_HERA.npy\n",
      "    Fiducial: DM=1\n",
      "    saved fiducial PS to /n/holystore01/LABS/iaifi_lab/Users/yitians/dm21cm/outputs/active/pbhacc-PRc23B-250630/log10m2.000/power_spectrum_fid_21cmsense.npy\n"
     ]
    },
    {
     "name": "stderr",
     "output_type": "stream",
     "text": [
      "No artists with labels found to put in legend.  Note that artists whose label start with an underscore are ignored when legend() is called with no argument.\n"
     ]
    },
    {
     "name": "stdout",
     "output_type": "stream",
     "text": [
      "theta = [0. 1. 2.]\n"
     ]
    },
    {
     "name": "stderr",
     "output_type": "stream",
     "text": [
      " 67%|██████▋   | 2/3 [01:40<00:50, 50.26s/it]"
     ]
    },
    {
     "name": "stdout",
     "output_type": "stream",
     "text": [
      "    saved PS derivatives to /n/holystore01/LABS/iaifi_lab/Users/yitians/dm21cm/outputs/active/pbhacc-PRc23B-250630/log10m2.000/power_spectrum_deriv_dict_DM.npy\n",
      "    Loading Poisson noise for PS\n",
      "    Fiducial: DM=1\n",
      "PS shape: (23, 24)\n",
      "########### fisher set up for DM\n",
      "    New parameter, making new global signal and power spectra from the lightcones, make derivatives\n",
      "    Searching for lightcones with name /n/holystore01/LABS/iaifi_lab/Users/yitians/dm21cm/outputs/active/pbhacc-PRc23B-250630/log10m4.000/LightCone_z5.0_*HIIDIM=128_BOXLEN=256_fisher_**DM*.h5\n",
      "Fiducial file: /n/holystore01/LABS/iaifi_lab/Users/yitians/dm21cm/outputs/active/pbhacc-PRc23B-250630/log10m4.000/LightCone_z5.0_*HIIDIM=128_BOXLEN=256_fisher_**fid*.h5\n",
      "    Found 3 lightcones to load\n",
      "    Loaded lightcones /n/holystore01/LABS/iaifi_lab/Users/yitians/dm21cm/outputs/active/pbhacc-PRc23B-250630/log10m4.000/LightCone_z5.0_HIIDIM=128_BOXLEN=256_fisher_DM_2_r54321.h5\n",
      "    Loaded lightcones /n/holystore01/LABS/iaifi_lab/Users/yitians/dm21cm/outputs/active/pbhacc-PRc23B-250630/log10m4.000/LightCone_z5.0_HIIDIM=128_BOXLEN=256_fisher_DM_1_r54321.h5\n",
      "    Loaded lightcones /n/holystore01/LABS/iaifi_lab/Users/yitians/dm21cm/outputs/active/pbhacc-PRc23B-250630/log10m4.000/LightCone_z5.0_HIIDIM=128_BOXLEN=256_fisher_fid_r54321.h5\n",
      "    saved params to /n/holystore01/LABS/iaifi_lab/Users/yitians/dm21cm/outputs/active/pbhacc-PRc23B-250630/log10m4.000/params_dict_DM.npy\n",
      "    saved GS to /n/holystore01/LABS/iaifi_lab/Users/yitians/dm21cm/outputs/active/pbhacc-PRc23B-250630/log10m4.000/global_signal_dict_DM.npy\n",
      "Calculating global signal derivative for DM parameter\n",
      "    saved GS derivatives to /n/holystore01/LABS/iaifi_lab/Users/yitians/dm21cm/outputs/active/pbhacc-PRc23B-250630/log10m4.000/global_signal_deriv_dict_DM.npy\n",
      "    Loading 21cmsense errors from /n/home07/yitians/dm21cm/21cmSense_fid_EOS21/\n",
      "    Found k_min, k_max, n_psbins to match 21cmsense noise\n",
      "    Making powerspectra in 24 redshift chunks and 46 k bins\n",
      "    Getting PS for CDM, DM=2\n",
      "        - Using k:0.03337118317301632-2.675685850887854\n",
      "    Getting PS for CDM, DM=1\n",
      "        - Using k:0.03337118317301632-2.675685850887854\n"
     ]
    }
   ],
   "source": [
    "sigma_s = []\n",
    "force_new = False\n",
    "\n",
    "for m in tqdm(m_s):\n",
    "\n",
    "    lc_dir = f'{inj_dir}/log10m{np.log10(m):.3f}/'\n",
    "    new = ('lc_redshifts.npy' not in os.listdir(lc_dir)) or force_new\n",
    "    \n",
    "    for param in astro_params_vary[:1]:\n",
    "        params_EoS[param] = py21cmfish.Parameter(\n",
    "            HII_DIM=128, BOX_LEN=256, param=param,\n",
    "            output_dir=lc_dir,\n",
    "            PS_err_dir=noise_dir, new=new,\n",
    "        )\n",
    "\n",
    "    Fij_matrix_PS, Finv_PS= py21cmfish.make_fisher_matrix(\n",
    "        params_EoS,\n",
    "        fisher_params=astro_params_vary,\n",
    "        hpeak=0.0, obs='PS',\n",
    "        k_min=0.1, k_max=1,\n",
    "        sigma_mod_frac=0.2,\n",
    "        add_sigma_poisson=True\n",
    "    )\n",
    "    sigma_s.append(np.sqrt(Finv_PS[0, 0]))\n",
    "    \n",
    "sigma_s = np.array(sigma_s)\n",
    "print('sigma', sigma_s)"
   ]
  },
  {
   "cell_type": "code",
   "execution_count": null,
   "metadata": {},
   "outputs": [
    {
     "data": {
      "text/plain": [
       "array([107.61380255, 115.33527468, 105.25154543])"
      ]
     },
     "execution_count": 16,
     "metadata": {},
     "output_type": "execute_result"
    }
   ],
   "source": [
    "# check sigma as a multiple of step size. recommended: 30-100\n",
    "sigma_s"
   ]
  },
  {
   "cell_type": "code",
   "execution_count": null,
   "metadata": {},
   "outputs": [
    {
     "data": {
      "text/plain": [
       "<matplotlib.legend.Legend at 0x7fa33c39b790>"
      ]
     },
     "execution_count": 17,
     "metadata": {},
     "output_type": "execute_result"
    },
    {
     "data": {
      "image/png": "[encoded data removed]",
      "text/plain": [
       "<Figure size 900x600 with 1 Axes>"
      ]
     },
     "metadata": {},
     "output_type": "display_data"
    }
   ],
   "source": [
    "fig, ax = plt.subplots(1, 1, figsize=(6, 4))\n",
    "\n",
    "one_sigma = inj_s * sigma_s\n",
    "upper_limit = np.sqrt(stats.chi2.ppf(.9, df=1)) * one_sigma\n",
    "\n",
    "ax.plot(m_s, upper_limit, 'k-s', label='limit')\n",
    "ax.fill_between(m_s, upper_limit + one_sigma, upper_limit - one_sigma, color=mpl.colormaps['viridis'](0.75), label='1$\\sigma$')\n",
    "ax.fill_between(m_s, upper_limit + 2*one_sigma, upper_limit + one_sigma, color=mpl.colormaps['viridis'](1.0), label='2$\\sigma$')\n",
    "\n",
    "ax.set(xscale='log', yscale='log')\n",
    "ax.set(title=run_name)\n",
    "\n",
    "m_fine_s = np.geomspace(m_s[0], m_s[-1], 100)\n",
    "if channel == 'decay-phot':\n",
    "    ax.plot(m_fine_s, 1/decay_phot_lifetime(m_fine_s), 'r--', label='step size')\n",
    "    ax.set(xlabel=r'$m_\\chi$ [eV]', ylabel=r'$1/\\tau$ [s$^{-1}$]')\n",
    "elif channel == 'decay-elec':\n",
    "    ax.plot(m_fine_s, 1/decay_elec_lifetime(m_fine_s), 'r--', label='step size')\n",
    "    ax.set(xlabel=r'$m_\\chi$ [eV]', ylabel=r'$1/\\tau$ [s$^{-1}$]')\n",
    "elif channel == 'pwave-phot':\n",
    "    ax.plot(m_fine_s, pwave_phot_c_sigma(m_fine_s), 'r--', label='step size')\n",
    "    ax.set(xlabel=r'$m_\\chi$ [eV]', ylabel=r'$C_\\sigma$ [cm$^3$/s]')\n",
    "elif channel == 'pwave-elec':\n",
    "    ax.plot(m_fine_s, pwave_elec_c_sigma(m_fine_s), 'r--', label='step size')\n",
    "    ax.set(xlabel=r'$m_\\chi$ [eV]', ylabel=r'$C_\\sigma$ [cm$^3$/s]')\n",
    "elif channel == 'pwave-tau':\n",
    "    ax.plot(m_fine_s, pwave_tau_c_sigma(m_fine_s), 'r--', label='step size')\n",
    "    ax.set(xlabel=r'$m_\\chi$ [eV]', ylabel=r'$C_\\sigma$ [cm$^3$/s]')\n",
    "elif channel.startswith('pbhhr'):\n",
    "    ax.plot(m_fine_s, pbhhr_f(m_fine_s), 'r--', label='step size')\n",
    "    ax.set(xlabel=r'$M$ [g]', ylabel=r'$f$')\n",
    "elif channel.startswith('pbhacc'):\n",
    "    ax.plot(m_fine_s, pbhacc_f(m_fine_s, model), 'r--', label='step size')\n",
    "    ax.set(xlabel=r'$M$ [Msun]', ylabel=r'$f$')\n",
    "ax.legend()"
   ]
  },
  {
   "cell_type": "code",
   "execution_count": null,
   "metadata": {},
   "outputs": [],
   "source": [
    "save_fn = f'../outputs/limits/{run_name}.txt'\n",
    "dir_path = os.path.dirname(save_fn)\n",
    "os.makedirs(dir_path, exist_ok=True)\n",
    "np.savetxt(save_fn, np.array([m_s, inj_s, sigma_s]).T, header='mass_s inj_s sigma_s')"
   ]
  },
  {
   "cell_type": "markdown",
   "metadata": {},
   "source": [
    "# Comparison"
   ]
  },
  {
   "cell_type": "code",
   "execution_count": 11,
   "metadata": {},
   "outputs": [
    {
     "name": "stdout",
     "output_type": "stream",
     "text": [
      "[229.84020512 205.75503688 181.03903669 272.20658747 275.0511657 ]\n",
      "[7.26818546 6.50654557 5.72495701 8.60792811 8.69788157]\n"
     ]
    }
   ],
   "source": [
    "from scripts.step_size import *\n",
    "\n",
    "# recommended: 30-100\n",
    "print(sigma_s)\n",
    "print(sigma_s * pbhacc_f_old(m_s, 'PRc50') / pbhacc_f(m_s, 'PRc50'))"
   ]
  },
  {
   "cell_type": "code",
   "execution_count": null,
   "metadata": {},
   "outputs": [],
   "source": []
  }
 ],
 "metadata": {
  "kernelspec": {
   "display_name": "dm21cm",
   "language": "python",
   "name": "python3"
  },
  "language_info": {
   "codemirror_mode": {
    "name": "ipython",
    "version": 3
   },
   "file_extension": ".py",
   "mimetype": "text/x-python",
   "name": "python",
   "nbconvert_exporter": "python",
   "pygments_lexer": "ipython3",
   "version": "3.11.5"
  }
 },
 "nbformat": 4,
 "nbformat_minor": 4
}
