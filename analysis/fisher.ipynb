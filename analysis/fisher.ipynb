{
 "cells": [
  {
   "cell_type": "code",
   "execution_count": 1,
   "metadata": {},
   "outputs": [
    {
     "name": "stderr",
     "output_type": "stream",
     "text": [
      "/n/home07/yitians/.conda/envs/dm21cm/lib/python3.11/site-packages/py21cmfast/_cfg.py:58: UserWarning: Your configuration file is out of date. Updating...\n",
      "  warnings.warn(\n",
      "/n/home07/yitians/.conda/envs/dm21cm/lib/python3.11/site-packages/py21cmfast/_cfg.py:42: UserWarning: Your configuration file is out of date. Updating...\n",
      "  warnings.warn(\"Your configuration file is out of date. Updating...\")\n"
     ]
    }
   ],
   "source": [
    "%reload_ext autoreload\n",
    "%autoreload 2\n",
    "\n",
    "import os\n",
    "import sys\n",
    "import shutil\n",
    "import numpy as np\n",
    "from scipy import stats\n",
    "from tqdm import tqdm\n",
    "from IPython.display import clear_output\n",
    "\n",
    "import py21cmfish\n",
    "from py21cmfish.power_spectra import *\n",
    "from py21cmfish.io import *\n",
    "\n",
    "WDIR = os.environ['DM21CM_DIR']\n",
    "sys.path.append(WDIR)\n",
    "\n",
    "\n",
    "%matplotlib inline\n",
    "import matplotlib as mpl\n",
    "import matplotlib.pyplot as plt"
   ]
  },
  {
   "cell_type": "markdown",
   "metadata": {},
   "source": [
    "## 1. 21cmFISH standard astrophysics"
   ]
  },
  {
   "cell_type": "code",
   "execution_count": 2,
   "metadata": {
    "scrolled": false
   },
   "outputs": [],
   "source": [
    "noise_dir = '/n/home07/yitians/dm21cm/21cmSense_fid_EOS21/'\n",
    "data_dir = '/n/holylabs/LABS/iaifi_lab/Users/yitians/dm21cm/outputs/bkg/LightCones/'\n",
    "\n",
    "\n",
    "astro_params_vary = ['DM', 'F_STAR10', 'F_STAR7_MINI', 'ALPHA_STAR', 'ALPHA_STAR_MINI', 't_STAR',\n",
    "                     'F_ESC10', 'F_ESC7_MINI', 'ALPHA_ESC', 'L_X', 'L_X_MINI', 'NU_X_THRESH', 'A_LW']\n",
    "default_param_values = [0, -1.25, -2.5, 0.5, 0.0, 0.5, -1.35, -1.35, -0.3, 40.5, 40.5, 500, 2.0]\n",
    "\n",
    "astro_params_vary = list(np.array(astro_params_vary))\n",
    "default_param_values = default_param_values\n",
    "astro_params_fid = dict()\n",
    "for i in range(len(astro_params_vary)):\n",
    "    astro_params_fid[astro_params_vary[i]] = default_param_values[i]\n",
    "    \n",
    "# Load each parameter into a dictionary\n",
    "params_EoS = {}\n",
    "\n",
    "for param in astro_params_vary[1:]:\n",
    "    params_EoS[param] = py21cmfish.Parameter(\n",
    "        HII_DIM=128, BOX_LEN=256, param=param,\n",
    "        output_dir = data_dir,\n",
    "        PS_err_dir = noise_dir,\n",
    "        new = False\n",
    ")\n",
    "clear_output()"
   ]
  },
  {
   "cell_type": "markdown",
   "metadata": {},
   "source": [
    "## 2. Fisher analysis at each mass"
   ]
  },
  {
   "cell_type": "code",
   "execution_count": 8,
   "metadata": {},
   "outputs": [
    {
     "name": "stdout",
     "output_type": "stream",
     "text": [
      "[13.2  13.25 13.5  13.75 14.   14.25 14.5  14.75 15.   15.25 15.5  15.75\n",
      " 16.   16.25 16.5  16.75 17.   17.25 17.5  17.75 18.  ]\n",
      "[2.51188643e-10 1.00000000e-10 1.00000000e-12 2.46619009e-14\n",
      " 1.61695617e-14 7.49894209e-14 5.62341325e-13 4.21696503e-12\n",
      " 3.16227766e-11 2.37137371e-10 1.77827941e-09 1.33352143e-08\n",
      " 1.00000000e-07 7.49894209e-07 5.62341325e-06 4.21696503e-05\n",
      " 3.16227766e-04 2.37137371e-03 1.77827941e-02 1.33352143e-01\n",
      " 1.00000000e+00]\n"
     ]
    }
   ],
   "source": [
    "from preprocessing.step_size import pbh_f\n",
    "log10m_s = np.insert(np.arange(13.25, 18+0.001, 0.25), 0, 13.20)\n",
    "m_PBH_s = 10 ** log10m_s # [g]\n",
    "f_PBH_s = pbh_f(m_PBH_s) # [1]\n",
    "run_name = 'pbh-fine'\n",
    "print(log10m_s)\n",
    "print(f_PBH_s)\n",
    "\n",
    "mass_s = m_PBH_s\n",
    "inj_s = f_PBH_s"
   ]
  },
  {
   "cell_type": "code",
   "execution_count": 28,
   "metadata": {},
   "outputs": [
    {
     "name": "stdout",
     "output_type": "stream",
     "text": [
      "[1.77827941e-23 1.77827941e-20 1.77827941e-17 3.16227766e-15]\n"
     ]
    }
   ],
   "source": [
    "from preprocessing.step_size import pwave_phot_c_sigma, pwave_elec_c_sigma\n",
    "# m_s = 10**np.array([1.5, 12])\n",
    "# c_s = pwave_phot_c_sigma(m_s)\n",
    "# run_name = 'pwave-phot-test'\n",
    "m_s = 10**np.array([6.5, 8.5, 10.5, 12])\n",
    "c_s = pwave_elec_c_sigma(m_s)\n",
    "run_name = 'pwave-elec-test'\n",
    "print(c_s)\n",
    "\n",
    "mass_s = m_s\n",
    "inj_s = c_s"
   ]
  },
  {
   "cell_type": "code",
   "execution_count": 29,
   "metadata": {},
   "outputs": [
    {
     "data": {
      "text/plain": [
       "['log10m12.000', 'log10m6.500', 'log10m8.500', 'log10m10.500']"
      ]
     },
     "execution_count": 29,
     "metadata": {},
     "output_type": "execute_result"
    }
   ],
   "source": [
    "inj_dir = f'/n/holylabs/LABS/iaifi_lab/Users/yitians/dm21cm/outputs/{run_name}'\n",
    "os.listdir(inj_dir)"
   ]
  },
  {
   "cell_type": "code",
   "execution_count": 30,
   "metadata": {},
   "outputs": [],
   "source": [
    "# Gotta put the fiducial lightcone in each mass directory\n",
    "for m in mass_s:\n",
    "    source_file = f'{data_dir}/LightCone_z5.0_HIIDIM=128_BOXLEN=256_fisher_fid_r54321.h5'\n",
    "    target_file = f'{inj_dir}/log10m{np.log10(m):.3f}/LightCone_z5.0_HIIDIM=128_BOXLEN=256_fisher_fid_r54321.h5'\n",
    "    if not os.path.isfile(target_file):\n",
    "        print(f'{np.log10(m):.3f}', end=' ')\n",
    "        shutil.copyfile(source_file, target_file)"
   ]
  },
  {
   "cell_type": "code",
   "execution_count": null,
   "metadata": {
    "scrolled": true
   },
   "outputs": [],
   "source": [
    "sigma_s = []\n",
    "force_new = True\n",
    "\n",
    "for m in mass_s:\n",
    "    print(f'\\n\\nNow processing m={m:.3e}\\n\\n')\n",
    "\n",
    "    lc_dir = f'{inj_dir}/log10m{np.log10(m):.3f}/'\n",
    "    new = ('lc_redshifts.npy' not in os.listdir(lc_dir)) or force_new\n",
    "    \n",
    "    for param in astro_params_vary[:1]:\n",
    "        params_EoS[param] = py21cmfish.Parameter(\n",
    "            HII_DIM=128, BOX_LEN=256, param=param,\n",
    "            output_dir=lc_dir,\n",
    "            PS_err_dir=noise_dir, new=new,\n",
    "        )\n",
    "\n",
    "    Fij_matrix_PS, Finv_PS= py21cmfish.make_fisher_matrix(\n",
    "        params_EoS,\n",
    "        fisher_params=astro_params_vary,\n",
    "        hpeak=0.0, obs='PS',\n",
    "        k_min=0.1, k_max=1,\n",
    "        sigma_mod_frac=0.2,\n",
    "        add_sigma_poisson=True\n",
    "    )\n",
    "    sigma_s.append(np.sqrt(Finv_PS[0, 0]))\n",
    "    \n",
    "sigma_s = np.array(sigma_s)"
   ]
  },
  {
   "cell_type": "code",
   "execution_count": 34,
   "metadata": {},
   "outputs": [
    {
     "data": {
      "text/plain": [
       "[None, None]"
      ]
     },
     "execution_count": 34,
     "metadata": {},
     "output_type": "execute_result"
    },
    {
     "data": {
      "image/png": "[encoded data removed]",
      "text/plain": [
       "<Figure size 600x400 with 1 Axes>"
      ]
     },
     "metadata": {},
     "output_type": "display_data"
    }
   ],
   "source": [
    "fig, ax = plt.subplots(1, 1, figsize=(6, 4))\n",
    "\n",
    "one_sigma = inj_s * sigma_s\n",
    "upper_limit = np.sqrt(stats.chi2.ppf(.9, df=1)) * one_sigma\n",
    "\n",
    "ax.plot(mass_s, upper_limit, 'k')\n",
    "ax.fill_between(mass_s, upper_limit + one_sigma, upper_limit - one_sigma, color=mpl.colormaps['viridis'](0.75))\n",
    "ax.fill_between(mass_s, upper_limit + 2*one_sigma, upper_limit + one_sigma, color=mpl.colormaps['viridis'](1.0))\n",
    "\n",
    "m_s = np.logspace(6.5, 12, 100)\n",
    "ax.plot(m_s, pwave_elec_c_sigma(m_s), 'r--')\n",
    "\n",
    "ax.set(xscale='log', yscale='log')\n",
    "#ax.set(xlabel=r'$M$ [g]', ylabel=r'$f$')"
   ]
  },
  {
   "cell_type": "code",
   "execution_count": 24,
   "metadata": {},
   "outputs": [],
   "source": [
    "from preprocessing.step_size import pwave_phot_c_sigma"
   ]
  },
  {
   "cell_type": "code",
   "execution_count": 25,
   "metadata": {},
   "outputs": [
    {
     "data": {
      "text/plain": [
       "7.943282347242822e-13"
      ]
     },
     "execution_count": 25,
     "metadata": {},
     "output_type": "execute_result"
    }
   ],
   "source": [
    "pwave_phot_c_sigma(1e12)"
   ]
  },
  {
   "cell_type": "code",
   "execution_count": 22,
   "metadata": {},
   "outputs": [
    {
     "data": {
      "text/plain": [
       "-12.096910013008056"
      ]
     },
     "execution_count": 22,
     "metadata": {},
     "output_type": "execute_result"
    }
   ],
   "source": [
    "np.log10(8e-13)"
   ]
  },
  {
   "cell_type": "code",
   "execution_count": null,
   "metadata": {},
   "outputs": [
    {
     "data": {
      "text/plain": [
       "7.943282347242822e-13"
      ]
     },
     "metadata": {},
     "output_type": "display_data"
    }
   ],
   "source": [
    "pwave_phot_c_sigma(1e12)"
   ]
  },
  {
   "cell_type": "code",
   "execution_count": 14,
   "metadata": {},
   "outputs": [],
   "source": [
    "np.savetxt('../outputs/limits/pbh_limits.txt', np.array([mass_s, inj_s, sigma_s]).T, header='mass_s inj_s sigma_s')"
   ]
  },
  {
   "cell_type": "code",
   "execution_count": null,
   "metadata": {},
   "outputs": [],
   "source": []
  }
 ],
 "metadata": {
  "kernelspec": {
   "display_name": "dm21cm",
   "language": "python",
   "name": "python3"
  },
  "language_info": {
   "codemirror_mode": {
    "name": "ipython",
    "version": 3
   },
   "file_extension": ".py",
   "mimetype": "text/x-python",
   "name": "python",
   "nbconvert_exporter": "python",
   "pygments_lexer": "ipython3",
   "version": "3.11.5"
  }
 },
 "nbformat": 4,
 "nbformat_minor": 4
}
