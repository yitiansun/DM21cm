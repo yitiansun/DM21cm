{
 "cells": [
  {
   "cell_type": "code",
   "execution_count": 1,
   "metadata": {},
   "outputs": [
    {
     "name": "stderr",
     "output_type": "stream",
     "text": [
      "/n/home07/yitians/.conda/envs/dm21cm/lib/python3.11/site-packages/py21cmfast/_cfg.py:58: UserWarning: Your configuration file is out of date. Updating...\n",
      "  warnings.warn(\n",
      "/n/home07/yitians/.conda/envs/dm21cm/lib/python3.11/site-packages/py21cmfast/_cfg.py:42: UserWarning: Your configuration file is out of date. Updating...\n",
      "  warnings.warn(\"Your configuration file is out of date. Updating...\")\n"
     ]
    }
   ],
   "source": [
    "%reload_ext autoreload\n",
    "%autoreload 2\n",
    "\n",
    "import os\n",
    "import sys\n",
    "\n",
    "from astropy.cosmology import Planck18\n",
    "import py21cmfast as p21c\n",
    "\n",
    "sys.path.append(\"..\")\n",
    "from dm21cm.dm_params import DMParams\n",
    "from dm21cm.evolve import evolve\n",
    "\n",
    "WDIR = os.environ['DM21CM_DIR']"
   ]
  },
  {
   "cell_type": "code",
   "execution_count": 2,
   "metadata": {},
   "outputs": [],
   "source": [
    "def run():\n",
    "    os.environ['DM21CM_DATA_DIR'] = '/n/holyscratch01/iaifi_lab/yitians/dm21cm/DM21cm/data/tf/zf01/data'\n",
    "    evolve(\n",
    "        run_name = f'ct_128_256Mpc_xray_noLX_nopop2_test',\n",
    "        z_start = 45.,\n",
    "        z_end = 35.,\n",
    "        zplusone_step_factor = 1.01,\n",
    "        dm_params = DMParams(\n",
    "            mode='decay',\n",
    "            primary='phot_delta',\n",
    "            m_DM=1e8, # [eV]\n",
    "            lifetime=1e50, # [s]\n",
    "        ),\n",
    "        enable_elec = False,\n",
    "        tf_version = 'zf01',\n",
    "        \n",
    "        p21c_initial_conditions = p21c.initial_conditions(\n",
    "            user_params = p21c.UserParams(\n",
    "                HII_DIM = 128,\n",
    "                BOX_LEN = 128*2, # [conformal Mpc]\n",
    "                N_THREADS = 32,\n",
    "            ),\n",
    "            cosmo_params = p21c.CosmoParams(\n",
    "                OMm = Planck18.Om0,\n",
    "                OMb = Planck18.Ob0,\n",
    "                POWER_INDEX = Planck18.meta['n'],\n",
    "                SIGMA_8 = Planck18.meta['sigma8'],\n",
    "                #SIGMA_8 = 1e-6,\n",
    "                hlittle = Planck18.h,\n",
    "            ),\n",
    "            random_seed = 54321,\n",
    "            write = True,\n",
    "        ),\n",
    "        \n",
    "        rerun_DH = False,\n",
    "        clear_cache = True,\n",
    "        use_tqdm = True,\n",
    "        #debug_flags = ['uniform_xray'], # homogeneous injection\n",
    "        #debug_flags = ['xraycheck', 'xc-noatten'], # our xray noatten to compare with 21cmfast\n",
    "        debug_flags = ['xraycheck'], # our xray ST compare with DH\n",
    "        #debug_flags = ['xraycheck', 'xc-bath', 'xc-force-bath'], # our xray ST forced to bath compare with DH\n",
    "        debug_astro_params = p21c.AstroParams(L_X = 0.), # log10 value\n",
    "        use_DH_init = True,\n",
    "        custom_YHe = 0.245, # 0.245\n",
    "        debug_turn_off_pop2ion = True,\n",
    "        debug_copy_dh_init = f\"{WDIR}/outputs/dh/xc_xrayST_soln.p\",\n",
    "        track_Tk_xe = True,\n",
    "        #use_21totf=f\"{WDIR}/outputs/stdout/xc_nopop2_noHe_nosp_noatten_esf.out\",\n",
    "        #debug_even_split_f = True,\n",
    "        #tf_on_device = False,\n",
    "        debug_skip_dm_injection = True,\n",
    "    )"
   ]
  },
  {
   "cell_type": "code",
   "execution_count": 3,
   "metadata": {},
   "outputs": [],
   "source": [
    "import cProfile"
   ]
  },
  {
   "cell_type": "code",
   "execution_count": 4,
   "metadata": {},
   "outputs": [
    {
     "name": "stderr",
     "output_type": "stream",
     "text": [
      "/n/home07/yitians/.conda/envs/dm21cm/lib/python3.11/site-packages/py21cmfast/inputs.py:487: UserWarning: The USE_INTERPOLATION_TABLES setting has changed in v3.1.2 to be default True. You can likely ignore this warning, but if you relied onhaving USE_INTERPOLATION_TABLES=False by *default*, please set it explicitly. To silence this warning, set it explicitly to True. Thiswarning will be removed in v4.\n",
      "  warnings.warn(\n",
      "INFO:root:Using 21cmFAST version 0.1.dev1586+g60df221.d20231025\n",
      "INFO:root:Cache dir: /n/holyscratch01/iaifi_lab/yitians/21cmFAST-cache/ct_128_256Mpc_xray_noLX_nopop2_test\n",
      "INFO:jax._src.xla_bridge:Unable to initialize backend 'rocm': NOT_FOUND: Could not find registered platform with name: \"rocm\". Available platform names are: CUDA Interpreter\n",
      "INFO:jax._src.xla_bridge:Unable to initialize backend 'tpu': module 'jaxlib.xla_extension' has no attribute 'get_tpu_client'\n",
      "INFO:root:TransferFunctionWrapper: Loaded photon transfer functions.\n",
      "INFO:root:Copied dh_init_soln.p from /n/home07/yitians/dm21cm/DM21cm/outputs/dh/xc_xrayST_soln.p\n",
      "INFO:root:DarkHistoryWrapper: Found existing DarkHistory initial conditions.\n",
      "WARNING:root:DarkHistoryWrapper: DMParams mismatch, rerunning.\n",
      "WARNING:root:DarkHistoryWrapper: Overriding remember to turn off.\n",
      "100%|██████████| 24/24 [03:51<00:00,  9.64s/it]"
     ]
    },
    {
     "name": "stdout",
     "output_type": "stream",
     "text": [
      "xraycheck: 6.5065 +/- 3.2637 s\n",
      "21cmFAST: 3.2093 +/- 0.1937 s\n",
      "prep_next: 0.0603 +/- 0.0270 s\n"
     ]
    },
    {
     "name": "stderr",
     "output_type": "stream",
     "text": [
      "\n"
     ]
    }
   ],
   "source": [
    "cProfile.run('run()', 'run_stats')"
   ]
  },
  {
   "cell_type": "code",
   "execution_count": 5,
   "metadata": {},
   "outputs": [],
   "source": [
    "import pstats\n",
    "from pstats import SortKey\n"
   ]
  },
  {
   "cell_type": "markdown",
   "metadata": {},
   "source": [
    "## jaxfft"
   ]
  },
  {
   "cell_type": "code",
   "execution_count": 12,
   "metadata": {},
   "outputs": [],
   "source": [
    "p = pstats.Stats('run_stats_jaxfft')"
   ]
  },
  {
   "cell_type": "code",
   "execution_count": 13,
   "metadata": {},
   "outputs": [
    {
     "name": "stdout",
     "output_type": "stream",
     "text": [
      "Sun Oct 29 15:35:52 2023    run_stats_jaxfft\n",
      "\n",
      "         7592848 function calls (7563713 primitive calls) in 267.474 seconds\n",
      "\n",
      "   Ordered by: cumulative time\n",
      "   List reduced from 2684 to 20 due to restriction <20>\n",
      "\n",
      "   ncalls  tottime  percall  cumtime  percall filename:lineno(function)\n",
      "      6/1    0.000    0.000  277.889  277.889 {built-in method builtins.exec}\n",
      "        1    0.000    0.000  277.889  277.889 <string>:1(<module>)\n",
      "        1    0.018    0.018  277.889  277.889 /tmp/ipykernel_1355924/2603915052.py:1(run)\n",
      "        1    3.248    3.248  254.214  254.214 /n/home07/yitians/dm21cm/DM21cm/benchmarking/../dm21cm/evolve.py:39(evolve)\n",
      "      276    0.017    0.000  118.433    0.429 /n/home07/yitians/.conda/envs/dm21cm/lib/python3.11/site-packages/scipy/interpolate/_rgi.py:274(__call__)\n",
      "       25    0.198    0.008   77.898    3.116 /n/home07/yitians/dm21cm/DM21cm/benchmarking/../dm21cm/evolve.py:639(p21c_step)\n",
      "      276   68.160    0.247   72.489    0.263 /n/home07/yitians/.conda/envs/dm21cm/lib/python3.11/site-packages/scipy/interpolate/_rgi.py:391(_evaluate_linear)\n",
      "      176    0.008    0.000   63.547    0.361 /n/home07/yitians/.conda/envs/dm21cm/lib/python3.11/site-packages/py21cmfast/_utils.py:1438(_compute)\n",
      "       51    0.002    0.000   61.091    1.198 /n/home07/yitians/.conda/envs/dm21cm/lib/python3.11/site-packages/py21cmfast/wrapper.py:903(initial_conditions)\n",
      "       25    0.001    0.000   59.606    2.384 /n/home07/yitians/.conda/envs/dm21cm/lib/python3.11/site-packages/py21cmfast/wrapper.py:1707(spin_temperature)\n",
      "      783    0.007    0.000   51.418    0.066 /n/home07/yitians/.conda/envs/dm21cm/lib/python3.11/site-packages/h5py/_hl/dataset.py:742(__getitem__)\n",
      "      776   51.361    0.066   51.361    0.066 {method 'read' of 'h5py._selector.Reader' objects}\n",
      "      175    0.067    0.000   49.216    0.281 /n/home07/yitians/.conda/envs/dm21cm/lib/python3.11/site-packages/py21cmfast/_utils.py:1126(read)\n",
      "       25    0.000    0.000   34.927    1.397 /n/home07/yitians/.conda/envs/dm21cm/lib/python3.11/site-packages/py21cmfast/outputs.py:477(compute)\n",
      "       25   33.776    1.351   33.776    1.351 {built-in method py21cmfast.c_21cmfast.ComputeTsBox}\n",
      "      276    0.005    0.000   26.335    0.095 /n/home07/yitians/.conda/envs/dm21cm/lib/python3.11/site-packages/scipy/interpolate/_rgi.py:503(_find_indices)\n",
      "      276   18.459    0.067   26.330    0.095 {scipy.interpolate._rgi_cython.find_indices}\n",
      "22672/14496    0.145    0.000   22.475    0.002 /n/home07/yitians/.conda/envs/dm21cm/lib/python3.11/site-packages/jax/_src/profiler.py:311(wrapper)\n",
      "      276    7.565    0.027   19.527    0.071 /n/home07/yitians/.conda/envs/dm21cm/lib/python3.11/site-packages/scipy/interpolate/_rgi.py:364(_prepare_xi)\n",
      "      276    1.286    0.005   18.396    0.067 /n/home07/yitians/dm21cm/DM21cm/benchmarking/../dm21cm/dh_wrappers.py:164(inject_phot)\n",
      "\n",
      "\n"
     ]
    },
    {
     "data": {
      "text/plain": [
       "<pstats.Stats at 0x7f7c5511b990>"
      ]
     },
     "execution_count": 13,
     "metadata": {},
     "output_type": "execute_result"
    }
   ],
   "source": [
    "p.sort_stats(SortKey.CUMULATIVE).print_stats(20)"
   ]
  },
  {
   "cell_type": "code",
   "execution_count": 11,
   "metadata": {},
   "outputs": [
    {
     "name": "stdout",
     "output_type": "stream",
     "text": [
      "Sun Oct 29 15:35:52 2023    run_stats_jaxfft\n",
      "\n",
      "         7592848 function calls (7563713 primitive calls) in 267.474 seconds\n",
      "\n",
      "   Ordered by: internal time\n",
      "   List reduced from 2684 to 20 due to restriction <20>\n",
      "\n",
      "   ncalls  tottime  percall  cumtime  percall filename:lineno(function)\n",
      "      276   68.160    0.247   72.489    0.263 /n/home07/yitians/.conda/envs/dm21cm/lib/python3.11/site-packages/scipy/interpolate/_rgi.py:391(_evaluate_linear)\n",
      "      776   51.361    0.066   51.361    0.066 {method 'read' of 'h5py._selector.Reader' objects}\n",
      "       25   33.776    1.351   33.776    1.351 {built-in method py21cmfast.c_21cmfast.ComputeTsBox}\n",
      "      276   18.459    0.067   26.330    0.095 {scipy.interpolate._rgi_cython.find_indices}\n",
      "        1   10.898   10.898   10.898   10.898 {built-in method py21cmfast.c_21cmfast.ComputeInitialConditions}\n",
      "       25   10.380    0.415   10.380    0.415 {built-in method py21cmfast.c_21cmfast.ComputePerturbField}\n",
      "     7652    8.653    0.001    8.653    0.001 {method 'reduce' of 'numpy.ufunc' objects}\n",
      "      325    7.870    0.024    7.872    0.024 /n/home07/yitians/.conda/envs/dm21cm/lib/python3.11/site-packages/numpy/core/numeric.py:67(zeros_like)\n",
      "      276    7.565    0.027   19.527    0.071 /n/home07/yitians/.conda/envs/dm21cm/lib/python3.11/site-packages/scipy/interpolate/_rgi.py:364(_prepare_xi)\n",
      "       93    7.434    0.080    7.434    0.080 {built-in method jaxlib.xla_extension.compile}\n",
      "      276    4.728    0.017    4.748    0.017 {built-in method scipy.interpolate.interpnd._ndim_coords_from_arrays}\n",
      "      388    3.861    0.010    3.954    0.010 /n/home07/yitians/.conda/envs/dm21cm/lib/python3.11/site-packages/h5py/_hl/dataset.py:35(make_new_dset)\n",
      "        1    3.248    3.248  254.214  254.214 /n/home07/yitians/dm21cm/DM21cm/benchmarking/../dm21cm/evolve.py:39(evolve)\n",
      "     1800    2.503    0.001    4.165    0.002 /n/home07/yitians/dm21cm/DM21cm/benchmarking/../dm21cm/interpolators_jax.py:59(bound_action)\n",
      "      276    2.212    0.008    2.212    0.008 /n/home07/yitians/.conda/envs/dm21cm/lib/python3.11/site-packages/scipy/interpolate/_rgi.py:396(<listcomp>)\n",
      "      276    2.102    0.008    2.102    0.008 /n/home07/yitians/.conda/envs/dm21cm/lib/python3.11/site-packages/scipy/interpolate/_rgi.py:397(<listcomp>)\n",
      "       25    1.692    0.068    1.692    0.068 {built-in method py21cmfast.c_21cmfast.ComputeIonizedBox}\n",
      "11931/11928    1.350    0.000    5.335    0.000 /n/home07/yitians/.conda/envs/dm21cm/lib/python3.11/site-packages/jax/_src/numpy/array_methods.py:251(deferring_binary_op)\n",
      "     4509    1.347    0.000    1.347    0.000 {built-in method jaxlib.xla_extension.batched_device_put}\n",
      "      276    1.286    0.005   18.396    0.067 /n/home07/yitians/dm21cm/DM21cm/benchmarking/../dm21cm/dh_wrappers.py:164(inject_phot)\n",
      "\n",
      "\n"
     ]
    },
    {
     "data": {
      "text/plain": [
       "<pstats.Stats at 0x7f7c5645a110>"
      ]
     },
     "execution_count": 11,
     "metadata": {},
     "output_type": "execute_result"
    }
   ],
   "source": [
    "p.sort_stats(SortKey.TIME).print_stats(20)"
   ]
  },
  {
   "cell_type": "markdown",
   "metadata": {},
   "source": [
    "## scipy"
   ]
  },
  {
   "cell_type": "code",
   "execution_count": null,
   "metadata": {},
   "outputs": [
    {
     "name": "stdout",
     "output_type": "stream",
     "text": [
      "Sun Oct 29 15:29:30 2023    run_stats_scipyfft\n",
      "\n",
      "         3354756 function calls (3345503 primitive calls) in 269.990 seconds\n",
      "\n",
      "   Ordered by: cumulative time\n",
      "   List reduced from 1200 to 20 due to restriction <20>\n",
      "\n",
      "   ncalls  tottime  percall  cumtime  percall filename:lineno(function)\n",
      "        1    0.000    0.000  278.887  278.887 {built-in method builtins.exec}\n",
      "        1    0.000    0.000  278.887  278.887 <string>:1(<module>)\n",
      "        1    0.012    0.012  278.887  278.887 /tmp/ipykernel_1352011/2603915052.py:1(run)\n",
      "        1    3.313    3.313  278.338  278.338 /n/home07/yitians/dm21cm/DM21cm/benchmarking/../dm21cm/evolve.py:39(evolve)\n",
      "      276    0.016    0.000  117.066    0.424 /n/home07/yitians/.conda/envs/dm21cm/lib/python3.11/site-packages/scipy/interpolate/_rgi.py:274(__call__)\n",
      "       25    0.192    0.008   77.887    3.115 /n/home07/yitians/dm21cm/DM21cm/benchmarking/../dm21cm/evolve.py:639(p21c_step)\n",
      "      276   69.327    0.251   73.928    0.268 /n/home07/yitians/.conda/envs/dm21cm/lib/python3.11/site-packages/scipy/interpolate/_rgi.py:391(_evaluate_linear)\n",
      "      176    0.007    0.000   63.376    0.360 /n/home07/yitians/.conda/envs/dm21cm/lib/python3.11/site-packages/py21cmfast/_utils.py:1438(_compute)\n",
      "       25    0.001    0.000   59.688    2.388 /n/home07/yitians/.conda/envs/dm21cm/lib/python3.11/site-packages/py21cmfast/wrapper.py:1707(spin_temperature)\n",
      "       51    0.001    0.000   38.065    0.746 /n/home07/yitians/.conda/envs/dm21cm/lib/python3.11/site-packages/py21cmfast/wrapper.py:903(initial_conditions)\n",
      "      276    0.013    0.000   37.259    0.135 /n/home07/yitians/dm21cm/DM21cm/benchmarking/../dm21cm/data_cacher.py:125(get_annulus_data)\n",
      "       25    0.000    0.000   34.982    1.399 /n/home07/yitians/.conda/envs/dm21cm/lib/python3.11/site-packages/py21cmfast/outputs.py:477(compute)\n",
      "       25   33.833    1.353   33.833    1.353 {built-in method py21cmfast.c_21cmfast.ComputeTsBox}\n",
      "      783    0.063    0.000   31.668    0.040 /n/home07/yitians/.conda/envs/dm21cm/lib/python3.11/site-packages/h5py/_hl/dataset.py:742(__getitem__)\n",
      "      776   31.555    0.041   31.555    0.041 {method 'read' of 'h5py._selector.Reader' objects}\n",
      "      276   18.321    0.066   31.412    0.114 /n/home07/yitians/dm21cm/DM21cm/benchmarking/../dm21cm/data_cacher.py:80(smooth_box)\n",
      "      175    0.060    0.000   26.166    0.150 /n/home07/yitians/.conda/envs/dm21cm/lib/python3.11/site-packages/py21cmfast/_utils.py:1126(read)\n",
      "      276    0.002    0.000   23.959    0.087 /n/home07/yitians/.conda/envs/dm21cm/lib/python3.11/site-packages/scipy/interpolate/_rgi.py:503(_find_indices)\n",
      "      276   16.873    0.061   23.957    0.087 {scipy.interpolate._rgi_cython.find_indices}\n",
      "      276    7.783    0.028   19.098    0.069 /n/home07/yitians/.conda/envs/dm21cm/lib/python3.11/site-packages/scipy/interpolate/_rgi.py:364(_prepare_xi)\n",
      "\n",
      "\n"
     ]
    },
    {
     "data": {
      "text/plain": [
       "<pstats.Stats at 0x7f7cb9009c50>"
      ]
     },
     "metadata": {},
     "output_type": "display_data"
    }
   ],
   "source": [
    "p.sort_stats(SortKey.CUMULATIVE).print_stats(20)"
   ]
  },
  {
   "cell_type": "code",
   "execution_count": null,
   "metadata": {},
   "outputs": [
    {
     "name": "stdout",
     "output_type": "stream",
     "text": [
      "Sun Oct 29 15:29:30 2023    run_stats_scipyfft\n",
      "\n",
      "         3354756 function calls (3345503 primitive calls) in 269.990 seconds\n",
      "\n",
      "   Ordered by: internal time\n",
      "   List reduced from 1200 to 20 due to restriction <20>\n",
      "\n",
      "   ncalls  tottime  percall  cumtime  percall filename:lineno(function)\n",
      "      276   69.327    0.251   73.928    0.268 /n/home07/yitians/.conda/envs/dm21cm/lib/python3.11/site-packages/scipy/interpolate/_rgi.py:391(_evaluate_linear)\n",
      "       25   33.833    1.353   33.833    1.353 {built-in method py21cmfast.c_21cmfast.ComputeTsBox}\n",
      "      776   31.555    0.041   31.555    0.041 {method 'read' of 'h5py._selector.Reader' objects}\n",
      "      276   18.321    0.066   31.412    0.114 /n/home07/yitians/dm21cm/DM21cm/benchmarking/../dm21cm/data_cacher.py:80(smooth_box)\n",
      "      276   16.873    0.061   23.957    0.087 {scipy.interpolate._rgi_cython.find_indices}\n",
      "      900   11.498    0.013   11.498    0.013 {built-in method numpy.fft._pocketfft_internal.execute}\n",
      "        1   10.870   10.870   10.870   10.870 {built-in method py21cmfast.c_21cmfast.ComputeInitialConditions}\n",
      "       25   10.261    0.410   10.261    0.410 {built-in method py21cmfast.c_21cmfast.ComputePerturbField}\n",
      "     7042    8.674    0.001    8.674    0.001 {method 'reduce' of 'numpy.ufunc' objects}\n",
      "      276    7.783    0.028   19.098    0.069 /n/home07/yitians/.conda/envs/dm21cm/lib/python3.11/site-packages/scipy/interpolate/_rgi.py:364(_prepare_xi)\n",
      "      325    7.083    0.022    7.084    0.022 /n/home07/yitians/.conda/envs/dm21cm/lib/python3.11/site-packages/numpy/core/numeric.py:67(zeros_like)\n",
      "      276    4.650    0.017    4.671    0.017 /n/home07/yitians/.conda/envs/dm21cm/lib/python3.11/site-packages/h5py/_hl/dataset.py:1001(read_direct)\n",
      "      276    4.073    0.015    4.096    0.015 {built-in method scipy.interpolate.interpnd._ndim_coords_from_arrays}\n",
      "      388    4.021    0.010    4.094    0.011 /n/home07/yitians/.conda/envs/dm21cm/lib/python3.11/site-packages/h5py/_hl/dataset.py:35(make_new_dset)\n",
      "        1    3.313    3.313  278.338  278.338 /n/home07/yitians/dm21cm/DM21cm/benchmarking/../dm21cm/evolve.py:39(evolve)\n",
      "     1800    2.485    0.001    3.062    0.002 /n/home07/yitians/dm21cm/DM21cm/benchmarking/../dm21cm/interpolators_jax.py:59(bound_action)\n",
      "      276    2.326    0.008    2.326    0.008 /n/home07/yitians/.conda/envs/dm21cm/lib/python3.11/site-packages/scipy/interpolate/_rgi.py:397(<listcomp>)\n",
      "      276    2.262    0.008    2.262    0.008 /n/home07/yitians/.conda/envs/dm21cm/lib/python3.11/site-packages/scipy/interpolate/_rgi.py:396(<listcomp>)\n",
      "    11318    2.158    0.000    2.158    0.000 {built-in method numpy.zeros}\n",
      "       25    1.674    0.067    1.674    0.067 {built-in method py21cmfast.c_21cmfast.ComputeIonizedBox}\n",
      "\n",
      "\n"
     ]
    },
    {
     "data": {
      "text/plain": [
       "<pstats.Stats at 0x7f7cb9009c50>"
      ]
     },
     "metadata": {},
     "output_type": "display_data"
    }
   ],
   "source": [
    "p.sort_stats(SortKey.TIME).print_stats(20)"
   ]
  },
  {
   "cell_type": "code",
   "execution_count": null,
   "metadata": {},
   "outputs": [],
   "source": []
  }
 ],
 "metadata": {
  "kernelspec": {
   "display_name": "dm21cm",
   "language": "python",
   "name": "python3"
  },
  "language_info": {
   "codemirror_mode": {
    "name": "ipython",
    "version": 3
   },
   "file_extension": ".py",
   "mimetype": "text/x-python",
   "name": "python",
   "nbconvert_exporter": "python",
   "pygments_lexer": "ipython3",
   "version": "3.11.5"
  }
 },
 "nbformat": 4,
 "nbformat_minor": 2
}
