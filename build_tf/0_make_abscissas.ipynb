{
 "cells": [
  {
   "cell_type": "code",
   "execution_count": 1,
   "id": "0669c0df-56fa-43ee-a935-c249e68ac5d3",
   "metadata": {
    "tags": []
   },
   "outputs": [],
   "source": [
    "%reload_ext autoreload\n",
    "%autoreload 2\n",
    "\n",
    "import os\n",
    "import sys\n",
    "import h5py\n",
    "import numpy as np\n",
    "\n",
    "sys.path.append(\"..\")\n",
    "from dm21cm.utils import save_h5_dict\n",
    "\n",
    "%matplotlib inline\n",
    "import matplotlib as mpl\n",
    "import matplotlib.pyplot as plt\n",
    "mpl.rc_file('../matplotlibrc')"
   ]
  },
  {
   "cell_type": "code",
   "execution_count": 2,
   "id": "778ebc8d-6b62-4789-9530-369b9919e94d",
   "metadata": {
    "tags": []
   },
   "outputs": [],
   "source": [
    "def photE_DH(n=500):\n",
    "    dlnphoteng   = np.log(5565952217145.328/1e-4) / n\n",
    "    photbins     = 1e-4 * np.exp(np.arange(n+1)*dlnphoteng)\n",
    "    photenglow   = photbins[:n]\n",
    "    photenghigh  = photbins[1:]\n",
    "    photeng      = np.sqrt(photenglow * photenghigh)\n",
    "    return photeng\n",
    "\n",
    "def elecEk_DH(n=500):\n",
    "    dlneng       = np.log(5565952217145.328)/n\n",
    "    melec        = 510998.903\n",
    "    elecbins     = melec + np.exp(np.arange(n+1) * dlneng)\n",
    "    elecenglow   = elecbins[:n]\n",
    "    elecenghigh  = elecbins[1:]\n",
    "    eleckeng     = np.sqrt((elecenglow - melec) * (elecenghigh - melec))\n",
    "    return eleckeng"
   ]
  },
  {
   "cell_type": "code",
   "execution_count": 3,
   "id": "0619e96a-34ef-4b44-ac62-b037e89ba204",
   "metadata": {
    "tags": []
   },
   "outputs": [],
   "source": [
    "save_dir = '../data/abscissas'"
   ]
  },
  {
   "cell_type": "markdown",
   "id": "86cc0666-7666-4898-a48b-d881cd3c1e48",
   "metadata": {},
   "source": [
    "## abscissas"
   ]
  },
  {
   "cell_type": "code",
   "execution_count": 5,
   "id": "2607ff14",
   "metadata": {},
   "outputs": [
    {
     "data": {
      "text/plain": [
       "'01'"
      ]
     },
     "execution_count": 5,
     "metadata": {},
     "output_type": "execute_result"
    }
   ],
   "source": [
    "str(1.01)[2:]"
   ]
  },
  {
   "cell_type": "code",
   "execution_count": 7,
   "id": "a68f438c",
   "metadata": {},
   "outputs": [],
   "source": [
    "zf_s = [1.01, 1.001] # z factor e.g. 003: 1+z_next/1+z = 1.003\n",
    "\n",
    "for zf in zf_s:\n",
    "    abscs_name = 'zf'+str(zf)[2:]\n",
    "    abscs = {\n",
    "        'rs' : np.geomspace(5., 50., 10),\n",
    "        'x' : np.array([1e-5, 1e-4, 1e-3, 1e-2, 0.1, 0.3, 0.7, 0.9, 1-1e-3, 1-1e-5]),\n",
    "        'x_elec' : np.concatenate([np.geomspace(1e-5, 0.1, 13, endpoint=False), np.linspace(0.1, 0.9, 13), [0.99, 0.999, 0.9999, 0.99999]]),\n",
    "        'nBs' : np.array([0.001, 0.262, 0.708, 0.818, 0.888, 0.944, 1.000, 1.102, 4.855, 10.]),\n",
    "        'photE' : photE_DH(n=500),\n",
    "        'elecEk' : elecEk_DH(n=500),\n",
    "        'dep_c' : np.array(['H ion', 'He ion', 'exc', 'heat', 'cont', 'xray'], dtype=h5py.string_dtype(encoding='utf-8')),\n",
    "        'dlnz' : np.log(zf),\n",
    "        'zplusone_step_factor' : zf,\n",
    "    }\n",
    "    save_h5_dict(f'../data/abscissas/abscs_{abscs_name}.h5', abscs)\n",
    "    save_h5_dict(f'/n/holyscratch01/iaifi_lab/yitians/dm21cm/DM21cm/data/tf/{abscs_name}/data/abscissas.h5', abscs)"
   ]
  },
  {
   "cell_type": "code",
   "execution_count": 4,
   "id": "da7ba1fc-4fba-4560-8fc5-5ea82dd139ba",
   "metadata": {},
   "outputs": [],
   "source": [
    "zf_s = [1.05, 1.01, 1.003, 1.001] # z factor e.g. 003: 1+z_next/1+z = 1.003\n",
    "zfstr_s = ['05', '01', '003', '001']\n",
    "\n",
    "for zf, zfstr in zip(zf_s, zfstr_s):\n",
    "    abscs_name = f'abscs_zf{zfstr}'\n",
    "    abscs = {\n",
    "        'rs' : np.geomspace(5., 50., 10),\n",
    "        'x' : np.array([1e-5, 1e-4, 1e-3, 1e-2, 0.1, 0.3, 0.7, 0.9, 1-1e-3, 1-1e-5]),\n",
    "        'nBs' : np.array([0.001, 0.262, 0.708, 0.818, 0.888, 0.944, 1.000, 1.102, 4.855, 10.]),\n",
    "        'photE' : photE_DH(n=500),\n",
    "        'elecEk' : elecEk_DH(n=500),\n",
    "        'dep_c' : np.array(['H ion', 'He ion', 'exc', 'heat', 'cont', 'xray'], dtype=h5py.string_dtype(encoding='utf-8')),\n",
    "        'dlnz' : np.log(zf),\n",
    "    }\n",
    "    save_h5_dict(f'{save_dir}/{abscs_name}.h5', abscs)\n",
    "    if zf in [1.01, 1.001]:\n",
    "        save_h5_dict(f'{save_dir}/{abscs_name}-noHe.h5', abscs)\n",
    "    tf_name = 'zf' + zfstr\n",
    "    os.makedirs(f\"{os.environ['DM21CM_DATA_DIR']}/tf/{tf_name}/phot/ionhist_outputs\", exist_ok=True)\n",
    "    os.makedirs(f\"{os.environ['DM21CM_DATA_DIR']}/tf/{tf_name}/elec\", exist_ok=True)\n",
    "    if zf in [1.01, 1.001]:\n",
    "        os.makedirs(f\"{os.environ['DM21CM_DATA_DIR']}/tf/{tf_name}-noHe/phot/ionhist_outputs\", exist_ok=True)\n",
    "        os.makedirs(f\"{os.environ['DM21CM_DATA_DIR']}/tf/{tf_name}-noHe/elec\", exist_ok=True)"
   ]
  },
  {
   "cell_type": "markdown",
   "id": "e4dcc33e",
   "metadata": {},
   "source": [
    "## A2. Debug abscissas"
   ]
  },
  {
   "cell_type": "code",
   "execution_count": null,
   "id": "7b31a913",
   "metadata": {},
   "outputs": [],
   "source": [
    "abscs_name = 'abscs_debug_231002' # debug abscs dense in redshift and x\n",
    "abscs = {\n",
    "    'rs' : np.linspace(5, 50, 20),\n",
    "    'x' : np.array([1e-5, 3.333e-5, 1e-4, 3.333e-4, 1e-3, 3.333e-3, 1e-2, 3.333e-2, 0.1,\n",
    "                    0.2, 0.3, 0.5, 0.7, 0.8,\n",
    "                    0.9, 0.99, 0.999, 0.9999, 0.99999]),\n",
    "    'nBs' : np.array([0., 50.]),\n",
    "    'photE' : photE_DH(n=500),\n",
    "    'elecEk' : elecEk_DH(n=500),\n",
    "    'dep_c' : np.array(['H ion', 'He ion', 'exc', 'heat', 'cont', 'xray'], dtype=h5py.string_dtype(encoding='utf-8')),\n",
    "    'dlnz' : np.log(1.01),\n",
    "}\n",
    "save_h5_dict(f'{save_dir}/{abscs_name}.h5', abscs)"
   ]
  },
  {
   "cell_type": "code",
   "execution_count": null,
   "id": "1a951e0d",
   "metadata": {},
   "outputs": [],
   "source": [
    "abscs_name = 'abscs_debug_230803' # a test abscs dense in redshift\n",
    "abscs = {\n",
    "    'rs' : np.linspace(5, 50, 100),\n",
    "    'x' : np.array([0., 1.]),\n",
    "    'nBs' : np.array([0., 10.]),\n",
    "    'photE' : photE_DH(n=500),\n",
    "    'elecEk' : elecEk_DH(n=500),\n",
    "    'dep_c' : np.array(['H ion', 'He ion', 'exc', 'heat', 'cont', 'xray'], dtype=h5py.string_dtype(encoding='utf-8')),\n",
    "    'dlnz' : np.log(1.005),\n",
    "}\n",
    "save_h5_dict(f'{save_dir}/{abscs_name}.h5', abscs)"
   ]
  },
  {
   "cell_type": "code",
   "execution_count": 9,
   "id": "8e43902f-aedd-4b01-a134-61d583098fa8",
   "metadata": {},
   "outputs": [],
   "source": [
    "abscs_name = 'abscs_230629' # change from last: smaller dlnz\n",
    "abscs = {\n",
    "    'rs' : np.logspace(np.log10(5), np.log10(50), 10),\n",
    "    'x' : np.array([1e-5, 1e-4, 1e-3, 1e-2, 0.1, 0.3, 0.7, 0.9, 1-1e-3, 1-1e-5]),\n",
    "    'nBs' : np.array([0.001, 0.262, 0.708, 0.818, 0.888, 0.944, 1.006, 1.102, 4.855, 10.]),\n",
    "    'photE' : photE_DH(n=500),\n",
    "    'elecEk' : elecEk_DH(n=500),\n",
    "    'dep_c' : np.array(['H ion', 'He ion', 'exc', 'heat', 'cont', 'xray'], dtype=h5py.string_dtype(encoding='utf-8')),\n",
    "    'dlnz' : np.log(1.01),\n",
    "}\n",
    "save_h5_dict(f'{save_dir}/{abscs_name}.h5', abscs)"
   ]
  },
  {
   "cell_type": "code",
   "execution_count": 6,
   "id": "242dbd96-38e3-4110-ac2c-4e71e73956cf",
   "metadata": {},
   "outputs": [],
   "source": [
    "abscs_name = 'abscs_230408x'\n",
    "abscs = {\n",
    "    'rs' : np.logspace(np.log10(5), np.log10(50), 10),\n",
    "    'x' : np.array([1e-5, 1e-4, 1e-3, 1e-2, 0.1, 0.3, 0.7, 0.9, 1-1e-3, 1-1e-5]),\n",
    "    'nBs' : np.array([0.001, 0.262, 0.708, 0.818, 0.888, 0.944, 1.006, 1.102, 4.855, 10.]),\n",
    "    'photE' : photE_DH(n=500),\n",
    "    'elecEk' : elecEk_DH(n=500),\n",
    "    'dep_c' : np.array(['H ion', 'He ion', 'exc', 'heat', 'cont', 'xray'], dtype=h5py.string_dtype(encoding='utf-8')),\n",
    "    'dlnz' : 0.04879016,\n",
    "}\n",
    "save_h5_dict(f'{save_dir}/{abscs_name}.h5', abscs)"
   ]
  },
  {
   "cell_type": "code",
   "execution_count": 4,
   "id": "216f9acd-ff4f-484b-8786-966e78cbe2f7",
   "metadata": {
    "tags": []
   },
   "outputs": [],
   "source": [
    "abscs_name = 'abscs_base'\n",
    "abscs = {\n",
    "    'photE' : photE_DH(n=500),\n",
    "    'elecEk' : elecEk_DH(n=500),\n",
    "    'dep_c' : np.array(['H ion', 'He ion', 'exc', 'heat', 'cont'], dtype=h5py.string_dtype(encoding='utf-8')),\n",
    "}\n",
    "save_h5_dict(f'{save_dir}/{abscs_name}.h5', abscs)"
   ]
  },
  {
   "cell_type": "markdown",
   "id": "7bd24a65",
   "metadata": {},
   "source": [
    "## A. IDL string generator"
   ]
  },
  {
   "cell_type": "code",
   "execution_count": null,
   "id": "d80d2837",
   "metadata": {},
   "outputs": [],
   "source": [
    "sys.path.append(\"..\")\n",
    "from dm21cm.utils import load_h5_dict"
   ]
  },
  {
   "cell_type": "code",
   "execution_count": null,
   "id": "9aacbda8",
   "metadata": {},
   "outputs": [
    {
     "name": "stdout",
     "output_type": "stream",
     "text": [
      "dlnz = 0.002995508979798d\n",
      "nBs_s_global = [0.0010000000d, 0.2620000000d, 0.7080000000d, 0.8180000000d, 0.8880000000d, 0.9440000000d, 1.0060000000d, 1.1020000000d, 4.8550000000d, 10.0000000000d]\n",
      "z_s_global = [5.0000000000d, 6.4577483251d, 8.3405026860d, 10.7721734502d, 13.9127970110d, 17.9690683190d, 23.2079441681d, 29.9742125159d, 38.7131841341d, 50.0000000000d]\n",
      "x_s_global = [0.0000100000d, 0.0001000000d, 0.0010000000d, 0.0100000000d, 0.1000000000d, 0.3000000000d, 0.7000000000d, 0.9000000000d, 0.9990000000d, 0.9999900000d]\n"
     ]
    }
   ],
   "source": [
    "abscs_name = 'abscs_zf003'\n",
    "abscs = load_h5_dict(f\"{save_dir}/{abscs_name}.h5\")\n",
    "\n",
    "print(f'dlnz = {abscs[\"dlnz\"]:.15f}d')\n",
    "for key, item in abscs.items():\n",
    "    if key not in ['photE', 'elecEk', 'dep_c', 'dlnz']:\n",
    "        key_show = key if key != 'rs' else 'z'\n",
    "        print(key_show+'_s_global = ['+'d, '.join([f'{v:.10f}' for v in item])+'d]')"
   ]
  },
  {
   "cell_type": "markdown",
   "id": "bb2ac7ea-f05b-4c25-9efd-732ac50b6c2d",
   "metadata": {},
   "source": [
    "## B. `nBs` and `x` distribution in 21cmfast solutions"
   ]
  },
  {
   "cell_type": "code",
   "execution_count": null,
   "id": "0727d12f-818b-4644-a073-be25077e0383",
   "metadata": {},
   "outputs": [],
   "source": [
    "soln_dir = '../data/run_info'"
   ]
  },
  {
   "cell_type": "code",
   "execution_count": null,
   "id": "3da3af79-c2f3-4683-9801-f27aeeabad67",
   "metadata": {},
   "outputs": [],
   "source": [
    "data = np.load(f'{soln_dir}/base_slices.npy', allow_pickle=True)"
   ]
  },
  {
   "cell_type": "code",
   "execution_count": null,
   "id": "eff25883-6ce6-4ee8-bc18-a3ee1247dedf",
   "metadata": {},
   "outputs": [],
   "source": [
    "x_e_collection = np.array([d['x_e'] for d in data]).flatten()"
   ]
  },
  {
   "cell_type": "code",
   "execution_count": null,
   "id": "2a4f4341-5b78-41b1-8b13-5b3da0f63a8f",
   "metadata": {},
   "outputs": [],
   "source": [
    "x_e_absc = np.array([1e-5, 1e-4, 1e-3, 1e-2, 0.1, 0.3, 0.7, 0.9, 1-1e-3, 1-1e-5])\n",
    "\n",
    "fig, axs = plt.subplots(1, 2, figsize=(12,4))\n",
    "axs[0].hist(np.clip(x_e_collection, 1.1e-5, None), bins=np.logspace(-5, 0, 30), rwidth=0.9, color='darkgray')\n",
    "axs[0].set(xscale='log', yscale='log')\n",
    "axs[1].hist(np.clip(1-x_e_collection, 1.1e-5, None), bins=np.logspace(-5, 0, 30), rwidth=0.9, color='darkgray')\n",
    "axs[1].set(xscale='log', yscale='log')\n",
    "for x_e in x_e_absc:\n",
    "    axs[0].axvline(x_e, color='firebrick')\n",
    "    axs[1].axvline(1-x_e, color='firebrick')\n",
    "axs[0].set(xlabel=r'$x_e$')\n",
    "axs[1].set(xlabel=r'$1-x_e$')\n",
    "fig.suptitle(r'$x_e$ abscissa and values from a 21cmFAST run')\n",
    "plt.savefig('x_e_absc.pdf')"
   ]
  },
  {
   "cell_type": "code",
   "execution_count": 32,
   "id": "6ccc11a3-4db8-4ae7-91a2-bbc1a1862a81",
   "metadata": {},
   "outputs": [],
   "source": [
    "nBs_collection = 1 + np.array([d['delta'] for d in data]).flatten()"
   ]
  },
  {
   "cell_type": "code",
   "execution_count": 55,
   "id": "c6712953-6ee1-496e-b62d-57d6fcc9925f",
   "metadata": {},
   "outputs": [
    {
     "name": "stdout",
     "output_type": "stream",
     "text": [
      "[ 0.     0.262  0.708  0.818  0.888  0.944  1.006  1.102  4.855 10.   ] 10\n"
     ]
    }
   ],
   "source": [
    "nBs_absc = np.round(1000*np.quantile(nBs_collection, np.linspace(0, 1, 8))) / 1000\n",
    "nBs_absc = np.insert(nBs_absc, 0, 0)\n",
    "nBs_absc = np.append(nBs_absc, 10)\n",
    "print(nBs_absc, len(nBs_absc))"
   ]
  },
  {
   "cell_type": "code",
   "execution_count": 56,
   "id": "91cae1e1-6151-4dcd-821a-726c72497d63",
   "metadata": {},
   "outputs": [
    {
     "data": {
      "image/png": "[encoded data removed]",
      "text/plain": [
       "<Figure size 960x480 with 1 Axes>"
      ]
     },
     "metadata": {},
     "output_type": "display_data"
    }
   ],
   "source": [
    "fig, ax = plt.subplots(figsize=(8,4))\n",
    "ax.hist(1+delta_collection, bins=np.linspace(0, 2, 50), rwidth=0.9, color='darkgray')\n",
    "for nBs in nBs_absc:\n",
    "    ax.axvline(nBs, color='firebrick', lw=1)\n",
    "ax.set(xlim=(0, 2))\n",
    "ax.set(xlabel=r'$1+\\delta_B$', title=r'$1+\\delta_B$ abscissa and values from a 21cmFAST run')\n",
    "plt.savefig('nBs_absc.pdf')"
   ]
  },
  {
   "cell_type": "code",
   "execution_count": null,
   "id": "b0823394-9396-4380-a0f0-880a67dfb755",
   "metadata": {},
   "outputs": [],
   "source": []
  }
 ],
 "metadata": {
  "kernelspec": {
   "display_name": "Python 3",
   "language": "python",
   "name": "python3"
  },
  "language_info": {
   "codemirror_mode": {
    "name": "ipython",
    "version": 3
   },
   "file_extension": ".py",
   "mimetype": "text/x-python",
   "name": "python",
   "nbconvert_exporter": "python",
   "pygments_lexer": "ipython3",
   "version": "3.11.5"
  }
 },
 "nbformat": 4,
 "nbformat_minor": 5
}
