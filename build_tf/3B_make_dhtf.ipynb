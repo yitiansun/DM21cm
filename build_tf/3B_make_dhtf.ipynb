{
 "cells": [
  {
   "cell_type": "code",
   "execution_count": 1,
   "id": "27d9c6ea-b991-4bb1-9365-3f6025ee1517",
   "metadata": {},
   "outputs": [],
   "source": [
    "%reload_ext autoreload\n",
    "%autoreload 2\n",
    "\n",
    "import os\n",
    "import sys\n",
    "import pickle\n",
    "from tqdm import tqdm\n",
    "\n",
    "import numpy as np\n",
    "from scipy import interpolate\n",
    "\n",
    "sys.path.append(\"..\")\n",
    "from dm21cm.utils import load_h5_dict\n",
    "from dm21cm.physics import dt_step\n",
    "\n",
    "sys.path.append(os.environ['DH_DIR'])\n",
    "import darkhistory.spec.spectools as spectools\n",
    "import darkhistory.physics as phys"
   ]
  },
  {
   "cell_type": "code",
   "execution_count": 2,
   "id": "d231d2a3-1843-4bfc-b3a9-6af1f9e009f6",
   "metadata": {},
   "outputs": [],
   "source": [
    "run_name = 'zf01'\n",
    "data_dir = f\"{os.environ['DM21CM_DATA_DIR']}/tf/{run_name}\""
   ]
  },
  {
   "cell_type": "code",
   "execution_count": 3,
   "id": "78dda0dd-6e4c-4c0a-8316-fc77a123a2cc",
   "metadata": {},
   "outputs": [],
   "source": [
    "abscs = load_h5_dict(f\"../data/abscissas/abscs_{run_name}.h5\")"
   ]
  },
  {
   "cell_type": "markdown",
   "id": "2180ad7f-ab0d-429f-9109-fd35f2c68333",
   "metadata": {},
   "source": [
    "## 1. Get nBs = 1"
   ]
  },
  {
   "cell_type": "code",
   "execution_count": 4,
   "id": "45b7759e-d6fc-41e3-ba9c-578e3fa0b526",
   "metadata": {},
   "outputs": [
    {
     "name": "stdout",
     "output_type": "stream",
     "text": [
      "[[1.]]\n"
     ]
    }
   ],
   "source": [
    "def get_n1_tf(tf):\n",
    "    nBs_s = abscs['nBs']\n",
    "    i_n1 = np.searchsorted(nBs_s, 1.) - 1\n",
    "    f_left = np.abs(nBs_s[i_n1+1] - 1) / np.abs(nBs_s[i_n1+1] - nBs_s[i_n1])\n",
    "    f_right = np.abs(nBs_s[i_n1] - 1) / np.abs(nBs_s[i_n1+1] - nBs_s[i_n1])\n",
    "    return tf[:,:,i_n1,...] * f_left + tf[:,:,i_n1+1,...] * f_right\n",
    "\n",
    "def get_n1_tf(tf): # zfxxx\n",
    "    return tf[:,:,6,...]\n",
    "\n",
    "# def get_n1_tf(tf): # debug_231002\n",
    "#     return tf[:,:,0,...]\n",
    "print(get_n1_tf(np.array([[abscs['nBs']]])))"
   ]
  },
  {
   "cell_type": "code",
   "execution_count": 5,
   "id": "9a2dca17-da78-4ad8-9aa5-358049eb09e9",
   "metadata": {},
   "outputs": [],
   "source": [
    "hep_tf = get_n1_tf(np.load(f'{data_dir}/phot/hep_tf_rxneo.npy')) # rxeo\n",
    "lep_tf = get_n1_tf(np.load(f'{data_dir}/phot/lep_tf_rxneo.npy'))\n",
    "lee_tf = get_n1_tf(np.load(f'{data_dir}/phot/lee_tf_rxneo.npy'))\n",
    "hed_tf = get_n1_tf(np.load(f'{data_dir}/phot/hed_tf_rxneo.npy'))\n",
    "cmbloss = get_n1_tf(np.load(f'{data_dir}/phot/cmbloss_rxneo.npy'))\n",
    "lowerbound = get_n1_tf(np.load(f'{data_dir}/phot/lowerbound_rxneo.npy'))"
   ]
  },
  {
   "cell_type": "markdown",
   "id": "d7b06597-0dde-4e5a-9443-20620a9d3026",
   "metadata": {},
   "source": [
    "## 2. lowengphot reconstruction"
   ]
  },
  {
   "cell_type": "code",
   "execution_count": 6,
   "id": "8a970f4c-c17f-4127-9cdc-a0b69dbcb438",
   "metadata": {},
   "outputs": [
    {
     "name": "stdout",
     "output_type": "stream",
     "text": [
      "dlnz = 0.009950330853168092\n"
     ]
    }
   ],
   "source": [
    "dlnz = abscs['dlnz']\n",
    "print(f'dlnz = {dlnz}')"
   ]
  },
  {
   "cell_type": "code",
   "execution_count": 7,
   "id": "c133ed49-e3c3-42ab-a328-6af8abef6578",
   "metadata": {},
   "outputs": [],
   "source": [
    "for i_rs in range(len(abscs['rs'])):\n",
    "    for i_x in range(len(abscs['x'])):\n",
    "        for i in range(len(abscs['photE'])):\n",
    "            if lep_tf[i_rs,i_x,i,i] > 1e-40:\n",
    "                break\n",
    "            lep_tf[i_rs,i_x,i,i] = 1."
   ]
  },
  {
   "cell_type": "markdown",
   "id": "72dd134d-bfef-4271-80da-f3d86f409bb6",
   "metadata": {},
   "source": [
    "## 3. highengphot redshifting and adding cmbloss"
   ]
  },
  {
   "cell_type": "code",
   "execution_count": 8,
   "id": "c66131b7-2b9e-4aee-9cc0-a441a3355182",
   "metadata": {},
   "outputs": [],
   "source": [
    "dlnphoteng = np.log(5565952217145.328/1e-4)/500\n",
    "rate = dlnz/dlnphoteng"
   ]
  },
  {
   "cell_type": "code",
   "execution_count": 9,
   "id": "3b0f632c-1a64-4655-9936-3b40380db8c5",
   "metadata": {},
   "outputs": [
    {
     "name": "stderr",
     "output_type": "stream",
     "text": [
      "  0%|          | 0/10 [00:00<?, ?it/s]"
     ]
    },
    {
     "name": "stderr",
     "output_type": "stream",
     "text": [
      "100%|██████████| 10/10 [00:05<00:00,  1.83it/s]\n"
     ]
    }
   ],
   "source": [
    "for i_rs in tqdm(range(len(abscs['rs']))):\n",
    "    for i_x in range(len(abscs['x'])):\n",
    "        tf = hep_tf[i_rs, i_x]\n",
    "        cl = cmbloss[i_rs, i_x]\n",
    "        rs = abscs['rs'][i_rs]\n",
    "        lb = lowerbound[i_rs, i_x]\n",
    "        i_lb = np.searchsorted(abscs['photE'], lb)\n",
    "        for i_in in range(i_lb, 500):\n",
    "            tf[i_in][i_in-1] += rate\n",
    "            tf[i_in][i_in]   -= rate\n",
    "        cmb_un = spectools.discretize(abscs['photE'], phys.CMB_spec, phys.TCMB(rs)) # unnormalized\n",
    "        cmb_un_E = cmb_un.toteng()\n",
    "        #dt = (dlnz/phys.hubble(rs)) # no additional rs step\n",
    "        for i_in in range(500):\n",
    "            cmb_E = cl[i_in] # [eV]\n",
    "            tf[i_in] += (-cmb_E/cmb_un_E) * cmb_un.N"
   ]
  },
  {
   "cell_type": "markdown",
   "id": "ffce7160-90ba-478f-b95c-00cc37f80229",
   "metadata": {},
   "source": [
    "## 4. modify DH tf"
   ]
  },
  {
   "cell_type": "code",
   "execution_count": 10,
   "id": "e779f561-d7d1-46b6-8fc5-9bbadec27bd6",
   "metadata": {},
   "outputs": [],
   "source": [
    "tfgv_dict = {\n",
    "    'highengphot' : hep_tf,\n",
    "    'lowengphot' : lep_tf,\n",
    "    'lowengelec': lee_tf,\n",
    "}"
   ]
  },
  {
   "cell_type": "code",
   "execution_count": 11,
   "id": "335e38a3-866e-4d6e-88db-11ca78be2ca9",
   "metadata": {},
   "outputs": [
    {
     "name": "stdout",
     "output_type": "stream",
     "text": [
      "highengphot\n"
     ]
    },
    {
     "name": "stderr",
     "output_type": "stream",
     "text": [
      "/tmp/ipykernel_465078/3168852277.py:3: DeprecationWarning: Please use `interp1d` from the `scipy.interpolate` namespace, the `scipy.interpolate.interpolate` namespace is deprecated.\n",
      "  tf = pickle.load(open(os.environ['DH_DATA_DIR']+f'/{name}_tf_interp.raw', 'rb'))\n"
     ]
    },
    {
     "name": "stdout",
     "output_type": "stream",
     "text": [
      "lowengphot\n",
      "lowengelec\n"
     ]
    }
   ],
   "source": [
    "for name in ['highengphot', 'lowengphot', 'lowengelec']:\n",
    "    print(name)\n",
    "    tf = pickle.load(open(os.environ['DH_DATA_DIR']+f'/{name}_tf_interp.raw', 'rb'))\n",
    "    tfgv = tfgv_dict[name]\n",
    "\n",
    "    tf.rs_nodes = np.array([49., 1600.])\n",
    "    tf._log_interp = False\n",
    "    tf.dlnz = [dlnz, 0.001, 0.001]\n",
    "    tf.rs[0] = abscs['rs']\n",
    "\n",
    "    xHe_s = np.array([0., 1.])\n",
    "    xHe_grid, xH_grid = np.meshgrid(xHe_s, abscs['x'])\n",
    "    tf.x[0] = np.stack([xH_grid, xHe_grid], axis=-1)\n",
    "\n",
    "    tfgv_expanded = np.repeat([tfgv], 2, axis=0)\n",
    "    tfgv_xhreo = np.einsum('hrxeo -> xhreo', tfgv_expanded)\n",
    "    tf.grid_vals[0] = tfgv_xhreo\n",
    "    tf.interp_func[0] = interpolate.RegularGridInterpolator(\n",
    "        (abscs['x'], xHe_s, abscs['rs']), tf.grid_vals[0]\n",
    "    )\n",
    "\n",
    "    pickle.dump(tf, open(f'{data_dir}/{name}_tf_interp.raw', 'wb'))"
   ]
  },
  {
   "cell_type": "code",
   "execution_count": 12,
   "id": "33adb1c5-8a2e-4f08-bf1f-2b6bd4ff6b90",
   "metadata": {},
   "outputs": [
    {
     "name": "stderr",
     "output_type": "stream",
     "text": [
      "/tmp/ipykernel_465078/1878647830.py:1: DeprecationWarning: Please use `interp1d` from the `scipy.interpolate` namespace, the `scipy.interpolate.interpolate` namespace is deprecated.\n",
      "  tf = pickle.load(open(os.environ['DH_DATA_DIR']+'/highengdep_interp.raw', 'rb'))\n"
     ]
    }
   ],
   "source": [
    "tf = pickle.load(open(os.environ['DH_DATA_DIR']+'/highengdep_interp.raw', 'rb'))\n",
    "tfgv = hed_tf\n",
    "\n",
    "tf.rs_nodes = np.array([49., 1600.])\n",
    "tf._log_interp = False\n",
    "tf.dlnz = [dlnz, 0.001, 0.001]\n",
    "tf.rs[0] = abscs['rs']\n",
    "\n",
    "xHe_s = np.array([0., 1.])\n",
    "xHe_grid, xH_grid = np.meshgrid(xHe_s, abscs['x'])\n",
    "tf.x[0] = np.stack([xH_grid, xHe_grid], axis=-1)\n",
    "\n",
    "tfgv_expanded = np.repeat([tfgv], 2, axis=0)\n",
    "tfgv_xhreo = np.einsum('hrxeo -> xhreo', tfgv_expanded)\n",
    "\n",
    "for i, rs in enumerate(abscs['rs']):\n",
    "    # dt = (dlnz/phys.hubble(rs)) # old DH dt\n",
    "    # dt = dts[i, 1] # IDL dt\n",
    "    dt = dt_step(rs-1, np.exp(dlnz)) # new DH dt\n",
    "    tfgv_xhreo[:, :, i, :, :] /= dt\n",
    "tf.grid_vals[0] = tfgv_xhreo\n",
    "tf.interp_func[0] = interpolate.RegularGridInterpolator(\n",
    "    (abscs['x'], xHe_s, abscs['rs']), tf.grid_vals[0]\n",
    ")\n",
    "\n",
    "pickle.dump(tf, open(f'{data_dir}/highengdep_interp.raw', 'wb'))"
   ]
  },
  {
   "cell_type": "code",
   "execution_count": 13,
   "id": "de9b877c-108c-4334-a14f-715974ff39bc",
   "metadata": {},
   "outputs": [
    {
     "name": "stderr",
     "output_type": "stream",
     "text": [
      "/tmp/ipykernel_465078/1356181538.py:1: DeprecationWarning: Please use `interp1d` from the `scipy.interpolate` namespace, the `scipy.interpolate.interpolate` namespace is deprecated.\n",
      "  tf = pickle.load(open(os.environ['DH_DATA_DIR']+'/CMB_engloss_interp.raw', 'rb'))\n"
     ]
    }
   ],
   "source": [
    "tf = pickle.load(open(os.environ['DH_DATA_DIR']+'/CMB_engloss_interp.raw', 'rb'))\n",
    "tfgv = cmbloss\n",
    "\n",
    "tf.rs_nodes = np.array([49., 1600.])\n",
    "tf._log_interp = False\n",
    "tf.dlnz = [dlnz, 0.001, 0.001]\n",
    "tf.rs[0] = abscs['rs']\n",
    "\n",
    "xHe_s = np.array([0., 1.])\n",
    "xHe_grid, xH_grid = np.meshgrid(xHe_s, abscs['x'])\n",
    "tf.x[0] = np.stack([xH_grid, xHe_grid], axis=-1)\n",
    "\n",
    "tfgv_expanded = np.repeat([tfgv], 2, axis=0)\n",
    "tfgv_xhre = np.einsum('hrxe -> xhre', tfgv_expanded)\n",
    "\n",
    "for i, rs in enumerate(abscs['rs']):\n",
    "    # dt = (dlnz/phys.hubble(rs)) # old DH dt\n",
    "    # dt = dts[i, 1] # IDL dt\n",
    "    dt = dt_step(rs-1, np.exp(dlnz)) # new DH dt\n",
    "    tfgv_xhre[:, :, i, :] /= dt\n",
    "\n",
    "tf.grid_vals[0] = tfgv_xhre\n",
    "tf.interp_func[0] = interpolate.RegularGridInterpolator(\n",
    "    (abscs['x'], xHe_s, abscs['rs']), tf.grid_vals[0]\n",
    ")\n",
    "\n",
    "pickle.dump(tf, open(f'{data_dir}/CMB_engloss_interp.raw', 'wb'))"
   ]
  },
  {
   "cell_type": "code",
   "execution_count": null,
   "id": "4f592ead",
   "metadata": {},
   "outputs": [],
   "source": [
    "! cp -vr $DH_DATA_DIR $DH_DATA_DIR/../DHdata_v1_1_zf01"
   ]
  },
  {
   "cell_type": "code",
   "execution_count": 14,
   "id": "9099f07b",
   "metadata": {},
   "outputs": [
    {
     "name": "stdout",
     "output_type": "stream",
     "text": [
      "-rw-r--r--. 1 yitians iaifi_lab    7094022 Nov 11 01:44 /n/holyscratch01/iaifi_lab/yitians/dm21cm/DM21cm/data/tf/zf01/CMB_engloss_interp.raw\n",
      "-rw-r--r--. 1 yitians iaifi_lab   28322034 Nov 11 01:44 /n/holyscratch01/iaifi_lab/yitians/dm21cm/DM21cm/data/tf/zf01/highengdep_interp.raw\n",
      "-rw-r--r--. 1 yitians iaifi_lab 3538009921 Nov 11 01:43 /n/holyscratch01/iaifi_lab/yitians/dm21cm/DM21cm/data/tf/zf01/highengphot_tf_interp.raw\n",
      "-rw-r--r--. 1 yitians iaifi_lab 3538013987 Nov 11 01:44 /n/holyscratch01/iaifi_lab/yitians/dm21cm/DM21cm/data/tf/zf01/lowengelec_tf_interp.raw\n",
      "-rw-r--r--. 1 yitians iaifi_lab 3538009921 Nov 11 01:43 /n/holyscratch01/iaifi_lab/yitians/dm21cm/DM21cm/data/tf/zf01/lowengphot_tf_interp.raw\n"
     ]
    }
   ],
   "source": [
    "! ls -l $DM21CM_DATA_DIR/tf/zf01/*.raw"
   ]
  },
  {
   "cell_type": "code",
   "execution_count": 15,
   "id": "8e6ffe13-294a-4e90-940c-6b0eb55c8154",
   "metadata": {},
   "outputs": [
    {
     "name": "stdout",
     "output_type": "stream",
     "text": [
      "'/n/holyscratch01/iaifi_lab/yitians/dm21cm/DM21cm/data/tf/zf01/CMB_engloss_interp.raw' -> '/n/holyscratch01/iaifi_lab/yitians/darkhistory/DHdata_v1_1_zf01/CMB_engloss_interp.raw'\n",
      "'/n/holyscratch01/iaifi_lab/yitians/dm21cm/DM21cm/data/tf/zf01/highengdep_interp.raw' -> '/n/holyscratch01/iaifi_lab/yitians/darkhistory/DHdata_v1_1_zf01/highengdep_interp.raw'\n",
      "'/n/holyscratch01/iaifi_lab/yitians/dm21cm/DM21cm/data/tf/zf01/highengphot_tf_interp.raw' -> '/n/holyscratch01/iaifi_lab/yitians/darkhistory/DHdata_v1_1_zf01/highengphot_tf_interp.raw'\n",
      "'/n/holyscratch01/iaifi_lab/yitians/dm21cm/DM21cm/data/tf/zf01/lowengelec_tf_interp.raw' -> '/n/holyscratch01/iaifi_lab/yitians/darkhistory/DHdata_v1_1_zf01/lowengelec_tf_interp.raw'\n",
      "'/n/holyscratch01/iaifi_lab/yitians/dm21cm/DM21cm/data/tf/zf01/lowengphot_tf_interp.raw' -> '/n/holyscratch01/iaifi_lab/yitians/darkhistory/DHdata_v1_1_zf01/lowengphot_tf_interp.raw'\n"
     ]
    }
   ],
   "source": [
    "! cp -v $DM21CM_DATA_DIR/tf/zf01/*.raw /n/holyscratch01/iaifi_lab/yitians/darkhistory/DHdata_v1_1_zf01/"
   ]
  },
  {
   "cell_type": "code",
   "execution_count": 16,
   "id": "fb0a0793",
   "metadata": {},
   "outputs": [
    {
     "name": "stdout",
     "output_type": "stream",
     "text": [
      "-rw-r--r--. 1 yitians iaifi_lab    7094022 Nov 11 01:44 /n/holyscratch01/iaifi_lab/yitians/darkhistory/DHdata_v1_1/../DHdata_v1_1_zf01/CMB_engloss_interp.raw\n",
      "-rw-r--r--. 1 yitians iaifi_lab 1000361226 Sep 30 12:43 /n/holyscratch01/iaifi_lab/yitians/darkhistory/DHdata_v1_1/../DHdata_v1_1_zf01/engloss_ref_tf.raw\n",
      "-rw-r--r--. 1 yitians iaifi_lab      26589 Sep 30 12:43 /n/holyscratch01/iaifi_lab/yitians/darkhistory/DHdata_v1_1/../DHdata_v1_1_zf01/hci_interp.raw\n",
      "-rw-r--r--. 1 yitians iaifi_lab      26589 Sep 30 12:43 /n/holyscratch01/iaifi_lab/yitians/darkhistory/DHdata_v1_1/../DHdata_v1_1_zf01/hep_lb_interp.raw\n",
      "-rw-r--r--. 1 yitians iaifi_lab 5098010431 Sep 30 12:44 /n/holyscratch01/iaifi_lab/yitians/darkhistory/DHdata_v1_1/../DHdata_v1_1_zf01/hep_p12_tf_interp.raw\n",
      "-rw-r--r--. 1 yitians iaifi_lab 5098010431 Sep 30 12:44 /n/holyscratch01/iaifi_lab/yitians/darkhistory/DHdata_v1_1/../DHdata_v1_1_zf01/hep_s11_tf_interp.raw\n",
      "-rw-r--r--. 1 yitians iaifi_lab   28322034 Nov 11 01:44 /n/holyscratch01/iaifi_lab/yitians/darkhistory/DHdata_v1_1/../DHdata_v1_1_zf01/highengdep_interp.raw\n",
      "-rw-r--r--. 1 yitians iaifi_lab 3538009921 Nov 11 01:44 /n/holyscratch01/iaifi_lab/yitians/darkhistory/DHdata_v1_1/../DHdata_v1_1_zf01/highengphot_tf_interp.raw\n",
      "-rw-r--r--. 1 yitians iaifi_lab 1000361226 Sep 30 12:44 /n/holyscratch01/iaifi_lab/yitians/darkhistory/DHdata_v1_1/../DHdata_v1_1_zf01/ics_rel_ref_tf.raw\n",
      "-rw-r--r--. 1 yitians iaifi_lab 1000361127 Sep 30 12:44 /n/holyscratch01/iaifi_lab/yitians/darkhistory/DHdata_v1_1/../DHdata_v1_1_zf01/ics_thomson_ref_tf.raw\n",
      "-rw-r--r--. 1 yitians iaifi_lab      26589 Sep 30 12:44 /n/holyscratch01/iaifi_lab/yitians/darkhistory/DHdata_v1_1/../DHdata_v1_1_zf01/lci_interp.raw\n",
      "-rw-r--r--. 1 yitians iaifi_lab 3538013987 Nov 11 01:44 /n/holyscratch01/iaifi_lab/yitians/darkhistory/DHdata_v1_1/../DHdata_v1_1_zf01/lowengelec_tf_interp.raw\n",
      "-rw-r--r--. 1 yitians iaifi_lab 3538009921 Nov 11 01:44 /n/holyscratch01/iaifi_lab/yitians/darkhistory/DHdata_v1_1/../DHdata_v1_1_zf01/lowengphot_tf_interp.raw\n",
      "-rw-r--r--. 1 yitians iaifi_lab   40790166 Sep 30 12:45 /n/holyscratch01/iaifi_lab/yitians/darkhistory/DHdata_v1_1/../DHdata_v1_1_zf01/tf_E_interp.raw\n"
     ]
    }
   ],
   "source": [
    "! ls -l $DH_DATA_DIR/../DHdata_v1_1_zf01/*.raw"
   ]
  },
  {
   "cell_type": "code",
   "execution_count": null,
   "id": "1fb30d9b",
   "metadata": {},
   "outputs": [],
   "source": []
  }
 ],
 "metadata": {
  "kernelspec": {
   "display_name": "Python 3",
   "language": "python",
   "name": "python3"
  },
  "language_info": {
   "codemirror_mode": {
    "name": "ipython",
    "version": 3
   },
   "file_extension": ".py",
   "mimetype": "text/x-python",
   "name": "python",
   "nbconvert_exporter": "python",
   "pygments_lexer": "ipython3",
   "version": "3.11.5"
  }
 },
 "nbformat": 4,
 "nbformat_minor": 5
}
