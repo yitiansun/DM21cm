{
 "cells": [
  {
   "cell_type": "code",
   "execution_count": null,
   "metadata": {},
   "outputs": [],
   "source": [
    "%reload_ext autoreload\n",
    "%autoreload 2\n",
    "\n",
    "import os\n",
    "import sys\n",
    "import pickle\n",
    "import numpy as np\n",
    "from tqdm import tqdm\n",
    "from jax import config\n",
    "config.update(\"jax_enable_x64\", True)\n",
    "import jax\n",
    "import jax.numpy as jnp\n",
    "\n",
    "%matplotlib inline\n",
    "import matplotlib as mpl\n",
    "import matplotlib.pyplot as plt\n",
    "from matplotlib import colormaps as cms\n",
    "mpl.rc_file('../matplotlibrc')"
   ]
  },
  {
   "cell_type": "code",
   "execution_count": null,
   "metadata": {},
   "outputs": [
    {
     "name": "stderr",
     "output_type": "stream",
     "text": [
      "/n/home07/yitians/.conda/envs/dm21cm/lib/python3.11/site-packages/py21cmfast/_cfg.py:58: UserWarning: Your configuration file is out of date. Updating...\n",
      "  warnings.warn(\n",
      "/n/home07/yitians/.conda/envs/dm21cm/lib/python3.11/site-packages/py21cmfast/_cfg.py:42: UserWarning: Your configuration file is out of date. Updating...\n",
      "  warnings.warn(\"Your configuration file is out of date. Updating...\")\n"
     ]
    }
   ],
   "source": [
    "import h5py\n",
    "from astropy import units as u\n",
    "from astropy.cosmology import Planck18\n",
    "from scipy import interpolate\n",
    "\n",
    "sys.path.append(\"..\")\n",
    "from dm21cm.evolve import get_z_edges, get_emissivity_bracket\n",
    "from dm21cm.utils import load_h5_dict\n",
    "from dm21cm.dh_wrappers import TransferFunctionWrapper\n",
    "from dm21cm.data_cacher import Cacher\n",
    "from darkhistory.spec.spectrum import Spectrum\n",
    "import dm21cm.physics as phys"
   ]
  },
  {
   "cell_type": "markdown",
   "metadata": {},
   "source": [
    "## Calculating shell contribution in one step"
   ]
  },
  {
   "cell_type": "code",
   "execution_count": null,
   "metadata": {},
   "outputs": [],
   "source": [
    "z_edges = get_z_edges(45, 5, 1.001)[1:]"
   ]
  },
  {
   "cell_type": "code",
   "execution_count": null,
   "metadata": {},
   "outputs": [],
   "source": [
    "# let's try to reproduce the second panel\n",
    "rn_dc = \"sf_xdecayx10_nodplus1_dc_noLX_noxesink_nopop2_alldepion_uddn_01atten_ots_adashell40_zf001\"\n",
    "cache_dir = os.environ['P21C_CACHE_DIR'] + f\"/{rn_dc}\"\n",
    "with h5py.File(f\"{cache_dir}/xraycheck_brightness.h5\", 'r') as hf:\n",
    "    delta = hf['Box_2036'][()]"
   ]
  },
  {
   "cell_type": "code",
   "execution_count": null,
   "metadata": {},
   "outputs": [],
   "source": [
    "rec2 = np.load(f\"../outputs/dm21cm/{rn_dc}_2_records_extra.npy\", allow_pickle=True).item()"
   ]
  },
  {
   "cell_type": "code",
   "execution_count": null,
   "metadata": {},
   "outputs": [
    {
     "data": {
      "image/png": "[encoded data removed]",
      "text/plain": [
       "<Figure size 720x480 with 2 Axes>"
      ]
     },
     "metadata": {},
     "output_type": "display_data"
    }
   ],
   "source": [
    "plt.imshow(np.sum(rec2['dep_box'][-1], axis=-1)[0], origin='lower')\n",
    "plt.colorbar();"
   ]
  },
  {
   "cell_type": "code",
   "execution_count": null,
   "metadata": {},
   "outputs": [
    {
     "name": "stdout",
     "output_type": "stream",
     "text": [
      "0.005440204782158525 0.011622862946541196\n"
     ]
    }
   ],
   "source": [
    "z = np.sum(rec2['dep_box'][-1], axis=-1)[0]\n",
    "print(np.std(z)/np.mean(z), np.mean(z))"
   ]
  },
  {
   "cell_type": "code",
   "execution_count": null,
   "metadata": {},
   "outputs": [],
   "source": [
    "x_e_box = rec2['x_e_box'][-1]"
   ]
  },
  {
   "cell_type": "code",
   "execution_count": null,
   "metadata": {},
   "outputs": [],
   "source": [
    "data_dir = os.environ['DM21CM_DATA_DIR'] + f\"/tf/zf001/data\" # check zf01\n",
    "sfrd_tables = load_h5_dict(f\"{data_dir}/sfrd_tables.h5\")\n",
    "z_range = sfrd_tables['z_range']\n",
    "delta_range = sfrd_tables['delta_range']\n",
    "r_range = sfrd_tables['r_range']\n",
    "cond_sfrd_table = sfrd_tables['cond_sfrd_table']\n",
    "st_sfrd_table = sfrd_tables['st_sfrd_table']\n",
    "\n",
    "st_multiplier = 10.\n",
    "# Takes the redshift as `z`\n",
    "# Returns the mean ST star formation rate density star formation rate density in [M_Sun / Mpc^3 / s]\n",
    "ST_SFRD_Interpolator = interpolate.interp1d(z_range, st_sfrd_table * st_multiplier)"
   ]
  },
  {
   "cell_type": "code",
   "execution_count": null,
   "metadata": {},
   "outputs": [
    {
     "name": "stderr",
     "output_type": "stream",
     "text": [
      "INFO:root:TransferFunctionWrapper: Loaded photon transfer functions.\n"
     ]
    }
   ],
   "source": [
    "abscs = load_h5_dict(f\"{data_dir}/abscissas.h5\")\n",
    "tf_wrapper = TransferFunctionWrapper(\n",
    "    box_dim = 32,\n",
    "    abscs = abscs,\n",
    "    prefix = data_dir,\n",
    "    enable_elec = False,\n",
    "    on_device = True,\n",
    ")"
   ]
  },
  {
   "cell_type": "code",
   "execution_count": null,
   "metadata": {},
   "outputs": [],
   "source": [
    "spec_cache = pickle.load(open(f\"{cache_dir}/spec_cache.p\", 'rb'))"
   ]
  },
  {
   "cell_type": "code",
   "execution_count": null,
   "metadata": {},
   "outputs": [],
   "source": [
    "delta_cacher = Cacher(\n",
    "    data_path=\"tmp.h5\",\n",
    "    cosmo=Planck18, N=32, dx=2.,\n",
    "    shell_Rmax=500.,\n",
    "    Rmax=500.,\n",
    ")"
   ]
  },
  {
   "cell_type": "code",
   "execution_count": null,
   "metadata": {},
   "outputs": [],
   "source": [
    "i_shell_chosen = [2036, 2035, 2034, 2033, 2032, 2031, 2030, 2029, 2028, 2027, 2026, 2025, 2024, 2023,\n",
    "                  2021, 2020, 2018, 2016, 2014, 2012, 2009, 2006, 2003, 2000, 1996, 1992, 1987, 1982,\n",
    "                  1977, 1971, 1964, 1957, 1948, 1939, 1929, 1918, 1906, 1892, 1877, 1861]"
   ]
  },
  {
   "cell_type": "code",
   "execution_count": null,
   "metadata": {},
   "outputs": [
    {
     "name": "stdout",
     "output_type": "stream",
     "text": [
      "1861, 6.154, 0.000000, 1.000000, 3.127e-06\n",
      "1877, 6.041, 0.000061, 1.000000, 5.930e-05\n",
      "1892, 5.936, 0.000103, 1.000000, 6.718e-05\n",
      "1906, 5.839, 0.000120, 1.000000, 7.330e-05\n",
      "1918, 5.758, 0.000082, 1.000000, 7.903e-05\n",
      "1929, 5.684, 0.000144, 1.000000, 7.712e-05\n",
      "1939, 5.617, 0.000066, 1.000000, 9.331e-05\n",
      "1948, 5.558, 0.000199, 1.000000, 8.849e-05\n",
      "1957, 5.499, 0.000346, 1.000000, 1.095e-04\n",
      "1964, 5.454, 0.000419, 1.000000, 9.578e-05\n",
      "1971, 5.409, 0.000389, 1.000000, 1.073e-04\n",
      "1977, 5.371, 0.000554, 1.000000, 1.118e-04\n",
      "1982, 5.339, 0.000392, 1.000000, 9.634e-05\n",
      "1987, 5.307, 0.000973, 1.000000, 1.197e-04\n",
      "1992, 5.276, 0.000770, 1.000000, 1.287e-04\n",
      "1996, 5.251, 0.001295, 1.000000, 1.099e-04\n",
      "2000, 5.226, 0.001457, 1.000000, 1.241e-04\n",
      "2003, 5.207, 0.001324, 1.000000, 9.438e-05\n",
      "2006, 5.189, 0.002332, 1.000000, 9.557e-05\n",
      "2009, 5.170, 0.002779, 1.000000, 9.691e-05\n",
      "2012, 5.152, 0.001615, 1.000000, 9.825e-05\n",
      "2014, 5.140, 0.004259, 1.000000, 6.625e-05\n",
      "2016, 5.127, 0.005807, 1.000000, 6.685e-05\n",
      "2018, 5.115, 0.005558, 1.000000, 6.745e-05\n",
      "2020, 5.103, 0.005860, 1.000000, 6.805e-05\n",
      "2021, 5.097, 0.007096, 1.000000, 3.425e-05\n",
      "2023, 5.085, 0.011285, 1.000000, 6.896e-05\n",
      "2024, 5.078, 0.012868, 1.000000, 3.470e-05\n",
      "2025, 5.072, 0.014486, 1.000000, 3.486e-05\n",
      "2026, 5.066, 0.018156, 1.000000, 3.501e-05\n",
      "2027, 5.060, 0.025262, 1.000000, 3.516e-05\n",
      "2028, 5.054, 0.035509, 1.000000, 3.531e-05\n",
      "2029, 5.048, 0.048999, 1.000000, 3.546e-05\n",
      "2030, 5.042, 0.065908, 1.000000, 3.562e-05\n",
      "2031, 5.036, 0.086276, 1.000000, 3.577e-05\n",
      "2032, 5.030, 0.111957, 1.000000, 3.592e-05\n",
      "2033, 5.024, 0.148377, 1.000000, 3.607e-05\n",
      "2034, 5.018, 0.204207, 1.000000, 3.622e-05\n",
      "2035, 5.012, 0.299222, 1.000000, 3.637e-05\n",
      "2036, 5.006, 0.410792, 1.000000, 3.665e-05\n"
     ]
    }
   ],
   "source": [
    "z_current = z_edges[2036]\n",
    "\n",
    "tf_wrapper.init_step(\n",
    "    rs = 1 + z_current,\n",
    "    delta_plus_one_box = jnp.ones((32, 32, 32)),\n",
    "    x_e_box = x_e_box,\n",
    ")\n",
    "dt = phys.dt_step(z_current, np.exp(abscs['dlnz']))\n",
    "\n",
    "R_arr = []\n",
    "dep_ion_arr = []\n",
    "\n",
    "accumulated_N = np.zeros((500,))\n",
    "\n",
    "for i_z_shell in range(1861, 2037):\n",
    "    z_shell = z_edges[i_z_shell]\n",
    "    R2 = phys.conformal_dx_between_z(z_shell, z_current)\n",
    "\n",
    "    L_X_spec = spec_cache.get_spectrum(z_shell)\n",
    "    \n",
    "    cond_sfrd = lambda z, d, r: 1.+d\n",
    "    emissivity_bracket = get_emissivity_bracket(\n",
    "        z=z_shell, delta=0., R=R2, dt=dt,\n",
    "        debug_nodplus1=True, cond_sfrd=cond_sfrd, st_sfrd=ST_SFRD_Interpolator,\n",
    "    ) # [Msun / Bavg]\n",
    "    accumulated_N += L_X_spec.N * emissivity_bracket\n",
    "\n",
    "    if i_z_shell not in i_shell_chosen:\n",
    "        continue\n",
    "    \n",
    "    with h5py.File(f\"{cache_dir}/xraycheck_brightness.h5\", 'r') as hf:\n",
    "        delta = hf['Box_'+str(i_z_shell)][()]\n",
    "    #delta = jnp.fft.irfftn(delta)\n",
    "    \n",
    "    delta_smoothed, _ = delta_cacher.smooth_box(delta, 1e-10, R2)\n",
    "\n",
    "    #L_X_spec = spec_cache.get_spectrum(z_shell)\n",
    "    \n",
    "    cond_sfrd = lambda z, d, r: 1.+d\n",
    "    emissivity_bracket = get_emissivity_bracket(\n",
    "        z=z_shell, delta=delta_smoothed, R=R2, dt=dt,\n",
    "        debug_nodplus1=True, cond_sfrd=cond_sfrd, st_sfrd=ST_SFRD_Interpolator,\n",
    "    ) # [Msun / Bavg]\n",
    "    emissivity_bracket /= np.mean(emissivity_bracket)\n",
    "\n",
    "    L_X_spec_inj = Spectrum(abscs['photE'], accumulated_N, spec_type='N', rs=1+z_current)\n",
    "\n",
    "    dep_ion_mean_before = np.mean(tf_wrapper.dep_box[...,:4])\n",
    "    tf_wrapper.inject_phot(L_X_spec_inj, inject_type='xray', weight_box=jnp.asarray(emissivity_bracket))\n",
    "    dep_ion = np.mean(tf_wrapper.dep_box[...,:4]) - dep_ion_mean_before\n",
    "\n",
    "    accumulated_N *= 0.\n",
    "\n",
    "    R_arr.append(R2)\n",
    "    dep_ion_arr.append(dep_ion)\n",
    "\n",
    "    nBs = 1+delta_smoothed\n",
    "    print(f\"{i_z_shell}, {z_shell:.3f}, {np.std(nBs)/np.mean(nBs):.6f}, {np.mean(nBs):.6f}, {dep_ion:.3e}\")\n",
    "\n",
    "R_arr = np.array(R_arr)\n",
    "dep_ion_arr = np.array(dep_ion_arr)\n",
    "\n",
    "# OTS\n",
    "OTS = False\n",
    "if OTS:\n",
    "    with h5py.File(f\"{cache_dir}/xraycheck_brightness.h5\", 'r') as hf:\n",
    "        delta = hf['Box_2036'][()]\n",
    "    z_donor = z_current\n",
    "    delta = np.fft.irfftn(delta)\n",
    "    R2 = 0.\n",
    "\n",
    "    xray_eng_lo = 0.5 * 1000 # [eV]\n",
    "    xray_eng_hi = 10.0 * 1000 # [eV]\n",
    "    xray_i_lo = np.searchsorted(abscs['photE'], xray_eng_lo)\n",
    "    xray_i_hi = np.searchsorted(abscs['photE'], xray_eng_hi)\n",
    "    L_X_numerical_factor = 1e60 # make float happy\n",
    "\n",
    "    L_X_spec_prefac = 1e40 / np.log(4) * u.erg * u.s**-1 * u.M_sun**-1 * u.yr * u.keV**-1 # value in [erg yr / s Msun keV]\n",
    "    L_X_spec_prefac /= L_X_numerical_factor\n",
    "    # L_X (E * dN/dE) \\propto E^-1\n",
    "    L_X_dNdE = L_X_spec_prefac.to('1/Msun').value * (abscs['photE']/1000.)**-1 / abscs['photE'] # [1/Msun] * [1/eV] = [1/Msun eV]\n",
    "    L_X_dNdE[:xray_i_lo] *= 0.\n",
    "    L_X_dNdE[xray_i_hi:] *= 0.\n",
    "    L_X_spec = Spectrum(abscs['photE'], L_X_dNdE, spec_type='dNdE', rs=1+z_current) # [1 / Msun eV]\n",
    "    L_X_spec.switch_spec_type('N') # [1 / Msun]\n",
    "\n",
    "    cond_sfrd = lambda z, d, r: 1.+d\n",
    "    emissivity_bracket = get_emissivity_bracket(\n",
    "        z=z_donor, delta=delta, R=R2, dt=dt,\n",
    "        debug_nodplus1=True, cond_sfrd=cond_sfrd, st_sfrd=ST_SFRD_Interpolator,\n",
    "    ) # [Msun / Bavg]\n",
    "\n",
    "    tf_wrapper.inject_phot(L_X_spec, inject_type='xray', weight_box=jnp.asarray(emissivity_bracket))"
   ]
  },
  {
   "cell_type": "code",
   "execution_count": null,
   "metadata": {},
   "outputs": [
    {
     "name": "stdout",
     "output_type": "stream",
     "text": [
      "0.015062688330166257 0.011056575275230462\n"
     ]
    },
    {
     "data": {
      "image/png": "[encoded data removed]",
      "text/plain": [
       "<Figure size 720x480 with 2 Axes>"
      ]
     },
     "metadata": {},
     "output_type": "display_data"
    }
   ],
   "source": [
    "dep_ion_box = np.sum(tf_wrapper.dep_box[...,:4], axis=-1)\n",
    "plt.imshow(dep_ion_box[0], origin='lower', cmap='viridis')\n",
    "plt.colorbar()\n",
    "print(np.std(dep_ion_box)/np.mean(dep_ion_box), np.mean(dep_ion_box))"
   ]
  },
  {
   "cell_type": "code",
   "execution_count": null,
   "metadata": {},
   "outputs": [
    {
     "data": {
      "text/plain": [
       "[<matplotlib.lines.Line2D at 0x7efe8f4bf750>]"
      ]
     },
     "metadata": {},
     "output_type": "display_data"
    },
    {
     "data": {
      "image/png": "[encoded data removed]",
      "text/plain": [
       "<Figure size 720x480 with 1 Axes>"
      ]
     },
     "metadata": {},
     "output_type": "display_data"
    }
   ],
   "source": [
    "plt.plot(R_arr, dep_ion_arr, '.')"
   ]
  },
  {
   "cell_type": "code",
   "execution_count": null,
   "metadata": {},
   "outputs": [
    {
     "name": "stderr",
     "output_type": "stream",
     "text": [
      "/tmp/ipykernel_349766/3144214641.py:1: RuntimeWarning: divide by zero encountered in log10\n",
      "  dlogR = np.diff(-np.log10(R_arr))\n"
     ]
    },
    {
     "data": {
      "image/png": "[encoded data removed]",
      "text/plain": [
       "<Figure size 720x480 with 1 Axes>"
      ]
     },
     "metadata": {},
     "output_type": "display_data"
    }
   ],
   "source": [
    "dlogR = np.diff(-np.log10(R_arr))\n",
    "plt.plot(R_arr[:-1], dep_ion_arr[:-1]/dlogR, '-s')\n",
    "plt.xscale('log')"
   ]
  },
  {
   "cell_type": "markdown",
   "metadata": {},
   "source": [
    "## Doing the same but with more similar code from main"
   ]
  },
  {
   "cell_type": "code",
   "execution_count": null,
   "metadata": {},
   "outputs": [],
   "source": [
    "from dm21cm.evolve import geom_inds, custom_SFRD, debug_get_21totf_interp\n",
    "from dm21cm.spectrum import AttenuatedSpectrum\n",
    "import py21cmfast as p21c"
   ]
  },
  {
   "cell_type": "code",
   "execution_count": null,
   "metadata": {},
   "outputs": [],
   "source": [
    "z_edges = get_z_edges(45, 5, 1.001)[1:]\n",
    "\n",
    "delta_cacher_recon = Cacher(\n",
    "    data_path=\"tmp/xraycheck_brightness.h5\",\n",
    "    cosmo=Planck18, N=32, dx=2.,\n",
    "    shell_Rmax=500.,\n",
    "    Rmax=500.,\n",
    ")\n",
    "delta_cacher_recon.brightness_cache.z_s = z_edges[:-1]\n",
    "delta_cacher_recon.spectrum_cache = pickle.load(open(f\"{cache_dir}/spec_cache.p\", 'rb'))"
   ]
  },
  {
   "cell_type": "code",
   "execution_count": null,
   "metadata": {},
   "outputs": [
    {
     "data": {
      "text/plain": [
       "428.1735231404039"
      ]
     },
     "metadata": {},
     "output_type": "display_data"
    }
   ],
   "source": [
    "phys.conformal_dx_between_z(z_edges[1900], 5)"
   ]
  },
  {
   "cell_type": "code",
   "execution_count": null,
   "metadata": {},
   "outputs": [],
   "source": [
    "## let's try the dicke factor\n",
    "# Box layout and fourier operations\n",
    "N = 32\n",
    "dx = 2\n",
    "cosmo = Planck18\n",
    "\n",
    "k = np.fft.fftfreq(N, d = dx)\n",
    "kReal = np.fft.rfftfreq(N, d = dx)\n",
    "kMag = 2*np.pi*np.sqrt(k[:, None, None]**2 + k[None, :, None]**2 + kReal[None, None, :]**2)\n",
    "\n",
    "\n",
    "def dicke(z):\n",
    "    \n",
    "    omegaM_z = cosmo.Om0*pow(1+z,3) / (cosmo.Ode0+cosmo.Om0*pow(1+z,3) + p21c.global_params.OMr*pow(1+z,4) )\n",
    "    dick_z = 2.5*omegaM_z / ( 1.0/70.0 + omegaM_z*(209-omegaM_z)/140.0 + pow(omegaM_z, 4.0/7.0) )\n",
    "    dick_0 = 2.5*cosmo.Om0 / ( 1.0/70.0 + cosmo.Om0*(209-cosmo.Om0)/140.0 + pow(cosmo.Om0, 4.0/7.0) )\n",
    "    \n",
    "    return dick_z / (dick_0 * (1.0+z))\n",
    "\n",
    "def smooth_perturbed_field(delta_dep, z_dep, R, zp):\n",
    "    z = z_dep\n",
    "    \n",
    "    W = 3*(np.sin(kMag*R) - kMag*R * np.cos(kMag*R)) / (kMag*R)**3\n",
    "    W[0, 0, 0] = 1\n",
    "    \n",
    "    \n",
    "    # Now I have the smoothed field evaluated at z, the redshift of the perturbed field\n",
    "    smoothed_field = np.fft.irfftn(np.fft.rfftn(delta_dep)*W)  \n",
    "    \n",
    "    # Now I divide by the growth factor at z to get the smoothed field scaled to z = 0\n",
    "    smoothed_field /= dicke(z)\n",
    "    \n",
    "    # Now I multiply by the growth factor at the target zp\n",
    "    smoothed_field *= dicke(zp)\n",
    "    \n",
    "    return smoothed_field"
   ]
  },
  {
   "cell_type": "code",
   "execution_count": null,
   "metadata": {},
   "outputs": [
    {
     "name": "stdout",
     "output_type": "stream",
     "text": [
      "adaptive shell: [2036 2035 2034 2033 2032 2031 2030 2029 2028 2027 2026 2025 2024 2023\n",
      " 2022 2020 2019 2017 2015 2014 2011 2009 2007 2004 2001 1997 1994 1990\n",
      " 1985 1981 1976 1970 1964 1957 1949 1941 1932 1922 1912 1900]\n"
     ]
    },
    {
     "name": "stderr",
     "output_type": "stream",
     "text": [
      "/tmp/ipykernel_378204/503771422.py:23: RuntimeWarning: invalid value encountered in divide\n",
      "  W = 3*(np.sin(kMag*R) - kMag*R * np.cos(kMag*R)) / (kMag*R)**3\n"
     ]
    },
    {
     "name": "stdout",
     "output_type": "stream",
     "text": [
      "1900, 5.880, 0.000094, 1.000000, 1.951e-05\n",
      "1912, 5.798, 0.000136, 1.000000, 2.956e-04\n",
      "1922, 5.731, 0.000151, 1.000000, 2.707e-04\n",
      "1932, 5.664, 0.000129, 1.000000, 3.083e-04\n",
      "1941, 5.604, 0.000169, 1.000000, 3.404e-04\n",
      "1949, 5.552, 0.000230, 1.000000, 3.174e-04\n",
      "1957, 5.499, 0.000345, 1.000000, 3.977e-04\n",
      "1964, 5.454, 0.000419, 1.000000, 3.831e-04\n",
      "1970, 5.416, 0.000292, 1.000000, 3.561e-04\n",
      "1976, 5.377, 0.000483, 1.000000, 4.447e-04\n",
      "1981, 5.345, 0.000430, 1.000000, 3.830e-04\n",
      "1985, 5.320, 0.000825, 1.000000, 3.555e-04\n",
      "1990, 5.289, 0.000495, 1.000000, 5.085e-04\n",
      "1994, 5.263, 0.001215, 1.000000, 4.184e-04\n",
      "1997, 5.245, 0.001151, 1.000000, 3.524e-04\n",
      "2001, 5.220, 0.001536, 1.000000, 4.983e-04\n",
      "2004, 5.201, 0.001374, 1.000000, 3.790e-04\n",
      "2007, 5.183, 0.002815, 1.000000, 3.841e-04\n",
      "2009, 5.170, 0.002777, 1.000000, 2.590e-04\n",
      "2011, 5.158, 0.001277, 1.000000, 2.614e-04\n",
      "2014, 5.140, 0.004257, 1.000000, 3.966e-04\n",
      "2015, 5.133, 0.005282, 1.000000, 1.334e-04\n",
      "2017, 5.121, 0.005842, 1.000000, 2.686e-04\n",
      "2019, 5.109, 0.005430, 1.000000, 2.710e-04\n",
      "2020, 5.103, 0.005858, 1.000000, 1.364e-04\n",
      "2022, 5.091, 0.009133, 1.000000, 2.746e-04\n",
      "2023, 5.085, 0.011282, 1.000000, 1.382e-04\n",
      "2024, 5.078, 0.012865, 1.000000, 1.388e-04\n",
      "2025, 5.072, 0.014482, 1.000000, 1.394e-04\n",
      "2026, 5.066, 0.018153, 1.000000, 1.400e-04\n",
      "2027, 5.060, 0.025258, 1.000000, 1.406e-04\n",
      "2028, 5.054, 0.035504, 1.000000, 1.412e-04\n",
      "2029, 5.048, 0.048992, 1.000000, 1.419e-04\n",
      "2030, 5.042, 0.065899, 1.000000, 1.425e-04\n",
      "2031, 5.036, 0.086266, 1.000000, 1.431e-04\n",
      "2032, 5.030, 0.111947, 1.000000, 1.437e-04\n",
      "2033, 5.024, 0.148369, 1.000000, 1.443e-04\n",
      "2034, 5.018, 0.204204, 1.000000, 1.449e-04\n",
      "2035, 5.012, 0.299231, 1.000000, 1.455e-04\n",
      "2036, 5.006, 0.410786, 1.000000\n"
     ]
    }
   ],
   "source": [
    "deltaplusone_box_s = []\n",
    "dep_ion_box_s = []\n",
    "z_s = []\n",
    "R_arr = []\n",
    "dep_ion_arr = []\n",
    "\n",
    "#------\n",
    "\n",
    "use_dicke_factor = True\n",
    "\n",
    "#------\n",
    "\n",
    "i_z = 2036\n",
    "z_current = z_edges[i_z]\n",
    "i_xraycheck_shell_start = 1900 # CHECK LATER!!!\n",
    "adaptive_shell = 40\n",
    "debug_flags = ['xc-01attenuation', 'xc-custom-SFRD', 'xc-ots']\n",
    "debug_nodplus1 = True\n",
    "EPSILON = 1e-6\n",
    "#debug_use_21_totinj = \"../scripts/sf_xdecayx10_nodplus1_noxesink_nopop2_alldepion_zf001.out\"\n",
    "debug_use_21_totinj = None\n",
    "if debug_use_21_totinj is not None:\n",
    "    ref_interp = debug_get_21totf_interp(debug_use_21_totinj)\n",
    "xray_eng_lo = 0.5 * 1000 # [eV]\n",
    "xray_eng_hi = 10.0 * 1000 # [eV]\n",
    "xray_i_lo = np.searchsorted(abscs['photE'], xray_eng_lo)\n",
    "xray_i_hi = np.searchsorted(abscs['photE'], xray_eng_hi)\n",
    "L_X_numerical_factor = 1e60 # make float happy\n",
    "\n",
    "tf_wrapper.init_step(\n",
    "    rs = 1 + z_current,\n",
    "    delta_plus_one_box = jnp.ones((32, 32, 32)),\n",
    "    x_e_box = x_e_box,\n",
    ")\n",
    "\n",
    "i_max = i_z - i_xraycheck_shell_start\n",
    "inds_increasing = geom_inds(i_max=i_max, i_transition=10, n_goal=adaptive_shell)\n",
    "inds_shell = i_z - inds_increasing\n",
    "print('adaptive shell:', inds_shell, flush=True)\n",
    "\n",
    "accumulated_shell_N = np.zeros_like(abscs['photE']) # [ph / Bavg]\n",
    "\n",
    "for i_z_shell in range(i_xraycheck_shell_start, i_z):\n",
    "\n",
    "    z_shell = z_edges[i_z_shell]\n",
    "    R2 = phys.conformal_dx_between_z(z_shell, z_current)\n",
    "\n",
    "    #--- for all shells ---\n",
    "    shell_N = np.array(delta_cacher_recon.spectrum_cache.get_spectrum(z_shell).N) # [ph / Msun]\n",
    "    if 'xc-custom-SFRD' in debug_flags:\n",
    "        cond_sfrd = custom_SFRD\n",
    "    else:\n",
    "        raise NotImplementedError\n",
    "    emissivity_bracket = get_emissivity_bracket(\n",
    "        z=z_shell, delta=0., R=phys.conformal_dx_between_z(z_shell, z_current), dt=dt,\n",
    "        debug_nodplus1=debug_nodplus1, cond_sfrd=cond_sfrd, st_sfrd=ST_SFRD_Interpolator,\n",
    "    ) # [Msun / Bavg] # get average\n",
    "\n",
    "    accumulated_shell_N += shell_N * emissivity_bracket # [ph / Bavg]\n",
    "    if i_z_shell not in inds_shell:\n",
    "        continue\n",
    "\n",
    "    #--- now, the chosen ones ---\n",
    "    delta, L_X_spec, xraycheck_is_box_average, z_donor, R2 = delta_cacher_recon.get_annulus_data(\n",
    "        z_current, z_edges[i_z_shell], z_edges[i_z_shell+1]\n",
    "    )\n",
    "\n",
    "    if use_dicke_factor:\n",
    "        with h5py.File(f\"{cache_dir}/xraycheck_brightness.h5\", 'r') as hf:\n",
    "            delta = np.fft.irfftn(hf['Box_2036'][()])\n",
    "        delta = smooth_perturbed_field(delta, z_current, R2, z_shell)\n",
    "\n",
    "    deltaplusone_box_s.append(1+delta)\n",
    "    z_s.append(z_shell)\n",
    "    R_arr.append(R2)\n",
    "    \n",
    "    \n",
    "    if 'xc-custom-SFRD' in debug_flags:\n",
    "        delta = jnp.array(delta)\n",
    "        cond_sfrd = custom_SFRD\n",
    "    else:\n",
    "        raise NotImplementedError\n",
    "    emissivity_bracket = get_emissivity_bracket(\n",
    "        z=z_donor, delta=delta, R=R2, dt=dt,\n",
    "        debug_nodplus1=debug_nodplus1, cond_sfrd=cond_sfrd, st_sfrd=ST_SFRD_Interpolator,\n",
    "    ) # [Msun / Bavg]\n",
    "    # use averaged spectrum: this step already counted\n",
    "    if np.mean(emissivity_bracket) != 0.:\n",
    "        emissivity_bracket /= np.mean(emissivity_bracket)\n",
    "\n",
    "    #dep_tracker.reset(tf_wrapper.dep_box)\n",
    "    dep_ion_box_before = np.sum(tf_wrapper.dep_box[...,:4], axis=-1)\n",
    "    dep_ion_before = np.mean(dep_ion_box_before)\n",
    "    if np.mean(emissivity_bracket) != 0.:\n",
    "        inj_spec = Spectrum(abscs['photE'], accumulated_shell_N, spec_type='N', rs=1+z_current) # [ph / Bavg]\n",
    "        tf_wrapper.inject_phot(inj_spec, inject_type='xray', weight_box=jnp.asarray(emissivity_bracket))\n",
    "    #dep_tracker.record(tf_wrapper.dep_box, R=phys.conformal_dx_between_z(z_shell, z_current), from_bath=False)\n",
    "    dep_ion_box = np.sum(tf_wrapper.dep_box[...,:4], axis=-1) - dep_ion_box_before\n",
    "    dep_ion = np.mean(dep_ion_box)\n",
    "\n",
    "    dep_ion_box_s.append(dep_ion_box)\n",
    "    dep_ion_arr.append(dep_ion)\n",
    "\n",
    "    accumulated_shell_N *= 0. # clear after injection\n",
    "\n",
    "    if xraycheck_is_box_average:\n",
    "        i_xraycheck_shell_start = max(i_z_shell+1, i_xraycheck_shell_start)\n",
    "\n",
    "    nBs = 1 + delta\n",
    "    print(f\"{i_z_shell}, {z_shell:.3f}, {np.std(nBs) / np.mean(nBs):.6f}, {np.mean(nBs):.6f}, {dep_ion:.3e}\")\n",
    "\n",
    "#----- new shell can deposits as well! -----\n",
    "# x_e_for_attenuation = 1 - np.mean(ionized_box.xH_box)\n",
    "# attenuation_arr = np.array(tf_wrapper.attenuation_arr(rs=1+z_current, x=x_e_for_attenuation)) # convert from jax array\n",
    "# if 'xc-noatten' in debug_flags: # TMP: turn off attenuation\n",
    "#     attenuation_arr = np.ones_like(attenuation_arr)\n",
    "# delta_cacher.advance_spectrum(attenuation_arr, z_next) # can handle AttenuatedSpectrum\n",
    "\n",
    "L_X_spec_prefac = 1e40 / np.log(4) * u.erg * u.s**-1 * u.M_sun**-1 * u.yr * u.keV**-1 # value in [erg yr / s Msun keV]\n",
    "L_X_spec_prefac /= L_X_numerical_factor\n",
    "# L_X (E * dN/dE) \\propto E^-1\n",
    "L_X_dNdE = L_X_spec_prefac.to('1/Msun').value * (abscs['photE']/1000.)**-1 / abscs['photE'] # [1/Msun] * [1/eV] = [1/Msun eV]\n",
    "L_X_dNdE[:xray_i_lo] *= 0.\n",
    "L_X_dNdE[xray_i_hi:] *= 0.\n",
    "L_X_spec = Spectrum(abscs['photE'], L_X_dNdE, spec_type='dNdE', rs=1+z_current) # [1 / Msun eV]\n",
    "L_X_spec.switch_spec_type('N') # [1 / Msun]\n",
    "\n",
    "z_next = z_edges[i_z+1]\n",
    "\n",
    "L_X_spec.redshift(1+z_next)\n",
    "if 'xc-01attenuation' in debug_flags:\n",
    "    L_X_spec = AttenuatedSpectrum(L_X_spec)\n",
    "\n",
    "if 'xc-ots' in debug_flags: # before saving, first ots injection\n",
    "    \n",
    "    z_donor = z_current\n",
    "    with h5py.File(f\"{cache_dir}/xraycheck_brightness.h5\", 'r') as hf:\n",
    "        delta = hf['Box_2036'][()]\n",
    "    delta = np.fft.irfftn(delta)\n",
    "    R2 = 0.\n",
    "\n",
    "    if 'xc-custom-SFRD' in debug_flags:\n",
    "        delta = jnp.array(delta)\n",
    "        cond_sfrd = custom_SFRD\n",
    "    else:\n",
    "        raise NotImplementedError\n",
    "    emissivity_bracket = get_emissivity_bracket(\n",
    "        z=z_donor, delta=delta, R=R2, dt = dt,\n",
    "        debug_nodplus1=debug_nodplus1, cond_sfrd=cond_sfrd, st_sfrd=ST_SFRD_Interpolator,\n",
    "    ) # [Msun / Bavg]\n",
    "\n",
    "    i_z_shell = i_z\n",
    "    z_shell = z_edges[i_z_shell]\n",
    "    print(f\"{i_z_shell}, {z_shell:.3f}, {np.std(1+delta) / np.mean(1+delta):.6f}, {np.mean(1+delta):.6f}\")\n",
    "    \n",
    "    #dep_tracker.reset(tf_wrapper.dep_box)\n",
    "    dep_ion_before = np.mean(tf_wrapper.dep_box[...,:4])\n",
    "    if np.mean(emissivity_bracket) != 0.:\n",
    "        tf_wrapper.inject_phot(L_X_spec, inject_type='xray', weight_box=jnp.asarray(emissivity_bracket))\n",
    "    dep_ion = np.mean(tf_wrapper.dep_box[...,:4]) - dep_ion_before\n",
    "    #dep_tracker.record(tf_wrapper.dep_box, R=R2, from_bath=False)\n",
    "\n",
    "    R_arr.append(R2)\n",
    "    dep_ion_arr.append(dep_ion)\n",
    "\n",
    "    # if isinstance(L_X_spec, AttenuatedSpectrum):\n",
    "    #     L_X_spec.attenuate(attenuation_arr)\n",
    "    # else:\n",
    "    #     L_X_spec.N *= attenuation_arr\n",
    "\n",
    "    #----- after possible ots deposition, advance and save -----\n",
    "    #delta_cacher.cache(z_current, jnp.array(perturbed_field.density), L_X_spec)\n",
    "\n",
    "#===== 21cmFAST step =====\n",
    "# perturbed_field = p21c.perturb_field(redshift=z_next, init_boxes=p21c_initial_conditions)\n",
    "# input_heating, input_ionization, input_jalpha = gen_injection_boxes(z_next, p21c_initial_conditions)\n",
    "class DummyBox:\n",
    "    def __init__(self, N):\n",
    "        self.N = N\n",
    "        self.input_heating = np.zeros((N, N, N))\n",
    "        self.input_ionization = np.zeros((N, N, N))\n",
    "        self.input_jalpha = np.zeros((N, N, N))\n",
    "input_heating = DummyBox(32)\n",
    "input_ionization = DummyBox(32)\n",
    "input_jalpha = DummyBox(32)\n",
    "\n",
    "if debug_use_21_totinj is not None:\n",
    "    ref_depE_per_B = ref_interp(z_current) * phys.A_per_B\n",
    "else:\n",
    "    ref_depE_per_B = None\n",
    "tf_wrapper.populate_injection_boxes(\n",
    "    input_heating, input_ionization, input_jalpha, dt,\n",
    "    debug_even_split_f=False,\n",
    "    ref_depE_per_B=ref_depE_per_B,\n",
    "    debug_z = z_current,\n",
    "    debug_unif_delta_dep = True,\n",
    "    debug_depallion = True,\n",
    ")\n",
    "\n",
    "R_arr = np.array(R_arr)\n",
    "dep_ion_arr = np.array(dep_ion_arr)"
   ]
  },
  {
   "cell_type": "code",
   "execution_count": null,
   "metadata": {},
   "outputs": [
    {
     "name": "stdout",
     "output_type": "stream",
     "text": [
      "5.2260430188993645\n"
     ]
    },
    {
     "name": "stderr",
     "output_type": "stream",
     "text": [
      "/tmp/ipykernel_378204/503771422.py:23: RuntimeWarning: invalid value encountered in divide\n",
      "  W = 3*(np.sin(kMag*R) - kMag*R * np.cos(kMag*R)) / (kMag*R)**3\n"
     ]
    }
   ],
   "source": [
    "z_current = 5.\n",
    "i_z_shell = 2000\n",
    "z_shell = z_edges[i_z_shell]\n",
    "R2 = phys.conformal_dx_between_z(z_shell, z_current)\n",
    "print(z_shell)\n",
    "delta_1, L_X_spec, xraycheck_is_box_average, z_donor, R2 = delta_cacher_recon.get_annulus_data(\n",
    "    z_current, z_edges[i_z_shell], z_edges[i_z_shell+1]\n",
    ")\n",
    "\n",
    "with h5py.File(f\"{cache_dir}/xraycheck_brightness.h5\", 'r') as hf:\n",
    "    delta_2 = np.fft.irfftn(hf['Box_2036'][()])\n",
    "delta_2 = smooth_perturbed_field(delta_2, z_current, R2, z_shell)"
   ]
  },
  {
   "cell_type": "code",
   "execution_count": null,
   "metadata": {},
   "outputs": [
    {
     "data": {
      "text/plain": [
       "(0.0030819872033155215, -0.002411876686176769)"
      ]
     },
     "metadata": {},
     "output_type": "display_data"
    }
   ],
   "source": [
    "np.max(delta_2[0]), np.min(delta_2[0])"
   ]
  },
  {
   "cell_type": "code",
   "execution_count": null,
   "metadata": {},
   "outputs": [
    {
     "data": {
      "text/plain": [
       "<matplotlib.colorbar.Colorbar at 0x7f20ff3d9210>"
      ]
     },
     "metadata": {},
     "output_type": "display_data"
    },
    {
     "data": {
      "image/png": "[encoded data removed]",
      "text/plain": [
       "<Figure size 1800x600 with 4 Axes>"
      ]
     },
     "metadata": {},
     "output_type": "display_data"
    }
   ],
   "source": [
    "fig, axs = plt.subplots(1, 3, figsize=(15, 5))\n",
    "axs[0].imshow(1+delta_1[0], origin='lower', cmap='viridis')\n",
    "axs[1].imshow(1+delta_2[0], origin='lower', cmap='viridis')\n",
    "im = axs[2].imshow((1+delta_2[0])/(1+delta_1[0]), origin='lower', cmap='viridis', vmin=0.9999, vmax=1.0001)\n",
    "fig.colorbar(im, ax=axs[2], orientation='horizontal')"
   ]
  },
  {
   "cell_type": "code",
   "execution_count": null,
   "metadata": {},
   "outputs": [
    {
     "name": "stderr",
     "output_type": "stream",
     "text": [
      "100%|██████████| 39/39 [00:50<00:00,  1.31s/it]\n"
     ]
    }
   ],
   "source": [
    "# save 1+delta, dep, and x_e boxes\n",
    "for i in tqdm(range(len(z_s))):\n",
    "    fig, axs = plt.subplots(1, 3, figsize=(15, 5))\n",
    "    ax = axs[0]\n",
    "    im = ax.imshow(deltaplusone_box_s[i][0] / np.mean(deltaplusone_box_s[i][0]), origin='lower')\n",
    "    ax.set(title=f\"1+delta: z={z_s[i]:.3f} R={R_arr[i]:.3f}\")\n",
    "    fig.colorbar(im, ax=ax, orientation='horizontal')\n",
    "\n",
    "    ax = axs[1]\n",
    "    im = ax.imshow(dep_ion_box_s[i][0] / np.mean(dep_ion_box_s[i][0]), origin='lower')\n",
    "    fig.colorbar(im, ax=ax, orientation='horizontal')\n",
    "    ax.set(title='dep')\n",
    "\n",
    "    ax = axs[2]\n",
    "    im = ax.imshow(x_e_box[0], origin='lower')\n",
    "    fig.colorbar(im, ax=ax, orientation='horizontal')\n",
    "    ax.set(title='x_e')\n",
    "    fig.savefig(f\"tmp/{i}.png\")\n",
    "    plt.close()"
   ]
  },
  {
   "cell_type": "code",
   "execution_count": null,
   "metadata": {},
   "outputs": [
    {
     "name": "stderr",
     "output_type": "stream",
     "text": [
      "100%|██████████| 39/39 [00:00<00:00, 629145.60it/s]"
     ]
    },
    {
     "name": "stderr",
     "output_type": "stream",
     "text": [
      "\n"
     ]
    }
   ],
   "source": [
    "flist = []\n",
    "for i in tqdm(range(len(z_s))):\n",
    "    flist.append(f\"tmp/{i}.png\")\n",
    "create_gif_from_filelist(flist, \"2.gif\", 0.5)"
   ]
  },
  {
   "cell_type": "code",
   "execution_count": null,
   "metadata": {},
   "outputs": [],
   "source": [
    "z4 = input_ionization.input_ionization[0]\n",
    "z3 = dep_ion_box[0] / phys.rydberg # / np.mean(dep_ion_box) * ref_interp(z_current)\n",
    "z2 = dxe_dc\n",
    "z1 = dxe_pc\n",
    "vmin = np.quantile(np.concatenate([z1, z2, z3, z4]), 0.02)\n",
    "vmax = np.quantile(np.concatenate([z1, z2, z3, z4]), 0.98)\n",
    "\n",
    "fig, axs = plt.subplots(1, 4, figsize=(24, 6))\n",
    "axs[0].imshow(z1, origin='lower', cmap='viridis', vmin=vmin, vmax=vmax)\n",
    "axs[1].imshow(z2, origin='lower', cmap='viridis', vmin=vmin, vmax=vmax)\n",
    "axs[2].imshow(z3, origin='lower', cmap='viridis', vmin=vmin, vmax=vmax)\n",
    "axs[3].imshow(z4, origin='lower', cmap='viridis', vmin=vmin, vmax=vmax)\n",
    "for i, title in enumerate(['run 21cmfast', 'run DM21cm', 'manual DM21cm', 'manual DM21cm code']):\n",
    "    axs[i].set_title(title)\n",
    "#plt.imshow(z, origin='lower', cmap='viridis')\n",
    "print(np.std(z1)/np.mean(z1), np.mean(z1))\n",
    "print(np.std(z2)/np.mean(z2), np.mean(z2))\n",
    "print(np.std(z3)/np.mean(z3), np.mean(z3))\n",
    "print(np.std(z4)/np.mean(z4), np.mean(z4))"
   ]
  },
  {
   "cell_type": "code",
   "execution_count": null,
   "metadata": {},
   "outputs": [],
   "source": [
    "rn_s_pc = [\n",
    "    'sf_xdecayx10_nodplus1_noxesink_nopop2_alldepion_zf001',\n",
    "]\n",
    "\n",
    "r_s_dc = [get_rec(rn) for rn in rn_s_dc]\n",
    "r_s_pc = [get_rec(rn) for rn in rn_s_pc]\n",
    "\n",
    "ax = axs[0]\n",
    "for rec in r_s_dc:\n",
    "    ax.plot(*shell_dc(rec, i, dlogR=False), '-s', label=r'DM21cm $\\sim\\times1$', alpha=0.5)\n",
    "for rec in r_s_pc:\n",
    "    ax.plot(*shell_pc(rec, i, dlogR=False), '-*', label=r'21cmFAST $\\sim\\times1/R$')\n",
    "ax.set(xlabel=r'$R$ [Mpc]', ylabel=r'$\\epsilon/dR$ [eV/B/Mpc]')\n",
    "ax.legend()\n",
    "\n",
    "ax = axs[1]\n",
    "for rec in r_s_dc:\n",
    "    ax.plot(*shell_dc(rec, i, dlogR=True), '-s', label=r'DM21cm $\\sim\\times R$')\n",
    "for rec in r_s_pc:\n",
    "    ax.plot(*shell_pc(rec, i, dlogR=True), '-*', label=r'21cmFAST $\\sim\\times1$')\n",
    "ax.set(xscale='log')\n",
    "ax.set(xlabel=r'$R$ [Mpc]', ylabel=r'$\\epsilon/d\\log_{10}R$ [eV/B/Mpc]')\n",
    "ax.legend()"
   ]
  },
  {
   "cell_type": "code",
   "execution_count": null,
   "metadata": {},
   "outputs": [
    {
     "data": {
      "text/plain": [
       "array([{'dep_ion_bath': 0.0, 'dep_heat_bath': 0.0, 'dep_ion_shells': array([], dtype=float64), 'dep_heat_shells': array([], dtype=float64), 'R_shells': array([], dtype=float64), 'bath_toteng_arr': []},\n",
       "       {'dep_ion_bath': 0.0, 'dep_heat_bath': 0.0, 'dep_ion_shells': array([], dtype=float64), 'dep_heat_shells': array([], dtype=float64), 'R_shells': array([], dtype=float64), 'bath_toteng_arr': []},\n",
       "       {'dep_ion_bath': 0.0, 'dep_heat_bath': 0.0, 'dep_ion_shells': array([], dtype=float64), 'dep_heat_shells': array([], dtype=float64), 'R_shells': array([], dtype=float64), 'bath_toteng_arr': []},\n",
       "       ...,\n",
       "       {'dep_ion_bath': 0.0, 'dep_heat_bath': 0.0, 'dep_ion_shells': array([], dtype=float64), 'dep_heat_shells': array([], dtype=float64), 'R_shells': array([], dtype=float64), 'bath_toteng_arr': []},\n",
       "       {'dep_ion_bath': 0.0, 'dep_heat_bath': 0.0, 'dep_ion_shells': array([], dtype=float64), 'dep_heat_shells': array([], dtype=float64), 'R_shells': array([], dtype=float64), 'bath_toteng_arr': []},\n",
       "       {'dep_ion_bath': 0.0, 'dep_heat_bath': 0.0, 'dep_ion_shells': array([], dtype=float64), 'dep_heat_shells': array([], dtype=float64), 'R_shells': array([], dtype=float64), 'bath_toteng_arr': []}],\n",
       "      dtype=object)"
      ]
     },
     "metadata": {},
     "output_type": "display_data"
    }
   ],
   "source": [
    "rec['p']"
   ]
  },
  {
   "cell_type": "code",
   "execution_count": null,
   "metadata": {},
   "outputs": [
    {
     "name": "stderr",
     "output_type": "stream",
     "text": [
      "/tmp/ipykernel_349766/4251548546.py:2: RuntimeWarning: divide by zero encountered in log10\n",
      "  ax.plot(R_arr[1:], dep_ion_arr[1:]/np.diff(-np.log10(R_arr))/phys.rydberg/2, '-s')\n"
     ]
    },
    {
     "data": {
      "image/png": "[encoded data removed]",
      "text/plain": [
       "<Figure size 960x720 with 1 Axes>"
      ]
     },
     "metadata": {},
     "output_type": "display_data"
    }
   ],
   "source": [
    "fig, ax = plt.subplots(1, 1, figsize=(8, 6))\n",
    "ax.plot(R_arr[1:], dep_ion_arr[1:]/np.diff(-np.log10(R_arr))/phys.rydberg/2, '-s')\n",
    "\n",
    "rn_s_pc = [\n",
    "    'sf_xdecayx10_nodplus1_noxesink_nopop2_alldepion_zf001',\n",
    "]\n",
    "r_s_pc = [get_rec(rn) for rn in rn_s_pc]\n",
    "for rec in r_s_pc:\n",
    "    r, v = shell_pc(rec, i, dlogR=True)\n",
    "    ax.plot(r, v, '-*', label=r'21cmFAST $\\sim\\times1$')\n",
    "ax.set_xscale('log')"
   ]
  },
  {
   "cell_type": "code",
   "execution_count": null,
   "metadata": {},
   "outputs": [],
   "source": [
    "R_for_z = [phys.conformal_dx_between_z(z, 5.) for z in z_edges]\n",
    "R_to_z = interpolate.interp1d(R_for_z, z_edges)"
   ]
  },
  {
   "cell_type": "code",
   "execution_count": null,
   "metadata": {},
   "outputs": [],
   "source": [
    "total_box = np.zeros((32, 32, 32))\n",
    "\n",
    "rec = get_rec('sf_xdecayx10_nodplus1_noxesink_nopop2_alldepion_zf001')\n",
    "r_rec, n_rec = shell_pc(rec, i, dlogR=True)\n",
    "\n",
    "for R, norm in zip(r_rec, n_rec):\n",
    "    z = R_to_z(R)\n",
    "    delta = delta_cacher_recon.brightness_cache.get_box(z)\n",
    "    delta_smoothed, _ = delta_cacher_recon.smooth_box(delta, 1e-10, R)\n",
    "    total_box += (1+delta_smoothed) * norm"
   ]
  },
  {
   "cell_type": "code",
   "execution_count": null,
   "metadata": {},
   "outputs": [
    {
     "name": "stdout",
     "output_type": "stream",
     "text": [
      "0.01227664276457623 0.0016799115645112286\n"
     ]
    },
    {
     "data": {
      "image/png": "[encoded data removed]",
      "text/plain": [
       "<Figure size 720x480 with 2 Axes>"
      ]
     },
     "metadata": {},
     "output_type": "display_data"
    }
   ],
   "source": [
    "plt.imshow(total_box[0], origin='lower')\n",
    "plt.colorbar()\n",
    "\n",
    "print(np.std(total_box)/np.mean(total_box), np.mean(total_box))"
   ]
  }
 ],
 "metadata": {
  "language_info": {
   "name": "python"
  }
 },
 "nbformat": 4,
 "nbformat_minor": 2
}
