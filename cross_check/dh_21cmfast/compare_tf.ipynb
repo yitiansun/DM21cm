{
 "cells": [
  {
   "cell_type": "code",
   "execution_count": 10,
   "id": "8373c1e7-78b1-4c6d-a490-bc25428b1bab",
   "metadata": {
    "tags": []
   },
   "outputs": [],
   "source": [
    "%reload_ext autoreload\n",
    "%autoreload 2\n",
    "\n",
    "import os\n",
    "import sys\n",
    "import h5py\n",
    "import pickle\n",
    "import logging\n",
    "from tqdm import tqdm\n",
    "\n",
    "import numpy as np\n",
    "from scipy import interpolate\n",
    "from astropy.io import fits\n",
    "#import jax.numpy as jnp\n",
    "\n",
    "sys.path.append(os.environ['DM21CM_DIR'])\n",
    "import dm21cm.physics as phys\n",
    "# from dm21cm.data_loader import load_data\n",
    "# from dm21cm.dm_params import DMParams\n",
    "# from dm21cm.evolve import get_z_edges\n",
    "\n",
    "sys.path.append(os.environ['DH_DIR'])\n",
    "from darkhistory.spec.spectrum import Spectrum\n",
    "from darkhistory.main import evolve as dh_evolve\n",
    "from darkhistory.config import load_data as dh_load_data\n",
    "import darkhistory.physics as dh_phys\n",
    "\n",
    "%matplotlib inline\n",
    "import matplotlib as mpl\n",
    "import matplotlib.pyplot as plt\n",
    "mpl.rc_file(\"../matplotlibrc\")"
   ]
  },
  {
   "cell_type": "markdown",
   "id": "22cee990-fd0d-414d-b165-1a4de7de8e12",
   "metadata": {},
   "source": [
    "## 1. compare HED"
   ]
  },
  {
   "cell_type": "markdown",
   "id": "13043581-720c-4bc5-af3d-83b4c37e8693",
   "metadata": {},
   "source": [
    "### 1.1 DH on grid"
   ]
  },
  {
   "cell_type": "code",
   "execution_count": 67,
   "id": "e4baf639-afff-43bf-9a51-421105944e84",
   "metadata": {},
   "outputs": [],
   "source": [
    "dh_dep_tf = dh_load_data('dep_tf')['highengdep']"
   ]
  },
  {
   "cell_type": "code",
   "execution_count": 3,
   "id": "eff0d085-37ef-4179-a5f2-dc49be86ecd5",
   "metadata": {},
   "outputs": [
    {
     "name": "stdout",
     "output_type": "stream",
     "text": [
      "0.009951801866904308 0.0007856685684398137 6.793051330746054\n"
     ]
    }
   ],
   "source": [
    "dh_xH_arr = dh_dep_tf.x[0][:,0,0]\n",
    "dh_xHe_arr = dh_dep_tf.x[0][0,:,1]\n",
    "dh_rs_arr = dh_dep_tf.rs[0]\n",
    "\n",
    "i_xH = 1\n",
    "i_xHe = 1\n",
    "i_rs = 4\n",
    "i_E = 300\n",
    "\n",
    "xH = dh_xH_arr[i_xH]\n",
    "xHe = dh_xHe_arr[i_xHe]\n",
    "rs = dh_rs_arr[i_rs]\n",
    "\n",
    "print(xH, xHe, rs)"
   ]
  },
  {
   "cell_type": "code",
   "execution_count": 4,
   "id": "1a73178a-2075-4370-98da-57713a4efb8e",
   "metadata": {},
   "outputs": [
    {
     "data": {
      "text/plain": [
       "array([ 1.75750284e-14,  1.40953776e-14,  5.67682753e-15, -2.17047803e-17])"
      ]
     },
     "execution_count": 4,
     "metadata": {},
     "output_type": "execute_result"
    }
   ],
   "source": [
    "dh_dep_tf_slice = dh_dep_tf.get_val(xH, xHe, rs)\n",
    "dh_dep_tf_slice[i_E]"
   ]
  },
  {
   "cell_type": "code",
   "execution_count": 5,
   "id": "2c8e9367-be23-4e40-acb0-22cf6ea59d5c",
   "metadata": {},
   "outputs": [],
   "source": [
    "hdul = fits.open('ionhist_outputs/tf_z_6.793E+00_x_9.952E-03_nBs_1.000E+00.fits')"
   ]
  },
  {
   "cell_type": "code",
   "execution_count": 6,
   "id": "b635eb6b-54bc-44a1-9125-1057484c2802",
   "metadata": {},
   "outputs": [
    {
     "ename": "IndexError",
     "evalue": "index 300 is out of bounds for axis 1 with size 2",
     "output_type": "error",
     "traceback": [
      "\u001b[0;31m---------------------------------------------------------------------------\u001b[0m",
      "\u001b[0;31mIndexError\u001b[0m                                Traceback (most recent call last)",
      "\u001b[0;32m<ipython-input-6-7e6020bc17d5>\u001b[0m in \u001b[0;36m<module>\u001b[0;34m\u001b[0m\n\u001b[0;32m----> 1\u001b[0;31m \u001b[0mhdul\u001b[0m\u001b[0;34m[\u001b[0m\u001b[0;36m1\u001b[0m\u001b[0;34m]\u001b[0m\u001b[0;34m.\u001b[0m\u001b[0mdata\u001b[0m\u001b[0;34m[\u001b[0m\u001b[0;34m'HED_TF'\u001b[0m\u001b[0;34m]\u001b[0m\u001b[0;34m[\u001b[0m\u001b[0;36m0\u001b[0m\u001b[0;34m,\u001b[0m \u001b[0;36m300\u001b[0m\u001b[0;34m]\u001b[0m\u001b[0;34m\u001b[0m\u001b[0;34m\u001b[0m\u001b[0m\n\u001b[0m",
      "\u001b[0;31mIndexError\u001b[0m: index 300 is out of bounds for axis 1 with size 2"
     ]
    }
   ],
   "source": [
    "hdul[1].data['HED_TF'][0, 300]"
   ]
  },
  {
   "cell_type": "markdown",
   "id": "bfec21ab-d443-4446-995c-04a211afc8e3",
   "metadata": {},
   "source": [
    "IDL agrees with DH on grid"
   ]
  },
  {
   "cell_type": "markdown",
   "id": "5cb221c6-6207-4407-a7d4-0e60d00ea848",
   "metadata": {},
   "source": [
    "### 1.2 DH off grid"
   ]
  },
  {
   "cell_type": "code",
   "execution_count": 10,
   "id": "c3c3c4f5-5118-49ff-94d4-378dd7564629",
   "metadata": {},
   "outputs": [
    {
     "name": "stdout",
     "output_type": "stream",
     "text": [
      "0.1394466116184497 0.011008943022509184 7.257975692943122\n"
     ]
    }
   ],
   "source": [
    "i_xH = 1\n",
    "i_xHe = 1\n",
    "i_rs = 4\n",
    "i_E = 300\n",
    "\n",
    "xH = (dh_xH_arr[i_xH] + dh_xH_arr[i_xH+1]) / 2\n",
    "xHe = (dh_xHe_arr[i_xHe] + dh_xHe_arr[i_xHe+1]) / 2\n",
    "rs = np.sqrt(dh_rs_arr[i_rs] * dh_rs_arr[i_rs+1])\n",
    "\n",
    "print(xH, xHe, rs)"
   ]
  },
  {
   "cell_type": "code",
   "execution_count": 11,
   "id": "94afaa35-cf0a-4e07-991d-3e4ec32618ba",
   "metadata": {},
   "outputs": [
    {
     "data": {
      "text/plain": [
       "array([ 1.45276205e-14,  1.17552026e-14,  5.43907351e-14, -2.22061825e-17])"
      ]
     },
     "execution_count": 11,
     "metadata": {},
     "output_type": "execute_result"
    }
   ],
   "source": [
    "dh_dep_tf_slice = dh_dep_tf.get_val(xH, xHe, rs)\n",
    "dh_dep_tf_slice[i_E]"
   ]
  },
  {
   "cell_type": "code",
   "execution_count": 14,
   "id": "7c712b24-2c00-479b-8cfc-fdda57f4fdfd",
   "metadata": {},
   "outputs": [],
   "source": [
    "hdul = fits.open('ionhist_outputs/tf_z_7.258E+00_x_1.394E-01_nBs_1.000E+00.fits')"
   ]
  },
  {
   "cell_type": "code",
   "execution_count": 15,
   "id": "d383c609-cd0b-4632-b3f5-16ec5657ad03",
   "metadata": {},
   "outputs": [
    {
     "data": {
      "text/plain": [
       "array([ 1.27107982e-14,  1.02835650e-14,  6.39856587e-14, -2.05938945e-17])"
      ]
     },
     "execution_count": 15,
     "metadata": {},
     "output_type": "execute_result"
    }
   ],
   "source": [
    "hdul[1].data['HED_TF'][0, 0]"
   ]
  },
  {
   "cell_type": "markdown",
   "id": "4239fa8c-a1fa-4070-8137-4a756e290315",
   "metadata": {},
   "source": [
    "can be off by 20 percent!"
   ]
  },
  {
   "cell_type": "markdown",
   "id": "0acc6f5b-4391-4d83-8fd3-65f6d664478b",
   "metadata": {},
   "source": [
    "### 1.3 Off grid"
   ]
  },
  {
   "cell_type": "code",
   "execution_count": 28,
   "id": "8d633cc0-c790-4b14-9278-6e3f4f5159c6",
   "metadata": {},
   "outputs": [
    {
     "name": "stdout",
     "output_type": "stream",
     "text": [
      "6.793051330746054\n"
     ]
    }
   ],
   "source": [
    "i_xH = 1\n",
    "i_xHe = 1\n",
    "i_rs = 4\n",
    "i_E = 300\n",
    "\n",
    "x_s = np.linspace(4e-5, 1-4e-5, 100)\n",
    "rs = dh_rs_arr[i_rs]\n",
    "\n",
    "print(rs)"
   ]
  },
  {
   "cell_type": "code",
   "execution_count": 29,
   "id": "8771abb9-c281-4f2d-887a-00d105278074",
   "metadata": {},
   "outputs": [],
   "source": [
    "dh_f_s = np.array([dh_dep_tf.get_val(x, phys.chi*x, rs)[i_E] for x in x_s])"
   ]
  },
  {
   "cell_type": "code",
   "execution_count": 51,
   "id": "7665bc93-3d27-43b7-b03c-d4f758d170c1",
   "metadata": {},
   "outputs": [],
   "source": [
    "# with h5py.File(\"../data/tf/230629/phot/phot_dep.h5\", 'r') as hf:\n",
    "#     dm21cm_tfgv = hf['data'][:]\n",
    "#     dm21cm_axes = hf['axes'][:]\n",
    "#     dm21cm_abscs = {}\n",
    "#     for k, item in hf['abscs'].items():\n",
    "#         dm21cm_abscs[k] = item[:]\n",
    "# dm21cm_tfinterp = interpolate.RegularGridInterpolator((dm21cm_abscs['rs'], dm21cm_abscs['nBs'], dm21cm_abscs['x']), dm21cm_tfgv[:,300,:,:,:4])\n",
    "# dt = np.log(1.01) / phys.hubble(rs)\n",
    "# dm21cm_f_s = np.array([dm21cm_tfinterp((rs, 1.0, x)) / dt for x in x_s])"
   ]
  },
  {
   "cell_type": "code",
   "execution_count": 50,
   "id": "f4eec62e-641d-4177-a045-cd1be5983589",
   "metadata": {},
   "outputs": [
    {
     "name": "stdout",
     "output_type": "stream",
     "text": [
      "[0.0000400000d, 0.0101402020d, 0.0202404040d, 0.0303406061d, 0.0404408081d, 0.0505410101d, 0.0606412121d, 0.0707414141d, 0.0808416162d, 0.0909418182d, 0.1010420202d, 0.1111422222d, 0.1212424242d, 0.1313426263d, 0.1414428283d, 0.1515430303d, 0.1616432323d, 0.1717434343d, 0.1818436364d, 0.1919438384d, 0.2020440404d, 0.2121442424d, 0.2222444444d, 0.2323446465d, 0.2424448485d, 0.2525450505d, 0.2626452525d, 0.2727454545d, 0.2828456566d, 0.2929458586d, 0.3030460606d, 0.3131462626d, 0.3232464646d, 0.3333466667d, 0.3434468687d, 0.3535470707d, 0.3636472727d, 0.3737474747d, 0.3838476768d, 0.3939478788d, 0.4040480808d, 0.4141482828d, 0.4242484848d, 0.4343486869d, 0.4444488889d, 0.4545490909d, 0.4646492929d, 0.4747494949d, 0.4848496970d, 0.4949498990d, 0.5050501010d, 0.5151503030d, 0.5252505051d, 0.5353507071d, 0.5454509091d, 0.5555511111d, 0.5656513131d, 0.5757515152d, 0.5858517172d, 0.5959519192d, 0.6060521212d, 0.6161523232d, 0.6262525253d, 0.6363527273d, 0.6464529293d, 0.6565531313d, 0.6666533333d, 0.6767535354d, 0.6868537374d, 0.6969539394d, 0.7070541414d, 0.7171543434d, 0.7272545455d, 0.7373547475d, 0.7474549495d, 0.7575551515d, 0.7676553535d, 0.7777555556d, 0.7878557576d, 0.7979559596d, 0.8080561616d, 0.8181563636d, 0.8282565657d, 0.8383567677d, 0.8484569697d, 0.8585571717d, 0.8686573737d, 0.8787575758d, 0.8888577778d, 0.8989579798d, 0.9090581818d, 0.9191583838d, 0.9292585859d, 0.9393587879d, 0.9494589899d, 0.9595591919d, 0.9696593939d, 0.9797595960d, 0.9898597980d, 0.9999600000d]\n"
     ]
    }
   ],
   "source": [
    "print('['+'d, '.join([f'{x:.10f}' for x in x_s])+'d]')"
   ]
  },
  {
   "cell_type": "code",
   "execution_count": 31,
   "id": "a2674170-137b-40b0-bb25-2e4eb89a3619",
   "metadata": {},
   "outputs": [],
   "source": [
    "idl_f_s = np.zeros((len(x_s), 4))\n",
    "\n",
    "for i in range(len(x_s)):\n",
    "    x = x_s[i]\n",
    "    with fits.open(f'ionhist_outputs/tf_z_{rs:.3E}_x_{x:.3E}_nBs_1.000E+00.fits') as hdul:\n",
    "        idl_f_s[i] = hdul[1].data['HED_TF'][0, 0]"
   ]
  },
  {
   "cell_type": "code",
   "execution_count": 71,
   "id": "124c5bf6-cd34-4908-94ec-960df6b47e82",
   "metadata": {},
   "outputs": [
    {
     "data": {
      "text/plain": [
       "<matplotlib.legend.Legend at 0x7f7fe4ac4190>"
      ]
     },
     "execution_count": 71,
     "metadata": {},
     "output_type": "execute_result"
    },
    {
     "data": {
      "image/png": "[encoded data removed]",
      "text/plain": [
       "<Figure size 720x480 with 1 Axes>"
      ]
     },
     "metadata": {},
     "output_type": "display_data"
    }
   ],
   "source": [
    "ch_s = ['H ion', 'He ion', 'exc', 'heat']\n",
    "for i in range(4):\n",
    "    plt.plot(x_s, dh_f_s[:,i], '.', color=f'C{i}', markersize=1, label=(f'DH {ch_s[i]}' if i == 0 else None))\n",
    "    plt.plot(x_s, idl_f_s[:,i], color=f'C{i}', ls='-', label=f'IDL {ch_s[i]}')\n",
    "plt.yscale('log')\n",
    "plt.legend()"
   ]
  }
 ],
 "metadata": {
  "kernelspec": {
   "display_name": "Python 3",
   "language": "python",
   "name": "python3"
  },
  "language_info": {
   "codemirror_mode": {
    "name": "ipython",
    "version": 3
   },
   "file_extension": ".py",
   "mimetype": "text/x-python",
   "name": "python",
   "nbconvert_exporter": "python",
   "pygments_lexer": "ipython3",
   "version": "3.8.8"
  }
 },
 "nbformat": 4,
 "nbformat_minor": 5
}
