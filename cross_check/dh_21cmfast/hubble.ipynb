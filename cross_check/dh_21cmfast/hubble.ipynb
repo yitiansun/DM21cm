{
 "cells": [
  {
   "cell_type": "code",
   "execution_count": 5,
   "metadata": {},
   "outputs": [],
   "source": [
    "%reload_ext autoreload\n",
    "%autoreload 2\n",
    "\n",
    "import os\n",
    "import sys\n",
    "import pickle\n",
    "import numpy as np\n",
    "\n",
    "sys.path.append(os.environ['DH_DIR'])\n",
    "from darkhistory import physics as dh_phys\n",
    "from darkhistory.history.tla import compton_cooling_rate"
   ]
  },
  {
   "cell_type": "code",
   "execution_count": null,
   "metadata": {},
   "outputs": [],
   "source": [
    "from astropy.cosmology import Planck18 as cosmo"
   ]
  },
  {
   "cell_type": "code",
   "execution_count": 15,
   "metadata": {},
   "outputs": [
    {
     "name": "stdout",
     "output_type": "stream",
     "text": [
      "671.8903266788329\n"
     ]
    }
   ],
   "source": [
    "zp = 45\n",
    "T_cmb = 2.728\n",
    "Trad = T_cmb*(1.0+zp)\n",
    "T = 10000\n",
    "x_e = 0.01\n",
    "dTdz = (-1.51e-4) / (cosmo.H(zp)/cosmo.H0) / (cosmo.h) * Trad**4 / (1.0+zp) * (x_e/(1.0+x_e))*( Trad - T )\n",
    "print(dTdz)"
   ]
  },
  {
   "cell_type": "code",
   "execution_count": 17,
   "metadata": {},
   "outputs": [
    {
     "name": "stdout",
     "output_type": "stream",
     "text": [
      "675.2248194490467\n"
     ]
    }
   ],
   "source": [
    "T_m = T * dh_phys.kB\n",
    "rs = 1 + zp\n",
    "dTdz_dh = compton_cooling_rate(x_e, dh_phys.chi*x_e, 0, T_m, rs) * dh_phys.dtdz(rs) / dh_phys.kB / (3/2 * dh_phys.nH * (rs**3) * (1 + dh_phys.chi + x_e))\n",
    "print(dTdz_dh)"
   ]
  },
  {
   "cell_type": "code",
   "execution_count": null,
   "metadata": {},
   "outputs": [],
   "source": [
    "def dtdz(z):\n",
    "    OMl = cosmo.Ode0\n",
    "    OMm = cosmo.Om0\n",
    "    Ho = cosmo.h*3.2407e-18\n",
    "    x = np.sqrt( OMl/OMm ) * (1+z)**-1.5\n",
    "    dxdz = np.sqrt( OMl/OMm ) * (1+z)**(-2.5) * (-1.5)\n",
    "    const1 = 2 * np.sqrt( 1 + OMm/OMl ) / (3.0 * Ho)\n",
    "\n",
    "    numer = dxdz * (1 + x*(x**2+1)**-0.5)\n",
    "    denom = x + np.sqrt(x**2 + 1)\n",
    "    return (const1 * numer / denom)"
   ]
  },
  {
   "cell_type": "code",
   "execution_count": null,
   "metadata": {},
   "outputs": [
    {
     "data": {
      "text/plain": [
       "-1.007612529146012"
      ]
     },
     "metadata": {},
     "output_type": "display_data"
    }
   ],
   "source": [
    "dtdz(45) / dtdz_ap(45)"
   ]
  },
  {
   "cell_type": "code",
   "execution_count": null,
   "metadata": {},
   "outputs": [],
   "source": [
    "def dtdz_ap(z):\n",
    "    return 1. / (cosmo.H(z).to('s^-1').value * (1+z))"
   ]
  },
  {
   "cell_type": "code",
   "execution_count": null,
   "metadata": {},
   "outputs": [],
   "source": [
    "def hubble(z):\n",
    "    H0 = cosmo.H0.to('s^-1').value\n",
    "    return H0*np.sqrt((cosmo.Ogamma0)*(1+z)**4 + (cosmo.Om0+cosmo.Onu0)*(1+z)**3 + cosmo.Ode0)"
   ]
  },
  {
   "cell_type": "code",
   "execution_count": null,
   "metadata": {},
   "outputs": [
    {
     "data": {
      "text/plain": [
       "1.0020116714819685"
      ]
     },
     "metadata": {},
     "output_type": "display_data"
    }
   ],
   "source": [
    "cosmo.H(45).to('s^-1').value / hubble(45)"
   ]
  },
  {
   "cell_type": "code",
   "execution_count": null,
   "metadata": {},
   "outputs": [
    {
     "data": {
      "text/plain": [
       "56632916500905.36"
      ]
     },
     "metadata": {},
     "output_type": "display_data"
    }
   ],
   "source": [
    "dtdz_ap(45)"
   ]
  },
  {
   "cell_type": "code",
   "execution_count": null,
   "metadata": {},
   "outputs": [
    {
     "data": {
      "text/plain": [
       "-1.004319699213142"
      ]
     },
     "metadata": {},
     "output_type": "display_data"
    }
   ],
   "source": [
    "phys.dtdz(45+1) / dtdz_ap(45)"
   ]
  }
 ],
 "metadata": {
  "kernelspec": {
   "display_name": "dm21cm",
   "language": "python",
   "name": "python3"
  },
  "language_info": {
   "codemirror_mode": {
    "name": "ipython",
    "version": 3
   },
   "file_extension": ".py",
   "mimetype": "text/x-python",
   "name": "python",
   "nbconvert_exporter": "python",
   "pygments_lexer": "ipython3",
   "version": "3.11.5"
  }
 },
 "nbformat": 4,
 "nbformat_minor": 2
}
