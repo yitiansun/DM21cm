{
 "cells": [
  {
   "cell_type": "code",
   "execution_count": 1,
   "metadata": {},
   "outputs": [
    {
     "name": "stderr",
     "output_type": "stream",
     "text": [
      "WARNING:root:DM21CM: We dont do Helium here\n",
      "WARNING:root:DarkHistory: It's all hydrogen now.\n"
     ]
    }
   ],
   "source": [
    "%reload_ext autoreload\n",
    "%autoreload 2\n",
    "\n",
    "import os\n",
    "import sys\n",
    "import pickle\n",
    "import h5py\n",
    "\n",
    "import numpy as np\n",
    "\n",
    "from jax import config\n",
    "config.update(\"jax_enable_x64\", True)\n",
    "\n",
    "WDIR = os.environ['DM21CM_DIR']\n",
    "sys.path.append(WDIR)\n",
    "import dm21cm.physics as phys\n",
    "from dm21cm.data_cacher import Cacher\n",
    "\n",
    "%matplotlib inline\n",
    "import matplotlib as mpl\n",
    "import matplotlib.pyplot as plt\n",
    "from matplotlib import colormaps as cms\n",
    "from matplotlib.ticker import FixedLocator, FixedFormatter\n",
    "mpl.rc_file(f\"{WDIR}/matplotlibrc\")"
   ]
  },
  {
   "cell_type": "code",
   "execution_count": 2,
   "metadata": {},
   "outputs": [],
   "source": [
    "from astropy.cosmology import Planck18 as cosmo"
   ]
  },
  {
   "cell_type": "code",
   "execution_count": 3,
   "metadata": {},
   "outputs": [],
   "source": [
    "fn = os.environ['P21C_CACHE_DIR'] + '/xc_phph_noLX_nos8_noHe_nosp/xray_brightness.h5'"
   ]
  },
  {
   "cell_type": "code",
   "execution_count": 4,
   "metadata": {},
   "outputs": [],
   "source": [
    "from jax.numpy import fft"
   ]
  },
  {
   "cell_type": "code",
   "execution_count": 5,
   "metadata": {},
   "outputs": [],
   "source": [
    "c = Cacher(fn, cosmo, 32, 2)"
   ]
  },
  {
   "cell_type": "code",
   "execution_count": 6,
   "metadata": {},
   "outputs": [],
   "source": [
    "c.brightness_cache.z_s = np.array([44.67846508, 44.22620305, 43.77841886, 43.33506818,\n",
    "                                   42.89610711, 42.46149219, 42.03118039, 41.60512909,\n",
    "                                   41.18329613, 40.76563974, 40.35211855, 39.94269163,\n",
    "                                   39.53731845, 39.13595886, 38.73857313])\n",
    "c.spectrum_cache.z_s = np.array([44.67846508, 44.22620305, 43.77841886, 43.33506818,\n",
    "                                   42.89610711, 42.46149219, 42.03118039, 41.60512909,\n",
    "                                   41.18329613, 40.76563974, 40.35211855, 39.94269163,\n",
    "                                   39.53731845, 39.13595886, 38.73857313])\n",
    "c.spectrum_cache.spectrum_list = np.full_like(c.spectrum_cache.z_s, 1.0)"
   ]
  },
  {
   "cell_type": "code",
   "execution_count": 7,
   "metadata": {},
   "outputs": [],
   "source": [
    "br, _, _ = c.get_annulus_data(38.34512191027308, 39.53731844927626, 39.13595886066957)"
   ]
  },
  {
   "cell_type": "code",
   "execution_count": 9,
   "metadata": {},
   "outputs": [
    {
     "data": {
      "text/plain": [
       "Array(0.99999947, dtype=float64)"
      ]
     },
     "execution_count": 9,
     "metadata": {},
     "output_type": "execute_result"
    }
   ],
   "source": [
    "np.mean(br)"
   ]
  },
  {
   "cell_type": "code",
   "execution_count": null,
   "metadata": {},
   "outputs": [],
   "source": [
    "DEBUG uniform-xray: z_current = 38.34512191027308\n",
    "DEBUG uniform-xray: z_edges[i_z_shell] = 39.53731844927626\n",
    "DEBUG uniform-xray: z_edges[i_z_shell+1] = 39.13595886066957\n",
    "DEBUG uniform-xray: xray_brightness_box = 1.388e-17"
   ]
  }
 ],
 "metadata": {
  "kernelspec": {
   "display_name": "dm21cm",
   "language": "python",
   "name": "python3"
  },
  "language_info": {
   "codemirror_mode": {
    "name": "ipython",
    "version": 3
   },
   "file_extension": ".py",
   "mimetype": "text/x-python",
   "name": "python",
   "nbconvert_exporter": "python",
   "pygments_lexer": "ipython3",
   "version": "3.11.5"
  }
 },
 "nbformat": 4,
 "nbformat_minor": 2
}
