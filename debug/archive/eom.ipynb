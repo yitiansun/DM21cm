{
 "cells": [
  {
   "cell_type": "code",
   "execution_count": 22,
   "metadata": {},
   "outputs": [
    {
     "name": "stderr",
     "output_type": "stream",
     "text": [
      "/n/home07/yitians/.conda/envs/dm21cm/lib/python3.11/site-packages/py21cmfast/_cfg.py:58: UserWarning: Your configuration file is out of date. Updating...\n",
      "  warnings.warn(\n",
      "/n/home07/yitians/.conda/envs/dm21cm/lib/python3.11/site-packages/py21cmfast/_cfg.py:42: UserWarning: Your configuration file is out of date. Updating...\n",
      "  warnings.warn(\"Your configuration file is out of date. Updating...\")\n"
     ]
    }
   ],
   "source": [
    "%reload_ext autoreload\n",
    "%autoreload 2\n",
    "\n",
    "import os\n",
    "import sys\n",
    "\n",
    "import numpy as np\n",
    "import astropy.units as u\n",
    "import astropy.constants as const\n",
    "from astropy.cosmology import Planck18 as cosmo\n",
    "\n",
    "sys.path.append(os.environ['DH_DIR'])\n",
    "from darkhistory.history.reionization import alphaA_recomb\n",
    "from darkhistory import physics as phys\n",
    "\n",
    "sys.path.append(os.environ['DM21CM_DIR'])\n",
    "from dm21cm.evolve import get_z_edges\n",
    "\n",
    "%matplotlib inline\n",
    "import matplotlib as mpl\n",
    "import matplotlib.pyplot as plt\n",
    "from matplotlib import colormaps as cms\n",
    "mpl.rc_file(\"../matplotlibrc\")"
   ]
  },
  {
   "cell_type": "markdown",
   "metadata": {},
   "source": [
    "### constants"
   ]
  },
  {
   "cell_type": "code",
   "execution_count": 87,
   "metadata": {},
   "outputs": [],
   "source": [
    "YHe = 0.245\n",
    "chi = (YHe/4) / (1 - YHe)\n",
    "f_H = 1 / (1 + chi) # agrees with 21cmFAST 1e-6\n",
    "\n",
    "n_B0 = (cosmo.critical_density0 * cosmo.Ob0 / const.m_p).to('1/cm^3').value\n",
    "n_A0 = 2.0553406318169421e-07"
   ]
  },
  {
   "cell_type": "markdown",
   "metadata": {},
   "source": [
    "### terms"
   ]
  },
  {
   "cell_type": "code",
   "execution_count": 88,
   "metadata": {},
   "outputs": [],
   "source": [
    "def dt_dz(z):\n",
    "    \"\"\"[s]\"\"\"\n",
    "    return 1 / ((1+z) * cosmo.H(z).to('1/s').value)\n",
    "\n",
    "def dxe_dt_recomb(xe_21, z, Tk):\n",
    "    \"\"\"[1/s]\"\"\"\n",
    "    # clumping_factor = 1\n",
    "    # peebles_C = 1\n",
    "    # alpha is in [cm^3 / s]\n",
    "    n_A = n_A0 * (1 + z)**3\n",
    "    return alphaA_recomb('HII', Tk * phys.kB) * xe_21**2 * n_A * f_H"
   ]
  },
  {
   "cell_type": "markdown",
   "metadata": {},
   "source": [
    "### values"
   ]
  },
  {
   "cell_type": "code",
   "execution_count": 89,
   "metadata": {},
   "outputs": [],
   "source": [
    "# before Tk=909.59644 xe=0.023477616\n",
    "# input_heating 0.0\n",
    "# This is commented out: dspec_dzp = - dxe_dzp * T / (1+x_e); need to put it back in\n",
    "# box_ct = 0\n",
    "# dzp = -4.522629e-01\n",
    "# zp = 4.422620e+01\n",
    "# dt_dzp = -5.958076e+13\n",
    "# dadia_dzp * dzp = -1.819196e+01\n",
    "# dspec_dzp * dzp = 0.000000e+00\n",
    "# dcomp_dzp * dzp = -5.101898e+01\n",
    "# dxheat_dzp * dzp = 0.000000e+00\n",
    "# input heating = 0.000000e+00\n",
    "# dxion_source = 0.000000e+00\n",
    "# dxion_sink = 5.577483e-04\n",
    "# T = 9.095964e+02\n",
    "# alpha_A(T) = 2.135282e-12\n",
    "# global_params.CLUMPING_FACTOR = 1.000000e+00\n",
    "# x_e = 2.347762e-02\n",
    "# f_H = 9.249617e-01\n",
    "# prefactor_1 = 1.901315e-02\n",
    "# curr_delNL0 = -2.117730e-06\n",
    "# growth_factor_zp = 2.814553e-02\n",
    "# input ionization = 0.000000e+00"
   ]
  },
  {
   "cell_type": "code",
   "execution_count": 90,
   "metadata": {},
   "outputs": [
    {
     "name": "stdout",
     "output_type": "stream",
     "text": [
      "xe_DH 0.02538225703311258\n",
      "z 44.22620305254949\n"
     ]
    }
   ],
   "source": [
    "# test values\n",
    "xe_21 = xHII = xHeII = 0.023477616\n",
    "xe_DH = xe_21 * (1 + chi)\n",
    "print('xe_DH', xe_DH)\n",
    "Tk = 909.59644 # [K]\n",
    "z_edges = get_z_edges(45, 5, 1.01)\n",
    "z_prev = z_edges[1]\n",
    "z = z_edges[2]\n",
    "z_next = z_edges[3]\n",
    "print('z', z)"
   ]
  },
  {
   "cell_type": "code",
   "execution_count": 91,
   "metadata": {},
   "outputs": [
    {
     "data": {
      "text/plain": [
       "2.0698626023882593e-17"
      ]
     },
     "execution_count": 91,
     "metadata": {},
     "output_type": "execute_result"
    }
   ],
   "source": [
    "dxe_dt_recomb(xe_21, z, Tk)"
   ]
  },
  {
   "cell_type": "code",
   "execution_count": 82,
   "metadata": {},
   "outputs": [
    {
     "data": {
      "text/plain": [
       "2.0698613415150128e-17"
      ]
     },
     "execution_count": 82,
     "metadata": {},
     "output_type": "execute_result"
    }
   ],
   "source": [
    "5.577483e-04 / -4.522629e-01 /  -5.958076e+13"
   ]
  },
  {
   "cell_type": "code",
   "execution_count": null,
   "metadata": {},
   "outputs": [],
   "source": []
  },
  {
   "cell_type": "code",
   "execution_count": 53,
   "metadata": {},
   "outputs": [
    {
     "data": {
      "text/plain": [
       "0.4522620305254961"
      ]
     },
     "execution_count": 53,
     "metadata": {},
     "output_type": "execute_result"
    }
   ],
   "source": [
    "z_edges[1] - z_edges[2]"
   ]
  },
  {
   "cell_type": "code",
   "execution_count": 54,
   "metadata": {},
   "outputs": [
    {
     "data": {
      "text/plain": [
       "44.22620305254949"
      ]
     },
     "execution_count": 54,
     "metadata": {},
     "output_type": "execute_result"
    }
   ],
   "source": [
    "z_edges[2]"
   ]
  },
  {
   "cell_type": "code",
   "execution_count": 51,
   "metadata": {},
   "outputs": [
    {
     "name": "stdout",
     "output_type": "stream",
     "text": [
      "0.4522620305254961\n",
      "0.44778418863910474\n"
     ]
    }
   ],
   "source": [
    "# dz\n",
    "print(z_prev - z)\n",
    "print(z - z_next)"
   ]
  },
  {
   "cell_type": "code",
   "execution_count": 42,
   "metadata": {},
   "outputs": [],
   "source": [
    "dzp = -3.170662e-01\n",
    "zp = 4.467847e+01"
   ]
  },
  {
   "cell_type": "code",
   "execution_count": 45,
   "metadata": {},
   "outputs": [
    {
     "data": {
      "text/plain": [
       "57133033263582.65"
      ]
     },
     "execution_count": 45,
     "metadata": {},
     "output_type": "execute_result"
    }
   ],
   "source": [
    "np.abs(cosmo.age(45) - cosmo.age(z)).to('s').value / (45-z)"
   ]
  },
  {
   "cell_type": "code",
   "execution_count": 60,
   "metadata": {},
   "outputs": [
    {
     "name": "stdout",
     "output_type": "stream",
     "text": [
      "dt_dz = 5.90925788e+13 s\n"
     ]
    }
   ],
   "source": [
    "print(f'dt_dz = {dt_dz(z_edges[2]):.8e} s')"
   ]
  },
  {
   "cell_type": "code",
   "execution_count": 40,
   "metadata": {},
   "outputs": [
    {
     "name": "stdout",
     "output_type": "stream",
     "text": [
      "dxe_dt_21 = 8.04238909e-22 s^-1\n"
     ]
    }
   ],
   "source": [
    "print(f'dxe_dt_recomb = {dxe_dt_recomb(xe_21, z, Tk):.8e} s^-1')"
   ]
  },
  {
   "cell_type": "code",
   "execution_count": 61,
   "metadata": {},
   "outputs": [
    {
     "data": {
      "text/plain": [
       "0.30966"
      ]
     },
     "execution_count": 61,
     "metadata": {},
     "output_type": "execute_result"
    }
   ],
   "source": [
    "cosmo.Om0"
   ]
  },
  {
   "cell_type": "code",
   "execution_count": 65,
   "metadata": {},
   "outputs": [],
   "source": [
    "import py21cmfast as p21c"
   ]
  },
  {
   "cell_type": "code",
   "execution_count": 70,
   "metadata": {},
   "outputs": [],
   "source": [
    "c = p21c.CosmoParams()"
   ]
  },
  {
   "cell_type": "code",
   "execution_count": 69,
   "metadata": {},
   "outputs": [
    {
     "data": {
      "text/plain": [
       "CosmoParams(OMb:0.04897, OMm:0.3096, POWER_INDEX:0.9665, SIGMA_8:0.8102, hlittle:0.6766)"
      ]
     },
     "execution_count": 69,
     "metadata": {},
     "output_type": "execute_result"
    }
   ],
   "source": [
    "a"
   ]
  },
  {
   "cell_type": "code",
   "execution_count": 73,
   "metadata": {},
   "outputs": [
    {
     "data": {
      "text/plain": [
       "(0.0, 8.600000001024455e-05)"
      ]
     },
     "execution_count": 73,
     "metadata": {},
     "output_type": "execute_result"
    }
   ],
   "source": [
    "p21c.global_params.OMn, p21c.global_params.OMr"
   ]
  },
  {
   "cell_type": "code",
   "execution_count": 74,
   "metadata": {},
   "outputs": [],
   "source": [
    "def dt_dz_21(z):\n",
    "    Ho = 2.19265762e-18\n",
    "    Ode0 = 1 - c.OMm - p21c.global_params.OMr\n",
    "    x = np.sqrt( Ode0/c.OMm ) * (1+z)**(-3.0/2.0)\n",
    "    dxdz = np.sqrt( Ode0/c.OMm ) * (1+z)**(-5.0/2.0) * (-3.0/2.0)\n",
    "    const1 = 2 * np.sqrt( 1 + c.OMm/Ode0 ) / (3.0 * Ho)\n",
    "\n",
    "    numer = dxdz * (1 + x*(x**2 + 1)**(-0.5))\n",
    "    denom = x + np.sqrt(x**2 + 1)\n",
    "    return (const1 * numer / denom)"
   ]
  },
  {
   "cell_type": "code",
   "execution_count": 76,
   "metadata": {},
   "outputs": [
    {
     "data": {
      "text/plain": [
       "44.22620305254949"
      ]
     },
     "execution_count": 76,
     "metadata": {},
     "output_type": "execute_result"
    }
   ],
   "source": [
    "z_edges[2]"
   ]
  },
  {
   "cell_type": "code",
   "execution_count": 75,
   "metadata": {},
   "outputs": [
    {
     "data": {
      "text/plain": [
       "-59579997599628.87"
      ]
     },
     "execution_count": 75,
     "metadata": {},
     "output_type": "execute_result"
    }
   ],
   "source": [
    "dt_dz_21(4.422620e+01)"
   ]
  },
  {
   "cell_type": "code",
   "execution_count": null,
   "metadata": {},
   "outputs": [],
   "source": [
    "-5.958076e+13\n",
    "-5.9582559615339.62"
   ]
  }
 ],
 "metadata": {
  "kernelspec": {
   "display_name": "dm21cm",
   "language": "python",
   "name": "python3"
  },
  "language_info": {
   "codemirror_mode": {
    "name": "ipython",
    "version": 3
   },
   "file_extension": ".py",
   "mimetype": "text/x-python",
   "name": "python",
   "nbconvert_exporter": "python",
   "pygments_lexer": "ipython3",
   "version": "3.11.5"
  },
  "orig_nbformat": 4
 },
 "nbformat": 4,
 "nbformat_minor": 2
}
