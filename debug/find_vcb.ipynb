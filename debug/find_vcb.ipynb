{
 "cells": [
  {
   "cell_type": "code",
   "execution_count": 1,
   "id": "4776a0c2",
   "metadata": {},
   "outputs": [
    {
     "name": "stderr",
     "output_type": "stream",
     "text": [
      "/n/home07/yitians/.conda/envs/dm21cm/lib/python3.11/site-packages/halomod/halo_exclusion.py:18: UserWarning: Warning: Some Halo-Exclusion models have significant speedup when using Numba\n",
      "  warnings.warn(\n"
     ]
    }
   ],
   "source": [
    "%reload_ext autoreload\n",
    "%autoreload 2\n",
    "\n",
    "import os\n",
    "import sys\n",
    "import numpy as np\n",
    "from astropy import units as u\n",
    "from astropy import constants as c\n",
    "from astropy.cosmology import Planck18 as cosmo\n",
    "from tqdm import tqdm\n",
    "\n",
    "import jax\n",
    "jax.config.update(\"jax_enable_x64\", True)\n",
    "import jax.numpy as jnp\n",
    "from functools import partial\n",
    "\n",
    "sys.path.append(os.environ['DM21CM_DIR'])\n",
    "from preprocessing.accretion import PBHAccretionModel, Mdot_PR, Mdot_BHL\n",
    "from preprocessing.halo import *\n",
    "# from dm21cm.preprocessing.hmf import *\n",
    "from dm21cm.utils import load_h5_dict\n",
    "\n",
    "sys.path.append(os.environ['DH_DIR'])\n",
    "from darkhistory import physics as dh_phys\n",
    "\n",
    "import matplotlib as mpl\n",
    "import matplotlib.pyplot as plt\n",
    "mpl.rc_file('../matplotlibrc')"
   ]
  },
  {
   "cell_type": "code",
   "execution_count": 2,
   "id": "19926675",
   "metadata": {},
   "outputs": [
    {
     "name": "stderr",
     "output_type": "stream",
     "text": [
      "/n/home07/yitians/.conda/envs/dm21cm/lib/python3.11/site-packages/py21cmfast/_cfg.py:59: UserWarning: Your configuration file is out of date. Updating...\n",
      "  warnings.warn(\n",
      "/n/home07/yitians/.conda/envs/dm21cm/lib/python3.11/site-packages/py21cmfast/_cfg.py:43: UserWarning: Your configuration file is out of date. Updating...\n",
      "  warnings.warn(\"Your configuration file is out of date. Updating...\")\n"
     ]
    },
    {
     "name": "stdout",
     "output_type": "stream",
     "text": [
      "Default cache dir: /n/netscratch/iaifi_lab/Lab/yitians/dm21cm/21cmFAST-cache\n"
     ]
    }
   ],
   "source": [
    "from astropy.cosmology import Planck18\n",
    "import py21cmfast as p21c"
   ]
  },
  {
   "cell_type": "code",
   "execution_count": 6,
   "id": "7eb8f014",
   "metadata": {},
   "outputs": [
    {
     "data": {
      "text/plain": [
       "False"
      ]
     },
     "execution_count": 6,
     "metadata": {},
     "output_type": "execute_result"
    }
   ],
   "source": [
    "user_params = p21c.UserParams(\n",
    "    HII_DIM = 64,\n",
    "    BOX_LEN = 256, # [conformal Mpc]\n",
    "    N_THREADS = 32,\n",
    ")\n",
    "user_params.USE_RELATIVE_VELOCITIES"
   ]
  },
  {
   "cell_type": "code",
   "execution_count": 13,
   "id": "de3c8d14",
   "metadata": {},
   "outputs": [],
   "source": [
    "p21c_astro_params = p21c.AstroParams(\n",
    "    F_STAR10 = -1.25,\n",
    "    F_STAR7_MINI = -2.5,\n",
    "    ALPHA_STAR = 0.5,\n",
    "    ALPHA_STAR_MINI = 0.0,\n",
    "    t_STAR = 0.5,\n",
    "    F_ESC10 = -1.35,\n",
    "    F_ESC7_MINI = -1.35,\n",
    "    ALPHA_ESC = -0.3,\n",
    "    L_X = 40.5,\n",
    "    L_X_MINI = 40.5,\n",
    "    NU_X_THRESH = 500,\n",
    "    A_LW = 2.0,\n",
    ")"
   ]
  },
  {
   "cell_type": "code",
   "execution_count": 15,
   "id": "77443fdb",
   "metadata": {},
   "outputs": [
    {
     "data": {
      "text/plain": [
       "['BOX_LEN',\n",
       " 'DIM',\n",
       " 'FAST_FCOLL_TABLES',\n",
       " 'HII_DIM',\n",
       " 'HII_tot_num_pixels',\n",
       " 'HMF',\n",
       " 'MINIMIZE_MEMORY',\n",
       " 'NO_RNG',\n",
       " 'N_THREADS',\n",
       " 'PERTURB_ON_HIGH_RES',\n",
       " 'POWER_SPECTRUM',\n",
       " 'USE_2LPT',\n",
       " 'USE_FFTW_WISDOM',\n",
       " 'USE_INTERPOLATION_TABLES',\n",
       " 'USE_RELATIVE_VELOCITIES',\n",
       " '_DIM',\n",
       " '_FAST_FCOLL_TABLES',\n",
       " '_HMF',\n",
       " '_POWER_SPECTRUM',\n",
       " '_USE_INTERPOLATION_TABLES',\n",
       " '__call__',\n",
       " '__class__',\n",
       " '__delattr__',\n",
       " '__dict__',\n",
       " '__dir__',\n",
       " '__doc__',\n",
       " '__eq__',\n",
       " '__format__',\n",
       " '__ge__',\n",
       " '__getattribute__',\n",
       " '__getstate__',\n",
       " '__gt__',\n",
       " '__hash__',\n",
       " '__init__',\n",
       " '__init_subclass__',\n",
       " '__le__',\n",
       " '__lt__',\n",
       " '__module__',\n",
       " '__ne__',\n",
       " '__new__',\n",
       " '__reduce__',\n",
       " '__reduce_ex__',\n",
       " '__repr__',\n",
       " '__setattr__',\n",
       " '__sizeof__',\n",
       " '__str__',\n",
       " '__subclasshook__',\n",
       " '__weakref__',\n",
       " '_cstruct',\n",
       " '_defaults_',\n",
       " '_ffi',\n",
       " '_get_name',\n",
       " '_hmf_models',\n",
       " '_name',\n",
       " '_new',\n",
       " '_power_models',\n",
       " 'clone',\n",
       " 'convert',\n",
       " 'defining_dict',\n",
       " 'fieldnames',\n",
       " 'fields',\n",
       " 'get_fieldnames',\n",
       " 'get_fields',\n",
       " 'get_pointer_fields',\n",
       " 'hmf_model',\n",
       " 'pointer_fields',\n",
       " 'power_spectrum_model',\n",
       " 'primitive_fields',\n",
       " 'pystruct',\n",
       " 'refresh_cstruct',\n",
       " 'self',\n",
       " 'tot_fft_num_pixels',\n",
       " 'update']"
      ]
     },
     "execution_count": 15,
     "metadata": {},
     "output_type": "execute_result"
    }
   ],
   "source": [
    "dir(user_params)"
   ]
  },
  {
   "cell_type": "code",
   "execution_count": null,
   "id": "e9ba63b3",
   "metadata": {},
   "outputs": [
    {
     "data": {
      "text/plain": [
       "['OMb',\n",
       " 'OMl',\n",
       " 'OMm',\n",
       " 'POWER_INDEX',\n",
       " 'SIGMA_8',\n",
       " '__call__',\n",
       " '__class__',\n",
       " '__delattr__',\n",
       " '__dict__',\n",
       " '__dir__',\n",
       " '__doc__',\n",
       " '__eq__',\n",
       " '__format__',\n",
       " '__ge__',\n",
       " '__getattribute__',\n",
       " '__getstate__',\n",
       " '__gt__',\n",
       " '__hash__',\n",
       " '__init__',\n",
       " '__init_subclass__',\n",
       " '__le__',\n",
       " '__lt__',\n",
       " '__module__',\n",
       " '__ne__',\n",
       " '__new__',\n",
       " '__reduce__',\n",
       " '__reduce_ex__',\n",
       " '__repr__',\n",
       " '__setattr__',\n",
       " '__sizeof__',\n",
       " '__str__',\n",
       " '__subclasshook__',\n",
       " '__weakref__',\n",
       " '_cstruct',\n",
       " '_defaults_',\n",
       " '_ffi',\n",
       " '_get_name',\n",
       " '_name',\n",
       " '_new',\n",
       " 'clone',\n",
       " 'convert',\n",
       " 'cosmo',\n",
       " 'defining_dict',\n",
       " 'fieldnames',\n",
       " 'fields',\n",
       " 'get_fieldnames',\n",
       " 'get_fields',\n",
       " 'get_pointer_fields',\n",
       " 'hlittle',\n",
       " 'pointer_fields',\n",
       " 'primitive_fields',\n",
       " 'pystruct',\n",
       " 'refresh_cstruct',\n",
       " 'self',\n",
       " 'update']"
      ]
     },
     "execution_count": 12,
     "metadata": {},
     "output_type": "execute_result"
    }
   ],
   "source": [
    "cosmo_params = p21c.CosmoParams(\n",
    "    OMm = Planck18.Om0,\n",
    "    OMb = Planck18.Ob0,\n",
    "    POWER_INDEX = Planck18.meta['n'],\n",
    "    SIGMA_8 = Planck18.meta['sigma8'],\n",
    "    hlittle = Planck18.h,\n",
    ")\n"
   ]
  },
  {
   "cell_type": "code",
   "execution_count": 7,
   "id": "f4d19c6f",
   "metadata": {},
   "outputs": [
    {
     "name": "stderr",
     "output_type": "stream",
     "text": [
      "2025-06-07 14:58:25,658 | WARNING | inputs.py::POWER_SPECTRUM() | Automatically setting POWER_SPECTRUM to 5 (CLASS) as you are using relative velocities\n",
      "2025-06-07 14:58:25,659 | WARNING | inputs.py::POWER_SPECTRUM() | Automatically setting POWER_SPECTRUM to 5 (CLASS) as you are using relative velocities\n"
     ]
    },
    {
     "name": "stderr",
     "output_type": "stream",
     "text": [
      "2025-06-07 14:58:29,218 | WARNING | inputs.py::POWER_SPECTRUM() | Automatically setting POWER_SPECTRUM to 5 (CLASS) as you are using relative velocities\n"
     ]
    }
   ],
   "source": [
    "p21c_initial_conditions = p21c.initial_conditions(\n",
    "    user_params = p21c.UserParams(\n",
    "        HII_DIM = 64,\n",
    "        BOX_LEN = 256, # [conformal Mpc]\n",
    "        N_THREADS = 32,\n",
    "        USE_RELATIVE_VELOCITIES = True,\n",
    "    ),\n",
    "    cosmo_params = p21c.CosmoParams(\n",
    "        OMm = Planck18.Om0,\n",
    "        OMb = Planck18.Ob0,\n",
    "        POWER_INDEX = Planck18.meta['n'],\n",
    "        SIGMA_8 = Planck18.meta['sigma8'],\n",
    "        hlittle = Planck18.h,\n",
    "    ),\n",
    "    random_seed = 12345,\n",
    "    write = True,\n",
    ")"
   ]
  },
  {
   "cell_type": "code",
   "execution_count": 11,
   "id": "7b0c32a4",
   "metadata": {},
   "outputs": [
    {
     "data": {
      "text/plain": [
       "(array([ 5855., 34244., 66658., 70532., 48968., 24489.,  8461.,  2156.,\n",
       "          593.,   188.]),\n",
       " array([ 0.12984851,  6.74490786, 13.35996723, 19.97502708, 26.59008598,\n",
       "        33.20514679, 39.82020569, 46.43526459, 53.05032349, 59.66538239,\n",
       "        66.28044128]),\n",
       " <BarContainer object of 10 artists>)"
      ]
     },
     "execution_count": 11,
     "metadata": {},
     "output_type": "execute_result"
    },
    {
     "data": {
      "image/png": "[encoded data removed]",
      "text/plain": [
       "<Figure size 900x600 with 1 Axes>"
      ]
     },
     "metadata": {},
     "output_type": "display_data"
    }
   ],
   "source": [
    "plt.hist((p21c_initial_conditions.lowres_vcb).flatten())"
   ]
  },
  {
   "cell_type": "code",
   "execution_count": 9,
   "id": "6b98518f",
   "metadata": {},
   "outputs": [
    {
     "data": {
      "text/plain": [
       "(64, 64, 64)"
      ]
     },
     "execution_count": 9,
     "metadata": {},
     "output_type": "execute_result"
    }
   ],
   "source": [
    "p21c_initial_conditions.lowres_vcb.shape"
   ]
  },
  {
   "cell_type": "code",
   "execution_count": null,
   "id": "f06390d4",
   "metadata": {},
   "outputs": [],
   "source": []
  }
 ],
 "metadata": {
  "kernelspec": {
   "display_name": "dm21cm",
   "language": "python",
   "name": "python3"
  },
  "language_info": {
   "codemirror_mode": {
    "name": "ipython",
    "version": 3
   },
   "file_extension": ".py",
   "mimetype": "text/x-python",
   "name": "python",
   "nbconvert_exporter": "python",
   "pygments_lexer": "ipython3",
   "version": "3.11.5"
  }
 },
 "nbformat": 4,
 "nbformat_minor": 5
}
