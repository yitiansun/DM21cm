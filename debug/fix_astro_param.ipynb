{
 "cells": [
  {
   "cell_type": "code",
   "execution_count": 15,
   "id": "d66e0fa4",
   "metadata": {},
   "outputs": [
    {
     "name": "stderr",
     "output_type": "stream",
     "text": [
      "/n/home07/yitians/.conda/envs/dm21cm/lib/python3.11/site-packages/py21cmfast/_cfg.py:59: UserWarning: Your configuration file is out of date. Updating...\n",
      "  warnings.warn(\n",
      "/n/home07/yitians/.conda/envs/dm21cm/lib/python3.11/site-packages/py21cmfast/_cfg.py:43: UserWarning: Your configuration file is out of date. Updating...\n",
      "  warnings.warn(\"Your configuration file is out of date. Updating...\")\n"
     ]
    },
    {
     "name": "stdout",
     "output_type": "stream",
     "text": [
      "Default cache dir: /n/netscratch/iaifi_lab/Lab/yitians/dm21cm/21cmFAST-cache\n"
     ]
    }
   ],
   "source": [
    "%reload_ext autoreload\n",
    "%autoreload 2\n",
    "\n",
    "import os\n",
    "import sys\n",
    "import numpy as np\n",
    "import h5py\n",
    "\n",
    "import py21cmfast as p21c"
   ]
  },
  {
   "cell_type": "code",
   "execution_count": 26,
   "id": "adb7ee25",
   "metadata": {},
   "outputs": [
    {
     "data": {
      "text/plain": [
       "['LightCone_z5.0_HIIDIM=128_BOXLEN=256_fisher_fid_r54321.h5',\n",
       " 'lc_redshifts.npy',\n",
       " 'GS_deriv_CDM_DM.png',\n",
       " 'LightCone_z5.0_HIIDIM=128_BOXLEN=256_fisher_DM_2_r54321.h5',\n",
       " 'params_dict_DM.npy',\n",
       " 'global_signal_deriv_dict_DM.npy',\n",
       " 'LightCone_z5.0_HIIDIM=128_BOXLEN=256_fisher_DM_1_r54321.h5',\n",
       " 'global_signal_dict_DM.npy',\n",
       " 'power_spectrum_dict_DM.npy',\n",
       " 'PS_z_HERA.npy',\n",
       " 'redshifts.npy']"
      ]
     },
     "execution_count": 26,
     "metadata": {},
     "output_type": "execute_result"
    }
   ],
   "source": [
    "input_dir = os.environ['DM21CM_OUTPUT_DIR'] + '/active/pbhacc-PRc23H-250909-raising'\n",
    "os.listdir(output_dir + '/log10m0.000')"
   ]
  },
  {
   "cell_type": "code",
   "execution_count": 30,
   "id": "2ba6a90f",
   "metadata": {},
   "outputs": [
    {
     "name": "stdout",
     "output_type": "stream",
     "text": [
      "Processing log10m = 0.000 ...\n",
      "Processing log10m = 0.500 ...\n",
      "Processing log10m = 1.000 ...\n",
      "Processing log10m = 1.500 ...\n",
      "Processing log10m = 2.000 ...\n",
      "Processing log10m = 2.500 ...\n",
      "Processing log10m = 3.000 ...\n",
      "Processing log10m = 3.500 ...\n",
      "Processing log10m = 4.000 ...\n"
     ]
    }
   ],
   "source": [
    "output_dir = os.environ['DM21CM_OUTPUT_DIR'] + '/active/pbhacc-PRc23H-250909'\n",
    "os.makedirs(output_dir, exist_ok=True)\n",
    "\n",
    "logm_s = np.arange(0., 4.01, 0.5)\n",
    "for logm in logm_s:\n",
    "    print(f'Processing log10m = {logm:.3f} ...')\n",
    "    for inj in [1, 2]:\n",
    "        fn = f'LightCone_z5.0_HIIDIM=128_BOXLEN=256_fisher_DM_{inj}_r54321.h5'\n",
    "        in_dir = input_dir + f'/log10m{logm:.3f}/'\n",
    "        out_dir = output_dir + f'/log10m{logm:.3f}/'\n",
    "        os.makedirs(out_dir, exist_ok=True)\n",
    "        lc = p21c.LightCone.read(in_dir + fn)\n",
    "        lc.astro_params.DM = inj\n",
    "        lc._write(fname=fn, direc=out_dir, clobber=True)"
   ]
  }
 ],
 "metadata": {
  "kernelspec": {
   "display_name": "dm21cm",
   "language": "python",
   "name": "python3"
  },
  "language_info": {
   "codemirror_mode": {
    "name": "ipython",
    "version": 3
   },
   "file_extension": ".py",
   "mimetype": "text/x-python",
   "name": "python",
   "nbconvert_exporter": "python",
   "pygments_lexer": "ipython3",
   "version": "3.11.5"
  }
 },
 "nbformat": 4,
 "nbformat_minor": 5
}
