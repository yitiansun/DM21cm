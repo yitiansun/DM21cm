{
 "cells": [
  {
   "cell_type": "markdown",
   "metadata": {},
   "source": [
    "# II. Simulate energy injection of your favorite model\n",
    "\n",
    "`DM21cm` can take any energy injection of the form\n",
    "$$\\frac{\\mathrm{d}N^{\\gamma,e^\\pm}}{\\mathrm{d}E}(z, E)\\cdot\\Gamma\\big(z, \\delta(\\vec x), T_k(\\vec x), x_e(\\vec x), \\vec x\\big)$$\n",
    "i.e. redshift-dependent $\\gamma$ and $e^\\pm$ spectra, times a redshift & location-dependent injections rate $\\Gamma$."
   ]
  },
  {
   "cell_type": "code",
   "execution_count": null,
   "metadata": {},
   "outputs": [],
   "source": [
    "%reload_ext autoreload\n",
    "%autoreload 2\n",
    "\n",
    "import os\n",
    "import sys\n",
    "\n",
    "import numpy as np\n",
    "from astropy.cosmology import Planck18\n",
    "import py21cmfast as p21c\n",
    "\n",
    "from dm21cm.evolve import evolve\n",
    "from dm21cm.utils import abscs"
   ]
  },
  {
   "cell_type": "markdown",
   "metadata": {},
   "source": [
    "## 1. Building a custom `Injection` object\n",
    "Let's build a dark matter $s$-wave annihilation `Injection` object, with the primary channel $\\chi\\chi\\rightarrow\\mu^-\\mu^+$."
   ]
  },
  {
   "cell_type": "code",
   "execution_count": 10,
   "metadata": {},
   "outputs": [],
   "source": [
    "from dm21cm.injections.base import Injection\n",
    "import dm21cm.physics as phys\n",
    "from darkhistory.spec import pppc\n",
    "\n",
    "import jax.numpy as jnp"
   ]
  },
  {
   "cell_type": "markdown",
   "metadata": {},
   "source": [
    "To define an `Injection` object, one needs to define the following helper functions\n",
    "- `__init__`\n",
    "- `is_injecting_elec`\n",
    "- `get_config`\n",
    "\n",
    "and the injection functions\n",
    "\n",
    "- `inj_rate`\n",
    "- `inj_power`\n",
    "- `inj_phot_spec`\n",
    "- `inj_elec_spec`\n",
    "- `inj_phot_spec_box`\n",
    "- `inj_elec_spec_box`.\n",
    "\n",
    "Note that detailed explanations of the `Injection` can be found in docstrings, such as:"
   ]
  },
  {
   "cell_type": "code",
   "execution_count": 4,
   "metadata": {},
   "outputs": [
    {
     "name": "stdout",
     "output_type": "stream",
     "text": [
      "\u001b[0;31mSignature:\u001b[0m \u001b[0mInjection\u001b[0m\u001b[0;34m.\u001b[0m\u001b[0minj_power\u001b[0m\u001b[0;34m(\u001b[0m\u001b[0mself\u001b[0m\u001b[0;34m,\u001b[0m \u001b[0mz_start\u001b[0m\u001b[0;34m,\u001b[0m \u001b[0mz_end\u001b[0m\u001b[0;34m=\u001b[0m\u001b[0;32mNone\u001b[0m\u001b[0;34m,\u001b[0m \u001b[0mstate\u001b[0m\u001b[0;34m=\u001b[0m\u001b[0;32mNone\u001b[0m\u001b[0;34m)\u001b[0m\u001b[0;34m\u001b[0m\u001b[0;34m\u001b[0m\u001b[0m\n",
      "\u001b[0;31mDocstring:\u001b[0m\n",
      "Injection power density in [eV / pcm^3 s].\n",
      "Used in DarkHistory. Assumes a homogeneous universe.\n",
      "\n",
      "Args:\n",
      "    z_start (float): Starting redshift of the redshift step of injection.\n",
      "    z_end (float, optional): Ending redshift of the redshift step of injection. See details in inj_rate.\n",
      "    state (dict, optional): State of the universe at z_start. Used for rates with feedback.\n",
      "\n",
      "Returns:\n",
      "    float: Injection power per average baryon in [eV / pcm^3 s].\n",
      "\u001b[0;31mFile:\u001b[0m      ~/dm21cm/DM21cm/dm21cm/injections/base.py\n",
      "\u001b[0;31mType:\u001b[0m      function"
     ]
    }
   ],
   "source": [
    "Injection.inj_power?"
   ]
  },
  {
   "cell_type": "markdown",
   "metadata": {},
   "source": [
    "The s-wave annihilation injection event rate, as a function of overdensity $\\delta$, can be expressed as\n",
    "$$\\frac{dN_\\text{inj}}{dVdt}=\\frac{1}{2}\\langle\\sigma v\\rangle_s \\left(\\frac{\\bar\\rho(z)(1+\\delta)}{m_\\chi}\\right)^2 (1+B(z,\\delta)),$$\n",
    "with each event injecting $2m_\\chi$ of energy. $B(z, \\delta)$ is a substructure boost factor."
   ]
  },
  {
   "cell_type": "code",
   "execution_count": 12,
   "metadata": {},
   "outputs": [],
   "source": [
    "class DMSWaveAnnihilationInjection (Injection):\n",
    "    \"\"\"Dark matter s-wave annihilation injection object.\n",
    "    \n",
    "    Args:\n",
    "        primary (str): Primary injection channel. See darkhistory.pppc.get_pppc_spec\n",
    "        m_DM (float): DM mass in [eV].\n",
    "        sigmav (float, optional): Annihilation cross-section in [cm^3 / s].\n",
    "    \"\"\"\n",
    "\n",
    "    def __init__(self, primary=None, m_DM=None, sigmav=None):\n",
    "        self.mode = 'DM s-wave annihilation'\n",
    "        self.primary = primary\n",
    "        self.m_DM = m_DM\n",
    "        self.sigmav = sigmav\n",
    "\n",
    "        # specify fixed injection spectra\n",
    "        self.phot_spec_per_inj = pppc.get_pppc_spec(\n",
    "            self.m_DM, abscs['photE'], self.primary, 'phot', decay=False\n",
    "        ) # [phot / inj] | Use darkhistory's pppc module to get spectra. The spectrum is in N (or dN/dE) per injection event.\n",
    "        self.elec_spec_per_inj = pppc.get_pppc_spec(\n",
    "            self.m_DM, abscs['elecEk'], self.primary, 'elec', decay=False\n",
    "        ) # [elec / inj]\n",
    "\n",
    "    def is_injecting_elec(self):\n",
    "        # Required by DM21cm to decide whether to skip electron injections\n",
    "        return not np.allclose(self.elec_spec_per_inj.N, 0.)\n",
    "    \n",
    "    def get_config(self):\n",
    "        # Required by DM21cm's DarkHistory wrapper to check if cached solution has the correct injection.\n",
    "        return {\n",
    "            'mode': self.mode,\n",
    "            'primary': self.primary,\n",
    "            'm_DM': self.m_DM,\n",
    "            'sigmav': self.sigmav\n",
    "        }\n",
    "\n",
    "    # Optionally add functions, for example:\n",
    "    def boost_factor(self, z):\n",
    "        \"\"\"Your favorite boost factor model for the whole universe.\"\"\"\n",
    "        return 0. # No boost for now.\n",
    "\n",
    "    def boost_factor_cell(self, z, delta):\n",
    "        \"\"\"Your favorite boost factor model for a default DM21cm cell (2 cMpc) with overdensity delta.\"\"\"\n",
    "        return 0. # No boost for now.\n",
    "\n",
    "    #===== injections =====\n",
    "    # Assuming Euler steps. z_end is not used.\n",
    "    def inj_rate(self, z, z_end=None, **kwargs):\n",
    "        # This function is used ONLY in DarkHistory, where the universe is assumed to be homogeneous.\n",
    "        # One XX->YY is one event\n",
    "        rho_DM = phys.rho_DM * (1+z)**3 # [eV / pcm^3] | pcm stands for physical cm\n",
    "        n_DM = rho_DM / self.m_DM # [1 / pcm^3]\n",
    "        return float( 1/2 * n_DM**2 * self.sigmav * (1+self.boost_factor(z)) ) # [inj / pcm^3 s]\n",
    "    \n",
    "    def inj_power(self, z, z_end=None, **kwargs):\n",
    "        # This function is used ONLY in DarkHistory, where the universe is assumed to be homogeneous.\n",
    "        return self.inj_rate(z) * 2 * self.m_DM # [eV / pcm^3 s]\n",
    "    \n",
    "    def inj_phot_spec(self, z, z_end=None, **kwargs):\n",
    "        # This function is used ONLY in DarkHistory, where the universe is assumed to be homogeneous.\n",
    "        return self.phot_spec_per_inj * self.inj_rate(z) # [phot / pcm^3 s]\n",
    "    \n",
    "    def inj_elec_spec(self, z, z_end=None, **kwargs):\n",
    "        # This function is used ONLY in DarkHistory, where the universe is assumed to be homogeneous.\n",
    "        return self.elec_spec_per_inj * self.inj_rate(z) # [elec / pcm^3 s]\n",
    "    \n",
    "    def inj_phot_spec_box(self, z, z_end=None, delta_plus_one_box=None, **kwargs):\n",
    "        # This function is used ONLY in DM21cm.\n",
    "        rho_DM_avg = phys.rho_DM * (1+z)**3 # [eV / pcm^3]\n",
    "        n_DM_avg = rho_DM_avg / self.m_DM # [1 / pcm^3]\n",
    "        inj_rate_box = 1/2 * (n_DM_avg * delta_plus_one_box)**2 * self.sigmav * (1 + self.boost_factor_cell(z, delta_plus_one_box-1))\n",
    "        inj_rate_avg = jnp.mean(inj_rate_box)\n",
    "        return self.inj_phot_spec(z) * float(inj_rate_avg), inj_rate_box / inj_rate_avg # [phot / pcm^3 s], [1]\n",
    "\n",
    "    def inj_elec_spec_box(self, z, z_end=None, delta_plus_one_box=None, **kwargs):\n",
    "        # This function is used ONLY in DM21cm.\n",
    "        rho_DM_avg = phys.rho_DM * (1+z)**3 # [eV / pcm^3]\n",
    "        n_DM_avg = rho_DM_avg / self.m_DM # [1 / pcm^3]\n",
    "        inj_rate_box = 1/2 * (n_DM_avg * delta_plus_one_box)**2 * self.sigmav * (1 + self.boost_factor_cell(z, delta_plus_one_box-1))\n",
    "        inj_rate_avg = jnp.mean(inj_rate_box)\n",
    "        return self.inj_elec_spec(z) * float(inj_rate_avg), inj_rate_box / inj_rate_avg # [elec / pcm^3 s], [1]"
   ]
  },
  {
   "cell_type": "markdown",
   "metadata": {},
   "source": [
    "## 2. After implementing the above methods, pass it into `evolve`"
   ]
  },
  {
   "cell_type": "code",
   "execution_count": null,
   "metadata": {},
   "outputs": [],
   "source": [
    "return_dict = evolve(\n",
    "    run_name = 'test2',\n",
    "    z_start = 45.,\n",
    "    z_end = 5.,\n",
    "    injection = DMSWaveAnnihilationInjection(\n",
    "        primary='mu', # XX-->mu+mu- channel\n",
    "        m_DM=1e10, # [eV]\n",
    "        sigmav=1e-30, # [cm^3 / s]\n",
    "    ),\n",
    "    p21c_initial_conditions = p21c.initial_conditions(\n",
    "        user_params = p21c.UserParams(\n",
    "            HII_DIM = 64,\n",
    "            BOX_LEN = 256, # [conformal Mpc]\n",
    "            N_THREADS = 32,\n",
    "        ),\n",
    "        cosmo_params = p21c.CosmoParams(\n",
    "            OMm = Planck18.Om0,\n",
    "            OMb = Planck18.Ob0,\n",
    "            POWER_INDEX = Planck18.meta['n'],\n",
    "            SIGMA_8 = Planck18.meta['sigma8'],\n",
    "            hlittle = Planck18.h,\n",
    "        ),\n",
    "        random_seed = 12345,\n",
    "        write = True,\n",
    "    ),\n",
    "    p21c_astro_params = p21c.AstroParams(),\n",
    ")"
   ]
  },
  {
   "cell_type": "code",
   "execution_count": null,
   "metadata": {},
   "outputs": [],
   "source": []
  }
 ],
 "metadata": {
  "kernelspec": {
   "display_name": "dm21cm",
   "language": "python",
   "name": "python3"
  },
  "language_info": {
   "codemirror_mode": {
    "name": "ipython",
    "version": 3
   },
   "file_extension": ".py",
   "mimetype": "text/x-python",
   "name": "python",
   "nbconvert_exporter": "python",
   "pygments_lexer": "ipython3",
   "version": "3.11.5"
  }
 },
 "nbformat": 4,
 "nbformat_minor": 2
}
