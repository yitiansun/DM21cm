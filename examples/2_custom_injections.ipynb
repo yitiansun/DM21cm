{
 "cells": [
  {
   "cell_type": "markdown",
   "metadata": {},
   "source": [
    "# II. Simulate energy injection of your favorite model"
   ]
  },
  {
   "cell_type": "code",
   "execution_count": 1,
   "metadata": {},
   "outputs": [],
   "source": [
    "%reload_ext autoreload\n",
    "%autoreload 2\n",
    "\n",
    "import os\n",
    "import sys\n",
    "\n",
    "import numpy as np\n",
    "from astropy.cosmology import Planck18\n",
    "import py21cmfast as p21c\n",
    "\n",
    "WDIR = os.environ['DM21CM_DIR']\n",
    "sys.path.append(WDIR)\n",
    "from dm21cm.evolve import evolve"
   ]
  },
  {
   "cell_type": "markdown",
   "metadata": {},
   "source": [
    "## 1. Define the injection model\n",
    "We take a look at the `Injection` base class, and see what we should change."
   ]
  },
  {
   "cell_type": "code",
   "execution_count": 2,
   "metadata": {},
   "outputs": [],
   "source": [
    "from dm21cm.injections.base import Injection"
   ]
  },
  {
   "cell_type": "code",
   "execution_count": 3,
   "metadata": {},
   "outputs": [
    {
     "name": "stdout",
     "output_type": "stream",
     "text": [
      "\u001b[0;31mInit signature:\u001b[0m \u001b[0mInjection\u001b[0m\u001b[0;34m(\u001b[0m\u001b[0;34m)\u001b[0m\u001b[0;34m\u001b[0m\u001b[0;34m\u001b[0m\u001b[0m\n",
      "\u001b[0;31mDocstring:\u001b[0m     \n",
      "Abstract base class for injections.\n",
      "\n",
      "Methods:\n",
      "    __init__          : Initialization.\n",
      "    set_binning       : Set injection spectra according to binning chosen in dm21cm.evolve.\n",
      "    is_injecting_elec : Whether DM is injecting electron/positron.\n",
      "    get_config        : Get configuration of the injection. Used for reusability checks of cached solutions.\n",
      "\n",
      "    inj_rate          : Injection event rate density.\n",
      "    inj_power         : Injection power density.\n",
      "    inj_phot_spec     : Injected photon rate density spectrum (in a homogeneous universe).\n",
      "    inj_elec_spec     : Injected electron rate density spectrum (in a homogeneous universe).\n",
      "    inj_phot_spec_box : Injected photon rate density spectrum and weight box.\n",
      "    inj_elec_spec_box : Injected electron rate density spectrum and weight box.\n",
      "\u001b[0;31mFile:\u001b[0m           ~/Repositories/DM21cm/dm21cm/injections/base.py\n",
      "\u001b[0;31mType:\u001b[0m           type\n",
      "\u001b[0;31mSubclasses:\u001b[0m     "
     ]
    }
   ],
   "source": [
    "Injection?"
   ]
  },
  {
   "cell_type": "markdown",
   "metadata": {},
   "source": [
    "We just need to specify the following basic functions\n",
    "- `__init__`\n",
    "- `set_binning`\n",
    "- `is_injecting_elec`\n",
    "- `get_config`\n",
    "\n",
    "and the injection functions\n",
    "\n",
    "- `inj_rate`\n",
    "- `inj_power`\n",
    "- `inj_phot_spec`\n",
    "- `inj_elec_spec`\n",
    "- `inj_phot_spec_box`\n",
    "- `inj_elec_spec_box`.\n",
    "\n",
    "To demonstrate, we look at the docstrings of the base class along with implementation of the DM decay injection."
   ]
  },
  {
   "cell_type": "markdown",
   "metadata": {},
   "source": [
    "### 1.1 First, some helper methods"
   ]
  },
  {
   "cell_type": "code",
   "execution_count": 4,
   "metadata": {},
   "outputs": [],
   "source": [
    "abstract_injection = Injection()"
   ]
  },
  {
   "cell_type": "code",
   "execution_count": null,
   "metadata": {},
   "outputs": [],
   "source": [
    "# Initialization of DMDecayInjection\n",
    "def __init__(self, primary=..., m_DM=..., lifetime=...):\n",
    "    self.mode = 'DM decay'\n",
    "    self.primary = primary\n",
    "    self.m_DM = m_DM\n",
    "    self.lifetime = lifetime"
   ]
  },
  {
   "cell_type": "code",
   "execution_count": 5,
   "metadata": {},
   "outputs": [
    {
     "name": "stdout",
     "output_type": "stream",
     "text": [
      "\u001b[0;31mSignature:\u001b[0m \u001b[0mabstract_injection\u001b[0m\u001b[0;34m.\u001b[0m\u001b[0mset_binning\u001b[0m\u001b[0;34m(\u001b[0m\u001b[0mabscs\u001b[0m\u001b[0;34m)\u001b[0m\u001b[0;34m\u001b[0m\u001b[0;34m\u001b[0m\u001b[0m\n",
      "\u001b[0;31mDocstring:\u001b[0m\n",
      "Set injection spectra according to binning chosen in evolve.\n",
      "Called by evolve during initialization.\n",
      "\n",
      "Args:\n",
      "    abscs (dict): Abscissas/binning for the run.\n",
      "\u001b[0;31mFile:\u001b[0m      ~/Repositories/DM21cm/dm21cm/injections/base.py\n",
      "\u001b[0;31mType:\u001b[0m      method"
     ]
    }
   ],
   "source": [
    "abstract_injection.set_binning?"
   ]
  },
  {
   "cell_type": "code",
   "execution_count": null,
   "metadata": {},
   "outputs": [],
   "source": [
    "# Implementation in DMDecayInjection\n",
    "def set_binning(self, abscs):\n",
    "    self.phot_spec_per_inj = pppc.get_pppc_spec(\n",
    "        self.m_DM, abscs['photE'], self.primary, 'phot', decay=True\n",
    "    ) # [phot / inj]\n",
    "    self.elec_spec_per_inj = pppc.get_pppc_spec(\n",
    "        self.m_DM, abscs['elecEk'], self.primary, 'elec', decay=True\n",
    "    ) # [elec / inj]"
   ]
  },
  {
   "cell_type": "code",
   "execution_count": 6,
   "metadata": {},
   "outputs": [
    {
     "name": "stdout",
     "output_type": "stream",
     "text": [
      "\u001b[0;31mSignature:\u001b[0m \u001b[0mabstract_injection\u001b[0m\u001b[0;34m.\u001b[0m\u001b[0mis_injecting_elec\u001b[0m\u001b[0;34m(\u001b[0m\u001b[0;34m)\u001b[0m\u001b[0;34m\u001b[0m\u001b[0;34m\u001b[0m\u001b[0m\n",
      "\u001b[0;31mDocstring:\u001b[0m\n",
      "Whether DM is injecting electron/positron. Used by evolve.\n",
      "\n",
      "Returns:\n",
      "    bool: Whether DM is injecting electron/positron.\n",
      "\u001b[0;31mFile:\u001b[0m      ~/Repositories/DM21cm/dm21cm/injections/base.py\n",
      "\u001b[0;31mType:\u001b[0m      method"
     ]
    }
   ],
   "source": [
    "abstract_injection.is_injecting_elec?"
   ]
  },
  {
   "cell_type": "code",
   "execution_count": null,
   "metadata": {},
   "outputs": [],
   "source": [
    "# Implementation in DMDecayInjection\n",
    "def is_injecting_elec(self):\n",
    "    return not np.allclose(self.elec_spec_per_inj.N, 0.)"
   ]
  },
  {
   "cell_type": "code",
   "execution_count": 7,
   "metadata": {},
   "outputs": [
    {
     "name": "stdout",
     "output_type": "stream",
     "text": [
      "\u001b[0;31mSignature:\u001b[0m \u001b[0mabstract_injection\u001b[0m\u001b[0;34m.\u001b[0m\u001b[0mget_config\u001b[0m\u001b[0;34m(\u001b[0m\u001b[0;34m)\u001b[0m\u001b[0;34m\u001b[0m\u001b[0;34m\u001b[0m\u001b[0m\n",
      "\u001b[0;31mDocstring:\u001b[0m\n",
      "Get configuration of the injection.\n",
      "Used in DM21cm's DarkHistory wrapper to check if cached solution has the correct injection.\n",
      "\n",
      "Returns:\n",
      "    dict: Configuration of the injection.\n",
      "\u001b[0;31mFile:\u001b[0m      ~/Repositories/DM21cm/dm21cm/injections/base.py\n",
      "\u001b[0;31mType:\u001b[0m      method"
     ]
    }
   ],
   "source": [
    "abstract_injection.get_config?"
   ]
  },
  {
   "cell_type": "code",
   "execution_count": null,
   "metadata": {},
   "outputs": [],
   "source": [
    "# Implementation in DMDecayInjection\n",
    "def get_config(self):\n",
    "    return {\n",
    "        'mode': self.mode,\n",
    "        'primary': self.primary,\n",
    "        'm_DM': self.m_DM,\n",
    "        'lifetime': self.lifetime\n",
    "    }"
   ]
  },
  {
   "cell_type": "markdown",
   "metadata": {},
   "source": [
    "### 1.2 Injection functions"
   ]
  },
  {
   "cell_type": "markdown",
   "metadata": {},
   "source": [
    "#### 1.2.1 Overall parameters"
   ]
  },
  {
   "cell_type": "code",
   "execution_count": 8,
   "metadata": {},
   "outputs": [
    {
     "name": "stdout",
     "output_type": "stream",
     "text": [
      "\u001b[0;31mSignature:\u001b[0m \u001b[0mabstract_injection\u001b[0m\u001b[0;34m.\u001b[0m\u001b[0minj_rate\u001b[0m\u001b[0;34m(\u001b[0m\u001b[0mz\u001b[0m\u001b[0;34m)\u001b[0m\u001b[0;34m\u001b[0m\u001b[0;34m\u001b[0m\u001b[0m\n",
      "\u001b[0;31mDocstring:\u001b[0m\n",
      "Injection event rate density in [inj / pcm^3 s].\n",
      "Used in DarkHistory. Assumes a homogeneous universe.\n",
      "If injection cannot be thought of as events, use 1 injection per second.\n",
      "This factor is kept for DarkHistory's API, but will cancel out in the final result.\n",
      "\n",
      "Args:\n",
      "    z (float): (Starting) redshift of the redshift step of injection.\n",
      "\n",
      "Returns:\n",
      "    float: Injection event rate per average baryon in [inj / Bavg s].\n",
      "\u001b[0;31mFile:\u001b[0m      ~/Repositories/DM21cm/dm21cm/injections/base.py\n",
      "\u001b[0;31mType:\u001b[0m      method"
     ]
    }
   ],
   "source": [
    "abstract_injection.inj_rate?\n",
    "#abstract_injection.inj_power?"
   ]
  },
  {
   "cell_type": "code",
   "execution_count": null,
   "metadata": {},
   "outputs": [],
   "source": [
    "# Implementation in DMDecayInjection\n",
    "def inj_rate(self, z):\n",
    "    rho_DM = phys.rho_DM * (1+z)**3 # [eV / pcm^3]\n",
    "    return float((rho_DM/self.m_DM) / self.lifetime) # [inj / pcm^3 s]\n",
    "\n",
    "def inj_power(self, z):\n",
    "    return self.inj_rate(z) * self.m_DM # [eV / pcm^3 s]"
   ]
  },
  {
   "cell_type": "markdown",
   "metadata": {},
   "source": [
    "#### 1.2.2 Injection into a homogeneous universe (for DarkHistory)"
   ]
  },
  {
   "cell_type": "code",
   "execution_count": 9,
   "metadata": {},
   "outputs": [
    {
     "name": "stdout",
     "output_type": "stream",
     "text": [
      "\u001b[0;31mSignature:\u001b[0m \u001b[0mabstract_injection\u001b[0m\u001b[0;34m.\u001b[0m\u001b[0minj_phot_spec\u001b[0m\u001b[0;34m(\u001b[0m\u001b[0mz\u001b[0m\u001b[0;34m,\u001b[0m \u001b[0;34m**\u001b[0m\u001b[0mkwargs\u001b[0m\u001b[0;34m)\u001b[0m\u001b[0;34m\u001b[0m\u001b[0;34m\u001b[0m\u001b[0m\n",
      "\u001b[0;31mDocstring:\u001b[0m\n",
      "Injected photon rate density spectrum assuming a homogeneous universe.\n",
      "Used in DarkHistory.\n",
      "\n",
      "Args:\n",
      "    z (float): (Starting) redshift of the redshift step of injection.\n",
      "\n",
      "Returns:\n",
      "    Spectrum: Injected photon rate spectrum in [spec / pcm^3 s].\n",
      "        Spectrum value 'spec' can be either 'N' (particle in bin) or 'dNdE'.\n",
      "        See darkhistory.spec.spectrum.Spectrum\n",
      "\u001b[0;31mFile:\u001b[0m      ~/Repositories/DM21cm/dm21cm/injections/base.py\n",
      "\u001b[0;31mType:\u001b[0m      method"
     ]
    }
   ],
   "source": [
    "abstract_injection.inj_phot_spec?\n",
    "#abstract_injection.inj_elec_spec?"
   ]
  },
  {
   "cell_type": "code",
   "execution_count": null,
   "metadata": {},
   "outputs": [],
   "source": [
    "# Implementation in DMDecayInjection\n",
    "def inj_phot_spec(self, z, **kwargs):\n",
    "    return self.phot_spec_per_inj * self.inj_rate(z) # [phot / pcm^3 s]\n",
    "\n",
    "def inj_elec_spec(self, z, **kwargs):\n",
    "    return self.elec_spec_per_inj * self.inj_rate(z) # [elec / pcm^3 s]"
   ]
  },
  {
   "cell_type": "markdown",
   "metadata": {},
   "source": [
    "#### 1.2.3 Injection in DM21cm inhomogeneously"
   ]
  },
  {
   "cell_type": "code",
   "execution_count": 10,
   "metadata": {},
   "outputs": [
    {
     "name": "stdout",
     "output_type": "stream",
     "text": [
      "\u001b[0;31mSignature:\u001b[0m \u001b[0mabstract_injection\u001b[0m\u001b[0;34m.\u001b[0m\u001b[0minj_phot_spec_box\u001b[0m\u001b[0;34m(\u001b[0m\u001b[0mz\u001b[0m\u001b[0;34m,\u001b[0m \u001b[0;34m**\u001b[0m\u001b[0mkwargs\u001b[0m\u001b[0;34m)\u001b[0m\u001b[0;34m\u001b[0m\u001b[0;34m\u001b[0m\u001b[0m\n",
      "\u001b[0;31mDocstring:\u001b[0m\n",
      "Injected photon rate density spectrum and weight box.\n",
      "Called in dm21cm.evolve every redshift step.\n",
      "\n",
      "Args:\n",
      "    z (float): (Starting) redshift of the redshift step of injection.\n",
      "\n",
      "Returns:\n",
      "    tuple : (spec, weight_box), where:\n",
      "        spec (Spectrum) : Injected photon rate density spectrum [spec / pcm^3 s].\n",
      "        weight_box (ndarray) : Injection weight box of the above spectrum [1].\n",
      "\n",
      "Note:\n",
      "    The output injection is spec \\otimes weight_box, with spec carrying the units.\n",
      "\u001b[0;31mFile:\u001b[0m      ~/Repositories/DM21cm/dm21cm/injections/base.py\n",
      "\u001b[0;31mType:\u001b[0m      method"
     ]
    }
   ],
   "source": [
    "abstract_injection.inj_phot_spec_box?\n",
    "#abstract_injection.inj_elec_spec_box?"
   ]
  },
  {
   "cell_type": "code",
   "execution_count": null,
   "metadata": {},
   "outputs": [],
   "source": [
    "# Implementation in DMDecayInjection\n",
    "def inj_phot_spec_box(self, z, delta_plus_one_box=..., **kwargs):\n",
    "    return self.inj_phot_spec(z), delta_plus_one_box # [phot / pcm^3 s], [1]\n",
    "\n",
    "def inj_elec_spec_box(self, z, delta_plus_one_box=..., **kwargs):\n",
    "    return self.inj_elec_spec(z), delta_plus_one_box # [elec / pcm^3 s], [1]"
   ]
  },
  {
   "cell_type": "markdown",
   "metadata": {},
   "source": [
    "## 2. After implementing the above methods, pass it into `evolve`"
   ]
  },
  {
   "cell_type": "code",
   "execution_count": null,
   "metadata": {},
   "outputs": [],
   "source": [
    "return_dict = evolve(\n",
    "    run_name = 'test',\n",
    "    z_start = 45.,\n",
    "    z_end = 5.,\n",
    "    subcycle_factor = 10,\n",
    "    dm_params = DMDecayInjection(\n",
    "        primary='phot_delta',\n",
    "        m_DM=1e8, # [eV]\n",
    "        lifetime=1e28, # [s]\n",
    "    ),\n",
    "    p21c_initial_conditions = p21c.initial_conditions(\n",
    "        user_params = p21c.UserParams(\n",
    "            HII_DIM = 64,\n",
    "            BOX_LEN = 256, # [conformal Mpc]\n",
    "            N_THREADS = 32,\n",
    "        ),\n",
    "        cosmo_params = p21c.CosmoParams(\n",
    "            OMm = Planck18.Om0,\n",
    "            OMb = Planck18.Ob0,\n",
    "            POWER_INDEX = Planck18.meta['n'],\n",
    "            SIGMA_8 = Planck18.meta['sigma8'],\n",
    "            hlittle = Planck18.h,\n",
    "        ),\n",
    "        random_seed = 12345,\n",
    "        write = True,\n",
    "    ),\n",
    "    p21c_astro_params = p21c.AstroParams(),\n",
    ")"
   ]
  }
 ],
 "metadata": {
  "kernelspec": {
   "display_name": "dm21cm",
   "language": "python",
   "name": "python3"
  },
  "language_info": {
   "codemirror_mode": {
    "name": "ipython",
    "version": 3
   },
   "file_extension": ".py",
   "mimetype": "text/x-python",
   "name": "python",
   "nbconvert_exporter": "python",
   "pygments_lexer": "ipython3",
   "version": "3.11.5"
  }
 },
 "nbformat": 4,
 "nbformat_minor": 2
}
