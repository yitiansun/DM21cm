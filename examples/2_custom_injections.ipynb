{
 "cells": [
  {
   "cell_type": "markdown",
   "metadata": {},
   "source": [
    "## II. Simulate energy injection of your favorite model"
   ]
  },
  {
   "cell_type": "code",
   "execution_count": 2,
   "metadata": {},
   "outputs": [
    {
     "name": "stderr",
     "output_type": "stream",
     "text": [
      "/n/home07/yitians/.conda/envs/dm21cm/lib/python3.11/site-packages/py21cmfast/_cfg.py:58: UserWarning: Your configuration file is out of date. Updating...\n",
      "  warnings.warn(\n",
      "/n/home07/yitians/.conda/envs/dm21cm/lib/python3.11/site-packages/py21cmfast/_cfg.py:42: UserWarning: Your configuration file is out of date. Updating...\n",
      "  warnings.warn(\"Your configuration file is out of date. Updating...\")\n"
     ]
    }
   ],
   "source": [
    "%reload_ext autoreload\n",
    "%autoreload 2\n",
    "\n",
    "import os\n",
    "import sys\n",
    "\n",
    "import numpy as np\n",
    "from astropy.cosmology import Planck18\n",
    "import py21cmfast as p21c\n",
    "\n",
    "WDIR = os.environ['DM21CM_DIR']\n",
    "sys.path.append(WDIR)\n",
    "from dm21cm.evolve import evolve\n",
    "\n",
    "%matplotlib inline\n",
    "import matplotlib as mpl\n",
    "import matplotlib.pyplot as plt\n",
    "from matplotlib import colormaps as cms\n",
    "mpl.rc_file(f\"{WDIR}/matplotlibrc\")"
   ]
  },
  {
   "cell_type": "markdown",
   "metadata": {},
   "source": [
    "## 1. Define the injection model\n",
    "We take a look at the `Injection` base class, and see what we should change."
   ]
  },
  {
   "cell_type": "code",
   "execution_count": 3,
   "metadata": {},
   "outputs": [],
   "source": [
    "from dm21cm.injections.base import Injection"
   ]
  },
  {
   "cell_type": "code",
   "execution_count": 5,
   "metadata": {},
   "outputs": [
    {
     "name": "stdout",
     "output_type": "stream",
     "text": [
      "\u001b[0;31mInit signature:\u001b[0m \u001b[0mInjection\u001b[0m\u001b[0;34m(\u001b[0m\u001b[0;34m)\u001b[0m\u001b[0;34m\u001b[0m\u001b[0;34m\u001b[0m\u001b[0m\n",
      "\u001b[0;31mDocstring:\u001b[0m     \n",
      "Abstract base class for injections.\n",
      "\n",
      "Methods:\n",
      "    __init__          : Initialization.\n",
      "    set_binning       : Set injection spectra according to binning chosen in dm21cm.evolve.\n",
      "    is_injecting_elec : Whether DM is injecting electron/positron.\n",
      "    get_config        : Get configuration of the injection. Used for reusability checks of cached solutions.\n",
      "\n",
      "    inj_rate          : Injection event rate density.\n",
      "    inj_power         : Injection power density.\n",
      "    inj_phot_spec     : Injected photon rate density spectrum (in a homogeneous universe).\n",
      "    inj_elec_spec     : Injected electron rate density spectrum (in a homogeneous universe).\n",
      "    inj_phot_spec_box : Injected photon rate density spectrum and weight box.\n",
      "    inj_elec_spec_box : Injected electron rate density spectrum and weight box.\n",
      "\u001b[0;31mFile:\u001b[0m           ~/dm21cm/DM21cm/dm21cm/injections/base.py\n",
      "\u001b[0;31mType:\u001b[0m           type\n",
      "\u001b[0;31mSubclasses:\u001b[0m     "
     ]
    }
   ],
   "source": [
    "Injection?"
   ]
  },
  {
   "cell_type": "markdown",
   "metadata": {},
   "source": [
    "We just need to specify the following basic functions `__init__`, `set_binning`, `is_injecting_elec`, `get_config` and the injection `inj_...` functions. \\\n",
    "As a demonstration, we will try to produce the logo simulation, which is a X-ray photon injection modulated by the letters `DM21cm`.\n",
    "The brightness is unphysically boosted to behave like star formation turning on."
   ]
  },
  {
   "cell_type": "code",
   "execution_count": null,
   "metadata": {},
   "outputs": [],
   "source": []
  },
  {
   "cell_type": "code",
   "execution_count": null,
   "metadata": {},
   "outputs": [],
   "source": []
  },
  {
   "cell_type": "code",
   "execution_count": null,
   "metadata": {},
   "outputs": [],
   "source": []
  },
  {
   "cell_type": "code",
   "execution_count": null,
   "metadata": {},
   "outputs": [],
   "source": []
  },
  {
   "cell_type": "code",
   "execution_count": null,
   "metadata": {},
   "outputs": [],
   "source": [
    "p21c_initial_conditions = p21c.initial_conditions(\n",
    "    user_params = p21c.UserParams(\n",
    "        HII_DIM = 64,\n",
    "        BOX_LEN = 256, # [conformal Mpc]\n",
    "        N_THREADS = 32,\n",
    "    ),\n",
    "    cosmo_params = p21c.CosmoParams(\n",
    "        OMm = Planck18.Om0,\n",
    "        OMb = Planck18.Ob0,\n",
    "        POWER_INDEX = Planck18.meta['n'],\n",
    "        SIGMA_8 = Planck18.meta['sigma8'],\n",
    "        hlittle = Planck18.h,\n",
    "    ),\n",
    "    random_seed = 12345,\n",
    "    write = True,\n",
    ")\n",
    "\n",
    "p21c_astro_params = p21c.AstroParams(\n",
    "    F_STAR10 = -1.25,\n",
    "    F_STAR7_MINI = -2.5,\n",
    "    ALPHA_STAR = 0.5,\n",
    "    ALPHA_STAR_MINI = 0.0,\n",
    "    t_STAR = 0.5,\n",
    "    F_ESC10 = -1.35,\n",
    "    F_ESC7_MINI = -1.35,\n",
    "    ALPHA_ESC = -0.3,\n",
    "    L_X = 40.5,\n",
    "    L_X_MINI = 40.5,\n",
    "    NU_X_THRESH = 500,\n",
    "    A_LW = 2.0,\n",
    ")\n",
    "\n",
    "# optionally set global parameters\n",
    "p21c.global_params.CLUMPING_FACTOR = 1."
   ]
  }
 ],
 "metadata": {
  "kernelspec": {
   "display_name": "dm21cm",
   "language": "python",
   "name": "python3"
  },
  "language_info": {
   "codemirror_mode": {
    "name": "ipython",
    "version": 3
   },
   "file_extension": ".py",
   "mimetype": "text/x-python",
   "name": "python",
   "nbconvert_exporter": "python",
   "pygments_lexer": "ipython3",
   "version": "3.11.5"
  }
 },
 "nbformat": 4,
 "nbformat_minor": 2
}
