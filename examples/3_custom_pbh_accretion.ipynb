{
 "cells": [
  {
   "cell_type": "markdown",
   "id": "b393f4ff",
   "metadata": {},
   "source": [
    "# III. Precomputing your favorite PBH accretion emission model"
   ]
  },
  {
   "cell_type": "markdown",
   "id": "5af4f4a9",
   "metadata": {},
   "source": [
    "In 2509.22772, we explored a set of PBH accretion models as variations to base models $\\textbf{PR}$ and $\\textbf{BHL}$, based on Park and Ricotti (2013) and the Bondi-Hoyle-Lyttleton accretion model respectively, with the emission mechanism based on the hot Advection-Dominated Accretion Flow (ADAF) model. We have demonstrated that model variations to both the accretion and the emission model can impact the modification to the $T_{21}$ power spectrum, and hence the projected sensitivity for HERA. Here, we provide the reader with a guide to run `DM21cm` with alternative modeling choices to further explore the modeling variations."
   ]
  },
  {
   "cell_type": "markdown",
   "id": "80f407ba",
   "metadata": {},
   "source": [
    "# 1. Modify existing `PBHAccretionModel` options"
   ]
  },
  {
   "cell_type": "code",
   "execution_count": null,
   "id": "51494588",
   "metadata": {},
   "outputs": [],
   "source": [
    "%reload_ext autoreload\n",
    "%autoreload 2\n",
    "\n",
    "from dm21cm.precompute.accretion import PBHAccretionModel"
   ]
  },
  {
   "cell_type": "markdown",
   "id": "89f1a3ce",
   "metadata": {},
   "source": [
    "The options for `PBHAccretionModel` can be viewed in the docstring:"
   ]
  },
  {
   "cell_type": "code",
   "execution_count": 2,
   "id": "51494588",
   "metadata": {},
   "outputs": [
    {
     "name": "stdout",
     "output_type": "stream",
     "text": [
      "\u001b[0;31mInit signature:\u001b[0m\n",
      "\u001b[0mPBHAccretionModel\u001b[0m\u001b[0;34m(\u001b[0m\u001b[0;34m\u001b[0m\n",
      "\u001b[0;34m\u001b[0m    \u001b[0mmodel\u001b[0m\u001b[0;34m,\u001b[0m\u001b[0;34m\u001b[0m\n",
      "\u001b[0;34m\u001b[0m    \u001b[0mc_in\u001b[0m\u001b[0;34m=\u001b[0m\u001b[0;36m23\u001b[0m\u001b[0;34m,\u001b[0m\u001b[0;34m\u001b[0m\n",
      "\u001b[0;34m\u001b[0m    \u001b[0mlambda_fudge\u001b[0m\u001b[0;34m=\u001b[0m\u001b[0;36m1\u001b[0m\u001b[0;34m,\u001b[0m\u001b[0;34m\u001b[0m\n",
      "\u001b[0;34m\u001b[0m    \u001b[0mv_rel_type\u001b[0m\u001b[0;34m=\u001b[0m\u001b[0;34m'DMRest'\u001b[0m\u001b[0;34m,\u001b[0m\u001b[0;34m\u001b[0m\n",
      "\u001b[0;34m\u001b[0m    \u001b[0mdelta_e\u001b[0m\u001b[0;34m=\u001b[0m\u001b[0;36m0.1\u001b[0m\u001b[0;34m,\u001b[0m\u001b[0;34m\u001b[0m\n",
      "\u001b[0;34m\u001b[0m\u001b[0;34m)\u001b[0m\u001b[0;34m\u001b[0m\u001b[0;34m\u001b[0m\u001b[0m\n",
      "\u001b[0;31mDocstring:\u001b[0m      <no docstring>\n",
      "\u001b[0;31mInit docstring:\u001b[0m\n",
      "PBH accretion emission model.\n",
      "\n",
      "Args:\n",
      "    model (str): supports 'PR-ADAF', 'BHL-ADAF', 'PRHALO-ADAF'.\n",
      "    c_in (float): Sound speed inside the I-front [km/s] in PR models. Required for PR models.\n",
      "    lambda_fudge (float): Fudge factor in front of Mdot. Required for BHL models.\n",
      "    v_rel_type {'DMDM', 'DMRest'}: Velocity distribution option.\n",
      "        'DMDM'   - DM-DM relative velocity distribution function.\n",
      "        'DMRest' - DM-rest frame relative velocity distribution function (default).\n",
      "    delta_e (float): ADAF electron heating fraction. Default is 0.1.\n",
      "\u001b[0;31mFile:\u001b[0m           ~/dm21cm/DM21cm/src/dm21cm/precompute/accretion.py\n",
      "\u001b[0;31mType:\u001b[0m           type\n",
      "\u001b[0;31mSubclasses:\u001b[0m     "
     ]
    }
   ],
   "source": [
    "PBHAccretionModel?"
   ]
  },
  {
   "cell_type": "markdown",
   "id": "caebcede",
   "metadata": {},
   "source": [
    "For example, we can combine the effect of a decreased interior sound speed $c_\\text{in}$, and an increased electron heating fraction $\\delta_e$ (i.e. combining $\\textbf{PR}$-$c_\\text{in}^-$ and $\\textbf{PR}$-$\\delta_e^+$, see text in Sec. III of 2509.22772), by doing:"
   ]
  },
  {
   "cell_type": "code",
   "execution_count": 3,
   "id": "7e38c73e",
   "metadata": {},
   "outputs": [],
   "source": [
    "am = PBHAccretionModel(model='PR-ADAF', c_in=14, delta_e=0.5)"
   ]
  },
  {
   "cell_type": "markdown",
   "id": "ee6998af",
   "metadata": {},
   "source": [
    "One can then put this line in the `===== Initialization =====` section of [build_pbhacc_tables.py](../src/dm21cm/precompute/scripts/build_pbhacc_tables.py), and run the script."
   ]
  },
  {
   "cell_type": "markdown",
   "id": "19e2c278",
   "metadata": {},
   "source": [
    "# 2. Defining a fully custom model"
   ]
  },
  {
   "cell_type": "markdown",
   "id": "cabc9f2f",
   "metadata": {},
   "source": [
    "A custom model only requires the following functions `L_halo`, `L_cosmo_density`, `L_cosmo_density_vcbavg` to be used in [build_pbhacc_tables.py](../src/dm21cm/precompute/scripts/build_pbhacc_tables.py). The script vectorizes some of this functions itself. Use `jnp` in place of `np` for mathematical operations."
   ]
  },
  {
   "cell_type": "code",
   "execution_count": null,
   "id": "db8e8a1a",
   "metadata": {},
   "outputs": [],
   "source": [
    "import jax.numpy as jnp\n",
    "\n",
    "class MyPBHAccretionModel:\n",
    "\n",
    "    def L_halo(self, m_PBH, m_halo, c_halo, z):\n",
    "        \"\"\"Total PBH accretion luminosity in a halo [M_sun/yr]\n",
    "        \n",
    "        Args:\n",
    "            m_PBH (float): Mass of the PBH [M_sun]\n",
    "            m_halo (float): Mass of the halo [M_sun]\n",
    "            c_halo (float): Halo concentration parameter\n",
    "            z (float): Redshift\n",
    "        \"\"\"\n",
    "        return jnp.sin(m_PBH)**2 + jnp.cos(m_halo)**2 # dummy example\n",
    "\n",
    "    def L_cosmo_density(self, m_PBH, z, rho_dm, rho_b_inf, c_inf, v_cb):\n",
    "        \"\"\"PBH accretion luminosity conformal density [M_sun/yr/cMpc^3] for unbound PBHs\n",
    "        \n",
    "        Args:\n",
    "            z (float): Redshift\n",
    "            rho_dm (float): DM density (need to account for f_collapsed) [M_sun/cMpc^3]\n",
    "            rho_b_inf (float): Ambient gas density [g/cm^3]\n",
    "            c_inf (float): Ambient gas sound speed [km/s]\n",
    "            v_cb (float): DM-baryon streaming velocity [km/s]\n",
    "        \"\"\"\n",
    "        return 0.\n",
    "\n",
    "    def L_cosmo_density_vcbavg(self, m_PBH, z, rho_dm, rho_b_inf, c_inf):\n",
    "        \"\"\"PBH accretion luminosity conformal density [M_sun/yr/cMpc^3] for unbound PBHs (vcb averaged)\n",
    "        \n",
    "        Args:\n",
    "            z (float): Redshift\n",
    "            rho_dm (float): DM density (need to account for f_collapsed) [M_sun/cMpc^3]\n",
    "            rho_b_inf (float): Ambient gas density [g/cm^3]\n",
    "            c_inf (float): Ambient gas sound speed [km/s]\n",
    "        \"\"\"\n",
    "        return 0."
   ]
  }
 ],
 "metadata": {
  "kernelspec": {
   "display_name": "dm21cm",
   "language": "python",
   "name": "python3"
  },
  "language_info": {
   "codemirror_mode": {
    "name": "ipython",
    "version": 3
   },
   "file_extension": ".py",
   "mimetype": "text/x-python",
   "name": "python",
   "nbconvert_exporter": "python",
   "pygments_lexer": "ipython3",
   "version": "3.11.5"
  }
 },
 "nbformat": 4,
 "nbformat_minor": 5
}
