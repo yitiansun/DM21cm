{
 "cells": [
  {
   "cell_type": "markdown",
   "id": "b393f4ff",
   "metadata": {},
   "source": [
    "# III. Precomputing your favorite PBH accretion emission model (WIP)"
   ]
  },
  {
   "cell_type": "markdown",
   "id": "5af4f4a9",
   "metadata": {},
   "source": []
  }
 ],
 "metadata": {
  "language_info": {
   "name": "python"
  }
 },
 "nbformat": 4,
 "nbformat_minor": 5
}
