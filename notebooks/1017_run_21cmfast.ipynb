{
 "cells": [
  {
   "cell_type": "code",
   "execution_count": 1,
   "metadata": {},
   "outputs": [
    {
     "name": "stderr",
     "output_type": "stream",
     "text": [
      "/n/home07/yitians/.conda/envs/dm21cm/lib/python3.11/site-packages/py21cmfast/_cfg.py:58: UserWarning: Your configuration file is out of date. Updating...\n",
      "  warnings.warn(\n",
      "/n/home07/yitians/.conda/envs/dm21cm/lib/python3.11/site-packages/py21cmfast/_cfg.py:42: UserWarning: Your configuration file is out of date. Updating...\n",
      "  warnings.warn(\"Your configuration file is out of date. Updating...\")\n"
     ]
    }
   ],
   "source": [
    "%reload_ext autoreload\n",
    "%autoreload 2\n",
    "\n",
    "import os\n",
    "import sys\n",
    "\n",
    "import h5py\n",
    "import numpy as np\n",
    "from astropy.cosmology import Planck18\n",
    "\n",
    "import py21cmfast as p21c\n",
    "\n",
    "WDIR = os.environ['DM21CM_DIR']\n",
    "sys.path.append(WDIR)\n",
    "from dm21cm.utils import abscs\n",
    "from dm21cm.evolve import get_z_edges\n",
    "\n",
    "%matplotlib inline\n",
    "import matplotlib as mpl\n",
    "import matplotlib.pyplot as plt\n",
    "from matplotlib import colormaps as cms\n",
    "mpl.rc_file(f\"{WDIR}/matplotlibrc\")"
   ]
  },
  {
   "cell_type": "code",
   "execution_count": 2,
   "metadata": {},
   "outputs": [
    {
     "name": "stdout",
     "output_type": "stream",
     "text": [
      "/n/holyscratch01/iaifi_lab/yitians/dm21cm/21cmFAST-cache\n"
     ]
    },
    {
     "name": "stdout",
     "output_type": "stream",
     "text": [
      "pwave_cmp_20241014_log10m8.500_injm2  test\n",
      "pwave_cmp_20241014_log10m9.000_injm1\n"
     ]
    }
   ],
   "source": [
    "! echo $P21C_CACHE_DIR\n",
    "! ls $P21C_CACHE_DIR"
   ]
  },
  {
   "cell_type": "code",
   "execution_count": 3,
   "metadata": {},
   "outputs": [],
   "source": [
    "! rm -rf $P21C_CACHE_DIR/test"
   ]
  },
  {
   "cell_type": "code",
   "execution_count": 4,
   "metadata": {},
   "outputs": [
    {
     "name": "stderr",
     "output_type": "stream",
     "text": [
      "/n/home07/yitians/.conda/envs/dm21cm/lib/python3.11/site-packages/py21cmfast/inputs.py:487: UserWarning: The USE_INTERPOLATION_TABLES setting has changed in v3.1.2 to be default True. You can likely ignore this warning, but if you relied onhaving USE_INTERPOLATION_TABLES=False by *default*, please set it explicitly. To silence this warning, set it explicitly to True. Thiswarning will be removed in v4.\n",
      "  warnings.warn(\n"
     ]
    }
   ],
   "source": [
    "run_name = 'test'\n",
    "subcycle_factor = 10\n",
    "z_start = 45.\n",
    "z_end = 5.\n",
    "box_dim = 32\n",
    "box_len = 256. # [Mpc]\n",
    "n_threads = 32\n",
    "\n",
    "EPSILON = 1e-6\n",
    "\n",
    "cache_dir = os.environ['P21C_CACHE_DIR'] + '/' + run_name\n",
    "p21c.config['direc'] = cache_dir\n",
    "\n",
    "p21c_initial_conditions = p21c.initial_conditions(\n",
    "    user_params = p21c.UserParams(\n",
    "        HII_DIM = box_dim,\n",
    "        BOX_LEN = box_len, # [conformal Mpc]\n",
    "        N_THREADS = n_threads,\n",
    "        USE_RELATIVE_VELOCITIES = True,\n",
    "    ),\n",
    "    cosmo_params = p21c.CosmoParams(\n",
    "        OMm = Planck18.Om0,\n",
    "        OMb = Planck18.Ob0,\n",
    "        POWER_INDEX = Planck18.meta['n'],\n",
    "        SIGMA_8 = Planck18.meta['sigma8'],\n",
    "        hlittle = Planck18.h,\n",
    "    ),\n",
    "    random_seed = 54321,\n",
    "    write = True,\n",
    ")\n",
    "\n",
    "p21c.global_params.Z_HEAT_MAX = z_start# + EPSILON\n",
    "p21c.global_params.ZPRIME_STEP_FACTOR = abscs['zplusone_step_factor'] ** subcycle_factor\n",
    "\n",
    "z_edges_coarse = get_z_edges(z_start, z_end, p21c.global_params.ZPRIME_STEP_FACTOR) # steps for 21cmFAST\n",
    "z_edges = get_z_edges(z_edges_coarse[0]+EPSILON, z_end, abscs['zplusone_step_factor'])[1:] # steps for DM21cm, with the same first and last redshifts as z_edges_coarse\n",
    "\n",
    "z_edges_coarse = np.around(z_edges_coarse, decimals = 10) # roundoff to avoid floating point issues, the same is done in 21cmFAST\n",
    "z_edges = np.around(z_edges, decimals = 10)\n",
    "scrollz = z_edges_coarse.copy() # used in lightcone construction"
   ]
  },
  {
   "cell_type": "code",
   "execution_count": 5,
   "metadata": {},
   "outputs": [
    {
     "name": "stdout",
     "output_type": "stream",
     "text": [
      "InitialConditions_9ecd27b9b129095906fc37120d7b611a_r54321.h5\n"
     ]
    }
   ],
   "source": [
    "! ls $P21C_CACHE_DIR/test"
   ]
  },
  {
   "cell_type": "code",
   "execution_count": 6,
   "metadata": {},
   "outputs": [],
   "source": [
    "perturbed_field = p21c.perturb_field(redshift=z_edges_coarse[0], init_boxes=p21c_initial_conditions, write=True)"
   ]
  },
  {
   "cell_type": "code",
   "execution_count": 7,
   "metadata": {},
   "outputs": [
    {
     "name": "stdout",
     "output_type": "stream",
     "text": [
      "InitialConditions_9ecd27b9b129095906fc37120d7b611a_r54321.h5\n",
      "PerturbedField_464f99ac270d0333a7a75e3eca4a3d4c_r54321.h5\n"
     ]
    }
   ],
   "source": [
    "! ls $P21C_CACHE_DIR/test"
   ]
  },
  {
   "cell_type": "code",
   "execution_count": 8,
   "metadata": {},
   "outputs": [],
   "source": [
    "spin_temp = None\n",
    "ionized_box = None\n",
    "astro_params = p21c.AstroParams()\n",
    "input_heating = None\n",
    "input_ionization = None\n",
    "input_jalpha = None\n",
    "\n",
    "spin_temp = p21c.spin_temperature(\n",
    "    perturbed_field = perturbed_field,\n",
    "    previous_spin_temp = spin_temp,\n",
    "    input_heating_box = input_heating,\n",
    "    input_ionization_box = input_ionization,\n",
    "    input_jalpha_box = input_jalpha,\n",
    "    astro_params = astro_params,\n",
    ")\n",
    "\n",
    "ionized_box = p21c.ionize_box(\n",
    "    perturbed_field = perturbed_field,\n",
    "    previous_ionize_box = ionized_box,\n",
    "    spin_temp = spin_temp,\n",
    "    astro_params = astro_params,\n",
    ")\n",
    "\n",
    "brightness_temp = p21c.brightness_temperature(\n",
    "    ionized_box = ionized_box,\n",
    "    perturbed_field = perturbed_field,\n",
    "    spin_temp = spin_temp,\n",
    ")"
   ]
  },
  {
   "cell_type": "code",
   "execution_count": 9,
   "metadata": {},
   "outputs": [
    {
     "name": "stdout",
     "output_type": "stream",
     "text": [
      "BrightnessTemp_a98ea1b3826c9b1a29f5375ec58b4b4c_r54321.h5\n",
      "InitialConditions_9ecd27b9b129095906fc37120d7b611a_r54321.h5\n",
      "IonizedBox_4d710fe16b18cdc6599b43862154cca9_r54321.h5\n",
      "PerturbedField_464f99ac270d0333a7a75e3eca4a3d4c_r54321.h5\n",
      "TsBox_ba995307d034b4ab96f257e5d8b4e3a2_r54321.h5\n"
     ]
    }
   ],
   "source": [
    "! ls $P21C_CACHE_DIR/test"
   ]
  },
  {
   "cell_type": "code",
   "execution_count": 19,
   "metadata": {},
   "outputs": [
    {
     "data": {
      "text/plain": [
       "['compute',\n",
       " 'cosmo_params',\n",
       " 'dummy',\n",
       " 'ensure_arrays_computed',\n",
       " 'ensure_arrays_inited',\n",
       " 'ensure_input_computed',\n",
       " 'exists',\n",
       " 'fieldnames',\n",
       " 'fields',\n",
       " 'filename',\n",
       " 'find_existing',\n",
       " 'from_file',\n",
       " 'get_fieldnames',\n",
       " 'get_fields',\n",
       " 'get_pointer_fields',\n",
       " 'get_required_input_arrays',\n",
       " 'hires_density',\n",
       " 'hires_vx',\n",
       " 'hires_vx_2LPT',\n",
       " 'hires_vy',\n",
       " 'hires_vy_2LPT',\n",
       " 'hires_vz',\n",
       " 'hires_vz_2LPT',\n",
       " 'initial',\n",
       " 'is_computed',\n",
       " 'load_all',\n",
       " 'lowres_density',\n",
       " 'lowres_vcb',\n",
       " 'lowres_vx',\n",
       " 'lowres_vx_2LPT',\n",
       " 'lowres_vy',\n",
       " 'lowres_vy_2LPT',\n",
       " 'lowres_vz',\n",
       " 'lowres_vz_2LPT',\n",
       " 'patch_version',\n",
       " 'path',\n",
       " 'pointer_fields',\n",
       " 'prepare',\n",
       " 'prepare_for_perturb',\n",
       " 'prepare_for_spin_temp',\n",
       " 'primitive_fields',\n",
       " 'purge',\n",
       " 'random_seed',\n",
       " 'read',\n",
       " 'refresh_cstruct',\n",
       " 'save',\n",
       " 'summarize',\n",
       " 'user_params',\n",
       " 'version',\n",
       " 'write',\n",
       " 'write_data_to_hdf5_group']"
      ]
     },
     "execution_count": 19,
     "metadata": {},
     "output_type": "execute_result"
    }
   ],
   "source": [
    "[n for n in dir(p21c_initial_conditions) if not n.startswith('_')]"
   ]
  },
  {
   "cell_type": "code",
   "execution_count": 23,
   "metadata": {},
   "outputs": [
    {
     "data": {
      "text/plain": [
       "<matplotlib.colorbar.Colorbar at 0x7f3473254e10>"
      ]
     },
     "execution_count": 23,
     "metadata": {},
     "output_type": "execute_result"
    },
    {
     "data": {
      "image/png": "[encoded data removed]",
      "text/plain": [
       "<Figure size 900x600 with 2 Axes>"
      ]
     },
     "metadata": {},
     "output_type": "display_data"
    }
   ],
   "source": [
    "plt.imshow(p21c_initial_conditions.lowres_vcb[0], origin='lower')\n",
    "plt.colorbar()"
   ]
  },
  {
   "cell_type": "code",
   "execution_count": 17,
   "metadata": {},
   "outputs": [
    {
     "data": {
      "text/plain": [
       "['brightness_temp']"
      ]
     },
     "execution_count": 17,
     "metadata": {},
     "output_type": "execute_result"
    }
   ],
   "source": [
    "brightness_temp.fieldnames"
   ]
  },
  {
   "cell_type": "code",
   "execution_count": 18,
   "metadata": {},
   "outputs": [
    {
     "data": {
      "text/plain": [
       "{'density': 'PerturbedField',\n",
       " 'velocity': 'PerturbedField',\n",
       " 'Ts_box': 'TsBox',\n",
       " 'x_e_box': 'TsBox',\n",
       " 'Tk_box': 'TsBox',\n",
       " 'J_21_LW_box': 'TsBox',\n",
       " 'xH_box': 'IonizedBox',\n",
       " 'Gamma12_box': 'IonizedBox',\n",
       " 'MFP_box': 'IonizedBox',\n",
       " 'z_re_box': 'IonizedBox',\n",
       " 'dNrec_box': 'IonizedBox',\n",
       " 'temp_kinetic_all_gas': 'IonizedBox',\n",
       " 'Fcoll': 'IonizedBox',\n",
       " 'Fcoll_MINI': 'IonizedBox',\n",
       " 'brightness_temp': 'BrightnessTemp',\n",
       " 'input_heating': 'InputHeating',\n",
       " 'input_ionization': 'InputIonization',\n",
       " 'input_jalpha': 'InputJAlpha',\n",
       " 'lowres_density': 'InitialConditions',\n",
       " 'lowres_vx': 'InitialConditions',\n",
       " 'lowres_vy': 'InitialConditions',\n",
       " 'lowres_vz': 'InitialConditions',\n",
       " 'lowres_vx_2LPT': 'InitialConditions',\n",
       " 'lowres_vy_2LPT': 'InitialConditions',\n",
       " 'lowres_vz_2LPT': 'InitialConditions',\n",
       " 'hires_density': 'InitialConditions',\n",
       " 'hires_vx': 'InitialConditions',\n",
       " 'hires_vy': 'InitialConditions',\n",
       " 'hires_vz': 'InitialConditions',\n",
       " 'hires_vx_2LPT': 'InitialConditions',\n",
       " 'hires_vy_2LPT': 'InitialConditions',\n",
       " 'hires_vz_2LPT': 'InitialConditions',\n",
       " 'lowres_vcb': 'InitialConditions'}"
      ]
     },
     "execution_count": 18,
     "metadata": {},
     "output_type": "execute_result"
    }
   ],
   "source": [
    "p21c.get_all_fieldnames(as_dict=True)"
   ]
  },
  {
   "cell_type": "code",
   "execution_count": 13,
   "metadata": {},
   "outputs": [
    {
     "data": {
      "text/plain": [
       "{'density': <_cffi_backend.CField at 0x7f34ba9ebd20>,\n",
       " 'velocity': <_cffi_backend.CField at 0x7f34ba9e88a0>}"
      ]
     },
     "execution_count": 13,
     "metadata": {},
     "output_type": "execute_result"
    }
   ],
   "source": [
    "perturbed_field.fields"
   ]
  },
  {
   "cell_type": "markdown",
   "metadata": {},
   "source": [
    "# step=1"
   ]
  },
  {
   "cell_type": "code",
   "execution_count": 24,
   "metadata": {},
   "outputs": [],
   "source": [
    "perturbed_field = p21c.perturb_field(redshift=z_edges_coarse[1], init_boxes=p21c_initial_conditions)"
   ]
  },
  {
   "cell_type": "code",
   "execution_count": 25,
   "metadata": {},
   "outputs": [],
   "source": [
    "spin_temp = p21c.spin_temperature(\n",
    "    perturbed_field = perturbed_field,\n",
    "    previous_spin_temp = spin_temp,\n",
    "    input_heating_box = input_heating,\n",
    "    input_ionization_box = input_ionization,\n",
    "    input_jalpha_box = input_jalpha,\n",
    "    astro_params = astro_params,\n",
    ")\n",
    "\n",
    "ionized_box = p21c.ionize_box(\n",
    "    perturbed_field = perturbed_field,\n",
    "    previous_ionize_box = ionized_box,\n",
    "    spin_temp = spin_temp,\n",
    "    astro_params = astro_params,\n",
    ")\n",
    "\n",
    "brightness_temp = p21c.brightness_temperature(\n",
    "    ionized_box = ionized_box,\n",
    "    perturbed_field = perturbed_field,\n",
    "    spin_temp = spin_temp,\n",
    ")"
   ]
  },
  {
   "cell_type": "code",
   "execution_count": 29,
   "metadata": {},
   "outputs": [
    {
     "data": {
      "text/plain": [
       "{'first_box': <_cffi_backend.CField at 0x7f3474e8b690>,\n",
       " 'mean_f_coll': <_cffi_backend.CField at 0x7f3474e8b6c0>,\n",
       " 'mean_f_coll_MINI': <_cffi_backend.CField at 0x7f3474e8b780>,\n",
       " 'log10_Mturnover_ave': <_cffi_backend.CField at 0x7f34ba9ea640>,\n",
       " 'log10_Mturnover_MINI_ave': <_cffi_backend.CField at 0x7f34ba9e9170>,\n",
       " 'xH_box': <_cffi_backend.CField at 0x7f34ba9ea790>,\n",
       " 'Gamma12_box': <_cffi_backend.CField at 0x7f34ba9eab50>,\n",
       " 'MFP_box': <_cffi_backend.CField at 0x7f34ba9e8810>,\n",
       " 'z_re_box': <_cffi_backend.CField at 0x7f34ba9e95c0>,\n",
       " 'dNrec_box': <_cffi_backend.CField at 0x7f34ba9e8510>,\n",
       " 'temp_kinetic_all_gas': <_cffi_backend.CField at 0x7f34ba9e8450>,\n",
       " 'Fcoll': <_cffi_backend.CField at 0x7f34ba9eb990>,\n",
       " 'Fcoll_MINI': <_cffi_backend.CField at 0x7f34ba9ea880>}"
      ]
     },
     "execution_count": 29,
     "metadata": {},
     "output_type": "execute_result"
    }
   ],
   "source": [
    "ionized_box.fields"
   ]
  },
  {
   "cell_type": "code",
   "execution_count": null,
   "metadata": {},
   "outputs": [],
   "source": []
  }
 ],
 "metadata": {
  "kernelspec": {
   "display_name": "dm21cm",
   "language": "python",
   "name": "python3"
  },
  "language_info": {
   "codemirror_mode": {
    "name": "ipython",
    "version": 3
   },
   "file_extension": ".py",
   "mimetype": "text/x-python",
   "name": "python",
   "nbconvert_exporter": "python",
   "pygments_lexer": "ipython3",
   "version": "3.11.5"
  }
 },
 "nbformat": 4,
 "nbformat_minor": 2
}
