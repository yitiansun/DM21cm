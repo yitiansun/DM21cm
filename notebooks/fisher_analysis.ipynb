{
 "cells": [
  {
   "cell_type": "code",
   "execution_count": 1,
   "metadata": {},
   "outputs": [
    {
     "name": "stderr",
     "output_type": "stream",
     "text": [
      "/n/home07/yitians/.conda/envs/dm21cm/lib/python3.11/site-packages/py21cmfast/_cfg.py:58: UserWarning: Your configuration file is out of date. Updating...\n",
      "  warnings.warn(\n",
      "/n/home07/yitians/.conda/envs/dm21cm/lib/python3.11/site-packages/py21cmfast/_cfg.py:42: UserWarning: Your configuration file is out of date. Updating...\n",
      "  warnings.warn(\"Your configuration file is out of date. Updating...\")\n"
     ]
    }
   ],
   "source": [
    "import py21cmfish as p21fish\n",
    "import numpy as np\n",
    "import shutil\n",
    "\n",
    "import matplotlib as mpl\n",
    "import matplotlib.pyplot as plt\n",
    "\n",
    "from py21cmfish.power_spectra import *\n",
    "from py21cmfish.io import *\n",
    "from scipy import stats\n",
    "from IPython.display import clear_output"
   ]
  },
  {
   "cell_type": "markdown",
   "metadata": {},
   "source": [
    "# Set up 21cmFISH with Standard Astrophysics"
   ]
  },
  {
   "cell_type": "code",
   "execution_count": 3,
   "metadata": {
    "scrolled": false
   },
   "outputs": [
    {
     "name": "stdout",
     "output_type": "stream",
     "text": [
      "Done\n"
     ]
    }
   ],
   "source": [
    "noise_dir = '21cmSense_fid_EOS21/'\n",
    "data_dir = '/n/holyscratch01/iaifi_lab/yitians/dm21cm/prod_outputs/bkg/LightCones/'\n",
    "print('Loading data from',data_dir)\n",
    "\n",
    "\n",
    "astro_params_vary = ['DM', 'F_STAR10', 'F_STAR7_MINI', 'ALPHA_STAR', 'ALPHA_STAR_MINI', 't_STAR',\n",
    "                     'F_ESC10', 'F_ESC7_MINI', 'ALPHA_ESC', 'L_X', 'L_X_MINI', 'NU_X_THRESH', 'A_LW'\n",
    "                    ]\n",
    "default_param_values = [0, -1.25, -2.5, 0.5, 0.0, 0.5, -1.35, -1.35, -0.3, 40.5, 40.5, 500, 2.0]\n",
    "\n",
    "astro_params_vary = list(np.array(astro_params_vary))\n",
    "default_param_values = default_param_values\n",
    "astro_params_fid = dict()\n",
    "for i in range(len(astro_params_vary)):\n",
    "    astro_params_fid[astro_params_vary[i]] = default_param_values[i]\n",
    "    \n",
    "    \n",
    "# Load each parameter into a dictionary\n",
    "params_EoS = {}\n",
    "\n",
    "for param in astro_params_vary[1:]:\n",
    "    params_EoS[param] = p21fish.Parameter(HII_DIM=128, BOX_LEN=256, param=param,\n",
    "                                          output_dir=data_dir,\n",
    "                                          PS_err_dir=noise_dir,\n",
    "                                          new=False)\n",
    "clear_output()\n",
    "print('Done')"
   ]
  },
  {
   "cell_type": "code",
   "execution_count": 4,
   "metadata": {},
   "outputs": [
    {
     "data": {
      "text/plain": [
       "{'F_STAR10': <py21cmfish.params.Parameter at 0x7fa83bd7e890>,\n",
       " 'F_STAR7_MINI': <py21cmfish.params.Parameter at 0x7fa83c1469d0>,\n",
       " 'ALPHA_STAR': <py21cmfish.params.Parameter at 0x7fa83c127010>,\n",
       " 'ALPHA_STAR_MINI': <py21cmfish.params.Parameter at 0x7fa80aa6f190>,\n",
       " 't_STAR': <py21cmfish.params.Parameter at 0x7fa80aa6d950>,\n",
       " 'F_ESC10': <py21cmfish.params.Parameter at 0x7fa80aac0e10>,\n",
       " 'F_ESC7_MINI': <py21cmfish.params.Parameter at 0x7fa80aac1910>,\n",
       " 'ALPHA_ESC': <py21cmfish.params.Parameter at 0x7fa80abcb410>,\n",
       " 'L_X': <py21cmfish.params.Parameter at 0x7fa80ab9bb90>,\n",
       " 'L_X_MINI': <py21cmfish.params.Parameter at 0x7fa83c127890>,\n",
       " 'NU_X_THRESH': <py21cmfish.params.Parameter at 0x7fa86d332650>,\n",
       " 'A_LW': <py21cmfish.params.Parameter at 0x7fa80abb0210>}"
      ]
     },
     "execution_count": 4,
     "metadata": {},
     "output_type": "execute_result"
    }
   ],
   "source": [
    "params_EoS"
   ]
  },
  {
   "cell_type": "markdown",
   "metadata": {},
   "source": [
    "# Do the Analysis At Each Mass"
   ]
  },
  {
   "cell_type": "code",
   "execution_count": 5,
   "metadata": {},
   "outputs": [
    {
     "name": "stdout",
     "output_type": "stream",
     "text": [
      "[-10.          -6.52287875  -2.           0.        ]\n"
     ]
    }
   ],
   "source": [
    "# The DM masses we use [eV\\]\n",
    "masses = np.array([15, 16, 17, 18], dtype=float)\n",
    "\n",
    "# Lifetime scales calibrated for the Fisher Information\n",
    "log_lifetimes = np.array([28.327, 28.793, 29.023, 29.053, 28.919, 28.656, 28.300, 27.887, 27.452, 27.032, 26.662])\n",
    "log_f_s = np.log10(np.array([1e-10, 3e-7, 1e-2, 1e0]))\n",
    "print(log_f_s)"
   ]
  },
  {
   "cell_type": "code",
   "execution_count": 6,
   "metadata": {},
   "outputs": [
    {
     "data": {
      "text/plain": [
       "'/n/holyscratch01/iaifi_lab/yitians/dm21cm/prod_outputs/bkg/LightCones/'"
      ]
     },
     "execution_count": 6,
     "metadata": {},
     "output_type": "execute_result"
    }
   ],
   "source": [
    "data_dir"
   ]
  },
  {
   "cell_type": "code",
   "execution_count": 7,
   "metadata": {},
   "outputs": [],
   "source": [
    "dm_dir = '/n/holyscratch01/iaifi_lab/yitians/dm21cm/prod_outputs/pbh'"
   ]
  },
  {
   "cell_type": "code",
   "execution_count": 8,
   "metadata": {},
   "outputs": [
    {
     "data": {
      "text/plain": [
       "['Mass_0', 'Mass_3', 'Mass_2', 'Mass_1']"
      ]
     },
     "execution_count": 8,
     "metadata": {},
     "output_type": "execute_result"
    }
   ],
   "source": [
    "os.listdir(dm_dir)"
   ]
  },
  {
   "cell_type": "code",
   "execution_count": 9,
   "metadata": {},
   "outputs": [
    {
     "name": "stdout",
     "output_type": "stream",
     "text": [
      "Done\n"
     ]
    }
   ],
   "source": [
    "# Gotta put the fiducial in each mass directory\n",
    "for i in range(len(masses)):\n",
    "    print(i)\n",
    "\n",
    "    shutil.copyfile(f'{data_dir}/LightCone_z5.0_HIIDIM=128_BOXLEN=256_fisher_fid_r54321.h5',\n",
    "                    f'{dm_dir}/Mass_'+str(i) + '/LightCones/LightCone_z5.0_HIIDIM=128_BOXLEN=256_fisher_fid_r54321.h5')\n",
    "    \n",
    "clear_output()\n",
    "print('Done')"
   ]
  },
  {
   "cell_type": "code",
   "execution_count": 10,
   "metadata": {},
   "outputs": [
    {
     "data": {
      "text/plain": [
       "{'F_STAR10': <py21cmfish.params.Parameter at 0x7fa83bd7e890>,\n",
       " 'F_STAR7_MINI': <py21cmfish.params.Parameter at 0x7fa83c1469d0>,\n",
       " 'ALPHA_STAR': <py21cmfish.params.Parameter at 0x7fa83c127010>,\n",
       " 'ALPHA_STAR_MINI': <py21cmfish.params.Parameter at 0x7fa80aa6f190>,\n",
       " 't_STAR': <py21cmfish.params.Parameter at 0x7fa80aa6d950>,\n",
       " 'F_ESC10': <py21cmfish.params.Parameter at 0x7fa80aac0e10>,\n",
       " 'F_ESC7_MINI': <py21cmfish.params.Parameter at 0x7fa80aac1910>,\n",
       " 'ALPHA_ESC': <py21cmfish.params.Parameter at 0x7fa80abcb410>,\n",
       " 'L_X': <py21cmfish.params.Parameter at 0x7fa80ab9bb90>,\n",
       " 'L_X_MINI': <py21cmfish.params.Parameter at 0x7fa83c127890>,\n",
       " 'NU_X_THRESH': <py21cmfish.params.Parameter at 0x7fa86d332650>,\n",
       " 'A_LW': <py21cmfish.params.Parameter at 0x7fa80abb0210>}"
      ]
     },
     "execution_count": 10,
     "metadata": {},
     "output_type": "execute_result"
    }
   ],
   "source": [
    "params_EoS"
   ]
  },
  {
   "cell_type": "code",
   "execution_count": 13,
   "metadata": {},
   "outputs": [
    {
     "data": {
      "text/plain": [
       "['DM',\n",
       " 'F_STAR10',\n",
       " 'F_STAR7_MINI',\n",
       " 'ALPHA_STAR',\n",
       " 'ALPHA_STAR_MINI',\n",
       " 't_STAR',\n",
       " 'F_ESC10',\n",
       " 'F_ESC7_MINI',\n",
       " 'ALPHA_ESC',\n",
       " 'L_X',\n",
       " 'L_X_MINI',\n",
       " 'NU_X_THRESH',\n",
       " 'A_LW']"
      ]
     },
     "execution_count": 13,
     "metadata": {},
     "output_type": "execute_result"
    }
   ],
   "source": [
    "astro_params_vary"
   ]
  },
  {
   "cell_type": "code",
   "execution_count": 12,
   "metadata": {},
   "outputs": [
    {
     "data": {
      "text/plain": [
       "['DM',\n",
       " 'F_STAR10',\n",
       " 'F_STAR7_MINI',\n",
       " 'ALPHA_STAR',\n",
       " 'ALPHA_STAR_MINI',\n",
       " 't_STAR',\n",
       " 'F_ESC10',\n",
       " 'F_ESC7_MINI',\n",
       " 'ALPHA_ESC',\n",
       " 'L_X',\n",
       " 'L_X_MINI',\n",
       " 'NU_X_THRESH',\n",
       " 'A_LW']"
      ]
     },
     "execution_count": 12,
     "metadata": {},
     "output_type": "execute_result"
    }
   ],
   "source": [
    "astro_params_vary"
   ]
  },
  {
   "cell_type": "code",
   "execution_count": 14,
   "metadata": {},
   "outputs": [
    {
     "data": {
      "text/plain": [
       "['global_signal_dict_F_STAR10.npy',\n",
       " 'PS_deriv_DM_CDM.png',\n",
       " 'LightCone_z5.0_HIIDIM=128_BOXLEN=256_fisher_DM_1_r54321.h5',\n",
       " 'global_signal_dict_DM.npy',\n",
       " 'PS_z_HERA.npy',\n",
       " 'LightCone_z5.0_HIIDIM=128_BOXLEN=256_fisher_fid_r54321.h5',\n",
       " 'GS_deriv_CDM_DM.png',\n",
       " 'redshifts.npy',\n",
       " 'LightCone_z5.0_HIIDIM=128_BOXLEN=256_fisher_DM_2_r54321.h5',\n",
       " 'params_dict_DM.npy',\n",
       " 'power_spectrum_deriv_dict_DM.npy',\n",
       " 'power_spectrum_dict_DM.npy',\n",
       " 'global_signal_deriv_dict_DM.npy',\n",
       " 'params_dict_F_STAR10.npy',\n",
       " 'lc_redshifts.npy',\n",
       " 'power_spectrum_fid_21cmsense.npy']"
      ]
     },
     "execution_count": 14,
     "metadata": {},
     "output_type": "execute_result"
    }
   ],
   "source": [
    "os.listdir(f'{dm_dir}/Mass_'+str(mass_index)+'/LightCones/')"
   ]
  },
  {
   "cell_type": "code",
   "execution_count": null,
   "metadata": {
    "scrolled": true
   },
   "outputs": [],
   "source": [
    "lims = []\n",
    "\n",
    "for mass_index in np.arange(len(masses)):\n",
    "    par = log_f_s[mass_index]\n",
    "    \n",
    "    for param in astro_params_vary:\n",
    "        params_EoS[param] = p21fish.Parameter(HII_DIM=128, BOX_LEN=256, param=param,\n",
    "                                              output_dir=f'{dm_dir}/Mass_'+str(mass_index)+'/LightCones/',\n",
    "                                              PS_err_dir=noise_dir, new = False)\n",
    "        # break\n",
    "\n",
    "    \n",
    "    Fij_matrix_PS, Finv_PS= p21fish.make_fisher_matrix(params_EoS,\n",
    "                                                   fisher_params=astro_params_vary,\n",
    "                                                   hpeak=0.0, obs='PS',\n",
    "                                                   k_min=0.1, k_max=1,\n",
    "                                                   sigma_mod_frac=0.2,\n",
    "                                                   add_sigma_poisson=True, )\n",
    "    lims.append(1 / (stats.chi2.ppf(.9, df = 1)**.5*np.sqrt(Finv_PS[0, 0]) * 10**(-par)))\n",
    "\n",
    "clear_output()\n",
    "print('Done')"
   ]
  },
  {
   "cell_type": "code",
   "execution_count": 6,
   "metadata": {},
   "outputs": [],
   "source": [
    "np.save('./Results.npy', np.vstack((masses, lims)))"
   ]
  }
 ],
 "metadata": {
  "kernelspec": {
   "display_name": "dm21cm",
   "language": "python",
   "name": "python3"
  },
  "language_info": {
   "codemirror_mode": {
    "name": "ipython",
    "version": 3
   },
   "file_extension": ".py",
   "mimetype": "text/x-python",
   "name": "python",
   "nbconvert_exporter": "python",
   "pygments_lexer": "ipython3",
   "version": "3.11.5"
  }
 },
 "nbformat": 4,
 "nbformat_minor": 4
}
