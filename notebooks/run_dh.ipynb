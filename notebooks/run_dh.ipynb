{
 "cells": [
  {
   "cell_type": "code",
   "execution_count": 5,
   "metadata": {},
   "outputs": [],
   "source": [
    "%reload_ext autoreload\n",
    "%autoreload 2\n",
    "\n",
    "import os\n",
    "import sys\n",
    "import pickle\n",
    "\n",
    "sys.path.append(\"..\")\n",
    "from dm21cm.dm_params import DMParams\n",
    "import dm21cm.physics as phys\n",
    "\n",
    "sys.path.append(os.environ['DH_DIR'])\n",
    "from darkhistory.main import evolve as evolve_DH\n",
    "from darkhistory.config import load_data"
   ]
  },
  {
   "cell_type": "code",
   "execution_count": 2,
   "metadata": {},
   "outputs": [],
   "source": [
    "# phph\n",
    "dm_params = DMParams(\n",
    "    mode = 'decay',\n",
    "    primary = 'phot_delta',\n",
    "    m_DM = 1e3, # [eV]\n",
    "    lifetime = 10**28.821, #[s]\n",
    ")"
   ]
  },
  {
   "cell_type": "code",
   "execution_count": 4,
   "metadata": {},
   "outputs": [],
   "source": [
    "# ee\n",
    "dm_params = DMParams(\n",
    "    mode = 'decay',\n",
    "    primary = 'elec_delta',\n",
    "    m_DM = 1e8, # [eV]\n",
    "    lifetime = 1e26, #[s]\n",
    ")"
   ]
  },
  {
   "cell_type": "code",
   "execution_count": 3,
   "metadata": {},
   "outputs": [],
   "source": [
    "# off\n",
    "dm_params = DMParams(\n",
    "    mode = 'decay',\n",
    "    primary = 'phot_delta',\n",
    "    m_DM = 1e8, # [eV]\n",
    "    lifetime = 1e50, #[s]\n",
    ")"
   ]
  },
  {
   "cell_type": "code",
   "execution_count": 3,
   "metadata": {},
   "outputs": [
    {
     "name": "stderr",
     "output_type": "stream",
     "text": [
      "100%|██████████| 534/534 [01:30<00:00,  5.88it/s]\n"
     ]
    }
   ],
   "source": [
    "run_name = 'test_dh'\n",
    "\n",
    "soln = evolve_DH(\n",
    "    DM_process=dm_params.mode, mDM=dm_params.m_DM,\n",
    "    primary=dm_params.primary,\n",
    "    sigmav=dm_params.sigmav, lifetime=dm_params.lifetime,\n",
    "    struct_boost=dm_params.struct_boost,\n",
    "    start_rs=3000, end_rs=4.+1, coarsen_factor=12, verbose=1,\n",
    "    # use fake reionization to get case-A recomb. coeff.\n",
    "    reion_switch=True, reion_rs=47.,\n",
    "    photoion_rate_func=[lambda x: 0., lambda x: 0., lambda x: 0.],\n",
    "    photoheat_rate_func=[lambda x: 0., lambda x: 0., lambda x: 0.],\n",
    "    # cross_check_21cmfast=True,\n",
    "    # cross_check_21cmfast_tf_version=tf_version,\n",
    "    # debug_inject_ST_xray=False,\n",
    ")\n",
    "\n",
    "pickle.dump(soln, open(f\"{os.environ['DM21CM_DIR']}/outputs/dh/{run_name}_soln.p\", 'wb'))"
   ]
  },
  {
   "cell_type": "code",
   "execution_count": 7,
   "metadata": {},
   "outputs": [],
   "source": [
    "import matplotlib.pyplot as plt"
   ]
  },
  {
   "cell_type": "code",
   "execution_count": 14,
   "metadata": {},
   "outputs": [],
   "source": [
    "save_dict = {\n",
    "    'z' : soln['rs'] - 1,\n",
    "    'Tk' : soln['Tm']/phys.kB,\n",
    "    'xHII' : soln['x'][:,0],\n",
    "    'xHeII' : soln['x'][:,0]/phys.chi,\n",
    "}"
   ]
  },
  {
   "cell_type": "code",
   "execution_count": 15,
   "metadata": {},
   "outputs": [],
   "source": [
    "pickle.dump(save_dict, open(\"dh.p\", 'wb'))"
   ]
  },
  {
   "cell_type": "code",
   "execution_count": null,
   "metadata": {},
   "outputs": [],
   "source": [
    "data = pickle.load(open(\"dh.p\", 'rb'))\n",
    "plt.plot(data['z'], data['Tk']) # [K]"
   ]
  },
  {
   "cell_type": "code",
   "execution_count": 9,
   "metadata": {},
   "outputs": [
    {
     "data": {
      "text/plain": [
       "[]"
      ]
     },
     "execution_count": 9,
     "metadata": {},
     "output_type": "execute_result"
    },
    {
     "data": {
      "image/png": "[encoded data removed]",
      "text/plain": [
       "<Figure size 640x480 with 1 Axes>"
      ]
     },
     "metadata": {},
     "output_type": "display_data"
    }
   ],
   "source": [
    "plt.plot(soln['rs'], soln['Tm']/phys.kB)\n",
    "plt.loglog()"
   ]
  },
  {
   "cell_type": "code",
   "execution_count": null,
   "metadata": {},
   "outputs": [],
   "source": []
  }
 ],
 "metadata": {
  "kernelspec": {
   "display_name": "dm21cm",
   "language": "python",
   "name": "python3"
  },
  "language_info": {
   "codemirror_mode": {
    "name": "ipython",
    "version": 3
   },
   "file_extension": ".py",
   "mimetype": "text/x-python",
   "name": "python",
   "nbconvert_exporter": "python",
   "pygments_lexer": "ipython3",
   "version": "3.11.5"
  }
 },
 "nbformat": 4,
 "nbformat_minor": 2
}
