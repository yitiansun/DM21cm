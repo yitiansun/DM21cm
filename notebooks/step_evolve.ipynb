{
 "cells": [
  {
   "cell_type": "code",
   "execution_count": 1,
   "metadata": {},
   "outputs": [
    {
     "name": "stderr",
     "output_type": "stream",
     "text": [
      "/n/home07/yitians/.conda/envs/dm21cm/lib/python3.11/site-packages/py21cmfast/_cfg.py:58: UserWarning: Your configuration file is out of date. Updating...\n",
      "  warnings.warn(\n",
      "/n/home07/yitians/.conda/envs/dm21cm/lib/python3.11/site-packages/py21cmfast/_cfg.py:42: UserWarning: Your configuration file is out of date. Updating...\n",
      "  warnings.warn(\"Your configuration file is out of date. Updating...\")\n"
     ]
    }
   ],
   "source": [
    "import os\n",
    "import sys\n",
    "import logging\n",
    "import gc\n",
    "\n",
    "import numpy as np\n",
    "from scipy import interpolate\n",
    "from astropy.cosmology import Planck18\n",
    "import astropy.units as u\n",
    "\n",
    "from jax import config\n",
    "config.update(\"jax_enable_x64\", True)\n",
    "import jax.numpy as jnp\n",
    "\n",
    "import py21cmfast as p21c\n",
    "from py21cmfast import cache_tools\n",
    "\n",
    "sys.path.append(os.environ['DH_DIR'])\n",
    "from darkhistory.spec.spectrum import Spectrum\n",
    "\n",
    "sys.path.append(os.environ['DM21CM_DIR'])\n",
    "import dm21cm.physics as phys\n",
    "from dm21cm.dh_wrappers import DarkHistoryWrapper, TransferFunctionWrapper\n",
    "from dm21cm.utils import load_h5_dict\n",
    "from dm21cm.data_cacher import Cacher\n",
    "from dm21cm.profiler import Profiler\n",
    "\n",
    "logging.getLogger().setLevel(logging.INFO)\n",
    "logging.getLogger('21cmFAST').setLevel(logging.CRITICAL+1)\n",
    "logging.getLogger('py21cmfast._utils').setLevel(logging.CRITICAL+1)\n",
    "logging.getLogger('py21cmfast.wrapper').setLevel(logging.CRITICAL+1)"
   ]
  },
  {
   "cell_type": "code",
   "execution_count": 2,
   "metadata": {},
   "outputs": [],
   "source": [
    "from dm21cm.evolve import get_z_edges, split_xray, gen_injection_boxes, p21c_step"
   ]
  },
  {
   "cell_type": "code",
   "execution_count": 3,
   "metadata": {},
   "outputs": [
    {
     "name": "stderr",
     "output_type": "stream",
     "text": [
      "/n/home07/yitians/.conda/envs/dm21cm/lib/python3.11/site-packages/py21cmfast/inputs.py:487: UserWarning: The USE_INTERPOLATION_TABLES setting has changed in v3.1.2 to be default True. You can likely ignore this warning, but if you relied onhaving USE_INTERPOLATION_TABLES=False by *default*, please set it explicitly. To silence this warning, set it explicitly to True. Thiswarning will be removed in v4.\n",
      "  warnings.warn(\n"
     ]
    }
   ],
   "source": [
    "from dm21cm.dm_params import DMParams\n",
    "\n",
    "run_name = 'step_test'\n",
    "\n",
    "os.environ['DM21CM_DATA_DIR'] = '/n/holyscratch01/iaifi_lab/yitians/dm21cm/DM21cm/data/tf/zf01-nopropxray/data'\n",
    "\n",
    "# set global params\n",
    "p21c.global_params.CLUMPING_FACTOR = 1.\n",
    "p21c.global_params.Pop2_ion = 0.\n",
    "\n",
    "\n",
    "run_name = run_name\n",
    "z_start = 45.\n",
    "z_end = 5.\n",
    "dm_params = DMParams(\n",
    "    mode='decay',\n",
    "    primary='phot_delta',\n",
    "    m_DM=1.1e4, # [eV]\n",
    "    lifetime=1e26, # [s]\n",
    ")\n",
    "enable_elec = False\n",
    "\n",
    "p21c_initial_conditions = p21c.initial_conditions(\n",
    "    user_params = p21c.UserParams(\n",
    "        HII_DIM = 32,\n",
    "        BOX_LEN = 32 * 2, # [conformal Mpc]\n",
    "        N_THREADS = 32,\n",
    "    ),\n",
    "    cosmo_params = p21c.CosmoParams(\n",
    "        OMm = Planck18.Om0,\n",
    "        OMb = Planck18.Ob0,\n",
    "        POWER_INDEX = Planck18.meta['n'],\n",
    "        #SIGMA_8 = Planck18.meta['sigma8'],\n",
    "        SIGMA_8 = 1e-6,\n",
    "        hlittle = Planck18.h,\n",
    "    ),\n",
    "    random_seed = 54321,\n",
    "    write = True,\n",
    ")\n",
    "p21c_astro_params = p21c.AstroParams(L_X = 0.) # log10 value\n",
    "\n",
    "clear_cache = True\n",
    "tf_on_device = True\n",
    "\n",
    "debug_all_bath = False\n",
    "\n",
    "# defaults\n",
    "use_DH_init=True\n",
    "rerun_DH=False\n",
    "use_tqdm=True\n",
    "no_injection=False"
   ]
  },
  {
   "cell_type": "code",
   "execution_count": 4,
   "metadata": {},
   "outputs": [
    {
     "name": "stderr",
     "output_type": "stream",
     "text": [
      "INFO:root:Using 21cmFAST version 0.1.dev1595+gf14ec0d.d20231113\n",
      "INFO:root:Cache dir: /n/holyscratch01/iaifi_lab/yitians/21cmFAST-cache/step_test\n",
      "INFO:jax._src.xla_bridge:Unable to initialize backend 'rocm': NOT_FOUND: Could not find registered platform with name: \"rocm\". Available platform names are: Interpreter CUDA\n",
      "INFO:jax._src.xla_bridge:Unable to initialize backend 'tpu': module 'jaxlib.xla_extension' has no attribute 'get_tpu_client'\n",
      "INFO:root:TransferFunctionWrapper: Loaded photon transfer functions.\n",
      "INFO:root:TransferFunctionWrapper: Skipping electron transfer functions.\n",
      "INFO:root:DarkHistoryWrapper: Found existing DarkHistory initial conditions.\n"
     ]
    }
   ],
   "source": [
    "logging.info(f'Using 21cmFAST version {p21c.__version__}')\n",
    "\n",
    "#===== data and cache =====\n",
    "data_dir = os.environ['DM21CM_DATA_DIR']\n",
    "cache_dir = os.environ['P21C_CACHE_DIR'] + '/' + run_name\n",
    "p21c.config['direc'] = cache_dir\n",
    "logging.info(f\"Cache dir: {cache_dir}\")\n",
    "os.makedirs(cache_dir, exist_ok=True)\n",
    "if clear_cache:\n",
    "    cache_tools.clear_cache()\n",
    "gc.collect()\n",
    "\n",
    "#===== initialize =====\n",
    "#--- physics parameters ---\n",
    "abscs = load_h5_dict(f\"{data_dir}/abscissas.h5\")\n",
    "dm_params.set_inj_specs(abscs)\n",
    "\n",
    "EPSILON = 1e-6\n",
    "p21c.global_params.Z_HEAT_MAX = z_start + EPSILON\n",
    "p21c.global_params.ZPRIME_STEP_FACTOR = abscs['zplusone_step_factor']\n",
    "\n",
    "box_dim = p21c_initial_conditions.user_params.HII_DIM\n",
    "box_len = p21c_initial_conditions.user_params.BOX_LEN\n",
    "cosmo = Planck18\n",
    "\n",
    "#--- DarkHistory and transfer functions ---\n",
    "tf_wrapper = TransferFunctionWrapper(\n",
    "    box_dim = box_dim,\n",
    "    abscs = abscs,\n",
    "    prefix = data_dir,\n",
    "    enable_elec = enable_elec,\n",
    "    on_device = tf_on_device,\n",
    ")\n",
    "\n",
    "#--- xray ---\n",
    "xray_cacher = Cacher(data_path=f\"{cache_dir}/xray_brightness.h5\", cosmo=cosmo, N=box_dim, dx=box_len/box_dim)\n",
    "xray_cacher.clear_cache()\n",
    "\n",
    "#--- redshift stepping ---\n",
    "z_edges = get_z_edges(z_start, z_end, p21c.global_params.ZPRIME_STEP_FACTOR)\n",
    "\n",
    "#===== initial steps =====\n",
    "dh_wrapper = DarkHistoryWrapper(dm_params, prefix=p21c.config[f'direc'])\n",
    "\n",
    "# We have to synchronize at the second step because 21cmFAST acts weird in the first step:\n",
    "# - global_params.TK_at_Z_HEAT_MAX is not set correctly (it is probably set and evolved for a step)\n",
    "# - global_params.XION_at_Z_HEAT_MAX is not set correctly (it is probably set and evolved for a step)\n",
    "# - first step ignores any values added to spin_temp.Tk_box and spin_temp.x_e_box\n",
    "z_match = z_edges[1]\n",
    "if use_DH_init:\n",
    "    dh_wrapper.evolve(end_rs=(1+z_match)*0.9, rerun=rerun_DH)\n",
    "    T_k_DH_init, x_e_DH_init, phot_bath_spec = dh_wrapper.get_init_cond(rs=1+z_match)\n",
    "else:\n",
    "    phot_bath_spec = Spectrum(abscs['photE'], np.zeros_like(abscs['photE']), spec_type='N', rs=1+z_match) # [ph / Bavg]\n",
    "\n",
    "perturbed_field = p21c.perturb_field(redshift=z_edges[1], init_boxes=p21c_initial_conditions, write = True)\n",
    "spin_temp, ionized_box, brightness_temp = p21c_step(perturbed_field=perturbed_field, spin_temp=None, ionized_box=None, astro_params=p21c_astro_params)\n",
    "if use_DH_init:\n",
    "    spin_temp.Tk_box += T_k_DH_init - np.mean(spin_temp.Tk_box)\n",
    "    spin_temp.x_e_box += x_e_DH_init - np.mean(spin_temp.x_e_box)\n",
    "    ionized_box.xH_box = 1 - spin_temp.x_e_box\n",
    "\n",
    "#===== main loop =====\n",
    "z_edges = z_edges[1:] # Maybe fix this later\n",
    "z_range = range(len(z_edges)-1)\n",
    "records = []\n",
    "profiler = Profiler()\n",
    "\n",
    "#--- trackers ---\n",
    "i_xray_loop_start = 0 # where we start looking for annuli"
   ]
  },
  {
   "cell_type": "markdown",
   "metadata": {},
   "source": [
    "## LOOP"
   ]
  },
  {
   "cell_type": "code",
   "execution_count": 5,
   "metadata": {},
   "outputs": [],
   "source": [
    "i_z = 0"
   ]
  },
  {
   "cell_type": "code",
   "execution_count": 11,
   "metadata": {},
   "outputs": [
    {
     "name": "stdout",
     "output_type": "stream",
     "text": [
      "1\n"
     ]
    }
   ],
   "source": [
    "i_z += 1\n",
    "print(i_z)"
   ]
  },
  {
   "cell_type": "code",
   "execution_count": 12,
   "metadata": {},
   "outputs": [],
   "source": [
    "print_str = f'i_z={i_z}/{len(z_edges)-2} z={z_edges[i_z]:.2f}'\n",
    "\n",
    "#===== physical quantities =====\n",
    "z_current = z_edges[i_z]\n",
    "z_next = z_edges[i_z+1]\n",
    "dt = phys.dt_step(z_current, np.exp(abscs['dlnz']))\n",
    "\n",
    "#--- for interpolation ---\n",
    "delta_plus_one_box = 1 + np.asarray(perturbed_field.density)\n",
    "x_e_box = np.asarray(1 - ionized_box.xH_box)\n",
    "T_k_box = np.asarray(spin_temp.Tk_box)\n",
    "tf_wrapper.init_step(rs=1+z_current, delta_plus_one_box=delta_plus_one_box, x_e_box=x_e_box, T_k_box=T_k_box)\n",
    "\n",
    "#--- for dark matter ---\n",
    "nBavg = phys.n_B * (1+z_current)**3 # [Bavg / (physical cm)^3]\n",
    "rho_DM_box = delta_plus_one_box * phys.rho_DM * (1+z_current)**3 # [eV/(physical cm)^3]\n",
    "inj_per_Bavg_box = phys.inj_rate(rho_DM_box, dm_params) * dt * dm_params.struct_boost(1+z_current) / nBavg # [inj/Bavg]\n"
   ]
  },
  {
   "cell_type": "code",
   "execution_count": 13,
   "metadata": {},
   "outputs": [
    {
     "name": "stdout",
     "output_type": "stream",
     "text": [
      "0 1\n",
      "0 False\n",
      "0\n"
     ]
    }
   ],
   "source": [
    "#===== photon injection and energy deposition =====\n",
    "#--- xray ---\n",
    "profiler.start()\n",
    "\n",
    "print(i_xray_loop_start, i_z)\n",
    "for i_z_shell in range(i_xray_loop_start, i_z):\n",
    "    xray_brightness_box, xray_spec, is_box_average = xray_cacher.get_annulus_data(\n",
    "        z_current, z_edges[i_z_shell], z_edges[i_z_shell+1]\n",
    "    )\n",
    "    print(i_z_shell, is_box_average)\n",
    "    if debug_all_bath:\n",
    "        is_box_average = True\n",
    "        xray_brightness_box = jnp.mean(xray_brightness_box) * jnp.ones_like(xray_brightness_box)\n",
    "    if is_box_average:                                          # if smoothing scale > box size,\n",
    "        phot_bath_spec.N += xray_spec.N                         # then we can just dump to the global bath spectrum\n",
    "        i_xray_loop_start = max(i_z_shell+1, i_xray_loop_start) # and we will not revisit this shell\n",
    "    else:\n",
    "        tf_wrapper.inject_phot(xray_spec, inject_type='xray', weight_box=xray_brightness_box)\n",
    "\n",
    "print(i_xray_loop_start)\n",
    "profiler.record('xray')"
   ]
  },
  {
   "cell_type": "code",
   "execution_count": 14,
   "metadata": {},
   "outputs": [
    {
     "data": {
      "text/plain": [
       "<darkhistory.spec.spectrum.Spectrum at 0x7fa7ec64acd0>"
      ]
     },
     "execution_count": 14,
     "metadata": {},
     "output_type": "execute_result"
    }
   ],
   "source": [
    "xray_spec"
   ]
  },
  {
   "cell_type": "code",
   "execution_count": 14,
   "metadata": {},
   "outputs": [],
   "source": [
    "# bath inject\n",
    "in_spec = xray_spec\n",
    "\n",
    "unif_norm = 1 / tf_wrapper.box_dim**3\n",
    "sum_weight = None\n",
    "weight_norm = 1\n",
    "prop_phot_N = unif_norm * tf_wrapper.phot_prop_tf(\n",
    "    in_spec=in_spec.N, sum_result=True, **tf_wrapper.tf_kwargs\n",
    ") # [N / Bavg]"
   ]
  },
  {
   "cell_type": "code",
   "execution_count": 15,
   "metadata": {},
   "outputs": [],
   "source": [
    "dep_box = weight_norm * tf_wrapper.phot_dep_tf(\n",
    "    in_spec=in_spec.N, sum_result=False, **tf_wrapper.tf_kwargs\n",
    ").reshape(tf_wrapper.dep_box.shape) # [eV / Bavg]"
   ]
  },
  {
   "cell_type": "code",
   "execution_count": 16,
   "metadata": {},
   "outputs": [
    {
     "data": {
      "text/plain": [
       "Array([1.08534511e-06, 4.33909903e-08, 9.07463335e-07, 6.26652931e-07,\n",
       "       2.94354114e-07, 1.63852409e-06], dtype=float64)"
      ]
     },
     "execution_count": 16,
     "metadata": {},
     "output_type": "execute_result"
    }
   ],
   "source": [
    "np.mean(dep_box, axis=(0,1,2))"
   ]
  },
  {
   "cell_type": "code",
   "execution_count": 17,
   "metadata": {},
   "outputs": [
    {
     "data": {
      "text/plain": [
       "Array(0.03199482, dtype=float64)"
      ]
     },
     "execution_count": 17,
     "metadata": {},
     "output_type": "execute_result"
    }
   ],
   "source": [
    "np.mean(xray_brightness_box)"
   ]
  },
  {
   "cell_type": "code",
   "execution_count": 20,
   "metadata": {},
   "outputs": [
    {
     "data": {
      "text/plain": [
       "<matplotlib.colorbar.Colorbar at 0x7f0d0c3957d0>"
      ]
     },
     "execution_count": 20,
     "metadata": {},
     "output_type": "execute_result"
    },
    {
     "data": {
      "image/png": "[encoded data removed]",
      "text/plain": [
       "<Figure size 720x480 with 2 Axes>"
      ]
     },
     "metadata": {},
     "output_type": "display_data"
    }
   ],
   "source": [
    "import matplotlib.pyplot as plt\n",
    "plt.imshow(xray_brightness_box[0])\n",
    "plt.colorbar()"
   ]
  },
  {
   "cell_type": "code",
   "execution_count": 18,
   "metadata": {},
   "outputs": [],
   "source": [
    "# xray inject\n",
    "in_spec = xray_spec\n",
    "weight_box = xray_brightness_box / np.mean(xray_brightness_box)\n",
    "\n",
    "sum_weight = weight_box.ravel()\n",
    "weight_norm = weight_box[..., None]\n",
    "\n",
    "dep_box = weight_norm * tf_wrapper.phot_dep_tf(\n",
    "    in_spec=in_spec.N, sum_result=False, **tf_wrapper.tf_kwargs\n",
    ").reshape(tf_wrapper.dep_box.shape) # [eV / Bavg]"
   ]
  },
  {
   "cell_type": "code",
   "execution_count": 19,
   "metadata": {},
   "outputs": [
    {
     "data": {
      "text/plain": [
       "Array([1.08534511e-06, 4.33909903e-08, 9.07463335e-07, 6.26652931e-07,\n",
       "       2.94354114e-07, 1.63852409e-06], dtype=float64)"
      ]
     },
     "execution_count": 19,
     "metadata": {},
     "output_type": "execute_result"
    }
   ],
   "source": [
    "np.mean(dep_box, axis=(0,1,2))"
   ]
  },
  {
   "cell_type": "code",
   "execution_count": null,
   "metadata": {},
   "outputs": [],
   "source": []
  },
  {
   "cell_type": "code",
   "execution_count": null,
   "metadata": {},
   "outputs": [],
   "source": []
  },
  {
   "cell_type": "code",
   "execution_count": null,
   "metadata": {},
   "outputs": [],
   "source": [
    "s = tf_wrapper\n",
    "def inject_phot(in_spec, inject_type=..., weight_box=...):\n",
    "    \"\"\"Inject photons into (prop_phot_N,) emit_phot_N, and dep_box.\n",
    "\n",
    "    Args:\n",
    "        in_spec (Spectrum): Input photon spectrum.\n",
    "        inject_type {'bath', 'ots', 'xray'}: Injection type.\n",
    "        weight_box (ndarray): Injection weight box.\n",
    "    \"\"\"\n",
    "    unif_norm = 1 / s.box_dim**3\n",
    "\n",
    "    # Apply phot_prop_tf\n",
    "    if inject_type == 'bath':\n",
    "        sum_weight = None\n",
    "        weight_norm = 1\n",
    "        s.prop_phot_N += unif_norm * s.phot_prop_tf(\n",
    "            in_spec=in_spec.N, sum_result=True, **s.tf_kwargs\n",
    "        ) # [N / Bavg]\n",
    "    elif inject_type == 'ots':\n",
    "        sum_weight = weight_box.ravel()\n",
    "        weight_norm = weight_box[..., None]\n",
    "        s.emit_phot_N += unif_norm * s.phot_prop_tf(\n",
    "            in_spec=in_spec.N, sum_result=True, sum_weight=sum_weight, **s.tf_kwargs\n",
    "        ) # [N / Bavg]\n",
    "    elif inject_type == 'xray':\n",
    "        sum_weight = weight_box.ravel()\n",
    "        weight_norm = weight_box[..., None]\n",
    "    else:\n",
    "        raise NotImplementedError(inject_type)\n",
    "    \n",
    "    # Apply phot_scat_tf\n",
    "    s.emit_phot_N += unif_norm * s.phot_scat_tf(\n",
    "        in_spec=in_spec.N, sum_result=True, sum_weight=sum_weight, **s.tf_kwargs\n",
    "    ) # [N / Bavg]\n",
    "\n",
    "    # Apply phot_dep_tf\n",
    "    s.dep_box += weight_norm * s.phot_dep_tf(\n",
    "        in_spec=in_spec.N, sum_result=False, **s.tf_kwargs\n",
    "    ).reshape(s.dep_box.shape) # [eV / Bavg]"
   ]
  },
  {
   "cell_type": "code",
   "execution_count": null,
   "metadata": {},
   "outputs": [],
   "source": []
  },
  {
   "cell_type": "code",
   "execution_count": null,
   "metadata": {},
   "outputs": [],
   "source": []
  },
  {
   "cell_type": "code",
   "execution_count": null,
   "metadata": {},
   "outputs": [],
   "source": []
  },
  {
   "cell_type": "code",
   "execution_count": null,
   "metadata": {},
   "outputs": [],
   "source": []
  },
  {
   "cell_type": "code",
   "execution_count": 14,
   "metadata": {},
   "outputs": [
    {
     "data": {
      "text/plain": [
       "0.001087229772020653"
      ]
     },
     "execution_count": 14,
     "metadata": {},
     "output_type": "execute_result"
    }
   ],
   "source": [
    "xray_spec.toteng()"
   ]
  },
  {
   "cell_type": "code",
   "execution_count": 18,
   "metadata": {},
   "outputs": [],
   "source": [
    "import matplotlib.pyplot as plt"
   ]
  },
  {
   "cell_type": "code",
   "execution_count": 19,
   "metadata": {},
   "outputs": [
    {
     "data": {
      "text/plain": [
       "[]"
      ]
     },
     "execution_count": 19,
     "metadata": {},
     "output_type": "execute_result"
    },
    {
     "data": {
      "image/png": "[encoded data removed]",
      "text/plain": [
       "<Figure size 720x480 with 1 Axes>"
      ]
     },
     "metadata": {},
     "output_type": "display_data"
    }
   ],
   "source": [
    "plt.plot(xray_spec.eng, xray_spec.N)\n",
    "plt.loglog()"
   ]
  },
  {
   "cell_type": "code",
   "execution_count": 24,
   "metadata": {},
   "outputs": [
    {
     "data": {
      "text/plain": [
       "0.001087229772020653"
      ]
     },
     "execution_count": 24,
     "metadata": {},
     "output_type": "execute_result"
    }
   ],
   "source": [
    "xray_spec.toteng()"
   ]
  },
  {
   "cell_type": "code",
   "execution_count": 23,
   "metadata": {},
   "outputs": [
    {
     "data": {
      "text/plain": [
       "Array([1.53414259e-07, 8.39691135e-09, 1.22581059e-07, 1.03661050e-07,\n",
       "       5.36528543e-08, 8.61013742e-10], dtype=float64)"
      ]
     },
     "execution_count": 23,
     "metadata": {},
     "output_type": "execute_result"
    }
   ],
   "source": [
    "np.mean(tf_wrapper.dep_box, axis=(0, 1, 2))"
   ]
  },
  {
   "cell_type": "code",
   "execution_count": 26,
   "metadata": {},
   "outputs": [],
   "source": [
    "a = np.array([1.53414259e-07, 8.39691135e-09, 1.22581059e-07, 1.03661050e-07,\n",
    "       5.36528543e-08, 8.61013742e-10])\n",
    "b = np.array([6.49666619e-05, 3.55585812e-06, 5.19096599e-05, 4.38975791e-05,\n",
    "       2.27204876e-05, 3.64620423e-07])"
   ]
  },
  {
   "cell_type": "code",
   "execution_count": 27,
   "metadata": {},
   "outputs": [
    {
     "data": {
      "text/plain": [
       "array([0.00236143, 0.00236143, 0.00236143, 0.00236143, 0.00236143,\n",
       "       0.0023614 ])"
      ]
     },
     "execution_count": 27,
     "metadata": {},
     "output_type": "execute_result"
    }
   ],
   "source": [
    "a/b"
   ]
  },
  {
   "cell_type": "code",
   "execution_count": 29,
   "metadata": {},
   "outputs": [
    {
     "data": {
      "text/plain": [
       "32768"
      ]
     },
     "execution_count": 29,
     "metadata": {},
     "output_type": "execute_result"
    }
   ],
   "source": [
    "32**3"
   ]
  },
  {
   "cell_type": "code",
   "execution_count": 28,
   "metadata": {},
   "outputs": [
    {
     "data": {
      "text/plain": [
       "423.4722181051312"
      ]
     },
     "execution_count": 28,
     "metadata": {},
     "output_type": "execute_result"
    }
   ],
   "source": [
    "1 / 0.00236143"
   ]
  },
  {
   "cell_type": "code",
   "execution_count": 8,
   "metadata": {},
   "outputs": [
    {
     "name": "stdout",
     "output_type": "stream",
     "text": [
      "8.663694412633152e-05\n"
     ]
    }
   ],
   "source": [
    "#--- bath and homogeneous portion of xray ---\n",
    "depion_before = np.mean(tf_wrapper.dep_box[..., 0])\n",
    "tf_wrapper.inject_phot(phot_bath_spec, inject_type='bath')\n",
    "\n",
    "#--- dark matter (on-the-spot) ---\n",
    "tf_wrapper.inject_from_dm(dm_params, inj_per_Bavg_box)\n",
    "depion = np.mean(tf_wrapper.dep_box[..., 0]) - depion_before\n",
    "print(depion)\n",
    "profiler.record('bath+dm')"
   ]
  },
  {
   "cell_type": "code",
   "execution_count": 9,
   "metadata": {},
   "outputs": [
    {
     "data": {
      "text/plain": [
       "Array(8.66369441e-05, dtype=float64)"
      ]
     },
     "execution_count": 9,
     "metadata": {},
     "output_type": "execute_result"
    }
   ],
   "source": [
    "np.mean(tf_wrapper.dep_box[...,0])"
   ]
  },
  {
   "cell_type": "code",
   "execution_count": 10,
   "metadata": {},
   "outputs": [],
   "source": [
    "#===== 21cmFAST step =====\n",
    "perturbed_field = p21c.perturb_field(redshift=z_next, init_boxes=p21c_initial_conditions)\n",
    "input_heating, input_ionization, input_jalpha = gen_injection_boxes(z_next, p21c_initial_conditions)\n",
    "tf_wrapper.populate_injection_boxes(input_heating, input_ionization, input_jalpha, dt,)\n",
    "spin_temp, ionized_box, brightness_temp = p21c_step(\n",
    "    perturbed_field, spin_temp, ionized_box,\n",
    "    input_heating = input_heating,\n",
    "    input_ionization = input_ionization,\n",
    "    input_jalpha = input_jalpha,\n",
    "    astro_params = p21c_astro_params\n",
    ")\n",
    "\n",
    "profiler.record('21cmFAST')\n",
    "\n",
    "#===== prepare spectra for next step =====\n",
    "#--- bath (separating out xray) ---\n",
    "prop_phot_N = np.array(tf_wrapper.prop_phot_N) # propagating and emitted photons have been stored in tf_wrapper up to this point, time to get them out\n",
    "emit_phot_N = np.array(tf_wrapper.emit_phot_N)\n",
    "emit_bath_N, emit_xray_N = split_xray(emit_phot_N, abscs['photE'])\n",
    "phot_bath_spec = Spectrum(abscs['photE'], prop_phot_N + emit_bath_N, rs=1+z_current, spec_type='N') # photons not emitted to the xray band are added to the bath (treated as uniform)\n",
    "phot_bath_spec.redshift(1+z_next)\n",
    "\n",
    "#--- xray ---\n",
    "x_e_for_attenuation = 1 - np.mean(ionized_box.xH_box)\n",
    "attenuation_arr = np.array(tf_wrapper.attenuation_arr(rs=1+z_current, x=np.mean(x_e_for_attenuation))) # convert from jax array\n",
    "xray_cacher.advance_spectrum(attenuation_arr, z_next)\n",
    "\n",
    "xray_spec = Spectrum(abscs['photE'], emit_xray_N, rs=1+z_current, spec_type='N') # [ph/Bavg]\n",
    "xray_spec.redshift(1+z_next)\n",
    "xray_tot_eng = np.dot(abscs['photE'], emit_xray_N)\n",
    "if xray_tot_eng == 0.:\n",
    "    xray_rel_eng_box = np.zeros_like(tf_wrapper.xray_eng_box)\n",
    "else:\n",
    "    xray_rel_eng_box = tf_wrapper.xray_eng_box / xray_tot_eng # [1 (relative energy)/Bavg]\n",
    "if not no_injection:\n",
    "    xray_cacher.cache(z_current, xray_rel_eng_box, xray_spec)\n",
    "\n",
    "#===== calculate and save some quantities =====\n",
    "dE_inj_per_Bavg = dm_params.eng_per_inj * np.mean(inj_per_Bavg_box) # [eV/Bavg]\n",
    "dE_inj_per_Bavg_unclustered = dE_inj_per_Bavg / dm_params.struct_boost(1+z_current) # [eV/Bavg]\n",
    "\n",
    "records.append({\n",
    "    'z'   : z_next,\n",
    "    'T_s' : np.mean(spin_temp.Ts_box), # [mK]\n",
    "    'T_b' : np.mean(brightness_temp.brightness_temp), # [K]\n",
    "    'T_k' : np.mean(spin_temp.Tk_box), # [K]\n",
    "    'x_e' : np.mean(spin_temp.x_e_box), # [1]\n",
    "    '1-x_H' : np.mean(1 - ionized_box.xH_box), # [1]\n",
    "    'E_phot' : phot_bath_spec.toteng(), # [eV/Bavg]\n",
    "    'phot_N' : phot_bath_spec.N, # [ph/Bavg]\n",
    "    'dE_inj_per_B' : dE_inj_per_Bavg, # [eV/Bavg]\n",
    "    'dE_inj_per_Bavg_unclustered' : dE_inj_per_Bavg_unclustered, # [eV/Bavg]\n",
    "    'dep_ion'  : np.mean(tf_wrapper.dep_box[...,0] + tf_wrapper.dep_box[...,1]), # [eV/Bavg]\n",
    "    'dep_exc'  : np.mean(tf_wrapper.dep_box[...,2]), # [eV/Bavg]\n",
    "    'dep_heat' : np.mean(tf_wrapper.dep_box[...,3]), # [eV/Bavg]\n",
    "    'x_e_slice' : np.array(spin_temp.x_e_box[0]), # [1]\n",
    "    'x_H_slice' : np.array(ionized_box.xH_box[0]), # [1]\n",
    "    'T_k_slice' : np.array(spin_temp.Tk_box[0]), # [K]\n",
    "})"
   ]
  },
  {
   "cell_type": "code",
   "execution_count": null,
   "metadata": {},
   "outputs": [],
   "source": []
  }
 ],
 "metadata": {
  "kernelspec": {
   "display_name": "dm21cm",
   "language": "python",
   "name": "python3"
  },
  "language_info": {
   "codemirror_mode": {
    "name": "ipython",
    "version": 3
   },
   "file_extension": ".py",
   "mimetype": "text/x-python",
   "name": "python",
   "nbconvert_exporter": "python",
   "pygments_lexer": "ipython3",
   "version": "3.11.5"
  }
 },
 "nbformat": 4,
 "nbformat_minor": 2
}
