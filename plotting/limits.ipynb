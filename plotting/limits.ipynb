{
 "cells": [
  {
   "cell_type": "code",
   "execution_count": 1,
   "metadata": {},
   "outputs": [],
   "source": [
    "%reload_ext autoreload\n",
    "%autoreload 2\n",
    "\n",
    "import os\n",
    "import sys\n",
    "import numpy as np\n",
    "from scipy import stats\n",
    "import astropy.units as u\n",
    "import astropy.constants as c\n",
    "\n",
    "WDIR = os.environ['DM21CM_DIR']\n",
    "sys.path.append(WDIR)\n",
    "\n",
    "%matplotlib inline\n",
    "import matplotlib as mpl\n",
    "import matplotlib.pyplot as plt\n",
    "from matplotlib import colormaps as cms\n",
    "mpl.rc_file(f\"{WDIR}/matplotlibrc\")"
   ]
  },
  {
   "cell_type": "markdown",
   "metadata": {},
   "source": [
    "## 1. PBH"
   ]
  },
  {
   "cell_type": "code",
   "execution_count": 2,
   "metadata": {},
   "outputs": [],
   "source": [
    "mass_s, inj_s, sigma_s = np.loadtxt(f\"{WDIR}/outputs/limits/pbh_limits.txt\", unpack=True)"
   ]
  },
  {
   "cell_type": "code",
   "execution_count": 10,
   "metadata": {},
   "outputs": [],
   "source": [
    "plot_names = {\n",
    "    'limits' : ['Voyager', 'Comptel', 'CMBevap', 'INTEGRAL_NEW'],\n",
    "    'edges_limits' : ['EDGESevap-Mittal2021', 'EDGESevap-Clark2018', 'EDGESevap-Saha2021'],\n",
    "    'forecasts' : ['amego'],\n",
    "    'extras' : ['EGRB', 'LeoTevap', '511keV', 'INTEGRAL', 'SuperK'],\n",
    "}\n",
    "plot_names_all = []\n",
    "for t, fns in plot_names.items():\n",
    "    plot_names_all += fns\n",
    "\n",
    "data = {}\n",
    "for plot_name in plot_names_all:\n",
    "    m, f = np.loadtxt(f\"{WDIR}/data/limits/pbh/{plot_name}.txt\", unpack=True) # [Msun], [1]\n",
    "    m_g = m * (c.M_sun.to(u.g)).value # [g], [1]\n",
    "    data[plot_name] = dict(m=m_g, f=f)"
   ]
  },
  {
   "cell_type": "code",
   "execution_count": 43,
   "metadata": {},
   "outputs": [],
   "source": [
    "def ccmap(x):\n",
    "    purple = np.array(cms['Purples'](1.0))\n",
    "    #black = np.array([0, 0, 0, 1])\n",
    "    blue = np.array(cms['Blues'](1.0))\n",
    "    white = np.array([1, 1, 1, 1])\n",
    "    color1 = purple\n",
    "    color2 = blue * 0.5 + white * 0.5\n",
    "    color = color1 * x + color2 * (1 - x)\n",
    "    return tuple(color)\n",
    "\n",
    "colors = {\n",
    "    'CMBevap' : cms['binary'](0.8),\n",
    "    'Voyager' :      ccmap(0.6),\n",
    "    'INTEGRAL_NEW' : ccmap(0.3),\n",
    "    'Comptel' :      ccmap(0.0),\n",
    "    'amego' : cms['Reds'](0.8),\n",
    "}\n",
    "linestyles = {\n",
    "    'EDGESevap-Clark2018' : '--',\n",
    "    'EDGESevap-Mittal2021' : ':',\n",
    "    'EDGESevap-Saha2021' : '-.',\n",
    "}\n",
    "labels = {\n",
    "    'CMBevap' : 'Planck',\n",
    "    'Voyager' : 'Voyager',\n",
    "    'INTEGRAL_NEW' : 'Integral',\n",
    "    'EGRB' : 'EGRB',\n",
    "    'LeoTevap' : 'Leo T',\n",
    "    'Comptel' : 'Comptel',\n",
    "    'amego' : 'AMEGO (proj.)',\n",
    "    'EDGESevap-Clark2018' : 'EDGES Clark 2018',\n",
    "    'EDGESevap-Mittal2021' : 'EDGES Mittal 2021',\n",
    "    'EDGESevap-Saha2021' : 'EDGES Saha 2021',\n",
    "}\n",
    "zorders = {\n",
    "    'CMBevap' : -1,\n",
    "    'Voyager' : -2,\n",
    "    'INTEGRAL_NEW' : -2.5,\n",
    "    'EGRB' : -3,\n",
    "    'LeoTevap' : -4,\n",
    "    'Comptel' : -5,\n",
    "    'amego' : 10,\n",
    "    'EDGESevap-Clark2018' : 6,\n",
    "    'EDGESevap-Mittal2021' : 6,\n",
    "    'EDGESevap-Saha2021' : 6,\n",
    "}"
   ]
  },
  {
   "cell_type": "code",
   "execution_count": null,
   "metadata": {},
   "outputs": [],
   "source": [
    "extras = False\n",
    "\n",
    "fig, ax = plt.subplots(1, 1, figsize=(6, 4))\n",
    "\n",
    "one_sigma = inj_s * sigma_s\n",
    "upper_limit = np.sqrt(stats.chi2.ppf(.9, df=1)) * one_sigma\n",
    "\n",
    "f_max = 1e10\n",
    "\n",
    "# other limits\n",
    "ims = []\n",
    "for n in plot_names['limits']:\n",
    "    ims.append(ax.fill_between(data[n]['m'], data[n]['f'], f_max, label=labels[n], color=colors[n], zorder=zorders[n]))\n",
    "for n in plot_names['edges_limits']:\n",
    "    ims.append(ax.plot(data[n]['m'], data[n]['f'], lw=1, linestyle=linestyles[n], label=labels[n], color=cms['binary'](0.7), zorder=zorders[n]))\n",
    "for n in plot_names['forecasts']:\n",
    "    ims.append(ax.plot(data[n]['m'], data[n]['f'], lw=1, label=labels[n], ls='--', color=colors[n], zorder=zorders[n]))\n",
    "if extras:\n",
    "    for n in plot_names['extras']:\n",
    "        ims.append(ax.plot(data[n]['m'], data[n]['f'], lw=1, label=n, zorder=10))\n",
    "\n",
    "# our limits\n",
    "ax.plot(mass_s, upper_limit, 'k-s', lw=1, ms=2)\n",
    "ax.fill_between(mass_s, upper_limit+one_sigma, upper_limit-one_sigma, color=mpl.colormaps['viridis'](0.75), alpha=0.8, ec='none')\n",
    "ax.fill_between(mass_s, upper_limit+2*one_sigma, upper_limit+one_sigma, color=mpl.colormaps['viridis'](1.0), alpha=0.8, ec='none')\n",
    "\n",
    "ax.set(xscale='log', yscale='log')\n",
    "ax.set(xlabel=r'$M_\\mathrm{PBH}$ [g]', ylabel=r'$f_\\mathrm{PBH}=\\Omega_\\mathrm{PBH}/\\Omega_\\mathrm{DM}$')\n",
    "ax.set(ylim=(1e-12, 1e0), xlim=(1e14, 1e18))\n",
    "#ax.legend(loc='lower right', frameon=False, fontsize=10)\n",
    "#ax.legend(loc='lower right')\n",
    "\n",
    "handles, handle_labels = plt.gca().get_legend_handles_labels()\n",
    "order = [2, 0, 3, 1, 4, 5, 6, 7]\n",
    "ax.legend([handles[idx] for idx in order], [handle_labels[idx] for idx in order], loc='lower right', frameon=False, fontsize=10)\n",
    "\n",
    "fig.savefig('pbh_limits.pdf', bbox_inches='tight', dpi=300)"
   ]
  },
  {
   "cell_type": "code",
   "execution_count": 37,
   "metadata": {},
   "outputs": [
    {
     "data": {
      "text/plain": [
       "['Voyager',\n",
       " 'Comptel',\n",
       " 'Planck',\n",
       " 'Integral',\n",
       " 'EDGES Mittal 2021',\n",
       " 'EDGES Clark 2018',\n",
       " 'EDGES Saha 2021',\n",
       " 'AMEGO (proj.)']"
      ]
     },
     "execution_count": 37,
     "metadata": {},
     "output_type": "execute_result"
    }
   ],
   "source": [
    "labels"
   ]
  },
  {
   "cell_type": "code",
   "execution_count": null,
   "metadata": {},
   "outputs": [],
   "source": []
  },
  {
   "cell_type": "code",
   "execution_count": null,
   "metadata": {},
   "outputs": [],
   "source": []
  }
 ],
 "metadata": {
  "kernelspec": {
   "display_name": "dm21cm",
   "language": "python",
   "name": "python3"
  },
  "language_info": {
   "codemirror_mode": {
    "name": "ipython",
    "version": 3
   },
   "file_extension": ".py",
   "mimetype": "text/x-python",
   "name": "python",
   "nbconvert_exporter": "python",
   "pygments_lexer": "ipython3",
   "version": "3.11.5"
  }
 },
 "nbformat": 4,
 "nbformat_minor": 2
}
