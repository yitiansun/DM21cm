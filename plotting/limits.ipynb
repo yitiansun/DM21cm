{
 "cells": [
  {
   "cell_type": "code",
   "execution_count": 1,
   "metadata": {},
   "outputs": [],
   "source": [
    "%reload_ext autoreload\n",
    "%autoreload 2\n",
    "\n",
    "import os\n",
    "import sys\n",
    "import numpy as np\n",
    "from scipy import stats\n",
    "import astropy.units as u\n",
    "import astropy.constants as c\n",
    "\n",
    "WDIR = os.environ['DM21CM_DIR']\n",
    "sys.path.append(WDIR)\n",
    "\n",
    "%matplotlib inline\n",
    "import matplotlib as mpl\n",
    "import matplotlib.pyplot as plt\n",
    "from matplotlib import colormaps as cms\n",
    "mpl.rc_file(f\"{WDIR}/matplotlibrc\")"
   ]
  },
  {
   "cell_type": "markdown",
   "metadata": {},
   "source": [
    "## 1. PBH"
   ]
  },
  {
   "cell_type": "code",
   "execution_count": 2,
   "metadata": {},
   "outputs": [],
   "source": [
    "mass_s, inj_s, sigma_s = np.loadtxt(f\"{WDIR}/outputs/limits/pbh_limits.txt\", unpack=True)"
   ]
  },
  {
   "cell_type": "code",
   "execution_count": 10,
   "metadata": {},
   "outputs": [
    {
     "name": "stdout",
     "output_type": "stream",
     "text": [
      "['EGRB', 'LeoTevap', 'SuperK', 'Voyager', 'EDGESevap-Mittal2021', 'Comptel', 'CMBevap', 'INTEGRAL', '511keV']\n"
     ]
    }
   ],
   "source": [
    "plot_lim_s = [s.split('.txt')[0] for s in os.listdir(f\"{WDIR}/data/limits/pbh\") if s not in ['EDGESevap-Mittal2021', 'Evaporation.txt']]\n",
    "print(plot_lim_s)"
   ]
  },
  {
   "cell_type": "code",
   "execution_count": 27,
   "metadata": {},
   "outputs": [],
   "source": [
    "lim = {}\n",
    "for lim_name in plot_lim_s:\n",
    "    m, f = np.loadtxt(f\"{WDIR}/data/limits/pbh/{lim_name}.txt\", unpack=True) # [Msun], [1]\n",
    "    m_g = m * (c.M_sun.to(u.g)).value # [g], [1]\n",
    "    lim[lim_name] = dict(m=m_g, f=f)\n",
    "\n",
    "colors = {\n",
    "    'CMBevap' : cms['binary'](0.6),\n",
    "    #'Voyager' : cms['binary'](0.4),\n",
    "    'EGRB' : cms['binary'](0.5),\n",
    "    'LeoTevap' : cms['binary'](0.35),\n",
    "    'Comptel' : cms['binary'](0.2),\n",
    "    'EDGESevap-Mittal2021' : cms['binary'](0.7),\n",
    "}\n",
    "zorders = {\n",
    "    'CMBevap' : -1,\n",
    "    'Voyager' : -2,\n",
    "    'EGRB' : -3,\n",
    "    'LeoTevap' : -4,\n",
    "    'Comptel' : -5,\n",
    "    'EDGESevap-Mittal2021' : -6,\n",
    "}"
   ]
  },
  {
   "cell_type": "code",
   "execution_count": null,
   "metadata": {},
   "outputs": [],
   "source": [
    "fig, ax = plt.subplots(1, 1, figsize=(6, 4))\n",
    "\n",
    "one_sigma = inj_s * sigma_s\n",
    "upper_limit = np.sqrt(stats.chi2.ppf(.9, df=1)) * one_sigma\n",
    "\n",
    "f_max = 1e10\n",
    "for i, n in enumerate(['CMBevap', 'EGRB', 'LeoTevap', 'Comptel']):\n",
    "    ax.fill_between(lim[n]['m'], lim[n]['f'], f_max, label=n, color=colors[n], zorder=zorders[n])\n",
    "    #ax.plot(lim[n]['m'], lim[n]['f'], label=n, color=f'C{i}')\n",
    "n = 'EDGESevap-Mittal2021'\n",
    "ax.plot(lim[n]['m'], lim[n]['f'], color=cms['binary'](0.8), lw=1, ls='--', zorder=5, label=n)\n",
    "\n",
    "ax.plot(mass_s, upper_limit, 'k-s', lw=1, ms=2)\n",
    "ax.fill_between(mass_s, upper_limit+one_sigma, upper_limit-one_sigma, color=mpl.colormaps['viridis'](0.75), alpha=0.8, ec='none')\n",
    "ax.fill_between(mass_s, upper_limit+2*one_sigma, upper_limit+one_sigma, color=mpl.colormaps['viridis'](1.0), alpha=0.8, ec='none')\n",
    "\n",
    "ax.set(xscale='log', yscale='log')\n",
    "ax.set(xlabel=r'$M_\\mathrm{PBH}$ [g]', ylabel=r'$f_\\mathrm{PBH}=\\Omega_\\mathrm{PBH}/\\Omega_\\mathrm{DM}$')\n",
    "ax.set(ylim=(1e-10, 1e0), xlim=(1e15, 1e18))\n",
    "ax.legend(loc='lower right', frameon=False)\n",
    "\n",
    "fig.savefig('pbh_limits.pdf', bbox_inches='tight', dpi=300)"
   ]
  },
  {
   "cell_type": "code",
   "execution_count": null,
   "metadata": {},
   "outputs": [],
   "source": []
  }
 ],
 "metadata": {
  "kernelspec": {
   "display_name": "dm21cm",
   "language": "python",
   "name": "python3"
  },
  "language_info": {
   "codemirror_mode": {
    "name": "ipython",
    "version": 3
   },
   "file_extension": ".py",
   "mimetype": "text/x-python",
   "name": "python",
   "nbconvert_exporter": "python",
   "pygments_lexer": "ipython3",
   "version": "3.11.5"
  }
 },
 "nbformat": 4,
 "nbformat_minor": 2
}
