{
 "cells": [
  {
   "cell_type": "code",
   "execution_count": null,
   "metadata": {},
   "outputs": [],
   "source": [
    "import sys, os\n",
    "from tqdm import tqdm\n",
    "import numpy as np\n",
    "from scipy import integrate, interpolate, special\n",
    "\n",
    "from astropy import units, constants\n",
    "from astropy.cosmology import Planck18 as cosmo\n",
    "from hmf import Transfer, MassFunction\n",
    "\n",
    "import matplotlib.pyplot as plt"
   ]
  },
  {
   "cell_type": "markdown",
   "metadata": {},
   "source": [
    "# Basic Parameter Definitions\n",
    "\n",
    "Some of these are my choice. Some of these are hardcoded by `21cmFAST`."
   ]
  },
  {
   "cell_type": "code",
   "execution_count": null,
   "metadata": {},
   "outputs": [],
   "source": [
    "# M_Sun / Mpc^3\n",
    "rhoCrit0 = cosmo.critical_density(0).to(units.M_sun / units.Mpc**3).value\n",
    "\n",
    "# 21cmFAST Definitions for Critical Collapse\n",
    "SHETH_a = 0.73\n",
    "SHETH_A = 0.353\n",
    "SHETH_p = 0.175\n",
    "Deltac = 1.68\n",
    "\n",
    "# Default Duty Cycle Parametrization\n",
    "M_TURN = 5.012e+08\n",
    "M_MIN = M_TURN/50"
   ]
  },
  {
   "cell_type": "markdown",
   "metadata": {},
   "source": [
    "# Convenience Methods"
   ]
  },
  {
   "cell_type": "code",
   "execution_count": null,
   "metadata": {},
   "outputs": [],
   "source": [
    "# I took these definitions from 21cmFAST. \n",
    "def MtoR(M):\n",
    "    return np.cbrt(3*M/(4*np.pi*cosmo.Om0*rhoCrit0))\n",
    "\n",
    "def RtoM(R):\n",
    "    return 4*np.pi*cosmo.Om0*rhoCrit0*R**3 / 3\n",
    "\n",
    "\n",
    "# This is the fitting function for the Dicke Linear Growth Factor. I took this from 21cmFAST\n",
    "def dicke(z):\n",
    "    omegaM_z = cosmo.Om(z)\n",
    "    \n",
    "    dicke_z = 2.5 * omegaM_z / (1.0 / 70.0 + omegaM_z * (209 - omegaM_z) / 140.0 + pow(omegaM_z, 4.0/7.0))\n",
    "    dicke_0 = 2.5 *  cosmo.Om0 / (1.0 / 70.0 +  cosmo.Om0 * (209 -  cosmo.Om0) / 140.0 + pow( cosmo.Om0, 4.0/7.0))\n",
    "    \n",
    "    return dicke_z / (dicke_0 * (1.0 + z))\n",
    "\n",
    "\n",
    "# This is the top-hat window function. I took this from 21cmFAST\n",
    "def W(k, R):\n",
    "    \n",
    "    kR = k * R\n",
    "    mask = kR >= 1e-4\n",
    "    \n",
    "    w = np.where(mask, 3.0 * (np.sin(kR) / kR**3 - np.cos(kR) / kR**2), 0.0)\n",
    "    return w\n",
    "\n",
    "# This is the derivative of the top-hat window function with respect to R. I took this from 21cmFAST\n",
    "def dWdR(k, R):\n",
    "    kR = k * R\n",
    "    mask = k >= 1e-10\n",
    "\n",
    "    dwdr = np.where(mask, (9 * np.cos(kR) * k / kR**3) + (3 * np.sin(kR) * (1 - 3 / (kR * kR)) / (kR * R)), 0.0)\n",
    "    return dwdr"
   ]
  },
  {
   "cell_type": "markdown",
   "metadata": {},
   "source": [
    "# Generating Interpolated Power Spectrum from EH"
   ]
  },
  {
   "cell_type": "code",
   "execution_count": null,
   "metadata": {},
   "outputs": [],
   "source": [
    "tr = Transfer(cosmo_model = cosmo, transfer_model = 'EH', z = 0)\n",
    "\n",
    "interp_k = tr.k * cosmo.h # to units without `h`\n",
    "interp_T = tr.transfer_function / np.amax(tr.transfer_function) # normalized\n",
    "interp_P = interp_k**2 * interp_T**2 * interp_k**cosmo.to_format('mapping')['meta']['n']\n",
    "\n",
    "# Defining an interpolated Power Spectrum that must be normalized to match Sigma8\n",
    "PowerSpectrum = interpolate.CubicSpline(interp_k, interp_P)\n",
    "\n",
    "# Doing the Sigma8 Normalization\n",
    "Radius_8 = 8.0/cosmo.h \n",
    "integrand = lambda logk: np.exp(logk)* PowerSpectrum(np.exp(logk)) * W(np.exp(logk), Radius_8)**2\n",
    "result = integrate.quad(integrand, np.log(interp_k[0]), np.log(interp_k[-1]), epsabs = 0, epsrel = 1e-6)\n",
    "sigma_norm = cosmo.to_format('mapping')['meta']['sigma8']/np.sqrt(result[0])\n",
    "\n",
    "# Redefining the Power Spectrum to be consistent with Sigma8\n",
    "PowerSpectrum = interpolate.CubicSpline(interp_k, sigma_norm**2*interp_P)"
   ]
  },
  {
   "cell_type": "markdown",
   "metadata": {},
   "source": [
    "# Operations on the Power Spectrum"
   ]
  },
  {
   "cell_type": "code",
   "execution_count": null,
   "metadata": {},
   "outputs": [],
   "source": [
    "def sigma_z0(M):\n",
    "    Radius = MtoR(M)\n",
    "    \n",
    "    integrand = lambda logk: np.exp(logk)* PowerSpectrum(np.exp(logk)) * W(np.exp(logk), Radius)**2\n",
    "    result = integrate.quad(integrand, np.log(interp_k[0]), np.log(interp_k[-1]), epsabs = 0, epsrel = 1e-6)\n",
    "    \n",
    "    return np.sqrt(result[0])\n",
    "\n",
    "def dsigmasqdm_z0(M):\n",
    "    Radius = MtoR(M)\n",
    "        \n",
    "    # Calculating drdrm\n",
    "    drdm = 1.0 / (4.0*np.pi * cosmo.Om(0)*rhoCrit0 * Radius*Radius)\n",
    "    \n",
    "    # Defining the integrand\n",
    "    integrand = lambda logk: np.exp(logk)* PowerSpectrum(np.exp(logk)) *\\\n",
    "                             2* W(np.exp(logk), Radius) * dWdR(np.exp(logk), Radius) * drdm\n",
    "    \n",
    "    result = integrate.quad(integrand, np.log(interp_k[0]), np.log(interp_k[-1]), epsabs = 0, epsrel = 1e-6)\n",
    "    return result[0]\n",
    "\n",
    "############################################################################\n",
    "###   The above is slow so we will define some interpolating functions   ###\n",
    "############################################################################\n",
    "\n",
    "interp_m = np.geomspace(M_MIN, RtoM(512), 4001)\n",
    "interp_sigma = np.zeros_like(interp_m)\n",
    "interp_dsigma_dm = np.zeros_like(interp_m)\n",
    "\n",
    "for i in tqdm(range(len(interp_m))):\n",
    "    interp_sigma[i] = sigma_z0(interp_m[i])\n",
    "    interp_dsigma_dm[i] = dsigmasqdm_z0(interp_m[i])\n",
    "    \n",
    "sigma_z0 = interpolate.CubicSpline(interp_m, interp_sigma)\n",
    "dsigmasqdm_z0 = interpolate.CubicSpline(interp_m, interp_dsigma_dm)"
   ]
  },
  {
   "cell_type": "code",
   "execution_count": null,
   "metadata": {},
   "outputs": [],
   "source": [
    "np.save('./ResStack.npy', np.vstack((interp_m, interp_sigma, interp_dsigma_dm)))"
   ]
  },
  {
   "cell_type": "markdown",
   "metadata": {},
   "source": [
    "# Press Schechter and Sheth Tormen Mass Functions"
   ]
  },
  {
   "cell_type": "code",
   "execution_count": null,
   "metadata": {},
   "outputs": [],
   "source": [
    "# This is the Sheth-Tormen Mass Function. This is exactly taken from 21cmFAST, which is why the conventions\n",
    "# are a little bit weird. Anyways, this matches HMF precisely if the Sheth-Tormen parameteres are tuned\n",
    "# to match those used by 21cmFAST.\n",
    "def dNdM_st(M, z):\n",
    "    \n",
    "    growthf = dicke(z)\n",
    "\n",
    "    sigma = sigma_z0(M)\n",
    "    dsigmadm = dsigmasqdm_z0(M)\n",
    "\n",
    "    sigma = sigma * growthf\n",
    "    dsigmadm = dsigmadm * (growthf*growthf/(2.*sigma))\n",
    "\n",
    "    nuhat = np.sqrt(SHETH_a) * Deltac / sigma\n",
    "\n",
    "    return (-(cosmo.Om0)*rhoCrit0/M) * (dsigmadm/sigma) * np.sqrt(2./np.pi)*SHETH_A * (1+ pow(nuhat, -2*SHETH_p)) * nuhat * pow(np.e, -nuhat*nuhat/2.0);\n",
    "\n",
    "# This is the Press-Schechter Mass Function. This is taken exactly from 21cmFAST, which is why the conventions\n",
    "# are a little bit weird. This precisely matches the HMF module.\n",
    "def dNdM(M, z):\n",
    "    growthf = dicke(z)\n",
    "\n",
    "    sigma = sigma_z0(M);\n",
    "    dsigmadm = dsigmasqdm_z0(M);\n",
    "\n",
    "    sigma = sigma * growthf;\n",
    "    dsigmadm = dsigmadm * (growthf*growthf/(2.*sigma));\n",
    "\n",
    "    return (-(cosmo.Om0)*rhoCrit0/M) * np.sqrt(2/np.pi) * (Deltac/(sigma*sigma)) * dsigmadm * np.power(np.e, -(Deltac*Deltac)/(2*sigma*sigma));\n",
    "\n",
    "\n",
    "# I had to implement this myself. I'm not actually sure 21cmFAST does this totally correctly, but I think this\n",
    "# should be close enough. It comes from Eq. 7.81 in Galaxy \n",
    "\n",
    "# This is the conditional Press-Schechter\n",
    "def dNdM_Conditional(MR, deltaR, z):\n",
    "    \n",
    "    delta2 = deltaR / dicke(z)\n",
    "    delta1 = Deltac / dicke(z)\n",
    "    \n",
    "    S1 = sigma_z0(interp_m)**2\n",
    "    S2 = sigma_z0(MR)**2\n",
    "    \n",
    "    dS1_dM1 = dsigmasqdm_z0(interp_m)\n",
    "\n",
    "    n12 = (delta1 - delta2) / np.sqrt(S1 - S2)\n",
    "    differential = -interp_m * (delta1-delta2) / 2 / n12 / np.sqrt(S1-S2)**3*dS1_dM1\n",
    "    differential *= (S1 > S2)\n",
    "    \n",
    "    fPS = np.sqrt(2/np.pi)*n12*np.exp(-n12**2 / 2)\n",
    "    \n",
    "    return np.where(S1 > S2, 1 / interp_m**2 * fPS * np.abs(differential), np.nan) * (cosmo.Om0*rhoCrit0)"
   ]
  },
  {
   "cell_type": "markdown",
   "metadata": {},
   "source": [
    "# Generate Interpolation Tables"
   ]
  },
  {
   "cell_type": "code",
   "execution_count": null,
   "metadata": {},
   "outputs": [],
   "source": [
    "# These are me matching default behavior of 21cmFAST\n",
    "M_TURN = 5.012e+08\n",
    "M_MIN = M_TURN/50\n",
    "fStar10 = 0.05012\n",
    "alphaStar = 0.5\n",
    "\n",
    "tStar = 0.5"
   ]
  },
  {
   "cell_type": "code",
   "execution_count": null,
   "metadata": {},
   "outputs": [],
   "source": [
    "def f_star(mHalo):\n",
    "    return fStar10 * (mHalo / 1e10)**alphaStar\n",
    "\n",
    "def m_star(mHalo):\n",
    "    return f_star(mHalo) * cosmo.Ob0 / cosmo.Om0 * mHalo\n",
    "\n",
    "def m_star_dot(mHalo, z):\n",
    "    return m_star(mHalo) / tStar * cosmo.H(z).to('1/s').value \n",
    "\n",
    "def f_duty(mHalo):\n",
    "    return np.exp(-M_TURN / mHalo)"
   ]
  },
  {
   "cell_type": "code",
   "execution_count": null,
   "metadata": {
    "scrolled": true
   },
   "outputs": [],
   "source": [
    "z_range = np.linspace(0, 50, 128)\n",
    "delta_range = np.linspace(-1, 1.5, 128)\n",
    "r_range = np.linspace(.1, 512, 128)\n",
    "\n",
    "cond_sfrd = np.zeros((len(z_range), len(delta_range), len(r_range)))\n",
    "for i, z in enumerate(z_range):\n",
    "    \n",
    "    for j, delta in enumerate(delta_range):\n",
    "        print(i, j)\n",
    "        for k, r in enumerate(r_range):\n",
    "            \n",
    "            dndm_cond = np.nan_to_num(dNdM_Conditional(RtoM(r), delta, z))\n",
    "            integrand = dndm_cond*f_duty(interp_m) * m_star_dot(interp_m, z)\n",
    "            \n",
    "            cond_sfrd[i, j, k] = np.trapz(integrand, interp_m)"
   ]
  },
  {
   "cell_type": "code",
   "execution_count": null,
   "metadata": {},
   "outputs": [],
   "source": [
    "st_sfrd = np.zeros_like(z_range)\n",
    "\n",
    "\n",
    "for i in range(len(st_collapse)):\n",
    "    dndm_st = dNdM_st(interp_m, z_range[i])\n",
    "    integrand = dndm_st*f_duty(interp_m) * m_star_dot(interp_m, z_range[i])\n",
    "    \n",
    "    st_sfrd[i] = np.trapz(integrand, interp_m)"
   ]
  },
  {
   "cell_type": "code",
   "execution_count": null,
   "metadata": {},
   "outputs": [],
   "source": [
    "res_dict = dict()\n",
    "res_dict['SFRD_Params'] =np.array([z_range, delta_range, r_range], dtype = list)\n",
    "res_dict['Cond_SFRD_Table'] = cond_sfrd\n",
    "res_dict['ST_SFRD_Table'] = st_sfrd\n",
    "np.savez('./Interpolators.npz', **res_dict, allow_pickle = True)"
   ]
  }
 ],
 "metadata": {
  "kernelspec": {
   "display_name": "hmf",
   "language": "python",
   "name": "hmf"
  },
  "language_info": {
   "codemirror_mode": {
    "name": "ipython",
    "version": 3
   },
   "file_extension": ".py",
   "mimetype": "text/x-python",
   "name": "python",
   "nbconvert_exporter": "python",
   "pygments_lexer": "ipython3",
   "version": "3.11.5"
  }
 },
 "nbformat": 4,
 "nbformat_minor": 4
}
