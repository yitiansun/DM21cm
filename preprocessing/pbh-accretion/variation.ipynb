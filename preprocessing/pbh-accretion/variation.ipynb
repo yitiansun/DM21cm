{
 "cells": [
  {
   "cell_type": "code",
   "execution_count": null,
   "metadata": {},
   "outputs": [],
   "source": [
    "%reload_ext autoreload\n",
    "%autoreload 2\n",
    "\n",
    "import os\n",
    "import sys\n",
    "import numpy as np\n",
    "from astropy import units as u\n",
    "from astropy import constants as c\n",
    "from astropy.cosmology import Planck18 as cosmo\n",
    "from tqdm import tqdm\n",
    "\n",
    "import jax\n",
    "jax.config.update(\"jax_enable_x64\", True)\n",
    "import jax.numpy as jnp\n",
    "from functools import partial\n",
    "\n",
    "sys.path.append(os.environ['DM21CM_DIR'])\n",
    "from dm21cm.preprocessing.accretion import PBHAccretionModel\n",
    "\n",
    "sys.path.append(os.environ['DH_DIR'])\n",
    "from darkhistory import physics as dh_phys\n",
    "\n",
    "import matplotlib as mpl\n",
    "import matplotlib.pyplot as plt\n",
    "mpl.rc_file('../../plotting/matplotlibrc')"
   ]
  },
  {
   "cell_type": "markdown",
   "metadata": {},
   "source": [
    "# 1. Cosmo PBH"
   ]
  },
  {
   "cell_type": "code",
   "execution_count": null,
   "metadata": {},
   "outputs": [],
   "source": [
    "am = PBHAccretionModel(m_PBH=100, f_PBH=1, accretion_type='PR-ADAF', c_in=23)\n",
    "z = 10\n",
    "delta = ...\n",
    "T_k = ..."
   ]
  }
 ],
 "metadata": {
  "kernelspec": {
   "display_name": "dm21cm",
   "language": "python",
   "name": "python3"
  },
  "language_info": {
   "codemirror_mode": {
    "name": "ipython",
    "version": 3
   },
   "file_extension": ".py",
   "mimetype": "text/x-python",
   "name": "python",
   "nbconvert_exporter": "python",
   "pygments_lexer": "ipython3",
   "version": "3.11.5"
  }
 },
 "nbformat": 4,
 "nbformat_minor": 2
}
