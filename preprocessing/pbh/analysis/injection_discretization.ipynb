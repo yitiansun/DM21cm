{
 "cells": [
  {
   "cell_type": "code",
   "execution_count": 4,
   "metadata": {},
   "outputs": [],
   "source": [
    "%reload_ext autoreload\n",
    "%autoreload 2\n",
    "\n",
    "import os\n",
    "import sys\n",
    "import numpy as np\n",
    "import warnings\n",
    "\n",
    "import astropy.units as u\n",
    "import astropy.constants as c\n",
    "from scipy import interpolate\n",
    "\n",
    "from read import read_pbh, output_specs\n",
    "\n",
    "WDIR = os.environ['DM21CM_DIR']\n",
    "sys.path.append(WDIR)\n",
    "from dm21cm.injections.pbh import PBHInjection\n",
    "from dm21cm.utils import abscs\n",
    "\n",
    "%matplotlib inline\n",
    "import matplotlib as mpl\n",
    "import matplotlib.pyplot as plt\n",
    "from matplotlib import colormaps as cms\n",
    "mpl.rc_file(f\"{WDIR}/matplotlibrc\")"
   ]
  },
  {
   "cell_type": "code",
   "execution_count": 5,
   "metadata": {},
   "outputs": [
    {
     "name": "stdout",
     "output_type": "stream",
     "text": [
      "121 177\n",
      "1041030000000.0 19477500000000.0\n"
     ]
    }
   ],
   "source": [
    "injection = PBHInjection(\n",
    "    m_PBH=10**13.5,\n",
    "    f_PBH=1e-6,\n",
    ")\n",
    "injection.set_binning(abscs)"
   ]
  },
  {
   "cell_type": "code",
   "execution_count": 6,
   "metadata": {},
   "outputs": [],
   "source": [
    "rs_s = []\n",
    "rs = 3000\n",
    "dlnz = 0.001\n",
    "coarsen_factor = 1\n",
    "while rs > 4:\n",
    "    rs_s.append(rs)\n",
    "    rs = np.exp(np.log(rs) - dlnz * coarsen_factor)\n",
    "rs_s.append(rs)"
   ]
  },
  {
   "cell_type": "code",
   "execution_count": 13,
   "metadata": {},
   "outputs": [
    {
     "data": {
      "text/plain": [
       "array([1.25884931e+33, 1.56642903e+33, 1.90274427e+33, 2.25590284e+33,\n",
       "       2.61016660e+33, 3.02369563e+33, 3.61597216e+33, 4.35231850e+33,\n",
       "       5.14515073e+33, 5.97295034e+33, 6.79884937e+33, 7.76219401e+33,\n",
       "       9.13366795e+33, 1.08215103e+34, 1.26110686e+34, 1.48887272e+34,\n",
       "       1.77221342e+34, 2.07776977e+34, 2.39734303e+34, 2.71600100e+34,\n",
       "       3.08778778e+34, 3.61681429e+34, 4.26805189e+34, 4.95879671e+34,\n",
       "       5.84148732e+34, 6.94598391e+34, 8.14566472e+34, 9.72904341e+34,\n",
       "       1.17584421e+35, 1.40177016e+35, 1.70592700e+35, 2.09968259e+35,\n",
       "       2.54306357e+35, 1.38771246e+35])"
      ]
     },
     "execution_count": 13,
     "metadata": {},
     "output_type": "execute_result"
    }
   ],
   "source": [
    "z_power_s[:, 2]"
   ]
  },
  {
   "cell_type": "code",
   "execution_count": null,
   "metadata": {},
   "outputs": [],
   "source": []
  },
  {
   "cell_type": "code",
   "execution_count": 17,
   "metadata": {},
   "outputs": [
    {
     "data": {
      "text/plain": [
       "(-10.0, 100.0)"
      ]
     },
     "execution_count": 17,
     "metadata": {},
     "output_type": "execute_result"
    },
    {
     "data": {
      "image/png": "[encoded data removed]",
      "text/plain": [
       "<Figure size 900x600 with 1 Axes>"
      ]
     },
     "metadata": {},
     "output_type": "display_data"
    }
   ],
   "source": [
    "for rs in rs_s:\n",
    "    if rs > 800 and rs < 820:\n",
    "        plt.axvline(rs-1, color='k', linestyle='-', lw=0.2)\n",
    "\n",
    "g_in_eV = (u.g*c.c**2).to('eV').value\n",
    "for i, z in enumerate(injection.z_edges):\n",
    "    if z > 800 and z < 820:\n",
    "        if i == len(injection.z_edges) - 1:\n",
    "            break\n",
    "        dMdt = injection.dMdt_t(injection.t_s[i])\n",
    "        z_next = injection.z_edges[i+1]\n",
    "        power = injection.inj_power(z, z_end=z_next) / injection.n_PBH(z) / g_in_eV\n",
    "        plt.fill_between([z, z_next], [dMdt, dMdt], 0, color='r', alpha=0.5, ec='none')\n",
    "        # plt.plot([z, z_next], [power, power], color='k', lw=1)\n",
    "\n",
    "for i, rs in enumerate(rs_s):\n",
    "    z = rs - 1\n",
    "    if z > 800 and z < 820:\n",
    "        z_next = rs_s[i+1] - 1\n",
    "        power = injection.inj_power(z, z_end=z_next) / injection.n_PBH(z) / g_in_eV\n",
    "        plt.plot([z, z_next], [power, power], color='k', lw=1)\n",
    "\n",
    "plt.xlabel('Redshift z')\n",
    "plt.ylim(-10, 100)"
   ]
  },
  {
   "cell_type": "code",
   "execution_count": 24,
   "metadata": {},
   "outputs": [],
   "source": [
    "rs_s = []\n",
    "rs = 3000\n",
    "dlnz = 0.001\n",
    "coarsen_factor = 10\n",
    "while rs > 41:\n",
    "    rs_s.append(rs)\n",
    "    rs = np.exp(np.log(rs) - dlnz * coarsen_factor)\n",
    "rs_s.append(rs)"
   ]
  },
  {
   "cell_type": "code",
   "execution_count": null,
   "metadata": {},
   "outputs": [],
   "source": [
    "for i, rs in enumerate(rs_s):\n",
    "    z = rs - 1\n",
    "    if z > 800:\n",
    "        z_next = rs_s[i+1] - 1\n",
    "        power = injection.inj_power(z, z_end=z_next) / injection.n_PBH(z) / g_in_eV\n",
    "        power_inst = injection.inj_power(z) / injection.n_PBH(z) / g_in_eV\n",
    "        print(z, power, power_inst)"
   ]
  }
 ],
 "metadata": {
  "kernelspec": {
   "display_name": "dm21cm",
   "language": "python",
   "name": "python3"
  },
  "language_info": {
   "codemirror_mode": {
    "name": "ipython",
    "version": 3
   },
   "file_extension": ".py",
   "mimetype": "text/x-python",
   "name": "python",
   "nbconvert_exporter": "python",
   "pygments_lexer": "ipython3",
   "version": "3.11.5"
  }
 },
 "nbformat": 4,
 "nbformat_minor": 2
}
