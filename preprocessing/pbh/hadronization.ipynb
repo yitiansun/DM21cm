{
 "cells": [
  {
   "cell_type": "code",
   "execution_count": 2,
   "metadata": {},
   "outputs": [],
   "source": [
    "%reload_ext autoreload\n",
    "%autoreload 2\n",
    "\n",
    "import os\n",
    "import sys\n",
    "import numpy as np\n",
    "\n",
    "sys.path.append(os.environ['DH_DIR'])\n",
    "\n",
    "WDIR = os.environ['DM21CM_DIR']\n",
    "\n",
    "%matplotlib inline\n",
    "import matplotlib as mpl\n",
    "import matplotlib.pyplot as plt\n",
    "from matplotlib import colormaps as cms\n",
    "mpl.rc_file(f\"{WDIR}/matplotlibrc\")"
   ]
  },
  {
   "cell_type": "code",
   "execution_count": 22,
   "metadata": {},
   "outputs": [],
   "source": [
    "from darkhistory.config import load_data\n",
    "import darkhistory.physics as phys\n",
    "from darkhistory.spec.spectrum import Spectrum"
   ]
  },
  {
   "cell_type": "code",
   "execution_count": 24,
   "metadata": {},
   "outputs": [],
   "source": [
    "from read import read_pbh"
   ]
  },
  {
   "cell_type": "code",
   "execution_count": 46,
   "metadata": {},
   "outputs": [],
   "source": [
    "# Mass threshold for mDM to annihilate into the primaries.\n",
    "mass_threshold = {\n",
    "    'elec_delta': phys.mass['e'], 'phot_delta': 0.,\n",
    "    'e_L'   : phys.mass['e'],   'e_R': phys.mass['e'], \n",
    "    'e': phys.mass['e'],\n",
    "    'mu_L'  : phys.mass['mu'], 'mu_R': phys.mass['mu'], \n",
    "    'mu': phys.mass['mu'],\n",
    "    'tau_L' : phys.mass['tau'], 'tau_R' : phys.mass['tau'], \n",
    "    'tau': phys.mass['tau'],\n",
    "    'q'     : 0.,             'c': phys.mass['c'],   \n",
    "    'b'     : phys.mass['b'], 't': phys.mass['t'],\n",
    "    'W_L': phys.mass['W'], 'W_T'   : phys.mass['W'], 'W': phys.mass['W'],\n",
    "    'Z_L': phys.mass['Z'], 'Z_T'   : phys.mass['Z'], 'Z': phys.mass['Z'],\n",
    "    'g': 0., 'gamma' : 0., 'h': phys.mass['h'],\n",
    "    'nu_e': 0., 'nu_mu' : 0., 'nu_tau': 0.,\n",
    "    'VV_to_4e'   : 2*phys.mass['e'], 'VV_to_4mu' : 2*phys.mass['mu'], \n",
    "    'VV_to_4tau' : 2*phys.mass['tau']\n",
    "}\n",
    "\n",
    "def get_pppc_spec(pri, pri_spec, sec, sec_eng):\n",
    "    \"\"\"Returns the PPPC4DMID seconadry spectrum for a given primary spectrum.\n",
    "\n",
    "    These results include electroweak\n",
    "    corrections. The full list of allowed channels is: \n",
    "\n",
    "    - Leptons: ``e_L, e_R, e, mu_L, mu_R, mu, tau_L, tau_R, tau``\n",
    "    - Quarks:  ``q, c, b, t``\n",
    "    - Gauge bosons: ``gamma, g, W_L, W_T, W, Z_L, Z_T, Z``\n",
    "    - Higgs: ``h``\n",
    "\n",
    "    Variables with subscripts, e.g. ``e_L``, correspond to particles with different\n",
    "    polarizations. These polarizations are suitably averaged to obtain the spectra\n",
    "    returned in their corresponding variables without subscripts, e.g. ``e``. \n",
    "\n",
    "    Args:\n",
    "        pri (str): The primary channel.\n",
    "        pri_spec (Spectrum): The input spectrum (kinetic + mass).\n",
    "        sec {'elec', 'phot'}: The secondary channel.\n",
    "        sec_eng (array): The energy array for the secondary spectrum.\n",
    "\n",
    "    Returns:\n",
    "        Spectrum: The secondary spectrum with sec_eng as the energy array.\n",
    "    \"\"\"\n",
    "\n",
    "    dlNdlxIEW_interp = load_data('pppc')\n",
    "\n",
    "    n_bin_to_interp = 10000\n",
    "    sec_eng = np.geomspace(sec_eng[0], sec_eng[-1], n_bin_to_interp)\n",
    "\n",
    "    pri_spec.switch_spec_type('N')\n",
    "    spec = Spectrum(sec_eng, np.zeros_like(sec_eng), spec_type='dNdE')\n",
    "    for N_in, E_in in zip(pri_spec.N, pri_spec.eng):\n",
    "\n",
    "        E_in_GeV = E_in/1e9\n",
    "        if not (5 < E_in_GeV < 1e5):\n",
    "            continue\n",
    "    \n",
    "        log10x = np.log10(sec_eng/E_in)\n",
    "        dN_dlog10x = 10**dlNdlxIEW_interp[sec][pri].get_val(E_in/1e9, log10x)\n",
    "\n",
    "        # dN/dE = dN/dlog10x * dlog10x/dE\n",
    "        spec.dNdE += N_in * dN_dlog10x/(sec_eng*np.log(10))\n",
    "    \n",
    "    # Rebin down to the original binning.\n",
    "    # The highest bin of spec.eng should be the same as eng[-1], based on\n",
    "    # the interpolation strategy above. However, sometimes a floating point\n",
    "    # error is picked up. We'll get rid of this so that rebin doesn't\n",
    "    # complain.\n",
    "    spec.eng[-1] = sec_eng[-1]\n",
    "    spec.rebin(sec_eng)\n",
    "        \n",
    "    return spec"
   ]
  },
  {
   "cell_type": "code",
   "execution_count": 26,
   "metadata": {},
   "outputs": [],
   "source": [
    "results_dir = '/n/home07/yitians/dm21cm/blackhawk/BlackHawk_v2.2/results'\n",
    "run_name = 'm13.200_sec'\n",
    "\n",
    "run_dir = f\"{results_dir}/{run_name}\""
   ]
  },
  {
   "cell_type": "code",
   "execution_count": 32,
   "metadata": {},
   "outputs": [
    {
     "data": {
      "text/plain": [
       "dict_keys(['E', 't', 'dN_dEdt', 'units'])"
      ]
     },
     "execution_count": 32,
     "metadata": {},
     "output_type": "execute_result"
    }
   ],
   "source": [
    "sec_spec = read_pbh(run_dir, 'primary', particle='up')\n",
    "sec_spec.keys()"
   ]
  },
  {
   "cell_type": "code",
   "execution_count": 51,
   "metadata": {},
   "outputs": [
    {
     "name": "stdout",
     "output_type": "stream",
     "text": [
      "2.0980100510582354e+32\n"
     ]
    }
   ],
   "source": [
    "in_spec = Spectrum(sec_spec['E'], sec_spec['dN_dEdt'][50], spec_type='dNdE')\n",
    "print(in_spec.toteng())"
   ]
  },
  {
   "cell_type": "code",
   "execution_count": 50,
   "metadata": {},
   "outputs": [
    {
     "data": {
      "text/plain": [
       "<matplotlib.lines.Line2D at 0x7f79f2d7e610>"
      ]
     },
     "execution_count": 50,
     "metadata": {},
     "output_type": "execute_result"
    },
    {
     "data": {
      "image/png": "[encoded data removed]",
      "text/plain": [
       "<Figure size 720x480 with 1 Axes>"
      ]
     },
     "metadata": {},
     "output_type": "display_data"
    }
   ],
   "source": [
    "plt.plot(sec_spec['E'], sec_spec['dN_dEdt'][50])\n",
    "plt.loglog()\n",
    "plt.axvline(5e9)\n",
    "plt.axvline(1e14)"
   ]
  },
  {
   "cell_type": "code",
   "execution_count": 54,
   "metadata": {},
   "outputs": [
    {
     "name": "stdout",
     "output_type": "stream",
     "text": [
      "5.706458899588104e+30\n",
      "1.0539266721650763e+31\n"
     ]
    }
   ],
   "source": [
    "spec_out = get_pppc_spec('q', in_spec, 'elec', binning['elecE'])\n",
    "print(spec_out.toteng())\n",
    "spec_out = get_pppc_spec('q', in_spec, 'phot', binning['photE'])\n",
    "print(spec_out.toteng())"
   ]
  },
  {
   "cell_type": "code",
   "execution_count": 49,
   "metadata": {},
   "outputs": [
    {
     "data": {
      "text/plain": [
       "5.706458899588104e+30"
      ]
     },
     "execution_count": 49,
     "metadata": {},
     "output_type": "execute_result"
    }
   ],
   "source": [
    "spec_out.toteng()"
   ]
  },
  {
   "cell_type": "code",
   "execution_count": null,
   "metadata": {},
   "outputs": [],
   "source": []
  },
  {
   "cell_type": "code",
   "execution_count": null,
   "metadata": {},
   "outputs": [],
   "source": []
  },
  {
   "cell_type": "code",
   "execution_count": null,
   "metadata": {},
   "outputs": [],
   "source": []
  },
  {
   "cell_type": "code",
   "execution_count": 6,
   "metadata": {},
   "outputs": [],
   "source": [
    "binning = load_data('binning')"
   ]
  },
  {
   "cell_type": "code",
   "execution_count": 14,
   "metadata": {},
   "outputs": [
    {
     "data": {
      "text/plain": [
       "1.029782576544676"
      ]
     },
     "execution_count": 14,
     "metadata": {},
     "output_type": "execute_result"
    }
   ],
   "source": [
    "np.min(binning['elecE'])"
   ]
  },
  {
   "cell_type": "code",
   "execution_count": 15,
   "metadata": {},
   "outputs": [
    {
     "name": "stdout",
     "output_type": "stream",
     "text": [
      "999\n",
      "1997\n",
      "3993\n",
      "7985\n",
      "15969\n",
      "31937\n",
      "63873\n",
      "127745\n",
      "255489\n",
      "510977\n",
      "1021953\n"
     ]
    }
   ],
   "source": [
    "eng = np.copy(binning['elecE'])\n",
    "mDM = 1e7\n",
    "\n",
    "log10x = np.log10(eng/mDM)\n",
    "\n",
    "# Refine the binning so that the spectrum is accurate. \n",
    "# Do this by checking that in the relevant range, there are at\n",
    "# least 50,000 bins. If not, double (unless an absurd number\n",
    "# of bins already).\n",
    "if (\n",
    "    log10x[(log10x < 1) & (log10x > 1e-9)].size > 0\n",
    "    and log10x.size < 500000\n",
    "):\n",
    "    while log10x[(log10x < 1) & (log10x > 1e-9)].size < 50000:\n",
    "        log10x = np.interp(\n",
    "            np.arange(0, log10x.size-0.5, 0.5), \n",
    "            np.arange(log10x.size), \n",
    "            log10x\n",
    "        )\n",
    "        print(log10x.size)\n",
    "# Get the interpolator. \n",
    "dlNdlxIEW_interp = load_data('pppc')\n"
   ]
  },
  {
   "cell_type": "code",
   "execution_count": 16,
   "metadata": {},
   "outputs": [
    {
     "data": {
      "text/plain": [
       "[<matplotlib.lines.Line2D at 0x7f79f906a1d0>]"
      ]
     },
     "execution_count": 16,
     "metadata": {},
     "output_type": "execute_result"
    },
    {
     "data": {
      "image/png": "[encoded data removed]",
      "text/plain": [
       "<Figure size 720x480 with 1 Axes>"
      ]
     },
     "metadata": {},
     "output_type": "display_data"
    }
   ],
   "source": [
    "plt.plot(log10x)"
   ]
  },
  {
   "cell_type": "code",
   "execution_count": null,
   "metadata": {},
   "outputs": [],
   "source": [
    "\n",
    "# Get the spectrum from the interpolator.\n",
    "dN_dlog10x = 10**dlNdlxIEW_interp[sec][pri].get_val(mDM/1e9, log10x)\n",
    "\n",
    "# Recall that dN/dE = dN/dlog10x * dlog10x/dE\n",
    "x = 10**log10x\n",
    "spec = Spectrum(x*mDM, dN_dlog10x/(x*mDM*np.log(10)), spec_type='dNdE')\n",
    "\n",
    "# Rebin down to the original binning.\n",
    "\n",
    "# The highest bin of spec.eng should be the same as eng[-1], based on\n",
    "# the interpolation strategy above. However, sometimes a floating point\n",
    "# error is picked up. We'll get rid of this so that rebin doesn't\n",
    "# complain.\n",
    "spec.eng[-1] = eng[-1]\n",
    "spec.rebin(eng)"
   ]
  },
  {
   "cell_type": "code",
   "execution_count": 20,
   "metadata": {},
   "outputs": [
    {
     "name": "stdout",
     "output_type": "stream",
     "text": [
      "/n/holystore01/LABS/iaifi_lab/Users/yitians/darkhistory/DHdata_hdf5/full\n"
     ]
    }
   ],
   "source": [
    "import json\n",
    "data_path = os.environ['DH_DATA_DIR']\n",
    "print(data_path)"
   ]
  },
  {
   "cell_type": "code",
   "execution_count": 21,
   "metadata": {},
   "outputs": [],
   "source": [
    "coords_data = np.array(json.load(open(data_path+'/dlNdlxIEW_coords_table.json')), dtype=object)"
   ]
  },
  {
   "cell_type": "code",
   "execution_count": null,
   "metadata": {},
   "outputs": [],
   "source": [
    "coords_data"
   ]
  },
  {
   "cell_type": "code",
   "execution_count": 4,
   "metadata": {},
   "outputs": [
    {
     "data": {
      "text/plain": [
       "{'elec': {'e_L': <darkhistory.config.PchipInterpolator2D at 0x7f7a037a59d0>,\n",
       "  'e_R': <darkhistory.config.PchipInterpolator2D at 0x7f79fb404b50>,\n",
       "  'e': <darkhistory.config.PchipInterpolator2D at 0x7f79f9426910>,\n",
       "  'mu_L': <darkhistory.config.PchipInterpolator2D at 0x7f79f9426ad0>,\n",
       "  'mu_R': <darkhistory.config.PchipInterpolator2D at 0x7f79f9426e10>,\n",
       "  'mu': <darkhistory.config.PchipInterpolator2D at 0x7f79f9427090>,\n",
       "  'tau_L': <darkhistory.config.PchipInterpolator2D at 0x7f79f9427250>,\n",
       "  'tau_R': <darkhistory.config.PchipInterpolator2D at 0x7f79f94275d0>,\n",
       "  'tau': <darkhistory.config.PchipInterpolator2D at 0x7f79f9427850>,\n",
       "  'q': <darkhistory.config.PchipInterpolator2D at 0x7f79f9427a10>,\n",
       "  'c': <darkhistory.config.PchipInterpolator2D at 0x7f79f9427d50>,\n",
       "  'b': <darkhistory.config.PchipInterpolator2D at 0x7f79f9427fd0>,\n",
       "  't': <darkhistory.config.PchipInterpolator2D at 0x7f79f92f0290>,\n",
       "  'W_L': <darkhistory.config.PchipInterpolator2D at 0x7f79f92f0510>,\n",
       "  'W_T': <darkhistory.config.PchipInterpolator2D at 0x7f79f92f0790>,\n",
       "  'W': <darkhistory.config.PchipInterpolator2D at 0x7f79f92f0a10>,\n",
       "  'Z_L': <darkhistory.config.PchipInterpolator2D at 0x7f79f92f0bd0>,\n",
       "  'Z_T': <darkhistory.config.PchipInterpolator2D at 0x7f79f92f0f10>,\n",
       "  'Z': <darkhistory.config.PchipInterpolator2D at 0x7f79f92f1190>,\n",
       "  'g': <darkhistory.config.PchipInterpolator2D at 0x7f79f92f1350>,\n",
       "  'gamma': <darkhistory.config.PchipInterpolator2D at 0x7f79f92f1690>,\n",
       "  'h': <darkhistory.config.PchipInterpolator2D at 0x7f79f92f1910>,\n",
       "  'nu_e': <darkhistory.config.PchipInterpolator2D at 0x7f79f92f1b90>,\n",
       "  'nu_mu': <darkhistory.config.PchipInterpolator2D at 0x7f79f92f1e10>,\n",
       "  'nu_tau': <darkhistory.config.PchipInterpolator2D at 0x7f79f92f2090>,\n",
       "  'VV_to_4e': <darkhistory.config.PchipInterpolator2D at 0x7f79f92f2310>,\n",
       "  'VV_to_4mu': <darkhistory.config.PchipInterpolator2D at 0x7f79f92f2650>,\n",
       "  'VV_to_4tau': <darkhistory.config.PchipInterpolator2D at 0x7f79f92f28d0>},\n",
       " 'phot': {'e_L': <darkhistory.config.PchipInterpolator2D at 0x7f7a03c31950>,\n",
       "  'e_R': <darkhistory.config.PchipInterpolator2D at 0x7f7a03c49a10>,\n",
       "  'e': <darkhistory.config.PchipInterpolator2D at 0x7f79f94269d0>,\n",
       "  'mu_L': <darkhistory.config.PchipInterpolator2D at 0x7f79f9426cd0>,\n",
       "  'mu_R': <darkhistory.config.PchipInterpolator2D at 0x7f79f9426f50>,\n",
       "  'mu': <darkhistory.config.PchipInterpolator2D at 0x7f79f9427190>,\n",
       "  'tau_L': <darkhistory.config.PchipInterpolator2D at 0x7f79f9427490>,\n",
       "  'tau_R': <darkhistory.config.PchipInterpolator2D at 0x7f79f9427710>,\n",
       "  'tau': <darkhistory.config.PchipInterpolator2D at 0x7f79f9427910>,\n",
       "  'q': <darkhistory.config.PchipInterpolator2D at 0x7f79f9427c10>,\n",
       "  'c': <darkhistory.config.PchipInterpolator2D at 0x7f79f9427e90>,\n",
       "  'b': <darkhistory.config.PchipInterpolator2D at 0x7f79f92f0150>,\n",
       "  't': <darkhistory.config.PchipInterpolator2D at 0x7f79f92f03d0>,\n",
       "  'W_L': <darkhistory.config.PchipInterpolator2D at 0x7f79f92f0650>,\n",
       "  'W_T': <darkhistory.config.PchipInterpolator2D at 0x7f79f92f08d0>,\n",
       "  'W': <darkhistory.config.PchipInterpolator2D at 0x7f79f92f0ad0>,\n",
       "  'Z_L': <darkhistory.config.PchipInterpolator2D at 0x7f79f92f0dd0>,\n",
       "  'Z_T': <darkhistory.config.PchipInterpolator2D at 0x7f79f92f1050>,\n",
       "  'Z': <darkhistory.config.PchipInterpolator2D at 0x7f79f92f1250>,\n",
       "  'g': <darkhistory.config.PchipInterpolator2D at 0x7f79f92f1550>,\n",
       "  'gamma': <darkhistory.config.PchipInterpolator2D at 0x7f79f92f17d0>,\n",
       "  'h': <darkhistory.config.PchipInterpolator2D at 0x7f79f92f1a50>,\n",
       "  'nu_e': <darkhistory.config.PchipInterpolator2D at 0x7f79f92f1cd0>,\n",
       "  'nu_mu': <darkhistory.config.PchipInterpolator2D at 0x7f79f92f1f50>,\n",
       "  'nu_tau': <darkhistory.config.PchipInterpolator2D at 0x7f79f92f21d0>,\n",
       "  'VV_to_4e': <darkhistory.config.PchipInterpolator2D at 0x7f79f92f2510>,\n",
       "  'VV_to_4mu': <darkhistory.config.PchipInterpolator2D at 0x7f79f92f2790>,\n",
       "  'VV_to_4tau': <darkhistory.config.PchipInterpolator2D at 0x7f79f92f2a10>}}"
      ]
     },
     "execution_count": 4,
     "metadata": {},
     "output_type": "execute_result"
    }
   ],
   "source": [
    "load_data('pppc')"
   ]
  },
  {
   "cell_type": "code",
   "execution_count": null,
   "metadata": {},
   "outputs": [],
   "source": []
  }
 ],
 "metadata": {
  "kernelspec": {
   "display_name": "dm21cm",
   "language": "python",
   "name": "python3"
  },
  "language_info": {
   "codemirror_mode": {
    "name": "ipython",
    "version": 3
   },
   "file_extension": ".py",
   "mimetype": "text/x-python",
   "name": "python",
   "nbconvert_exporter": "python",
   "pygments_lexer": "ipython3",
   "version": "3.11.5"
  }
 },
 "nbformat": 4,
 "nbformat_minor": 2
}
