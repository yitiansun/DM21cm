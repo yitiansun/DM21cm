{
 "cells": [
  {
   "cell_type": "code",
   "execution_count": 1,
   "metadata": {},
   "outputs": [],
   "source": [
    "%reload_ext autoreload\n",
    "%autoreload 2\n",
    "\n",
    "import os\n",
    "import sys\n",
    "import numpy as np\n",
    "\n",
    "import astropy.units as u\n",
    "import astropy.constants as c\n",
    "\n",
    "import warnings\n",
    "\n",
    "from read import read_pbh, output_specs\n",
    "\n",
    "WDIR = os.environ['DM21CM_DIR']\n",
    "sys.path.append(WDIR)\n",
    "\n",
    "%matplotlib inline\n",
    "import matplotlib as mpl\n",
    "import matplotlib.pyplot as plt\n",
    "from matplotlib import colormaps as cms\n",
    "mpl.rc_file(f\"{WDIR}/matplotlibrc\")"
   ]
  },
  {
   "cell_type": "code",
   "execution_count": 4,
   "metadata": {},
   "outputs": [],
   "source": [
    "from scipy import interpolate\n",
    "from dm21cm.utils import load_h5_dict"
   ]
  },
  {
   "cell_type": "code",
   "execution_count": 7,
   "metadata": {},
   "outputs": [],
   "source": [
    "from read import read_pbh"
   ]
  },
  {
   "cell_type": "code",
   "execution_count": 9,
   "metadata": {},
   "outputs": [],
   "source": [
    "results_dir = '/n/home07/yitians/dm21cm/blackhawk/BlackHawk_v2.2/results'\n",
    "run_name = 'm13.200_sec'\n",
    "\n",
    "run_dir = f\"{results_dir}/{run_name}\"\n",
    "\n",
    "evol_data = read_pbh(run_dir, 'evolution')"
   ]
  },
  {
   "cell_type": "code",
   "execution_count": 11,
   "metadata": {},
   "outputs": [
    {
     "data": {
      "text/plain": [
       "(689,)"
      ]
     },
     "execution_count": 11,
     "metadata": {},
     "output_type": "execute_result"
    }
   ],
   "source": [
    "evol_data['t'].shape"
   ]
  },
  {
   "cell_type": "code",
   "execution_count": 14,
   "metadata": {},
   "outputs": [
    {
     "name": "stdout",
     "output_type": "stream",
     "text": [
      "(689,)\n",
      "(689,)\n"
     ]
    }
   ],
   "source": [
    "m_PBH = 10**13.2 # [g]\n",
    "data_dir = f'{WDIR}/data/pbh'\n",
    "data = load_h5_dict(f'{data_dir}/pbh_logm{np.log10(m_PBH):.3f}.h5')\n",
    "t_arr = data['t'] # [s]\n",
    "\n",
    "print(t_arr.shape)\n",
    "print(data['M'].shape)\n",
    "\n",
    "M_t = interpolate.interp1d(t_arr, data['M'], bounds_error=False, fill_value=0) # [g]([s])\n",
    "i_start = np.where(t_arr > 1e10)[0][0] # [s]\n",
    "with warnings.catch_warnings():\n",
    "    warnings.simplefilter(\"ignore\")\n",
    "    dMdt = np.abs(np.gradient(data['M'][i_start:], t_arr[i_start:])) # [g/s]\n",
    "dMdt_t = interpolate.interp1d(t_arr[i_start:], dMdt, bounds_error=False, fill_value=0) # [g/s]([s])"
   ]
  },
  {
   "cell_type": "code",
   "execution_count": 15,
   "metadata": {},
   "outputs": [],
   "source": [
    "from astropy.cosmology import Planck18 as cosmo"
   ]
  },
  {
   "cell_type": "code",
   "execution_count": 16,
   "metadata": {},
   "outputs": [
    {
     "name": "stdout",
     "output_type": "stream",
     "text": [
      "3.694467295937175e+16\n"
     ]
    },
    {
     "data": {
      "text/plain": [
       "array(0.)"
      ]
     },
     "execution_count": 16,
     "metadata": {},
     "output_type": "execute_result"
    }
   ],
   "source": [
    "t = cosmo.age(6-1).to(u.s).value # [s]\n",
    "print(t)\n",
    "dMdt_t(t)"
   ]
  },
  {
   "cell_type": "code",
   "execution_count": 20,
   "metadata": {},
   "outputs": [
    {
     "data": {
      "image/png": "[encoded data removed]",
      "text/plain": [
       "<Figure size 720x480 with 1 Axes>"
      ]
     },
     "metadata": {},
     "output_type": "display_data"
    }
   ],
   "source": [
    "t = np.geomspace(1e7, 1e17, 100)\n",
    "plt.plot(t, dMdt_t(t), label='M')\n",
    "plt.xscale('log')\n",
    "plt.yscale('log')"
   ]
  },
  {
   "cell_type": "code",
   "execution_count": 25,
   "metadata": {},
   "outputs": [
    {
     "data": {
      "text/plain": [
       "array([0.        , 0.        , 0.        , 0.        , 0.        ,\n",
       "       0.        , 0.        , 0.        , 0.        , 0.        ,\n",
       "       0.        , 0.        , 0.        , 0.        , 0.        ,\n",
       "       0.        , 0.        , 0.        , 0.        , 0.        ,\n",
       "       0.        , 0.        , 0.        , 0.        , 0.        ,\n",
       "       0.        , 0.        , 0.        , 0.        , 0.        ,\n",
       "       0.        , 0.        , 2.37990842, 2.38131054, 2.38307981,\n",
       "       2.38573752, 2.39080771, 2.39720557, 2.4056848 , 2.41784899,\n",
       "       2.43319846, 2.45404718, 2.48515404, 2.525291  , 2.5779035 ,\n",
       "       2.64876525, 2.74536268, 2.88234178, 3.07950195, 3.38424169,\n",
       "       3.88502996, 4.87840624, 7.66393672, 0.        , 0.        ,\n",
       "       0.        , 0.        , 0.        , 0.        , 0.        ,\n",
       "       0.        , 0.        , 0.        , 0.        , 0.        ,\n",
       "       0.        , 0.        , 0.        , 0.        , 0.        ,\n",
       "       0.        , 0.        , 0.        , 0.        , 0.        ,\n",
       "       0.        , 0.        , 0.        , 0.        , 0.        ,\n",
       "       0.        , 0.        , 0.        , 0.        , 0.        ,\n",
       "       0.        , 0.        , 0.        , 0.        , 0.        ,\n",
       "       0.        , 0.        , 0.        , 0.        , 0.        ,\n",
       "       0.        , 0.        , 0.        , 0.        , 0.        ])"
      ]
     },
     "execution_count": 25,
     "metadata": {},
     "output_type": "execute_result"
    }
   ],
   "source": [
    "t = np.geomspace(1e7, 1e17, 100)\n",
    "a = dMdt_t(t)\n",
    "a"
   ]
  },
  {
   "cell_type": "code",
   "execution_count": 29,
   "metadata": {},
   "outputs": [],
   "source": [
    "sys.path.append(os.environ['DH_DIR'])\n",
    "import darkhistory.physics as phys"
   ]
  },
  {
   "cell_type": "code",
   "execution_count": 30,
   "metadata": {},
   "outputs": [
    {
     "name": "stdout",
     "output_type": "stream",
     "text": [
      "2882.3683174569696\n"
     ]
    }
   ],
   "source": [
    "rs_s = []\n",
    "dt_s = []\n",
    "dM_s = []\n",
    "rs = 3000\n",
    "coarsen_factor = 10\n",
    "dlnz = 0.001\n",
    "while rs > 4: # darkhistory loop\n",
    "    dt = dlnz * coarsen_factor / phys.hubble(rs)\n",
    "    t = cosmo.age(rs-1).to(u.s).value # [s]\n",
    "    dM = dMdt_t(t) * dt\n",
    "    rs_s.append(rs)\n",
    "    dt_s.append(dt)\n",
    "    dM_s.append(dM)\n",
    "    rs = np.exp(np.log(rs) - dlnz * coarsen_factor) # next_rs\n",
    "\n",
    "i_final_inj = np.nonzero(dM_s)[0][-1]\n",
    "rs_final_inj = rs_s[i_final_inj]\n",
    "print(rs_final_inj)"
   ]
  },
  {
   "cell_type": "code",
   "execution_count": 34,
   "metadata": {},
   "outputs": [
    {
     "data": {
      "text/plain": [
       "4"
      ]
     },
     "execution_count": 34,
     "metadata": {},
     "output_type": "execute_result"
    }
   ],
   "source": [
    "i_final_inj"
   ]
  },
  {
   "cell_type": "code",
   "execution_count": 39,
   "metadata": {},
   "outputs": [
    {
     "data": {
      "text/plain": [
       "0.0"
      ]
     },
     "execution_count": 39,
     "metadata": {},
     "output_type": "execute_result"
    }
   ],
   "source": [
    "dM_s[i_final_inj+1]"
   ]
  },
  {
   "cell_type": "code",
   "execution_count": 33,
   "metadata": {},
   "outputs": [
    {
     "data": {
      "text/plain": [
       "7.66393672207485"
      ]
     },
     "execution_count": 33,
     "metadata": {},
     "output_type": "execute_result"
    }
   ],
   "source": [
    "i = np.nonzero(a)[0][-1]\n",
    "a[i]"
   ]
  },
  {
   "cell_type": "code",
   "execution_count": 27,
   "metadata": {},
   "outputs": [],
   "source": [
    "zero_spec = data['phot dNdEdt'][0] * 0.\n",
    "phot_dNdEdt_interp = interpolate.interp1d(t_arr, data['phot dNdEdt'], axis=0, bounds_error=False, fill_value=zero_spec) # [phot / eV s BH]\n",
    "elec_dNdEdt_interp = interpolate.interp1d(t_arr, data['elec dNdEdt'], axis=0, bounds_error=False, fill_value=zero_spec) # [elec / eV s BH]"
   ]
  },
  {
   "cell_type": "code",
   "execution_count": 46,
   "metadata": {},
   "outputs": [
    {
     "data": {
      "text/plain": [
       "dict_keys(['elec', 'elecE', 'eleceng', 'ics_eng', 'ics_eng_1k', 'ics_rel_eng', 'ics_rel_eng_1k', 'phot', 'photE', 'photeng', 'rs0', 'rs1', 'rs2', 'xH0', 'xH1', 'xHe0'])"
      ]
     },
     "execution_count": 46,
     "metadata": {},
     "output_type": "execute_result"
    }
   ],
   "source": [
    "from darkhistory.config import load_data\n",
    "from darkhistory.spec.spectrum import Spectrum\n",
    "binning = load_data('binning')\n",
    "binning.keys()"
   ]
  },
  {
   "cell_type": "code",
   "execution_count": 49,
   "metadata": {},
   "outputs": [
    {
     "name": "stderr",
     "output_type": "stream",
     "text": [
      "/n/home07/yitians/.conda/envs/dm21cm/lib/python3.11/site-packages/scipy/interpolate/_interpolate.py:701: RuntimeWarning: divide by zero encountered in divide\n",
      "  slope = (y_hi - y_lo) / (x_hi - x_lo)[:, None]\n",
      "/n/home07/yitians/.conda/envs/dm21cm/lib/python3.11/site-packages/scipy/interpolate/_interpolate.py:701: RuntimeWarning: invalid value encountered in divide\n",
      "  slope = (y_hi - y_lo) / (x_hi - x_lo)[:, None]\n"
     ]
    },
    {
     "data": {
      "text/plain": [
       "0.0"
      ]
     },
     "execution_count": 49,
     "metadata": {},
     "output_type": "execute_result"
    }
   ],
   "source": [
    "rs = rs_s[i_final_inj+1]\n",
    "t = cosmo.age(rs-1).to(u.s).value # [s]\n",
    "dNdEdt = phot_dNdEdt_interp(t)\n",
    "s = Spectrum(binning['photE'], dNdEdt, spec_type = 'dNdE')\n",
    "s.toteng()"
   ]
  },
  {
   "cell_type": "markdown",
   "metadata": {},
   "source": [
    "# PBHInjection"
   ]
  },
  {
   "cell_type": "code",
   "execution_count": 3,
   "metadata": {},
   "outputs": [],
   "source": [
    "from dm21cm.injections.pbh import PBHInjection\n",
    "from dm21cm.utils import load_h5_dict"
   ]
  },
  {
   "cell_type": "code",
   "execution_count": 6,
   "metadata": {},
   "outputs": [],
   "source": [
    "data_dir = os.environ['DM21CM_DATA_DIR']\n",
    "abscs = load_h5_dict(f\"{data_dir}/abscissas.h5\")\n",
    "inj = PBHInjection(m_PBH=10**13.2)\n",
    "inj.set_binning(abscs)\n",
    "inj.init_final_inj(start_rs=3000, end_rs=5, coarsen_factor=10, dlnz=0.001)"
   ]
  },
  {
   "cell_type": "code",
   "execution_count": 7,
   "metadata": {},
   "outputs": [
    {
     "data": {
      "text/plain": [
       "1.6693999842197502"
      ]
     },
     "execution_count": 7,
     "metadata": {},
     "output_type": "execute_result"
    }
   ],
   "source": [
    "inj.inj_multiplier_final"
   ]
  },
  {
   "cell_type": "code",
   "execution_count": 8,
   "metadata": {},
   "outputs": [
    {
     "data": {
      "text/plain": [
       "2882.3683174569696"
      ]
     },
     "execution_count": 8,
     "metadata": {},
     "output_type": "execute_result"
    }
   ],
   "source": [
    "inj.rs_final_inj"
   ]
  },
  {
   "cell_type": "code",
   "execution_count": 15,
   "metadata": {},
   "outputs": [
    {
     "ename": "AttributeError",
     "evalue": "'PBHInjection' object has no attribute 'z_final_inj'",
     "output_type": "error",
     "traceback": [
      "\u001b[0;31m---------------------------------------------------------------------------\u001b[0m",
      "\u001b[0;31mAttributeError\u001b[0m                            Traceback (most recent call last)",
      "Cell \u001b[0;32mIn[15], line 1\u001b[0m\n\u001b[0;32m----> 1\u001b[0m plt\u001b[38;5;241m.\u001b[39mplot(abscs[\u001b[38;5;124m'\u001b[39m\u001b[38;5;124mphotE\u001b[39m\u001b[38;5;124m'\u001b[39m], \u001b[43minj\u001b[49m\u001b[38;5;241;43m.\u001b[39;49m\u001b[43minj_phot_spec\u001b[49m\u001b[43m(\u001b[49m\u001b[38;5;241;43m2881\u001b[39;49m\u001b[43m)\u001b[49m\u001b[38;5;241m.\u001b[39mN \u001b[38;5;241m/\u001b[39m inj\u001b[38;5;241m.\u001b[39minj_phot_spec(\u001b[38;5;241m2881\u001b[39m)\u001b[38;5;241m.\u001b[39mtoteng())\n\u001b[1;32m      2\u001b[0m plt\u001b[38;5;241m.\u001b[39mplot(abscs[\u001b[38;5;124m'\u001b[39m\u001b[38;5;124mphotE\u001b[39m\u001b[38;5;124m'\u001b[39m], inj\u001b[38;5;241m.\u001b[39minj_phot_spec_final(\u001b[38;5;241m2881\u001b[39m)\u001b[38;5;241m.\u001b[39mN \u001b[38;5;241m/\u001b[39m inj\u001b[38;5;241m.\u001b[39minj_phot_spec_final(\u001b[38;5;241m2881\u001b[39m)\u001b[38;5;241m.\u001b[39mtoteng())\n\u001b[1;32m      3\u001b[0m plt\u001b[38;5;241m.\u001b[39mloglog()\n",
      "File \u001b[0;32m~/dm21cm/DM21cm/dm21cm/injections/pbh.py:132\u001b[0m, in \u001b[0;36mPBHInjection.inj_phot_spec\u001b[0;34m(self, z, **kwargs)\u001b[0m\n\u001b[1;32m    130\u001b[0m dNdEdt \u001b[38;5;241m=\u001b[39m \u001b[38;5;28mself\u001b[39m\u001b[38;5;241m.\u001b[39mphot_dNdEdt_interp(phys\u001b[38;5;241m.\u001b[39mt_z(z)) \u001b[38;5;241m*\u001b[39m \u001b[38;5;28mself\u001b[39m\u001b[38;5;241m.\u001b[39mn_PBH(z) \u001b[38;5;66;03m# [phot / pcm^3 eV s]\u001b[39;00m\n\u001b[1;32m    131\u001b[0m base_spec \u001b[38;5;241m=\u001b[39m Spectrum(\u001b[38;5;28mself\u001b[39m\u001b[38;5;241m.\u001b[39mabscs[\u001b[38;5;124m'\u001b[39m\u001b[38;5;124mphotE\u001b[39m\u001b[38;5;124m'\u001b[39m], dNdEdt, spec_type\u001b[38;5;241m=\u001b[39m\u001b[38;5;124m'\u001b[39m\u001b[38;5;124mdNdE\u001b[39m\u001b[38;5;124m'\u001b[39m)\n\u001b[0;32m--> 132\u001b[0m \u001b[38;5;28;01mif\u001b[39;00m \u001b[38;5;28mself\u001b[39m\u001b[38;5;241m.\u001b[39mevaporated_by_end_rs \u001b[38;5;129;01mand\u001b[39;00m np\u001b[38;5;241m.\u001b[39misclose(z, \u001b[38;5;28;43mself\u001b[39;49m\u001b[38;5;241;43m.\u001b[39;49m\u001b[43mz_final_inj\u001b[49m):\n\u001b[1;32m    133\u001b[0m     inj_eng \u001b[38;5;241m=\u001b[39m base_spec\u001b[38;5;241m.\u001b[39mtoteng() \u001b[38;5;241m*\u001b[39m \u001b[38;5;28mself\u001b[39m\u001b[38;5;241m.\u001b[39mfinal_inj_multiplier\n\u001b[1;32m    134\u001b[0m     \u001b[38;5;28;01mreturn\u001b[39;00m \u001b[38;5;28mself\u001b[39m\u001b[38;5;241m.\u001b[39mphot_final_inj_shape \u001b[38;5;241m/\u001b[39m \u001b[38;5;28mself\u001b[39m\u001b[38;5;241m.\u001b[39mphot_final_inj_shape\u001b[38;5;241m.\u001b[39mtoteng() \u001b[38;5;241m*\u001b[39m inj_eng\n",
      "\u001b[0;31mAttributeError\u001b[0m: 'PBHInjection' object has no attribute 'z_final_inj'"
     ]
    }
   ],
   "source": [
    "plt.plot(abscs['photE'], inj.inj_phot_spec(2881).N / inj.inj_phot_spec(2881).toteng())\n",
    "plt.plot(abscs['photE'], inj.inj_phot_spec_final(2881).N / inj.inj_phot_spec_final(2881).toteng())\n",
    "plt.loglog()\n",
    "plt.ylim(1e-30, 1e-15)"
   ]
  },
  {
   "cell_type": "code",
   "execution_count": 13,
   "metadata": {},
   "outputs": [
    {
     "data": {
      "text/plain": [
       "(1e-30, 1e-15)"
      ]
     },
     "execution_count": 13,
     "metadata": {},
     "output_type": "execute_result"
    },
    {
     "data": {
      "image/png": "[encoded data removed]",
      "text/plain": [
       "<Figure size 720x480 with 1 Axes>"
      ]
     },
     "metadata": {},
     "output_type": "display_data"
    }
   ],
   "source": [
    "plt.plot(abscs['elecEk'], inj.inj_elec_spec(2881).dNdE / inj.inj_elec_spec(2881).toteng())\n",
    "plt.plot(abscs['elecEk'], inj.inj_elec_spec_final(2881).dNdE / inj.inj_elec_spec_final(2881).toteng())\n",
    "plt.loglog()\n",
    "plt.ylim(1e-30, 1e-15)"
   ]
  },
  {
   "cell_type": "code",
   "execution_count": 14,
   "metadata": {},
   "outputs": [
    {
     "data": {
      "text/plain": [
       "1.002"
      ]
     },
     "execution_count": 14,
     "metadata": {},
     "output_type": "execute_result"
    }
   ],
   "source": [
    "abscs['zplusone_step_factor']"
   ]
  },
  {
   "cell_type": "code",
   "execution_count": null,
   "metadata": {},
   "outputs": [],
   "source": []
  }
 ],
 "metadata": {
  "kernelspec": {
   "display_name": "dm21cm",
   "language": "python",
   "name": "python3"
  },
  "language_info": {
   "codemirror_mode": {
    "name": "ipython",
    "version": 3
   },
   "file_extension": ".py",
   "mimetype": "text/x-python",
   "name": "python",
   "nbconvert_exporter": "python",
   "pygments_lexer": "ipython3",
   "version": "3.11.5"
  }
 },
 "nbformat": 4,
 "nbformat_minor": 2
}
