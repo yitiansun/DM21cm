{
 "cells": [
  {
   "cell_type": "code",
   "execution_count": 2,
   "metadata": {},
   "outputs": [
    {
     "name": "stderr",
     "output_type": "stream",
     "text": [
      "/n/home07/yitians/.conda/envs/dm21cm/lib/python3.11/site-packages/halomod/halo_exclusion.py:18: UserWarning: Warning: Some Halo-Exclusion models have significant speedup when using Numba\n",
      "  warnings.warn(\n"
     ]
    }
   ],
   "source": [
    "%reload_ext autoreload\n",
    "%autoreload 2\n",
    "\n",
    "import os\n",
    "import sys\n",
    "import numpy as np\n",
    "from astropy import units as u\n",
    "from astropy import constants as c\n",
    "from astropy.cosmology import Planck18 as cosmo\n",
    "from tqdm import tqdm\n",
    "\n",
    "import jax\n",
    "jax.config.update(\"jax_enable_x64\", True)\n",
    "import jax.numpy as jnp\n",
    "from functools import partial\n",
    "\n",
    "sys.path.append(os.environ['DM21CM_DIR'])\n",
    "from dm21cm.preprocessing.accretion import PBHAccretionModel\n",
    "\n",
    "sys.path.append(os.environ['DH_DIR'])\n",
    "from darkhistory import physics as dh_phys\n",
    "\n",
    "import matplotlib as mpl\n",
    "import matplotlib.pyplot as plt\n",
    "mpl.rc_file('../../plotting/matplotlibrc')"
   ]
  },
  {
   "cell_type": "markdown",
   "metadata": {},
   "source": [
    "# 1. Cosmo PBH"
   ]
  },
  {
   "cell_type": "code",
   "execution_count": 5,
   "metadata": {},
   "outputs": [
    {
     "name": "stdout",
     "output_type": "stream",
     "text": [
      "0.08617333262145178 eV\n",
      "1.2858322153516293e-23 M_sun/yr\n"
     ]
    }
   ],
   "source": [
    "am = PBHAccretionModel(m_PBH=100, f_PBH=1, accretion_type='PR-ADAF', c_in=23)\n",
    "z = 10\n",
    "delta = 0.1\n",
    "T_k = (1e3 * u.K * c.k_B).to(u.eV).value\n",
    "print(T_k, 'eV')\n",
    "\n",
    "rho_inf = (1+delta) * (cosmo.critical_density(z) * cosmo.Ob(z)).to(u.g / u.cm**3).value\n",
    "\n",
    "print(am.L_cosmo_single_PBH(z, rho_inf, T_k), 'M_sun/yr')"
   ]
  },
  {
   "cell_type": "code",
   "execution_count": 9,
   "metadata": {},
   "outputs": [
    {
     "name": "stdout",
     "output_type": "stream",
     "text": [
      "3.544065443021479e-27 g / cm3\n"
     ]
    },
    {
     "data": {
      "text/plain": [
       "0.15814118710844152"
      ]
     },
     "execution_count": 9,
     "metadata": {},
     "output_type": "execute_result"
    }
   ],
   "source": [
    "# matter density g/cm3 from cosmo\n",
    "print(cosmo.Om(z) * cosmo.critical_density(z))\n",
    "(cosmo.Ob0 / cosmo.Om0)"
   ]
  },
  {
   "cell_type": "code",
   "execution_count": null,
   "metadata": {},
   "outputs": [],
   "source": []
  }
 ],
 "metadata": {
  "kernelspec": {
   "display_name": "dm21cm",
   "language": "python",
   "name": "python3"
  },
  "language_info": {
   "codemirror_mode": {
    "name": "ipython",
    "version": 3
   },
   "file_extension": ".py",
   "mimetype": "text/x-python",
   "name": "python",
   "nbconvert_exporter": "python",
   "pygments_lexer": "ipython3",
   "version": "3.11.5"
  }
 },
 "nbformat": 4,
 "nbformat_minor": 2
}
