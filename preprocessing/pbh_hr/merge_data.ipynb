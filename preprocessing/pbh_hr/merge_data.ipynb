{
 "cells": [
  {
   "cell_type": "code",
   "execution_count": 5,
   "id": "cc162fff",
   "metadata": {},
   "outputs": [],
   "source": [
    "%reload_ext autoreload\n",
    "%autoreload 2\n",
    "\n",
    "import os\n",
    "import re\n",
    "import h5py\n",
    "\n",
    "import numpy as np"
   ]
  },
  {
   "cell_type": "markdown",
   "id": "6898acbb",
   "metadata": {},
   "source": [
    "# Check"
   ]
  },
  {
   "cell_type": "code",
   "execution_count": 23,
   "id": "86a25b2b",
   "metadata": {},
   "outputs": [
    {
     "data": {
      "text/plain": [
       "['phot_dep.h5',\n",
       " 'phot_prop.h5',\n",
       " 'pbhacc_rates',\n",
       " 'elec_dep.h5',\n",
       " 'pwave_hmf_summed_rate.h5',\n",
       " 'archive',\n",
       " 'pbhhr-a0.999.h5',\n",
       " 'abscissas.h5',\n",
       " 'pwave_hmf_summed_rate_mc1e11.h5',\n",
       " 'elec_scat.h5',\n",
       " 'pbhhr-a0.000.h5',\n",
       " 'phot_scat.h5']"
      ]
     },
     "execution_count": 23,
     "metadata": {},
     "output_type": "execute_result"
    }
   ],
   "source": [
    "data_dir = '/n/holystore01/LABS/iaifi_lab/Users/yitians/dm21cm/data/zf002/data'\n",
    "os.listdir(data_dir)"
   ]
  },
  {
   "cell_type": "code",
   "execution_count": 24,
   "id": "8beaae3e",
   "metadata": {},
   "outputs": [
    {
     "name": "stdout",
     "output_type": "stream",
     "text": [
      "/n/holystore01/LABS/iaifi_lab/Users/yitians/dm21cm/data/zf002/data/pbhhr-a0.000.h5\n",
      "/n/holystore01/LABS/iaifi_lab/Users/yitians/dm21cm/data/zf002/data/pbhhr-a0.999.h5\n"
     ]
    }
   ],
   "source": [
    "! ls $data_dir/pbhhr*"
   ]
  },
  {
   "cell_type": "code",
   "execution_count": 22,
   "id": "2b0c9330",
   "metadata": {},
   "outputs": [],
   "source": [
    "! mv $data_dir/pbhhr-a0.000-merged.h5 $data_dir/pbhhr-a0.000.h5"
   ]
  },
  {
   "cell_type": "code",
   "execution_count": 18,
   "id": "ae8280ab",
   "metadata": {},
   "outputs": [
    {
     "name": "stdout",
     "output_type": "stream",
     "text": [
      "<KeysViewHDF5 ['log10m13.8750', 'log10m14.0625', 'log10m14.1250', 'log10m14.1875', 'log10m14.3125', 'log10m14.3750', 'log10m14.4375', 'log10m14.6250']>\n"
     ]
    }
   ],
   "source": [
    "with h5py.File(os.path.join(data_dir, 'pbhhr-a0.000-extras.h5'), 'r') as f:\n",
    "    print(f.keys())"
   ]
  },
  {
   "cell_type": "markdown",
   "id": "790003ae",
   "metadata": {},
   "source": [
    "# Increase float precision"
   ]
  },
  {
   "cell_type": "code",
   "execution_count": 12,
   "id": "68571f82",
   "metadata": {},
   "outputs": [
    {
     "name": "stdout",
     "output_type": "stream",
     "text": [
      "Renaming log10m13.2500 to log10m13.2500\n",
      "Renaming log10m13.5000 to log10m13.5000\n",
      "Renaming log10m13.7500 to log10m13.7500\n",
      "Renaming log10m14.0000 to log10m14.0000\n",
      "Renaming log10m14.2500 to log10m14.2500\n",
      "Renaming log10m14.375 to log10m14.3750\n",
      "Renaming log10m14.450 to log10m14.4500\n",
      "Renaming log10m14.499 to log10m14.4990\n",
      "Renaming log10m14.5000 to log10m14.5000\n",
      "Renaming log10m14.501 to log10m14.5010\n",
      "Renaming log10m14.550 to log10m14.5500\n",
      "Renaming log10m14.625 to log10m14.6250\n",
      "Renaming log10m14.7500 to log10m14.7500\n",
      "Renaming log10m15.0000 to log10m15.0000\n",
      "Renaming log10m15.2500 to log10m15.2500\n",
      "Renaming log10m15.5000 to log10m15.5000\n",
      "Renaming log10m15.7500 to log10m15.7500\n",
      "Renaming log10m16.0000 to log10m16.0000\n",
      "Renaming log10m16.2500 to log10m16.2500\n",
      "Renaming log10m16.5000 to log10m16.5000\n",
      "Renaming log10m16.7500 to log10m16.7500\n",
      "Renaming log10m17.0000 to log10m17.0000\n",
      "Renaming log10m17.2500 to log10m17.2500\n",
      "Renaming log10m17.5000 to log10m17.5000\n",
      "Renaming log10m17.7500 to log10m17.7500\n",
      "Renaming log10m18.0000 to log10m18.0000\n",
      "Renaming complete.\n"
     ]
    }
   ],
   "source": [
    "h5_filename = os.path.join(data_dir, 'pbhhr-a0.999-merged.h5')\n",
    "tmp_filename = h5_filename + \".tmp\"\n",
    "\n",
    "with h5py.File(h5_filename, \"r\") as f_in, h5py.File(tmp_filename, \"w\") as f_out:\n",
    "    for group_name in f_in.keys():\n",
    "        # Extract the float from the group name\n",
    "        match = re.match(r\"log10m([-+]?[0-9]*\\.?[0-9]+)\", group_name)\n",
    "        if not match:\n",
    "            print(f\"Skipping non-matching group: {group_name}\")\n",
    "            continue\n",
    "\n",
    "        val = float(match.group(1))\n",
    "        new_name = f\"log10m{val:.4f}\"\n",
    "\n",
    "        # Copy the group into the new file under the new name\n",
    "        print(f\"Renaming {group_name} to {new_name}\")\n",
    "        f_in.copy(group_name, f_out, name=new_name)\n",
    "\n",
    "    # Also copy file-level attributes if needed\n",
    "    for k, v in f_in.attrs.items():\n",
    "        f_out.attrs[k] = v\n",
    "\n",
    "    # Replace the original file\n",
    "    os.replace(tmp_filename, h5_filename)\n",
    "    print(\"Renaming complete.\")\n"
   ]
  },
  {
   "cell_type": "markdown",
   "id": "9e7862c4",
   "metadata": {},
   "source": [
    "# Merge"
   ]
  },
  {
   "cell_type": "code",
   "execution_count": 10,
   "id": "043eb34b",
   "metadata": {},
   "outputs": [],
   "source": [
    "def merge_h5_files(src_a, src_b, dst_path, overwrite=False, copy_file_attrs=True):\n",
    "    \"\"\"\n",
    "    Merge top-level items (groups/datasets) from src_a and src_b into dst_path.\n",
    "    Raises MergeConflict if there are duplicate top-level keys or duplicate file attrs.\n",
    "    \"\"\"\n",
    "    # 'w-' fails if file exists; 'w' overwrites.\n",
    "    mode = \"w\" if overwrite else \"w-\"\n",
    "\n",
    "    with h5py.File(src_a, \"r\") as fa, h5py.File(src_b, \"r\") as fb, h5py.File(dst_path, mode) as fout:\n",
    "        keys_a = set(fa.keys())\n",
    "        keys_b = set(fb.keys())\n",
    "\n",
    "        dup_keys = sorted(keys_a & keys_b)\n",
    "        if dup_keys:\n",
    "            raise ValueError(f\"Duplicate top-level keys: {dup_keys}\")\n",
    "\n",
    "        # Copy A then B (order preserved as in file iteration)\n",
    "        for k in fa.keys():\n",
    "            print(f\"Copying {k} from {src_a}\")\n",
    "            fa.copy(fa[k], fout, name=k)\n",
    "        for k in fb.keys():\n",
    "            print(f\"Copying {k} from {src_b}\")\n",
    "            fb.copy(fb[k], fout, name=k)\n",
    "\n",
    "        if copy_file_attrs:\n",
    "            # Copy file-level attributes from A then B; raise if any attr collides\n",
    "            for k, v in fa.attrs.items():\n",
    "                fout.attrs[k] = v\n",
    "            for k, v in fb.attrs.items():\n",
    "                if k in fout.attrs:\n",
    "                    raise ValueError(f\"Duplicate file-level attribute: '{k}'\")\n",
    "                fout.attrs[k] = v"
   ]
  },
  {
   "cell_type": "code",
   "execution_count": 19,
   "id": "eecd8aba",
   "metadata": {},
   "outputs": [
    {
     "name": "stdout",
     "output_type": "stream",
     "text": [
      "Copying log10m13.2500 from /n/holystore01/LABS/iaifi_lab/Users/yitians/dm21cm/data/zf002/data/pbhhr-a0.000.h5\n",
      "Copying log10m13.5000 from /n/holystore01/LABS/iaifi_lab/Users/yitians/dm21cm/data/zf002/data/pbhhr-a0.000.h5\n",
      "Copying log10m13.7500 from /n/holystore01/LABS/iaifi_lab/Users/yitians/dm21cm/data/zf002/data/pbhhr-a0.000.h5\n",
      "Copying log10m14.0000 from /n/holystore01/LABS/iaifi_lab/Users/yitians/dm21cm/data/zf002/data/pbhhr-a0.000.h5\n",
      "Copying log10m14.2500 from /n/holystore01/LABS/iaifi_lab/Users/yitians/dm21cm/data/zf002/data/pbhhr-a0.000.h5\n",
      "Copying log10m14.5000 from /n/holystore01/LABS/iaifi_lab/Users/yitians/dm21cm/data/zf002/data/pbhhr-a0.000.h5\n",
      "Copying log10m14.7500 from /n/holystore01/LABS/iaifi_lab/Users/yitians/dm21cm/data/zf002/data/pbhhr-a0.000.h5\n",
      "Copying log10m15.0000 from /n/holystore01/LABS/iaifi_lab/Users/yitians/dm21cm/data/zf002/data/pbhhr-a0.000.h5\n",
      "Copying log10m15.2500 from /n/holystore01/LABS/iaifi_lab/Users/yitians/dm21cm/data/zf002/data/pbhhr-a0.000.h5\n",
      "Copying log10m15.5000 from /n/holystore01/LABS/iaifi_lab/Users/yitians/dm21cm/data/zf002/data/pbhhr-a0.000.h5\n",
      "Copying log10m15.7500 from /n/holystore01/LABS/iaifi_lab/Users/yitians/dm21cm/data/zf002/data/pbhhr-a0.000.h5\n",
      "Copying log10m16.0000 from /n/holystore01/LABS/iaifi_lab/Users/yitians/dm21cm/data/zf002/data/pbhhr-a0.000.h5\n",
      "Copying log10m16.2500 from /n/holystore01/LABS/iaifi_lab/Users/yitians/dm21cm/data/zf002/data/pbhhr-a0.000.h5\n",
      "Copying log10m16.5000 from /n/holystore01/LABS/iaifi_lab/Users/yitians/dm21cm/data/zf002/data/pbhhr-a0.000.h5\n",
      "Copying log10m16.7500 from /n/holystore01/LABS/iaifi_lab/Users/yitians/dm21cm/data/zf002/data/pbhhr-a0.000.h5\n",
      "Copying log10m17.0000 from /n/holystore01/LABS/iaifi_lab/Users/yitians/dm21cm/data/zf002/data/pbhhr-a0.000.h5\n",
      "Copying log10m17.2500 from /n/holystore01/LABS/iaifi_lab/Users/yitians/dm21cm/data/zf002/data/pbhhr-a0.000.h5\n",
      "Copying log10m17.5000 from /n/holystore01/LABS/iaifi_lab/Users/yitians/dm21cm/data/zf002/data/pbhhr-a0.000.h5\n",
      "Copying log10m17.7500 from /n/holystore01/LABS/iaifi_lab/Users/yitians/dm21cm/data/zf002/data/pbhhr-a0.000.h5\n",
      "Copying log10m18.0000 from /n/holystore01/LABS/iaifi_lab/Users/yitians/dm21cm/data/zf002/data/pbhhr-a0.000.h5\n",
      "Copying log10m13.8750 from /n/holystore01/LABS/iaifi_lab/Users/yitians/dm21cm/data/zf002/data/pbhhr-a0.000-extras.h5\n",
      "Copying log10m14.0625 from /n/holystore01/LABS/iaifi_lab/Users/yitians/dm21cm/data/zf002/data/pbhhr-a0.000-extras.h5\n",
      "Copying log10m14.1250 from /n/holystore01/LABS/iaifi_lab/Users/yitians/dm21cm/data/zf002/data/pbhhr-a0.000-extras.h5\n",
      "Copying log10m14.1875 from /n/holystore01/LABS/iaifi_lab/Users/yitians/dm21cm/data/zf002/data/pbhhr-a0.000-extras.h5\n",
      "Copying log10m14.3125 from /n/holystore01/LABS/iaifi_lab/Users/yitians/dm21cm/data/zf002/data/pbhhr-a0.000-extras.h5\n",
      "Copying log10m14.3750 from /n/holystore01/LABS/iaifi_lab/Users/yitians/dm21cm/data/zf002/data/pbhhr-a0.000-extras.h5\n",
      "Copying log10m14.4375 from /n/holystore01/LABS/iaifi_lab/Users/yitians/dm21cm/data/zf002/data/pbhhr-a0.000-extras.h5\n",
      "Copying log10m14.6250 from /n/holystore01/LABS/iaifi_lab/Users/yitians/dm21cm/data/zf002/data/pbhhr-a0.000-extras.h5\n"
     ]
    }
   ],
   "source": [
    "merge_h5_files(\n",
    "    os.path.join(data_dir, 'pbhhr-a0.000.h5'),\n",
    "    os.path.join(data_dir, 'pbhhr-a0.000-extras.h5'),\n",
    "    os.path.join(data_dir, 'pbhhr-a0.000-merged.h5'),\n",
    ")"
   ]
  },
  {
   "cell_type": "code",
   "execution_count": null,
   "id": "47305896",
   "metadata": {},
   "outputs": [],
   "source": []
  }
 ],
 "metadata": {
  "kernelspec": {
   "display_name": "dm21cm",
   "language": "python",
   "name": "python3"
  },
  "language_info": {
   "codemirror_mode": {
    "name": "ipython",
    "version": 3
   },
   "file_extension": ".py",
   "mimetype": "text/x-python",
   "name": "python",
   "nbconvert_exporter": "python",
   "pygments_lexer": "ipython3",
   "version": "3.11.5"
  }
 },
 "nbformat": 4,
 "nbformat_minor": 5
}
