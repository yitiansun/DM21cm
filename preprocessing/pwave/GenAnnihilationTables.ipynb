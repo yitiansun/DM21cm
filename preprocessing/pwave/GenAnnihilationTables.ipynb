{
 "cells": [
  {
   "cell_type": "code",
   "execution_count": 1,
   "metadata": {},
   "outputs": [],
   "source": [
    "import sys, os\n",
    "from tqdm import tqdm\n",
    "import numpy as np\n",
    "from scipy import integrate, interpolate, special\n",
    "\n",
    "from astropy import units, constants\n",
    "from astropy.cosmology import Planck18 as cosmo\n",
    "from hmf import Transfer, MassFunction\n",
    "\n",
    "import matplotlib.pyplot as plt\n",
    "from IPython.display import clear_output"
   ]
  },
  {
   "cell_type": "markdown",
   "metadata": {},
   "source": [
    "# Basic Parameter Definitions\n",
    "\n",
    "Some of these are my choice. Some of these are hardcoded by `21cmFAST`."
   ]
  },
  {
   "cell_type": "code",
   "execution_count": 2,
   "metadata": {},
   "outputs": [],
   "source": [
    "# M_Sun / Mpc^3\n",
    "rhoCrit0 = cosmo.critical_density(0).to(units.M_sun / units.Mpc**3).value\n",
    "\n",
    "# 21cmFAST Definitions for Critical Collapse\n",
    "SHETH_a = 0.73\n",
    "SHETH_A = 0.353\n",
    "SHETH_p = 0.175\n",
    "Deltac = 1.68\n",
    "\n",
    "# Default Duty Cycle Parametrization\n",
    "M_TURN = 5.012e+08\n",
    "M_MIN = 1e0"
   ]
  },
  {
   "cell_type": "markdown",
   "metadata": {},
   "source": [
    "# Convenience Methods"
   ]
  },
  {
   "cell_type": "code",
   "execution_count": 3,
   "metadata": {},
   "outputs": [],
   "source": [
    "# I took these definitions from 21cmFAST. \n",
    "def MtoR(M):\n",
    "    return np.cbrt(3*M/(4*np.pi*cosmo.Om0*rhoCrit0))\n",
    "\n",
    "def RtoM(R):\n",
    "    return 4*np.pi*cosmo.Om0*rhoCrit0*R**3 / 3\n",
    "\n",
    "\n",
    "# This is the fitting function for the Dicke Linear Growth Factor. I took this from 21cmFAST\n",
    "def dicke(z):\n",
    "    omegaM_z = cosmo.Om(z)\n",
    "    \n",
    "    dicke_z = 2.5 * omegaM_z / (1.0 / 70.0 + omegaM_z * (209 - omegaM_z) / 140.0 + pow(omegaM_z, 4.0/7.0))\n",
    "    dicke_0 = 2.5 *  cosmo.Om0 / (1.0 / 70.0 +  cosmo.Om0 * (209 -  cosmo.Om0) / 140.0 + pow( cosmo.Om0, 4.0/7.0))\n",
    "    \n",
    "    return dicke_z / (dicke_0 * (1.0 + z))\n",
    "\n",
    "\n",
    "# This is the top-hat window function. I took this from 21cmFAST\n",
    "def W(k, R):\n",
    "    \n",
    "    kR = k * R\n",
    "    mask = kR >= 1e-4\n",
    "    \n",
    "    w = np.where(mask, 3.0 * (np.sin(kR) / kR**3 - np.cos(kR) / kR**2), 0.0)\n",
    "    return w\n",
    "\n",
    "# This is the derivative of the top-hat window function with respect to R. I took this from 21cmFAST\n",
    "def dWdR(k, R):\n",
    "    kR = k * R\n",
    "    mask = k >= 1e-10\n",
    "\n",
    "    dwdr = np.where(mask, (9 * np.cos(kR) * k / kR**3) + (3 * np.sin(kR) * (1 - 3 / (kR * kR)) / (kR * R)), 0.0)\n",
    "    return dwdr"
   ]
  },
  {
   "cell_type": "markdown",
   "metadata": {},
   "source": [
    "# Generating Interpolated Power Spectrum from EH"
   ]
  },
  {
   "cell_type": "code",
   "execution_count": 4,
   "metadata": {},
   "outputs": [],
   "source": [
    "tr = Transfer(cosmo_model = cosmo, transfer_model = 'EH', z = 0)\n",
    "\n",
    "interp_k = tr.k * cosmo.h # to units without `h`\n",
    "interp_T = tr.transfer_function / np.amax(tr.transfer_function) # normalized\n",
    "interp_P = interp_k**2 * interp_T**2 * interp_k**cosmo.to_format('mapping')['meta']['n']\n",
    "\n",
    "# Defining an interpolated Power Spectrum that must be normalized to match Sigma8\n",
    "PowerSpectrum = interpolate.CubicSpline(interp_k, interp_P)\n",
    "\n",
    "# Doing the Sigma8 Normalization\n",
    "Radius_8 = 8.0/cosmo.h \n",
    "integrand = lambda logk: np.exp(logk)* PowerSpectrum(np.exp(logk)) * W(np.exp(logk), Radius_8)**2\n",
    "result = integrate.quad(integrand, np.log(interp_k[0]), np.log(interp_k[-1]), epsabs = 0, epsrel = 1e-6)\n",
    "sigma_norm = cosmo.to_format('mapping')['meta']['sigma8']/np.sqrt(result[0])\n",
    "\n",
    "# Redefining the Power Spectrum to be consistent with Sigma8\n",
    "PowerSpectrum = interpolate.CubicSpline(interp_k, sigma_norm**2*interp_P)"
   ]
  },
  {
   "cell_type": "markdown",
   "metadata": {},
   "source": [
    "# Operations on the Power Spectrum"
   ]
  },
  {
   "cell_type": "code",
   "execution_count": 5,
   "metadata": {},
   "outputs": [
    {
     "name": "stderr",
     "output_type": "stream",
     "text": [
      " 57%|█████▋    | 2280/4001 [01:05<01:24, 20.34it/s]/tmp/ipykernel_8910/775670747.py:19: IntegrationWarning: The maximum number of subdivisions (50) has been achieved.\n",
      "  If increasing the limit yields no improvement it is advised to analyze \n",
      "  the integrand in order to determine the difficulties.  If the position of a \n",
      "  local difficulty can be determined (singularity, discontinuity) one will \n",
      "  probably gain from splitting up the interval and calling the integrator \n",
      "  on the subranges.  Perhaps a special-purpose integrator should be used.\n",
      "  result = integrate.quad(integrand, np.log(interp_k[0]), np.log(interp_k[-1]), epsabs = 0, epsrel = 1e-6)\n",
      " 95%|█████████▌| 3819/4001 [02:29<00:11, 15.95it/s]/tmp/ipykernel_8910/775670747.py:5: IntegrationWarning: The maximum number of subdivisions (50) has been achieved.\n",
      "  If increasing the limit yields no improvement it is advised to analyze \n",
      "  the integrand in order to determine the difficulties.  If the position of a \n",
      "  local difficulty can be determined (singularity, discontinuity) one will \n",
      "  probably gain from splitting up the interval and calling the integrator \n",
      "  on the subranges.  Perhaps a special-purpose integrator should be used.\n",
      "  result = integrate.quad(integrand, np.log(interp_k[0]), np.log(interp_k[-1]), epsabs = 0, epsrel = 1e-6)\n",
      "100%|██████████| 4001/4001 [02:41<00:00, 24.80it/s]\n"
     ]
    }
   ],
   "source": [
    "def sigma_z0(M):\n",
    "    Radius = MtoR(M)\n",
    "    \n",
    "    integrand = lambda logk: np.exp(logk)* PowerSpectrum(np.exp(logk)) * W(np.exp(logk), Radius)**2\n",
    "    result = integrate.quad(integrand, np.log(interp_k[0]), np.log(interp_k[-1]), epsabs = 0, epsrel = 1e-6)\n",
    "    \n",
    "    return np.sqrt(result[0])\n",
    "\n",
    "def dsigmasqdm_z0(M):\n",
    "    Radius = MtoR(M)\n",
    "        \n",
    "    # Calculating drdrm\n",
    "    drdm = 1.0 / (4.0*np.pi * cosmo.Om(0)*rhoCrit0 * Radius*Radius)\n",
    "    \n",
    "    # Defining the integrand\n",
    "    integrand = lambda logk: np.exp(logk)* PowerSpectrum(np.exp(logk)) *\\\n",
    "                             2* W(np.exp(logk), Radius) * dWdR(np.exp(logk), Radius) * drdm\n",
    "    \n",
    "    result = integrate.quad(integrand, np.log(interp_k[0]), np.log(interp_k[-1]), epsabs = 0, epsrel = 1e-6)\n",
    "    return result[0]\n",
    "\n",
    "############################################################################\n",
    "###   The above is slow so we will define some interpolating functions   ###\n",
    "############################################################################\n",
    "\n",
    "save_path = './ResStack.npy'\n",
    "if os.path.isfile(save_path):\n",
    "    interp_m, interp_sigma, interp_dsigma_dm = np.load(save_path)\n",
    "    \n",
    "else:\n",
    "\n",
    "    interp_m = np.geomspace(M_MIN, RtoM(512), 4001)\n",
    "    interp_sigma = np.zeros_like(interp_m)\n",
    "    interp_dsigma_dm = np.zeros_like(interp_m)\n",
    "\n",
    "    for i in tqdm(range(len(interp_m))):\n",
    "        interp_sigma[i] = sigma_z0(interp_m[i])\n",
    "        interp_dsigma_dm[i] = dsigmasqdm_z0(interp_m[i])\n",
    "    \n",
    "sigma_z0 = interpolate.CubicSpline(interp_m, interp_sigma)\n",
    "dsigmasqdm_z0 = interpolate.CubicSpline(interp_m, interp_dsigma_dm)"
   ]
  },
  {
   "cell_type": "markdown",
   "metadata": {},
   "source": [
    "# Press Schechter and Sheth Tormen Mass Functions"
   ]
  },
  {
   "cell_type": "code",
   "execution_count": 6,
   "metadata": {},
   "outputs": [],
   "source": [
    "# This is the Sheth-Tormen Mass Function. This is exactly taken from 21cmFAST, which is why the conventions\n",
    "# are a little bit weird. Anyways, this matches HMF precisely if the Sheth-Tormen parameteres are tuned\n",
    "# to match those used by 21cmFAST.\n",
    "def dNdM_st(M, z):\n",
    "    \n",
    "    growthf = dicke(z)\n",
    "\n",
    "    sigma = sigma_z0(M)\n",
    "    dsigmadm = dsigmasqdm_z0(M)\n",
    "\n",
    "    sigma = sigma * growthf\n",
    "    dsigmadm = dsigmadm * (growthf*growthf/(2.*sigma))\n",
    "\n",
    "    nuhat = np.sqrt(SHETH_a) * Deltac / sigma\n",
    "\n",
    "    return (-(cosmo.Om0)*rhoCrit0/M) * (dsigmadm/sigma) * np.sqrt(2./np.pi)*SHETH_A * (1+ pow(nuhat, -2*SHETH_p)) * nuhat * pow(np.e, -nuhat*nuhat/2.0);\n",
    "\n",
    "# This is the Press-Schechter Mass Function. This is taken exactly from 21cmFAST, which is why the conventions\n",
    "# are a little bit weird. This precisely matches the HMF module.\n",
    "def dNdM(M, z):\n",
    "    growthf = dicke(z)\n",
    "\n",
    "    sigma = sigma_z0(M);\n",
    "    dsigmadm = dsigmasqdm_z0(M);\n",
    "\n",
    "    sigma = sigma * growthf;\n",
    "    dsigmadm = dsigmadm * (growthf*growthf/(2.*sigma));\n",
    "\n",
    "    return (-(cosmo.Om0)*rhoCrit0/M) * np.sqrt(2/np.pi) * (Deltac/(sigma*sigma)) * dsigmadm * np.power(np.e, -(Deltac*Deltac)/(2*sigma*sigma));\n",
    "\n",
    "\n",
    "# I had to implement this myself. I'm not actually sure 21cmFAST does this totally correctly, but I think this\n",
    "# should be close enough. It comes from Eq. 7.81 in Galaxy \n",
    "# This is the conditional Press-Schechter\n",
    "def dNdM_Conditional(MR, deltaR, z):\n",
    "    \n",
    "    delta2 = deltaR / dicke(z)\n",
    "    delta1 = Deltac / dicke(z)\n",
    "    \n",
    "    S1 = sigma_z0(interp_m)**2\n",
    "    S2 = sigma_z0(MR)**2\n",
    "    \n",
    "    dS1_dM1 = dsigmasqdm_z0(interp_m)\n",
    "\n",
    "    n12 = (delta1 - delta2) / np.sqrt(S1 - S2)\n",
    "    differential = -interp_m * (delta1-delta2) / 2 / n12 / np.sqrt(S1-S2)**3*dS1_dM1\n",
    "    differential *= (S1 > S2)\n",
    "    \n",
    "    fPS = np.sqrt(2/np.pi)*n12*np.exp(-n12**2 / 2)\n",
    "    \n",
    "    return np.where(S1 > S2, 1 / interp_m**2 * fPS * np.abs(differential), np.nan) * (cosmo.Om0*rhoCrit0)"
   ]
  },
  {
   "cell_type": "markdown",
   "metadata": {},
   "source": [
    "# Load Annihilation Rates"
   ]
  },
  {
   "cell_type": "code",
   "execution_count": 19,
   "metadata": {},
   "outputs": [],
   "source": [
    "annihilation_dict = np.load('./Annihilation_Dictionary.npz')\n",
    "\n",
    "annihilation_z = annihilation_dict['z_range']\n",
    "annihilation_mass = annihilation_dict['mass_range']\n",
    "annihilation_rate = annihilation_dict['annihilation_rates']"
   ]
  },
  {
   "cell_type": "code",
   "execution_count": 20,
   "metadata": {},
   "outputs": [],
   "source": [
    "log_interpolator = interpolate.RegularGridInterpolator((annihilation_z, np.log10(annihilation_mass)),\n",
    "                                                       np.log10(annihilation_rate),\n",
    "                                                       bounds_error = False, \n",
    "                                                       fill_value = np.amin(np.log10(annihilation_rate)))\n",
    "\n",
    "def annihilation_interpolator(z, M):\n",
    "    return 10**log_interpolator([z, np.log10(M)])\n"
   ]
  },
  {
   "cell_type": "code",
   "execution_count": 21,
   "metadata": {},
   "outputs": [
    {
     "name": "stderr",
     "output_type": "stream",
     "text": [
      "100%|██████████| 51/51 [00:09<00:00,  5.40it/s]\n"
     ]
    }
   ],
   "source": [
    "interpolated_annihilation_rates = np.zeros((len(annihilation_z), len(interp_m)))\n",
    "\n",
    "for i,z in enumerate(tqdm(annihilation_z)):\n",
    "    interpolated_annihilation_rates[i] = np.array([annihilation_interpolator(z, M) for M in interp_m])[:, 0]"
   ]
  },
  {
   "cell_type": "markdown",
   "metadata": {},
   "source": [
    "# Generate HMF Tables for the Conditional Press-Schechter"
   ]
  },
  {
   "cell_type": "code",
   "execution_count": 11,
   "metadata": {
    "scrolled": true
   },
   "outputs": [
    {
     "name": "stderr",
     "output_type": "stream",
     "text": [
      "100%|██████████| 51/51 [06:27<00:00,  7.61s/it]\n"
     ]
    }
   ],
   "source": [
    "z_range = annihilation_z\n",
    "delta_range = np.linspace(-1, 1.5, 128)\n",
    "r_range = np.geomspace(.1, 512, 128)\n",
    "\n",
    "cond_dndm = np.zeros((len(z_range), len(delta_range), len(r_range), len(interp_m)))\n",
    "\n",
    "for i, z in enumerate(tqdm(z_range)):\n",
    "    for j, delta in enumerate(delta_range):\n",
    "        for k, r in enumerate(r_range):\n",
    "            cond_dndm[i, j, k] = np.nan_to_num(dNdM_Conditional(RtoM(r), delta, z))\n",
    "            \n",
    "    clear_output()"
   ]
  },
  {
   "cell_type": "code",
   "execution_count": 22,
   "metadata": {},
   "outputs": [
    {
     "name": "stderr",
     "output_type": "stream",
     "text": [
      "100%|██████████| 51/51 [00:17<00:00,  2.97it/s]\n"
     ]
    }
   ],
   "source": [
    "cond_annihilation_table =np.zeros((len(z_range), len(delta_range), len(r_range)))\n",
    "\n",
    "for i in tqdm(range(cond_annihilation_table.shape[0])):\n",
    "    for j in range(cond_annihilation_table.shape[1]):\n",
    "        for k in range(cond_annihilation_table.shape[2]):\n",
    "            cond_annihilation_table[i, j,k] = np.trapz(interpolated_annihilation_rates[i] * cond_dndm[i,j,k], interp_m)"
   ]
  },
  {
   "cell_type": "markdown",
   "metadata": {},
   "source": [
    "# Generate HMF for Unconditional Press-Schechter"
   ]
  },
  {
   "cell_type": "code",
   "execution_count": 23,
   "metadata": {},
   "outputs": [],
   "source": [
    "ps_annihilation_table = np.zeros((len(z_range)))\n",
    "\n",
    "for i in range(ps_annihilation_table.shape[0]):\n",
    "    ps_annihilation_table[i] = np.trapz(interpolated_annihilation_rates[i] * dNdM(interp_m, z_range[i]), interp_m)"
   ]
  },
  {
   "cell_type": "code",
   "execution_count": 16,
   "metadata": {},
   "outputs": [
    {
     "name": "stdout",
     "output_type": "stream",
     "text": [
      "4.234695713392759e+58\n"
     ]
    }
   ],
   "source": [
    "import astropy.units as u\n",
    "import astropy.constants as c\n",
    "factor = ((c.M_sun**2 * c.c**4 / u.pc**3) / (u.GeV**2 / u.cm**3)).decompose()\n",
    "factor = factor.value\n",
    "print(factor)"
   ]
  },
  {
   "cell_type": "code",
   "execution_count": 18,
   "metadata": {},
   "outputs": [
    {
     "data": {
      "text/latex": [
       "$4.2346957 \\times 10^{58} \\; \\mathrm{\\frac{GeV^{2}}{cm^{3}}}$"
      ],
      "text/plain": [
       "<Quantity 4.23469571e+58 GeV2 / cm3>"
      ]
     },
     "execution_count": 18,
     "metadata": {},
     "output_type": "execute_result"
    }
   ],
   "source": [
    "(1*c.M_sun**2 * c.c**4 / u.pc**3).to(u.GeV**2 / u.cm**3)"
   ]
  },
  {
   "cell_type": "code",
   "execution_count": 24,
   "metadata": {},
   "outputs": [
    {
     "data": {
      "text/plain": [
       "Text(0, 0.5, '$M \\\\frac{dn}{dM}$ [$M_\\\\odot^2$ /Mpc$^3/$/pc$^{3}$]')"
      ]
     },
     "execution_count": 24,
     "metadata": {},
     "output_type": "execute_result"
    },
    {
     "data": {
      "image/png": "[encoded data removed]",
      "text/plain": [
       "<Figure size 640x480 with 1 Axes>"
      ]
     },
     "metadata": {},
     "output_type": "display_data"
    }
   ],
   "source": [
    "plt.plot(interp_m,interp_m*dNdM(interp_m, 0)*interpolated_annihilation_rates[0])\n",
    "plt.xscale('log')\n",
    "plt.yscale('log')\n",
    "plt.xlabel('$M_\\odot$')\n",
    "plt.ylabel(r'$M \\frac{dn}{dM}$ [$M_\\odot^2$ /Mpc$^3/$/pc$^{3}$]')"
   ]
  },
  {
   "cell_type": "code",
   "execution_count": null,
   "metadata": {},
   "outputs": [
    {
     "data": {
      "text/plain": [
       "Text(0, 0.5, '$M \\\\frac{dn}{dM}$ [$M_\\\\odot^2$ /Mpc$^3/$/pc$^{3}$]')"
      ]
     },
     "metadata": {},
     "output_type": "display_data"
    },
    {
     "data": {
      "image/png": "[encoded data removed]",
      "text/plain": [
       "<Figure size 640x480 with 1 Axes>"
      ]
     },
     "metadata": {},
     "output_type": "display_data"
    }
   ],
   "source": [
    "# original\n",
    "plt.plot(interp_m,interp_m*dNdM(interp_m, 0)*interpolated_annihilation_rates[0])\n",
    "plt.xscale('log')\n",
    "plt.yscale('log')\n",
    "plt.xlabel('$M_\\odot$')\n",
    "plt.ylabel(r'$M \\frac{dn}{dM}$ [$M_\\odot^2$ /Mpc$^3/$/pc$^{3}$]')"
   ]
  },
  {
   "cell_type": "code",
   "execution_count": null,
   "metadata": {},
   "outputs": [],
   "source": []
  },
  {
   "cell_type": "code",
   "execution_count": null,
   "metadata": {},
   "outputs": [],
   "source": []
  },
  {
   "cell_type": "markdown",
   "metadata": {},
   "source": [
    "# Generate HMF for Sheth-Tormen"
   ]
  },
  {
   "cell_type": "code",
   "execution_count": 25,
   "metadata": {},
   "outputs": [],
   "source": [
    "st_annihilation_table = np.zeros((len(z_range)))\n",
    "\n",
    "for i in range(ps_annihilation_table.shape[0]):\n",
    "    st_annihilation_table[i] = np.trapz(interpolated_annihilation_rates[i] * dNdM_st(interp_m, z_range[i]), interp_m)"
   ]
  },
  {
   "cell_type": "markdown",
   "metadata": {},
   "source": [
    "# Save the Results"
   ]
  },
  {
   "cell_type": "code",
   "execution_count": 26,
   "metadata": {},
   "outputs": [],
   "source": [
    "res_dict = dict()\n",
    "res_dict['z_range'] = z_range\n",
    "res_dict['delta_range'] = delta_range\n",
    "res_dict['r_range'] = r_range\n",
    "\n",
    "res_dict['Conditional_Annihiation'] = cond_annihilation_table\n",
    "res_dict['Unconditional_Annihilation'] = ps_annihilation_table\n",
    "res_dict['ShethTormen_Annihilation'] = st_annihilation_table # M_sun^2 / cMpc^3 / ppc^3\n",
    "\n",
    "np.savez('./PWave_Dictionary.npz', **res_dict)"
   ]
  },
  {
   "cell_type": "code",
   "execution_count": 27,
   "metadata": {},
   "outputs": [
    {
     "data": {
      "text/plain": [
       "((51, 128, 128), (51,), (51,))"
      ]
     },
     "execution_count": 27,
     "metadata": {},
     "output_type": "execute_result"
    }
   ],
   "source": [
    "cond_annihilation_table.shape, ps_annihilation_table.shape, st_annihilation_table.shape"
   ]
  },
  {
   "cell_type": "code",
   "execution_count": null,
   "metadata": {},
   "outputs": [],
   "source": []
  }
 ],
 "metadata": {
  "kernelspec": {
   "display_name": "dm21cm",
   "language": "python",
   "name": "python3"
  },
  "language_info": {
   "codemirror_mode": {
    "name": "ipython",
    "version": 3
   },
   "file_extension": ".py",
   "mimetype": "text/x-python",
   "name": "python",
   "nbconvert_exporter": "python",
   "pygments_lexer": "ipython3",
   "version": "3.11.5"
  }
 },
 "nbformat": 4,
 "nbformat_minor": 4
}
