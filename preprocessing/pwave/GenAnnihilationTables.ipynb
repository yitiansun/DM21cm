{
 "cells": [
  {
   "cell_type": "code",
   "execution_count": 1,
   "metadata": {},
   "outputs": [],
   "source": [
    "%reload_ext autoreload\n",
    "%autoreload 2\n",
    "\n",
    "import sys\n",
    "from tqdm import tqdm\n",
    "\n",
    "import numpy as np\n",
    "from scipy import integrate, interpolate\n",
    "\n",
    "import jax\n",
    "jax.config.update(\"jax_enable_x64\", True)\n",
    "import jax.numpy as jnp\n",
    "from jax import jit, vmap\n",
    "\n",
    "from astropy import units as u\n",
    "from astropy.cosmology import Planck18 as cosmo\n",
    "from hmf import Transfer\n",
    "\n",
    "sys.path.append(\"../..\")\n",
    "from dm21cm.utils import load_h5_dict, save_h5_dict\n",
    "\n",
    "import matplotlib.pyplot as plt"
   ]
  },
  {
   "cell_type": "markdown",
   "metadata": {},
   "source": [
    "# Basic Parameter Definitions\n",
    "\n",
    "Some of these are my choice. Some of these are hardcoded by `21cmFAST`."
   ]
  },
  {
   "cell_type": "code",
   "execution_count": 2,
   "metadata": {},
   "outputs": [],
   "source": [
    "rhoCrit0 = cosmo.critical_density(0).to(u.M_sun / u.Mpc**3).value # [Msun / Mpc^3]\n",
    "rho_m0 = cosmo.Om0 * rhoCrit0 # [Msun / Mpc^3]\n",
    "\n",
    "# 21cmFAST Definitions for Critical Collapse\n",
    "SHETH_a = 0.73\n",
    "SHETH_A = 0.353\n",
    "SHETH_p = 0.175\n",
    "Deltac = 1.68\n",
    "\n",
    "# Default Duty Cycle Parametrization\n",
    "M_TURN = 5.012e+08\n",
    "M_MIN = 1e0"
   ]
  },
  {
   "cell_type": "markdown",
   "metadata": {},
   "source": [
    "# Convenience Methods"
   ]
  },
  {
   "cell_type": "code",
   "execution_count": 3,
   "metadata": {},
   "outputs": [],
   "source": [
    "# I took these definitions from 21cmFAST. \n",
    "def MtoR(M):\n",
    "    return (3*M / (4*jnp.pi * rho_m0)) ** (1/3)\n",
    "\n",
    "def RtoM(R):\n",
    "    return 4*jnp.pi * rho_m0 * R**3 / 3\n",
    "\n",
    "# This is the top-hat window function. I took this from 21cmFAST\n",
    "def W(k, R):\n",
    "    kR = k * R\n",
    "    return jnp.where(kR >= 1e-4, 3.0 * (jnp.sin(kR) / kR**3 - jnp.cos(kR) / kR**2), 0.0)\n",
    "\n",
    "# This is the derivative of the top-hat window function with respect to R. I took this from 21cmFAST\n",
    "def dWdR(k, R):\n",
    "    kR = k * R\n",
    "    return jnp.where(k >= 1e-10, (9 * jnp.cos(kR) * k / kR**3) + (3 * jnp.sin(kR) * (1 - 3 / (kR * kR)) / (kR * R)), 0.0)\n",
    "    \n",
    "#===== Cube =====\n",
    "def MtoR_cube(M):\n",
    "    return (M / rho_m0) ** (1/3)\n",
    "\n",
    "def RtoM_cube(R):\n",
    "    return rho_m0 * R**3\n",
    "\n",
    "def Wi_cube(k, R):\n",
    "    return jnp.where(k*R >= 1e-5, 2 * jnp.sin(k*R/2) / (k*R), 0.0)\n",
    "\n",
    "def W_cube(kx, ky, kz, R):\n",
    "    return Wi_cube(kx, R) * Wi_cube(ky, R) * Wi_cube(kz, R)\n",
    "\n",
    "def dWidR_cube(k, R):\n",
    "    return jnp.where(k >= 1e-10, (k*R*jnp.cos(k*R/2) - 2*jnp.sin(k*R/2)) / (k*R*R), 0.0)\n",
    "\n",
    "def dWdR_cube(kx, ky, kz, R):\n",
    "    return dWidR_cube(kx, R) * Wi_cube(ky, R) * Wi_cube(kz, R) + \\\n",
    "        Wi_cube(kx, R) * dWidR_cube(ky, R) * Wi_cube(kz, R) + \\\n",
    "        Wi_cube(kx, R) * Wi_cube(ky, R) * dWidR_cube(kz, R)"
   ]
  },
  {
   "cell_type": "markdown",
   "metadata": {},
   "source": [
    "# Generating Interpolated Power Spectrum from EH"
   ]
  },
  {
   "cell_type": "code",
   "execution_count": 4,
   "metadata": {},
   "outputs": [],
   "source": [
    "tr = Transfer(cosmo_model=cosmo, transfer_model='EH', z=0)\n",
    "\n",
    "# Doing the Sigma8 Normalization\n",
    "interp_k = tr.k * cosmo.h # to u without `h`\n",
    "interp_T = tr.transfer_function / np.amax(tr.transfer_function) # normalized\n",
    "interp_P = interp_k**2 * interp_T**2 * interp_k**cosmo.to_format('mapping')['meta']['n']\n",
    "\n",
    "# Defining an interpolated Power Spectrum that must be normalized to match Sigma8\n",
    "k2P_unnorm = interpolate.CubicSpline(interp_k, interp_P)\n",
    "\n",
    "Radius_8 = 8.0/cosmo.h\n",
    "integrand = lambda logk: np.exp(logk)* k2P_unnorm(np.exp(logk)) * W(np.exp(logk), Radius_8)**2\n",
    "result = integrate.quad(integrand, np.log(interp_k[0]), np.log(interp_k[-1]), epsabs = 0, epsrel = 1e-6)\n",
    "sigma_norm = cosmo.to_format('mapping')['meta']['sigma8']/np.sqrt(result[0])\n",
    "# Should be: sigma_norm = 2*np.pi**2 * cosmo.to_format('mapping')['meta']['sigma8']/np.sqrt(result[0])\n",
    "\n",
    "# Redefining the Power Spectrum to be consistent with Sigma8\n",
    "#PowerSpectrum = interpolate.CubicSpline(interp_k, sigma_norm**2*interp_P)\n",
    "interp_k = jnp.asarray(interp_k)\n",
    "interp_P = jnp.asarray(interp_P)\n",
    "def k2P(k):\n",
    "    return jnp.interp(k, interp_k, sigma_norm**2*interp_P)"
   ]
  },
  {
   "cell_type": "markdown",
   "metadata": {},
   "source": [
    "In `Transfer(z=0)`, let $T=$ `np.exp(self._unnormalised_lnT)`. $k=$ `self.k`. $n=$ `self.n`.\n",
    "\n",
    "`self.power` $=P(k)=$ `self._normalisation**2` $k^n\\,T^2$ \\\n",
    "`self.delta_k` $=\\Delta^2(k)=k^3 * P(k) / (2 \\pi)$\n",
    "\n",
    "$$\\sigma_8=\\frac{1}{2\\pi^2}\\int dk\\, k^2 P(k) W(k, R)^2$$\n",
    "\n",
    "Here:\n",
    "\n",
    "`self.transfer_function` $\\propto T$\n",
    "\n",
    "`interp_P` $= C k^2 \\cdot k^{n'} \\,T^2=C k^2 P(k)$, where $C$ is a unknown normalization. \\\n",
    "The integral result is $$\\int C k^2 P(k) W(k, R)^2$$"
   ]
  },
  {
   "cell_type": "code",
   "execution_count": null,
   "metadata": {},
   "outputs": [],
   "source": [
    "tra"
   ]
  },
  {
   "cell_type": "code",
   "execution_count": 17,
   "metadata": {},
   "outputs": [
    {
     "data": {
      "text/plain": [
       "849.0260405076295"
      ]
     },
     "execution_count": 17,
     "metadata": {},
     "output_type": "execute_result"
    }
   ],
   "source": [
    "sigma_norm"
   ]
  },
  {
   "cell_type": "code",
   "execution_count": 7,
   "metadata": {},
   "outputs": [
    {
     "data": {
      "image/png": "[encoded data removed]",
      "text/plain": [
       "<Figure size 640x480 with 1 Axes>"
      ]
     },
     "metadata": {},
     "output_type": "display_data"
    }
   ],
   "source": [
    "interp_k = tr.k * cosmo.h # to u without `h`\n",
    "interp_T = tr.transfer_function / np.amax(tr.transfer_function) # normalized\n",
    "interp_P = interp_k**2 * interp_T**2 * interp_k**cosmo.to_format('mapping')['meta']['n']\n",
    "\n",
    "plt.plot(interp_k, interp_P/interp_k**2)\n",
    "plt.plot(interp_k, tr.power)\n",
    "plt.plot(interp_k, tr.delta_k)\n",
    "plt.xscale('log')\n",
    "plt.yscale('log')\n",
    "# plt.ylim(1e0, None)"
   ]
  },
  {
   "cell_type": "code",
   "execution_count": null,
   "metadata": {},
   "outputs": [],
   "source": [
    "interp_k = tr.k * cosmo.h # to u without `h`\n",
    "interp_T = tr.transfer_function / np.amax(tr.transfer_function) # normalized\n",
    "interp_P = interp_k**2 * interp_T**2 * interp_k**cosmo.to_format('mapping')['meta']['n']\n",
    "interp_k = jnp.asarray(interp_k)\n",
    "interp_P = jnp.asarray(interp_P)\n",
    "def k2P_unnorm(k):\n",
    "    return jnp.interp(k, interp_k, interp_P)\n",
    "\n",
    "Radius_8 = 8.0/cosmo.h"
   ]
  },
  {
   "cell_type": "code",
   "execution_count": 50,
   "metadata": {},
   "outputs": [
    {
     "data": {
      "text/plain": [
       "3.1622776601683795"
      ]
     },
     "execution_count": 50,
     "metadata": {},
     "output_type": "execute_result"
    }
   ],
   "source": [
    "np.sqrt(10)"
   ]
  },
  {
   "cell_type": "code",
   "execution_count": null,
   "metadata": {},
   "outputs": [
    {
     "name": "stderr",
     "output_type": "stream",
     "text": [
      "100%|██████████| 10000/10000 [11:17<00:00, 14.75it/s]\n"
     ]
    },
    {
     "name": "stdout",
     "output_type": "stream",
     "text": [
      "2.7448218808073346e-09\n"
     ]
    }
   ],
   "source": [
    "resolution = 10000\n",
    "lklb = np.log(interp_k[0])\n",
    "lkub = np.log(interp_k[-1])\n",
    "lk_s = jnp.linspace(jnp.log(interp_k[0]), jnp.log(interp_k[-1]), resolution)\n",
    "k_s = jnp.exp(lk_s)\n",
    "\n",
    "def integrand_3(lkx, lky, lkz):\n",
    "    kx, ky, kz = jnp.exp(lkx), jnp.exp(lky), jnp.exp(lkz)\n",
    "    k = jnp.sqrt(kx**2 + ky**2 + kz**2)\n",
    "    return kx * ky * kz * k2P_unnorm(k) * W(kx, ky, kz, Radius_8)**2\n",
    "\n",
    "def integrand_2(lkx, lky):\n",
    "    return jnp.trapz(k_s * integrand_3(lkx, lky, lk_s), lk_s)\n",
    "\n",
    "@jit\n",
    "def integrand_1(lkx):\n",
    "    return jnp.trapz(k_s * vmap(integrand_2, (None, 0))(lkx, lk_s), lk_s)\n",
    "\n",
    "def integral():\n",
    "    integrand = []\n",
    "    for lk in tqdm(lk_s):\n",
    "        integrand.append(integrand_1(lk))\n",
    "    integrand = jnp.asarray(integrand)\n",
    "    return jnp.trapz(k_s * integrand, lk_s)\n",
    "\n",
    "print(integral())"
   ]
  },
  {
   "cell_type": "code",
   "execution_count": 54,
   "metadata": {},
   "outputs": [
    {
     "data": {
      "image/png": "[encoded data removed]",
      "text/plain": [
       "<Figure size 640x480 with 1 Axes>"
      ]
     },
     "metadata": {},
     "output_type": "display_data"
    }
   ],
   "source": [
    "a = [10, 32, 100, 316, 1000, 3162, 10000]\n",
    "b = [1.8247880587527738e-11, 2.3588969428981962e-09, 3.3362717953372406e-09, 2.8484186491494225e-09, 2.6527731963891473e-09, 2.7794302923913358e-09, 2.7448218808073346e-09]\n",
    "plt.plot(a, b, 'o-')\n",
    "plt.xscale('log')"
   ]
  },
  {
   "cell_type": "code",
   "execution_count": 55,
   "metadata": {},
   "outputs": [
    {
     "name": "stdout",
     "output_type": "stream",
     "text": [
      "15464.474090839036\n"
     ]
    }
   ],
   "source": [
    "sigma_norm = cosmo.to_format('mapping')['meta']['sigma8']/np.sqrt(2.7448218808073346e-09)\n",
    "print(sigma_norm)"
   ]
  },
  {
   "cell_type": "markdown",
   "metadata": {},
   "source": [
    "# Operations on the Power Spectrum"
   ]
  },
  {
   "cell_type": "code",
   "execution_count": 5,
   "metadata": {},
   "outputs": [],
   "source": [
    "@jit\n",
    "def sigma_z0(M):\n",
    "    radius = MtoR(M)\n",
    "    \n",
    "    # integrand = lambda logk: np.exp(logk)* PowerSpectrum(np.exp(logk)) * W(np.exp(logk), radius)**2\n",
    "    # result = np.sqrt(integrate.quad(integrand, np.log(interp_k[0]), np.log(interp_k[-1]), epsabs = 0, epsrel = 1e-6)[0])\n",
    "    logk_arr = jnp.linspace(jnp.log(interp_k[0]), jnp.log(interp_k[-1]), 300)\n",
    "    integrand = jnp.exp(logk_arr)* PowerSpectrum(jnp.exp(logk_arr)) * W(jnp.exp(logk_arr), radius)**2\n",
    "    result = jnp.sqrt(jnp.trapz(integrand, logk_arr))\n",
    "    \n",
    "    return result\n",
    "\n",
    "@jit\n",
    "def dsigmasqdm_z0(M):\n",
    "    radius = MtoR(M)\n",
    "        \n",
    "    # Calculating drdrm\n",
    "    drdm = 1 / (4 * jnp.pi * cosmo.Om0 * rhoCrit0 * radius**2)\n",
    "    \n",
    "    # Defining the integrand\n",
    "    # integrand = lambda logk: np.exp(logk)* PowerSpectrum(np.exp(logk)) * \\\n",
    "    #                          2 * W(np.exp(logk), radius) * dWdR(np.exp(logk), radius) * drdm\n",
    "    # result = integrate.quad(integrand, np.log(interp_k[0]), np.log(interp_k[-1]), epsabs = 0, epsrel = 1e-6)[0]\n",
    "    logk_arr = jnp.linspace(jnp.log(interp_k[0]), jnp.log(interp_k[-1]), 300)\n",
    "    integrand = jnp.exp(logk_arr)* PowerSpectrum(jnp.exp(logk_arr)) * \\\n",
    "                             2 * W(jnp.exp(logk_arr), radius) * dWdR(jnp.exp(logk_arr), radius) * drdm\n",
    "    result = jnp.trapz(integrand, logk_arr)\n",
    "\n",
    "    return result\n",
    "\n",
    "############################################################################\n",
    "###   The above is slow so we will define some interpolating functions   ###\n",
    "############################################################################\n",
    "\n",
    "\n",
    "interp_m = jnp.geomspace(M_MIN, RtoM(512), 4001)\n",
    "interp_sigma = vmap(sigma_z0, in_axes = 0)(interp_m)\n",
    "interp_dsigma_dm = vmap(dsigmasqdm_z0, in_axes = 0)(interp_m)\n",
    "    \n",
    "# sigma_z0 = interpolate.CubicSpline(interp_m, interp_sigma)\n",
    "# dsigmasqdm_z0 = interpolate.CubicSpline(interp_m, interp_dsigma_dm)\n",
    "sigma_z0 = lambda M: jnp.interp(M, interp_m, interp_sigma)\n",
    "dsigmasqdm_z0 = lambda M: jnp.interp(M, interp_m, interp_dsigma_dm)"
   ]
  },
  {
   "cell_type": "markdown",
   "metadata": {},
   "source": [
    "# Press Schechter and Sheth Tormen Mass Functions"
   ]
  },
  {
   "cell_type": "code",
   "execution_count": null,
   "metadata": {},
   "outputs": [],
   "source": [
    "# This is the fitting function for the Dicke Linear Growth Factor. I took this from 21cmFAST\n",
    "dicke_z_arr = jnp.linspace(0, 100, 1000)\n",
    "omegaM_z_arr = cosmo.Om(dicke_z_arr)\n",
    "def dicke(z):\n",
    "    omegaM_z = jnp.interp(z, dicke_z_arr, omegaM_z_arr)\n",
    "    \n",
    "    dicke_z = 2.5 * omegaM_z / (1.0 / 70.0 + omegaM_z * (209 - omegaM_z) / 140.0 + omegaM_z**(4.0/7.0))\n",
    "    dicke_0 = 2.5 *  cosmo.Om0 / (1.0 / 70.0 +  cosmo.Om0 * (209 - cosmo.Om0) / 140.0 + cosmo.Om0**(4.0/7.0))\n",
    "    \n",
    "    return dicke_z / (dicke_0 * (1.0 + z))\n",
    "\n",
    "# This is the Sheth-Tormen Mass Function. This is exactly taken from 21cmFAST, which is why the conventions\n",
    "# are a little bit weird. Anyways, this matches HMF precisely if the Sheth-Tormen parameteres are tuned\n",
    "# to match those used by 21cmFAST.\n",
    "@jit\n",
    "def dNdM_st(M, z):\n",
    "    growthf = dicke(z)\n",
    "    sigma = sigma_z0(M)\n",
    "    dsigmadm = dsigmasqdm_z0(M)\n",
    "    sigma = sigma * growthf\n",
    "    dsigmadm = dsigmadm * (growthf*growthf/(2.*sigma))\n",
    "    nuhat = jnp.sqrt(SHETH_a) * Deltac / sigma\n",
    "    return (-(cosmo.Om0)*rhoCrit0/M) * (dsigmadm/sigma) * jnp.sqrt(2./jnp.pi)*SHETH_A * (1+nuhat**(-2*SHETH_p)) * nuhat * jnp.exp(-nuhat*nuhat/2.0)\n",
    "\n",
    "# This is the Press-Schechter Mass Function. This is taken exactly from 21cmFAST, which is why the conventions\n",
    "# are a little bit weird. This precisely matches the HMF module.\n",
    "@jit\n",
    "def dNdM(M, z):\n",
    "    growthf = dicke(z)\n",
    "    sigma = sigma_z0(M)\n",
    "    dsigmadm = dsigmasqdm_z0(M)\n",
    "    sigma = sigma * growthf\n",
    "    dsigmadm = dsigmadm * (growthf*growthf/(2.*sigma))\n",
    "    return (-(cosmo.Om0)*rhoCrit0/M) * jnp.sqrt(2/jnp.pi) * (Deltac/(sigma*sigma)) * dsigmadm * jnp.exp(-(Deltac*Deltac)/(2*sigma*sigma))\n",
    "\n",
    "# I had to implement this myself. I'm not actually sure 21cmFAST does this totally correctly, but I think this\n",
    "# should be close enough. It comes from Eq. 7.81 in Galaxy \n",
    "# This is the conditional Press-Schechter\n",
    "@jit\n",
    "def dNdM_Conditional(MR, deltaR, z):\n",
    "    \n",
    "    delta2 = deltaR / dicke(z)\n",
    "    delta1 = Deltac / dicke(z)\n",
    "    \n",
    "    S1 = sigma_z0(interp_m)**2\n",
    "    S2 = sigma_z0(MR)**2\n",
    "    \n",
    "    dS1_dM1 = dsigmasqdm_z0(interp_m)\n",
    "\n",
    "    n12 = (delta1 - delta2) / jnp.sqrt(S1 - S2)\n",
    "    differential = -interp_m * (delta1-delta2) / 2 / n12 / jnp.sqrt(S1-S2)**3*dS1_dM1\n",
    "    differential *= (S1 > S2)\n",
    "    \n",
    "    fPS = jnp.sqrt(2/jnp.pi)*n12*jnp.exp(-n12**2 / 2)\n",
    "    \n",
    "    return jnp.where(S1 > S2, 1 / interp_m**2 * fPS * jnp.abs(differential), jnp.nan) * (cosmo.Om0*rhoCrit0)"
   ]
  },
  {
   "cell_type": "markdown",
   "metadata": {},
   "source": [
    "# Load Annihilation Rates"
   ]
  },
  {
   "cell_type": "code",
   "execution_count": 7,
   "metadata": {},
   "outputs": [
    {
     "name": "stdout",
     "output_type": "stream",
     "text": [
      "1.6514133386913736e-15 7.195918224968385e+18\n"
     ]
    }
   ],
   "source": [
    "# new ann rates\n",
    "annihilation_dict = load_h5_dict(\"../../data/pwave/ann_rates_zm.h5\")\n",
    "\n",
    "annihilation_z = annihilation_dict['z_range']\n",
    "annihilation_mass = annihilation_dict['m_range']\n",
    "annihilation_rate = annihilation_dict['ann_rates']\n",
    "# [ ] In GeV^2 / cm^3 / Mpc^3\n",
    "# [X] In Msun(energy)^2 / pc^3 / Mpc^3\n",
    "print(np.min(annihilation_rate), np.max(annihilation_rate))"
   ]
  },
  {
   "cell_type": "code",
   "execution_count": null,
   "metadata": {},
   "outputs": [],
   "source": [
    "# old ann rates\n",
    "annihilation_dict = np.load('../../data/pwave/Annihilation_Dictionary.npz')\n",
    "\n",
    "annihilation_z = annihilation_dict['z_range']\n",
    "annihilation_mass = annihilation_dict['mass_range']\n",
    "annihilation_rate = annihilation_dict['annihilation_rates']\n",
    "print(np.min(annihilation_rate), np.max(annihilation_rate))"
   ]
  },
  {
   "cell_type": "code",
   "execution_count": 8,
   "metadata": {},
   "outputs": [],
   "source": [
    "log_interpolator = interpolate.RegularGridInterpolator((annihilation_z, np.log10(annihilation_mass)),\n",
    "                                                       np.log10(annihilation_rate),\n",
    "                                                       bounds_error = False, \n",
    "                                                       fill_value = np.amin(np.log10(annihilation_rate)))\n",
    "\n",
    "def annihilation_interpolator(z, M):\n",
    "    m_in = np.atleast_1d(M)\n",
    "    z_in = np.full(m_in.shape, z)\n",
    "    zm_in = np.stack([z_in, np.log10(m_in)], axis=-1)\n",
    "    return 10**log_interpolator(zm_in)"
   ]
  },
  {
   "cell_type": "code",
   "execution_count": 9,
   "metadata": {},
   "outputs": [
    {
     "name": "stderr",
     "output_type": "stream",
     "text": [
      "100%|██████████| 51/51 [00:00<00:00, 3531.90it/s]\n"
     ]
    }
   ],
   "source": [
    "interpolated_annihilation_rates = np.zeros((len(annihilation_z), len(interp_m)))\n",
    "\n",
    "for i, z in enumerate(tqdm(annihilation_z)):\n",
    "    interpolated_annihilation_rates[i] = annihilation_interpolator(z, interp_m)"
   ]
  },
  {
   "cell_type": "markdown",
   "metadata": {},
   "source": [
    "# Generate HMF Tables for the Conditional Press-Schechter"
   ]
  },
  {
   "cell_type": "code",
   "execution_count": 10,
   "metadata": {
    "scrolled": true
   },
   "outputs": [
    {
     "name": "stderr",
     "output_type": "stream",
     "text": [
      "100%|██████████| 51/51 [00:13<00:00,  3.89it/s]\n"
     ]
    }
   ],
   "source": [
    "z_range = annihilation_z\n",
    "delta_range = np.linspace(-1, 1.5, 128)\n",
    "r_range = np.geomspace(.1, 512, 128)\n",
    "\n",
    "cond_dndm = np.zeros((len(z_range), len(delta_range), len(r_range), len(interp_m)))\n",
    "\n",
    "func = lambda r, d, z: jnp.nan_to_num(dNdM_Conditional(RtoM(r), d, z))\n",
    "func = jit(vmap(func, in_axes=(0, None, None)))\n",
    "\n",
    "for i, z in enumerate(tqdm(z_range)):\n",
    "    for j, delta in enumerate(delta_range):\n",
    "        cond_dndm[i, j, :] = func(r_range, delta, z)"
   ]
  },
  {
   "cell_type": "code",
   "execution_count": 11,
   "metadata": {},
   "outputs": [
    {
     "name": "stderr",
     "output_type": "stream",
     "text": [
      "  0%|          | 0/51 [00:00<?, ?it/s]"
     ]
    },
    {
     "name": "stderr",
     "output_type": "stream",
     "text": [
      "100%|██████████| 51/51 [00:22<00:00,  2.26it/s]\n"
     ]
    }
   ],
   "source": [
    "cond_annihilation_table = np.zeros((len(z_range), len(delta_range), len(r_range)))\n",
    "\n",
    "for i in tqdm(range(cond_annihilation_table.shape[0])):\n",
    "    for j in range(cond_annihilation_table.shape[1]):\n",
    "        for k in range(cond_annihilation_table.shape[2]):\n",
    "            cond_annihilation_table[i,j,k] = np.trapz(interpolated_annihilation_rates[i] * cond_dndm[i,j,k], interp_m)"
   ]
  },
  {
   "cell_type": "markdown",
   "metadata": {},
   "source": [
    "# Generate HMF for Unconditional Press-Schechter"
   ]
  },
  {
   "cell_type": "code",
   "execution_count": 12,
   "metadata": {},
   "outputs": [
    {
     "name": "stdout",
     "output_type": "stream",
     "text": [
      "1.2101701612732926e-14 27334.197902892356\n",
      "1.6514133386913706e-15 7.123920077379552e+18\n"
     ]
    }
   ],
   "source": [
    "print(np.min(cond_annihilation_table), np.max(cond_annihilation_table))\n",
    "print(np.min(interpolated_annihilation_rates), np.max(interpolated_annihilation_rates))"
   ]
  },
  {
   "cell_type": "code",
   "execution_count": 13,
   "metadata": {},
   "outputs": [],
   "source": [
    "ps_annihilation_table = np.zeros((len(z_range)))\n",
    "\n",
    "for i in range(ps_annihilation_table.shape[0]):\n",
    "    ps_annihilation_table[i] = np.trapz(interpolated_annihilation_rates[i] * dNdM(interp_m, z_range[i]), interp_m)"
   ]
  },
  {
   "cell_type": "code",
   "execution_count": 15,
   "metadata": {},
   "outputs": [],
   "source": [
    "dNdM_table = []\n",
    "dNdM_st_table = []\n",
    "for z in z_range:\n",
    "    dNdM_table.append(dNdM(interp_m, z))\n",
    "    dNdM_st_table.append(dNdM_st(interp_m, z))\n",
    "dNdM_table = np.array(dNdM_table)\n",
    "dNdM_st_table = np.array(dNdM_st_table)\n",
    "\n",
    "ps_m_data = {\n",
    "    'z_range': z_range,\n",
    "    'm_range': interp_m,\n",
    "    'm_range_units': 'Msun',\n",
    "    'annihilation_rates': interpolated_annihilation_rates,\n",
    "    'annihilation_rates_units': 'Msun^2 / pc^3',\n",
    "    'dNdM': dNdM_table,\n",
    "    'dNdM_st': dNdM_st_table,\n",
    "    'dNdM_units': 'Msun^-1 Mpc^-3',\n",
    "}\n",
    "\n",
    "save_h5_dict('../../data/pwave/m_data.h5', ps_m_data)"
   ]
  },
  {
   "cell_type": "code",
   "execution_count": null,
   "metadata": {},
   "outputs": [
    {
     "data": {
      "text/plain": [
       "(1e-40, 1802788027702443.0)"
      ]
     },
     "execution_count": 15,
     "metadata": {},
     "output_type": "execute_result"
    },
    {
     "data": {
      "image/png": "[encoded data removed]",
      "text/plain": [
       "<Figure size 640x480 with 1 Axes>"
      ]
     },
     "metadata": {},
     "output_type": "display_data"
    }
   ],
   "source": [
    "plt.plot(interp_m, interp_m*dNdM(interp_m, 0) * interpolated_annihilation_rates[0]) # Msun^2 / pc^3\n",
    "plt.loglog()\n",
    "plt.xlabel('$M_\\odot$')\n",
    "plt.ylabel(r'$M \\frac{dn}{dM}$ [$M_\\odot^2$ /Mpc$^3/$/pc$^{3}$]')\n",
    "plt.ylim(1e-40, None)"
   ]
  },
  {
   "cell_type": "markdown",
   "metadata": {},
   "source": [
    "# Generate HMF for Sheth-Tormen"
   ]
  },
  {
   "cell_type": "code",
   "execution_count": 49,
   "metadata": {},
   "outputs": [],
   "source": [
    "st_annihilation_table = np.zeros((len(z_range)))\n",
    "\n",
    "for i in range(ps_annihilation_table.shape[0]):\n",
    "    st_annihilation_table[i] = np.trapz(interpolated_annihilation_rates[i] * dNdM_st(interp_m, z_range[i]), interp_m)"
   ]
  },
  {
   "cell_type": "markdown",
   "metadata": {},
   "source": [
    "# Save the Results"
   ]
  },
  {
   "cell_type": "code",
   "execution_count": 50,
   "metadata": {},
   "outputs": [
    {
     "name": "stdout",
     "output_type": "stream",
     "text": [
      "1441.3537210485738\n"
     ]
    }
   ],
   "source": [
    "unity =  1 * (c.M_sun**2 * c.c**4 / (u.pc**3 * u.Mpc**3)).to(u.eV**2 / u.cm**3 / u.cm**3)\n",
    "print(unity.value)"
   ]
  },
  {
   "cell_type": "code",
   "execution_count": null,
   "metadata": {},
   "outputs": [],
   "source": [
    "table_dict = {\n",
    "    'z_range' : z_range,\n",
    "    'd_range' : delta_range,\n",
    "    'r_range' : r_range,\n",
    "    'ps_cond_ann_rate_table' : cond_annihilation_table * unity.value,\n",
    "    'ps_ann_rate_table' : ps_annihilation_table * unity.value,\n",
    "    'st_ann_rate_table' : st_annihilation_table * unity.value,\n",
    "}\n",
    "save_dirs = [\n",
    "    \"/n/home07/yitians/dm21cm/DM21cm/data/pwave\",\n",
    "    \"/n/holylabs/LABS/iaifi_lab/Users/yitians/dm21cm/data/zf002/data\",\n",
    "]\n",
    "for save_dir in save_dirs:\n",
    "    save_h5_dict(save_dir + \"/pwave_ann_rate.h5\", table_dict)"
   ]
  },
  {
   "cell_type": "code",
   "execution_count": 52,
   "metadata": {},
   "outputs": [
    {
     "data": {
      "text/plain": [
       "((51, 128, 128), (51,), (51,))"
      ]
     },
     "execution_count": 52,
     "metadata": {},
     "output_type": "execute_result"
    }
   ],
   "source": [
    "cond_annihilation_table.shape, ps_annihilation_table.shape, st_annihilation_table.shape"
   ]
  },
  {
   "cell_type": "markdown",
   "metadata": {},
   "source": [
    "# Comparison with old results"
   ]
  },
  {
   "cell_type": "code",
   "execution_count": 57,
   "metadata": {},
   "outputs": [
    {
     "data": {
      "text/plain": [
       "dict_keys(['delta_range', 'ps_ann_rate_table', 'ps_cond_ann_rate_table', 'r_range', 'st_ann_rate_table', 'z_range'])"
      ]
     },
     "execution_count": 57,
     "metadata": {},
     "output_type": "execute_result"
    }
   ],
   "source": [
    "cmp = load_h5_dict(\"../../data/pwave/pwave_ann_rate_o.h5\")\n",
    "cmp.keys()"
   ]
  },
  {
   "cell_type": "code",
   "execution_count": 59,
   "metadata": {},
   "outputs": [
    {
     "data": {
      "image/png": "[encoded data removed]",
      "text/plain": [
       "<Figure size 640x480 with 1 Axes>"
      ]
     },
     "metadata": {},
     "output_type": "display_data"
    }
   ],
   "source": [
    "z = cmp['ps_cond_ann_rate_table'] / table_dict['ps_cond_ann_rate_table']\n",
    "plt.hist(z.flatten(), bins=100)\n",
    "plt.yscale('log')"
   ]
  },
  {
   "cell_type": "markdown",
   "metadata": {},
   "source": [
    "# Archive"
   ]
  },
  {
   "cell_type": "code",
   "execution_count": 30,
   "metadata": {},
   "outputs": [
    {
     "data": {
      "text/plain": [
       "[<matplotlib.lines.Line2D at 0x7f22b83b2790>]"
      ]
     },
     "execution_count": 30,
     "metadata": {},
     "output_type": "execute_result"
    },
    {
     "data": {
      "image/png": "[encoded data removed]",
      "text/plain": [
       "<Figure size 640x480 with 1 Axes>"
      ]
     },
     "metadata": {},
     "output_type": "display_data"
    }
   ],
   "source": [
    "plt.plot(np.log(cmp['Conditional_Annihiation'][25][64]))"
   ]
  },
  {
   "cell_type": "code",
   "execution_count": 29,
   "metadata": {},
   "outputs": [
    {
     "data": {
      "text/plain": [
       "[<matplotlib.lines.Line2D at 0x7f232f79bd10>]"
      ]
     },
     "execution_count": 29,
     "metadata": {},
     "output_type": "execute_result"
    },
    {
     "data": {
      "image/png": "[encoded data removed]",
      "text/plain": [
       "<Figure size 640x480 with 1 Axes>"
      ]
     },
     "metadata": {},
     "output_type": "display_data"
    }
   ],
   "source": [
    "plt.plot(np.log(cond_annihilation_table[25][64]))\n",
    "plt.plot(np.log(cmp['Conditional_Annihiation'][25][64]))"
   ]
  },
  {
   "cell_type": "code",
   "execution_count": null,
   "metadata": {},
   "outputs": [],
   "source": []
  }
 ],
 "metadata": {
  "kernelspec": {
   "display_name": "dm21cm",
   "language": "python",
   "name": "python3"
  },
  "language_info": {
   "codemirror_mode": {
    "name": "ipython",
    "version": 3
   },
   "file_extension": ".py",
   "mimetype": "text/x-python",
   "name": "python",
   "nbconvert_exporter": "python",
   "pygments_lexer": "ipython3",
   "version": "3.11.5"
  }
 },
 "nbformat": 4,
 "nbformat_minor": 4
}
