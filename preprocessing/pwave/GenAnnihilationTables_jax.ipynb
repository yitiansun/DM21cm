{
 "cells": [
  {
   "cell_type": "code",
   "execution_count": 1,
   "metadata": {},
   "outputs": [],
   "source": [
    "from tqdm import tqdm\n",
    "import numpy as np\n",
    "from scipy import integrate, interpolate\n",
    "\n",
    "import jax\n",
    "jax.config.update(\"jax_enable_x64\", True)\n",
    "import jax.numpy as jnp\n",
    "from jax import jit, vmap\n",
    "\n",
    "from astropy import units as u\n",
    "from astropy.cosmology import Planck18 as cosmo\n",
    "from hmf import Transfer\n",
    "\n",
    "import matplotlib.pyplot as plt\n",
    "from IPython.display import clear_output"
   ]
  },
  {
   "cell_type": "code",
   "execution_count": 2,
   "metadata": {},
   "outputs": [
    {
     "data": {
      "text/plain": [
       "True"
      ]
     },
     "execution_count": 2,
     "metadata": {},
     "output_type": "execute_result"
    }
   ],
   "source": [
    "jax.config.read('jax_enable_x64')"
   ]
  },
  {
   "cell_type": "markdown",
   "metadata": {},
   "source": [
    "# Basic Parameter Definitions\n",
    "\n",
    "Some of these are my choice. Some of these are hardcoded by `21cmFAST`."
   ]
  },
  {
   "cell_type": "code",
   "execution_count": 3,
   "metadata": {},
   "outputs": [],
   "source": [
    "# M_Sun / Mpc^3\n",
    "rhoCrit0 = cosmo.critical_density(0).to(u.M_sun / u.Mpc**3).value\n",
    "\n",
    "# 21cmFAST Definitions for Critical Collapse\n",
    "SHETH_a = 0.73\n",
    "SHETH_A = 0.353\n",
    "SHETH_p = 0.175\n",
    "Deltac = 1.68\n",
    "\n",
    "# Default Duty Cycle Parametrization\n",
    "M_TURN = 5.012e+08\n",
    "M_MIN = 1e0"
   ]
  },
  {
   "cell_type": "markdown",
   "metadata": {},
   "source": [
    "# Convenience Methods"
   ]
  },
  {
   "cell_type": "code",
   "execution_count": 4,
   "metadata": {},
   "outputs": [],
   "source": [
    "# I took these definitions from 21cmFAST. \n",
    "def MtoR(M):\n",
    "    return (3*M/(4*jnp.pi*cosmo.Om0*rhoCrit0)) ** (1/3)\n",
    "\n",
    "def RtoM(R):\n",
    "    return 4*jnp.pi*cosmo.Om0*rhoCrit0*R**3 / 3\n",
    "\n",
    "\n",
    "# This is the fitting function for the Dicke Linear Growth Factor. I took this from 21cmFAST\n",
    "dicke_z_arr = jnp.linspace(0, 100, 1000)\n",
    "omegaM_z_arr = cosmo.Om(dicke_z_arr)\n",
    "def dicke(z):\n",
    "    omegaM_z = jnp.interp(z, dicke_z_arr, omegaM_z_arr)\n",
    "    \n",
    "    dicke_z = 2.5 * omegaM_z / (1.0 / 70.0 + omegaM_z * (209 - omegaM_z) / 140.0 + omegaM_z**(4.0/7.0))\n",
    "    dicke_0 = 2.5 *  cosmo.Om0 / (1.0 / 70.0 +  cosmo.Om0 * (209 - cosmo.Om0) / 140.0 + cosmo.Om0**(4.0/7.0))\n",
    "    \n",
    "    return dicke_z / (dicke_0 * (1.0 + z))\n",
    "\n",
    "\n",
    "# This is the top-hat window function. I took this from 21cmFAST\n",
    "def W(k, R):\n",
    "    kR = k * R\n",
    "    return jnp.where(kR >= 1e-4, 3.0 * (jnp.sin(kR) / kR**3 - jnp.cos(kR) / kR**2), 0.0)\n",
    "\n",
    "# This is the derivative of the top-hat window function with respect to R. I took this from 21cmFAST\n",
    "def dWdR(k, R):\n",
    "    kR = k * R\n",
    "    return jnp.where(k >= 1e-10, (9 * jnp.cos(kR) * k / kR**3) + (3 * jnp.sin(kR) * (1 - 3 / (kR * kR)) / (kR * R)), 0.0)"
   ]
  },
  {
   "cell_type": "markdown",
   "metadata": {},
   "source": [
    "# Generating Interpolated Power Spectrum from EH"
   ]
  },
  {
   "cell_type": "code",
   "execution_count": 5,
   "metadata": {},
   "outputs": [],
   "source": [
    "tr = Transfer(cosmo_model = cosmo, transfer_model = 'EH', z = 0)\n",
    "\n",
    "interp_k = tr.k * cosmo.h # to u without `h`\n",
    "interp_T = tr.transfer_function / np.amax(tr.transfer_function) # normalized\n",
    "interp_P = interp_k**2 * interp_T**2 * interp_k**cosmo.to_format('mapping')['meta']['n']\n",
    "\n",
    "# Defining an interpolated Power Spectrum that must be normalized to match Sigma8\n",
    "PowerSpectrum = interpolate.CubicSpline(interp_k, interp_P)\n",
    "\n",
    "# Doing the Sigma8 Normalization\n",
    "Radius_8 = 8.0/cosmo.h \n",
    "integrand = lambda logk: np.exp(logk)* PowerSpectrum(np.exp(logk)) * W(np.exp(logk), Radius_8)**2\n",
    "result = integrate.quad(integrand, np.log(interp_k[0]), np.log(interp_k[-1]), epsabs = 0, epsrel = 1e-6)\n",
    "sigma_norm = cosmo.to_format('mapping')['meta']['sigma8']/np.sqrt(result[0])\n",
    "\n",
    "# Redefining the Power Spectrum to be consistent with Sigma8\n",
    "#PowerSpectrum = interpolate.CubicSpline(interp_k, sigma_norm**2*interp_P)\n",
    "interp_k = jnp.asarray(interp_k)\n",
    "interp_P = jnp.asarray(interp_P)\n",
    "sigma_norm = jnp.asarray(sigma_norm)\n",
    "PowerSpectrum = lambda k: jnp.interp(k, interp_k, sigma_norm**2*interp_P)"
   ]
  },
  {
   "cell_type": "markdown",
   "metadata": {},
   "source": [
    "# Operations on the Power Spectrum"
   ]
  },
  {
   "cell_type": "code",
   "execution_count": 6,
   "metadata": {},
   "outputs": [],
   "source": [
    "@jit\n",
    "def sigma_z0(M):\n",
    "    radius = MtoR(M)\n",
    "    \n",
    "    # integrand = lambda logk: np.exp(logk)* PowerSpectrum(np.exp(logk)) * W(np.exp(logk), radius)**2\n",
    "    # result = np.sqrt(integrate.quad(integrand, np.log(interp_k[0]), np.log(interp_k[-1]), epsabs = 0, epsrel = 1e-6)[0])\n",
    "    logk_arr = jnp.linspace(jnp.log(interp_k[0]), jnp.log(interp_k[-1]), 300)\n",
    "    integrand = jnp.exp(logk_arr)* PowerSpectrum(jnp.exp(logk_arr)) * W(jnp.exp(logk_arr), radius)**2\n",
    "    result = jnp.sqrt(jnp.trapz(integrand, logk_arr))\n",
    "    \n",
    "    return result\n",
    "\n",
    "@jit\n",
    "def dsigmasqdm_z0(M):\n",
    "    radius = MtoR(M)\n",
    "        \n",
    "    # Calculating drdrm\n",
    "    drdm = 1 / (4 * jnp.pi * cosmo.Om0 * rhoCrit0 * radius**2)\n",
    "    \n",
    "    # Defining the integrand\n",
    "    # integrand = lambda logk: np.exp(logk)* PowerSpectrum(np.exp(logk)) * \\\n",
    "    #                          2 * W(np.exp(logk), radius) * dWdR(np.exp(logk), radius) * drdm\n",
    "    # result = integrate.quad(integrand, np.log(interp_k[0]), np.log(interp_k[-1]), epsabs = 0, epsrel = 1e-6)[0]\n",
    "    logk_arr = jnp.linspace(jnp.log(interp_k[0]), jnp.log(interp_k[-1]), 300)\n",
    "    integrand = jnp.exp(logk_arr)* PowerSpectrum(jnp.exp(logk_arr)) * \\\n",
    "                             2 * W(jnp.exp(logk_arr), radius) * dWdR(jnp.exp(logk_arr), radius) * drdm\n",
    "    result = jnp.trapz(integrand, logk_arr)\n",
    "\n",
    "    return result\n",
    "\n",
    "############################################################################\n",
    "###   The above is slow so we will define some interpolating functions   ###\n",
    "############################################################################\n",
    "\n",
    "\n",
    "interp_m = jnp.geomspace(M_MIN, RtoM(512), 4001)\n",
    "interp_sigma = vmap(sigma_z0, in_axes = 0)(interp_m)\n",
    "interp_dsigma_dm = vmap(dsigmasqdm_z0, in_axes = 0)(interp_m)\n",
    "    \n",
    "# sigma_z0 = interpolate.CubicSpline(interp_m, interp_sigma)\n",
    "# dsigmasqdm_z0 = interpolate.CubicSpline(interp_m, interp_dsigma_dm)\n",
    "sigma_z0 = lambda M: jnp.interp(M, interp_m, interp_sigma)\n",
    "dsigmasqdm_z0 = lambda M: jnp.interp(M, interp_m, interp_dsigma_dm)"
   ]
  },
  {
   "cell_type": "markdown",
   "metadata": {},
   "source": [
    "# Press Schechter and Sheth Tormen Mass Functions"
   ]
  },
  {
   "cell_type": "code",
   "execution_count": 7,
   "metadata": {},
   "outputs": [],
   "source": [
    "# This is the Sheth-Tormen Mass Function. This is exactly taken from 21cmFAST, which is why the conventions\n",
    "# are a little bit weird. Anyways, this matches HMF precisely if the Sheth-Tormen parameteres are tuned\n",
    "# to match those used by 21cmFAST.\n",
    "@jit\n",
    "def dNdM_st(M, z):\n",
    "    \n",
    "    growthf = dicke(z)\n",
    "\n",
    "    sigma = sigma_z0(M)\n",
    "    dsigmadm = dsigmasqdm_z0(M)\n",
    "\n",
    "    sigma = sigma * growthf\n",
    "    dsigmadm = dsigmadm * (growthf*growthf/(2.*sigma))\n",
    "\n",
    "    nuhat = jnp.sqrt(SHETH_a) * Deltac / sigma\n",
    "\n",
    "    return (-(cosmo.Om0)*rhoCrit0/M) * (dsigmadm/sigma) * jnp.sqrt(2./jnp.pi)*SHETH_A * (1+nuhat**(-2*SHETH_p)) * nuhat * jnp.exp(-nuhat*nuhat/2.0)\n",
    "\n",
    "# This is the Press-Schechter Mass Function. This is taken exactly from 21cmFAST, which is why the conventions\n",
    "# are a little bit weird. This precisely matches the HMF module.\n",
    "@jit\n",
    "def dNdM(M, z):\n",
    "    growthf = dicke(z)\n",
    "\n",
    "    sigma = sigma_z0(M)\n",
    "    dsigmadm = dsigmasqdm_z0(M)\n",
    "\n",
    "    sigma = sigma * growthf\n",
    "    dsigmadm = dsigmadm * (growthf*growthf/(2.*sigma))\n",
    "\n",
    "    return (-(cosmo.Om0)*rhoCrit0/M) * jnp.sqrt(2/jnp.pi) * (Deltac/(sigma*sigma)) * dsigmadm * jnp.exp(-(Deltac*Deltac)/(2*sigma*sigma))\n",
    "\n",
    "\n",
    "# I had to implement this myself. I'm not actually sure 21cmFAST does this totally correctly, but I think this\n",
    "# should be close enough. It comes from Eq. 7.81 in Galaxy \n",
    "# This is the conditional Press-Schechter\n",
    "@jit\n",
    "def dNdM_Conditional(MR, deltaR, z):\n",
    "    \n",
    "    delta2 = deltaR / dicke(z)\n",
    "    delta1 = Deltac / dicke(z)\n",
    "    \n",
    "    S1 = sigma_z0(interp_m)**2\n",
    "    S2 = sigma_z0(MR)**2\n",
    "    \n",
    "    dS1_dM1 = dsigmasqdm_z0(interp_m)\n",
    "\n",
    "    n12 = (delta1 - delta2) / jnp.sqrt(S1 - S2)\n",
    "    differential = -interp_m * (delta1-delta2) / 2 / n12 / jnp.sqrt(S1-S2)**3*dS1_dM1\n",
    "    differential *= (S1 > S2)\n",
    "    \n",
    "    fPS = jnp.sqrt(2/jnp.pi)*n12*jnp.exp(-n12**2 / 2)\n",
    "    \n",
    "    return jnp.where(S1 > S2, 1 / interp_m**2 * fPS * jnp.abs(differential), jnp.nan) * (cosmo.Om0*rhoCrit0)"
   ]
  },
  {
   "cell_type": "markdown",
   "metadata": {},
   "source": [
    "# Load Annihilation Rates"
   ]
  },
  {
   "cell_type": "code",
   "execution_count": 8,
   "metadata": {},
   "outputs": [
    {
     "name": "stdout",
     "output_type": "stream",
     "text": [
      "6.993233434761833e+43 4.440930025452955e+81\n"
     ]
    }
   ],
   "source": [
    "annihilation_dict = np.load('./Annihilation_Dictionary.npz')\n",
    "\n",
    "annihilation_z = annihilation_dict['z_range']\n",
    "annihilation_mass = annihilation_dict['mass_range']\n",
    "annihilation_rate = annihilation_dict['annihilation_rates']\n",
    "# [ ] In GeV^2 / cm^3 / Mpc^3\n",
    "# [X] In Msun(energy)^2 / pc^3 / Mpc^3\n",
    "print(np.min(annihilation_rate), np.max(annihilation_rate))"
   ]
  },
  {
   "cell_type": "code",
   "execution_count": 9,
   "metadata": {},
   "outputs": [],
   "source": [
    "log_interpolator = interpolate.RegularGridInterpolator((annihilation_z, np.log10(annihilation_mass)),\n",
    "                                                       np.log10(annihilation_rate),\n",
    "                                                       bounds_error = False, \n",
    "                                                       fill_value = np.amin(np.log10(annihilation_rate)))\n",
    "\n",
    "def annihilation_interpolator(z, M):\n",
    "    return 10**log_interpolator([z, np.log10(M)])"
   ]
  },
  {
   "cell_type": "code",
   "execution_count": 10,
   "metadata": {},
   "outputs": [
    {
     "name": "stderr",
     "output_type": "stream",
     "text": [
      "  0%|          | 0/51 [00:00<?, ?it/s]"
     ]
    },
    {
     "name": "stderr",
     "output_type": "stream",
     "text": [
      "100%|██████████| 51/51 [00:24<00:00,  2.08it/s]\n"
     ]
    }
   ],
   "source": [
    "interpolated_annihilation_rates = np.zeros((len(annihilation_z), len(interp_m)))\n",
    "\n",
    "for i,z in enumerate(tqdm(annihilation_z)):\n",
    "    interpolated_annihilation_rates[i] = np.array([annihilation_interpolator(z, M) for M in interp_m])[:, 0]"
   ]
  },
  {
   "cell_type": "markdown",
   "metadata": {},
   "source": [
    "# Generate HMF Tables for the Conditional Press-Schechter"
   ]
  },
  {
   "cell_type": "code",
   "execution_count": 11,
   "metadata": {
    "scrolled": true
   },
   "outputs": [
    {
     "name": "stderr",
     "output_type": "stream",
     "text": [
      "100%|██████████| 51/51 [00:12<00:00,  3.96it/s]\n"
     ]
    }
   ],
   "source": [
    "z_range = annihilation_z\n",
    "delta_range = np.linspace(-1, 1.5, 128)\n",
    "r_range = np.geomspace(.1, 512, 128)\n",
    "\n",
    "cond_dndm = np.zeros((len(z_range), len(delta_range), len(r_range), len(interp_m)))\n",
    "\n",
    "func = jit(vmap(lambda r: jnp.nan_to_num(dNdM_Conditional(RtoM(r), delta, z)), in_axes = 0))\n",
    "\n",
    "for i, z in enumerate(tqdm(z_range)):\n",
    "    for j, delta in enumerate(delta_range):\n",
    "        cond_dndm[i, j, :] = func(r_range)"
   ]
  },
  {
   "cell_type": "code",
   "execution_count": 12,
   "metadata": {},
   "outputs": [
    {
     "name": "stderr",
     "output_type": "stream",
     "text": [
      "100%|██████████| 51/51 [00:22<00:00,  2.28it/s]\n"
     ]
    }
   ],
   "source": [
    "cond_annihilation_table =np.zeros((len(z_range), len(delta_range), len(r_range)))\n",
    "\n",
    "for i in tqdm(range(cond_annihilation_table.shape[0])):\n",
    "    for j in range(cond_annihilation_table.shape[1]):\n",
    "        for k in range(cond_annihilation_table.shape[2]):\n",
    "            cond_annihilation_table[i,j,k] = np.trapz(interpolated_annihilation_rates[i] * cond_dndm[i,j,k], interp_m)"
   ]
  },
  {
   "cell_type": "markdown",
   "metadata": {},
   "source": [
    "# Generate HMF for Unconditional Press-Schechter"
   ]
  },
  {
   "cell_type": "code",
   "execution_count": 13,
   "metadata": {},
   "outputs": [
    {
     "name": "stdout",
     "output_type": "stream",
     "text": [
      "9.853462526006978e+57 5.561674185620681e+67\n",
      "6.993233434761861e+43 4.396505099455398e+81\n"
     ]
    }
   ],
   "source": [
    "print(np.min(cond_annihilation_table), np.max(cond_annihilation_table))\n",
    "print(np.min(interpolated_annihilation_rates), np.max(interpolated_annihilation_rates))"
   ]
  },
  {
   "cell_type": "code",
   "execution_count": 17,
   "metadata": {},
   "outputs": [],
   "source": [
    "ps_annihilation_table = np.zeros((len(z_range)))\n",
    "\n",
    "for i in range(ps_annihilation_table.shape[0]):\n",
    "    ps_annihilation_table[i] = np.trapz(interpolated_annihilation_rates[i] * dNdM(interp_m, z_range[i]), interp_m)"
   ]
  },
  {
   "cell_type": "code",
   "execution_count": 19,
   "metadata": {},
   "outputs": [
    {
     "data": {
      "text/plain": [
       "(1e+40, 7.634259126928641e+73)"
      ]
     },
     "execution_count": 19,
     "metadata": {},
     "output_type": "execute_result"
    },
    {
     "data": {
      "image/png": "[encoded data removed]",
      "text/plain": [
       "<Figure size 640x480 with 1 Axes>"
      ]
     },
     "metadata": {},
     "output_type": "display_data"
    }
   ],
   "source": [
    "plt.plot(interp_m,interp_m*dNdM(interp_m, 0)*interpolated_annihilation_rates[0])\n",
    "plt.xscale('log')\n",
    "plt.yscale('log')\n",
    "plt.xlabel('$M_\\odot$')\n",
    "plt.ylabel(r'$M \\frac{dn}{dM}$ [$M_\\odot^2$ /Mpc$^3/$/pc$^{3}$]')\n",
    "plt.ylim(1e40, None)"
   ]
  },
  {
   "cell_type": "markdown",
   "metadata": {},
   "source": [
    "# Generate HMF for Sheth-Tormen"
   ]
  },
  {
   "cell_type": "code",
   "execution_count": 20,
   "metadata": {},
   "outputs": [],
   "source": [
    "st_annihilation_table = np.zeros((len(z_range)))\n",
    "\n",
    "for i in range(ps_annihilation_table.shape[0]):\n",
    "    st_annihilation_table[i] = np.trapz(interpolated_annihilation_rates[i] * dNdM_st(interp_m, z_range[i]), interp_m)"
   ]
  },
  {
   "cell_type": "markdown",
   "metadata": {},
   "source": [
    "# Save the Results"
   ]
  },
  {
   "cell_type": "code",
   "execution_count": 21,
   "metadata": {},
   "outputs": [],
   "source": [
    "res_dict = dict()\n",
    "res_dict['z_range'] = z_range\n",
    "res_dict['delta_range'] = delta_range\n",
    "res_dict['r_range'] = r_range\n",
    "\n",
    "res_dict['Conditional_Annihiation'] = cond_annihilation_table\n",
    "res_dict['Unconditional_Annihilation'] = ps_annihilation_table\n",
    "res_dict['ShethTormen_Annihilation'] = st_annihilation_table\n",
    "\n",
    "np.savez('./PWave_Dictionary.npz', **res_dict)"
   ]
  },
  {
   "cell_type": "code",
   "execution_count": 22,
   "metadata": {},
   "outputs": [
    {
     "data": {
      "text/plain": [
       "((51, 128, 128), (51,), (51,))"
      ]
     },
     "execution_count": 22,
     "metadata": {},
     "output_type": "execute_result"
    }
   ],
   "source": [
    "cond_annihilation_table.shape, ps_annihilation_table.shape, st_annihilation_table.shape"
   ]
  },
  {
   "cell_type": "code",
   "execution_count": 27,
   "metadata": {},
   "outputs": [],
   "source": [
    "cmp = np.load('../../data/pwave/PWave_Dictionary.npz')"
   ]
  },
  {
   "cell_type": "code",
   "execution_count": 30,
   "metadata": {},
   "outputs": [
    {
     "data": {
      "text/plain": [
       "[<matplotlib.lines.Line2D at 0x7f22b83b2790>]"
      ]
     },
     "execution_count": 30,
     "metadata": {},
     "output_type": "execute_result"
    },
    {
     "data": {
      "image/png": "[encoded data removed]",
      "text/plain": [
       "<Figure size 640x480 with 1 Axes>"
      ]
     },
     "metadata": {},
     "output_type": "display_data"
    }
   ],
   "source": [
    "plt.plot(np.log(cmp['Conditional_Annihiation'][25][64]))"
   ]
  },
  {
   "cell_type": "code",
   "execution_count": 29,
   "metadata": {},
   "outputs": [
    {
     "data": {
      "text/plain": [
       "[<matplotlib.lines.Line2D at 0x7f232f79bd10>]"
      ]
     },
     "execution_count": 29,
     "metadata": {},
     "output_type": "execute_result"
    },
    {
     "data": {
      "image/png": "[encoded data removed]",
      "text/plain": [
       "<Figure size 640x480 with 1 Axes>"
      ]
     },
     "metadata": {},
     "output_type": "display_data"
    }
   ],
   "source": [
    "plt.plot(np.log(cond_annihilation_table[25][64]))\n",
    "plt.plot(np.log(cmp['Conditional_Annihiation'][25][64]))"
   ]
  },
  {
   "cell_type": "code",
   "execution_count": null,
   "metadata": {},
   "outputs": [],
   "source": []
  }
 ],
 "metadata": {
  "kernelspec": {
   "display_name": "dm21cm",
   "language": "python",
   "name": "python3"
  },
  "language_info": {
   "codemirror_mode": {
    "name": "ipython",
    "version": 3
   },
   "file_extension": ".py",
   "mimetype": "text/x-python",
   "name": "python",
   "nbconvert_exporter": "python",
   "pygments_lexer": "ipython3",
   "version": "3.11.5"
  }
 },
 "nbformat": 4,
 "nbformat_minor": 4
}
