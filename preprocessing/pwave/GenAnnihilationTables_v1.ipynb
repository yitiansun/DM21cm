{
 "cells": [
  {
   "cell_type": "code",
   "execution_count": 1,
   "metadata": {},
   "outputs": [],
   "source": [
    "%reload_ext autoreload\n",
    "%autoreload 2\n",
    "\n",
    "import sys\n",
    "from tqdm import tqdm\n",
    "\n",
    "import numpy as np\n",
    "from scipy import integrate, interpolate\n",
    "\n",
    "import jax\n",
    "jax.config.update(\"jax_enable_x64\", True)\n",
    "import jax.numpy as jnp\n",
    "from jax import jit, vmap\n",
    "from functools import partial\n",
    "\n",
    "from astropy import units as u\n",
    "from astropy import constants as c\n",
    "from astropy.cosmology import Planck18 as cosmo\n",
    "from hmf import Transfer\n",
    "\n",
    "sys.path.append(\"../..\")\n",
    "from dm21cm.utils import load_h5_dict, save_h5_dict\n",
    "\n",
    "import matplotlib as mpl\n",
    "import matplotlib.pyplot as plt\n",
    "mpl.rc_file(\"../../plotting/matplotlibrc\")"
   ]
  },
  {
   "cell_type": "markdown",
   "metadata": {},
   "source": [
    "Some of these are my choice. Some of these are hardcoded by `21cmFAST`."
   ]
  },
  {
   "cell_type": "code",
   "execution_count": 2,
   "metadata": {},
   "outputs": [],
   "source": [
    "rhoCrit0 = cosmo.critical_density(0).to(u.M_sun / u.Mpc**3).value # [Msun / Mpc^3]\n",
    "rho_m0 = cosmo.Om0 * rhoCrit0 # [Msun / Mpc^3]\n",
    "\n",
    "# 21cmFAST Definitions for Critical Collapse\n",
    "SHETH_a = 0.73\n",
    "SHETH_A = 0.353\n",
    "SHETH_p = 0.175\n",
    "Deltac = 1.68\n",
    "\n",
    "# Default Duty Cycle Parametrization\n",
    "M_TURN = 5.012e+08\n",
    "M_MIN = 1e0"
   ]
  },
  {
   "cell_type": "markdown",
   "metadata": {},
   "source": [
    "# 1. Window functions"
   ]
  },
  {
   "cell_type": "markdown",
   "metadata": {},
   "source": [
    "Sphere:\n",
    "\n",
    "$$W(\\vec k, R)=\\int d^3x~e^{-i\\vec k\\vec x} \\frac{3}{4\\pi R^3} = \\frac{3(\\sin(k R)-kR\\cos(kR))}{(kR)^3}$$\n",
    "Normalization\n",
    "$$W(0, R)=1$$\n",
    "\n",
    "Cube:\n",
    "\n",
    "$$W(\\vec k, R)=\\left(\\int_{-R}^R dx~e^{-i k_x x} \\frac{1}{2R}\\right)(x\\rightarrow y)(x\\rightarrow z)=\\frac{\\sin(k_x R)}{k_x R}\\frac{\\sin(k_y R)}{k_y R}\\frac{\\sin(k_z R)}{k_z R}$$\n",
    "Normalization\n",
    "$$W(0, R)=1$$"
   ]
  },
  {
   "cell_type": "code",
   "execution_count": 3,
   "metadata": {},
   "outputs": [],
   "source": [
    "# I took these definitions from 21cmFAST. \n",
    "def MtoR(M):\n",
    "    return (3*M / (4*jnp.pi * rho_m0)) ** (1/3)\n",
    "\n",
    "def RtoM(R):\n",
    "    return 4*jnp.pi * rho_m0 * R**3 / 3\n",
    "\n",
    "# This is the top-hat window function. I took this from 21cmFAST\n",
    "def W(k, R):\n",
    "    kR = k * R\n",
    "    return jnp.where(kR >= 1e-4, 3.0 * (jnp.sin(kR) / kR**3 - jnp.cos(kR) / kR**2), 0.0)\n",
    "\n",
    "# This is the derivative of the top-hat window function with respect to R. I took this from 21cmFAST\n",
    "def dWdR(k, R):\n",
    "    kR = k * R\n",
    "    return jnp.where(k >= 1e-10, (9 * jnp.cos(kR) * k / kR**3) + (3 * jnp.sin(kR) * (1 - 3 / (kR * kR)) / (kR * R)), 0.0)\n",
    "    \n",
    "#===== Cube =====\n",
    "# Side length = 2R\n",
    "def MtoR_cube(M):\n",
    "    return (M / rho_m0) ** (1/3) / 2\n",
    "\n",
    "def RtoM_cube(R):\n",
    "    return 8 * rho_m0 * R**3\n",
    "\n",
    "def Wi_cube(ki, R):\n",
    "    kiR = ki * R\n",
    "    return jnp.where(kiR >= 1e-10, jnp.sin(kiR) / (kiR), 0.0)\n",
    "\n",
    "def W_cube(kx, ky, kz, R):\n",
    "    return Wi_cube(kx, R) * Wi_cube(ky, R) * Wi_cube(kz, R)\n",
    "\n",
    "def dWidR_cube(ki, R):\n",
    "    kiR = ki * R\n",
    "    return jnp.where(ki >= 1e-10, (kiR*jnp.cos(kiR) - jnp.sin(kiR)) / (kiR*R), 0.0)\n",
    "\n",
    "def dWdR_cube(kx, ky, kz, R):\n",
    "    return dWidR_cube(kx, R) * Wi_cube(ky, R) * Wi_cube(kz, R) + \\\n",
    "        Wi_cube(kx, R) * dWidR_cube(ky, R) * Wi_cube(kz, R) + \\\n",
    "        Wi_cube(kx, R) * Wi_cube(ky, R) * dWidR_cube(kz, R)"
   ]
  },
  {
   "cell_type": "code",
   "execution_count": 4,
   "metadata": {},
   "outputs": [],
   "source": [
    "class CubeIntegrator:\n",
    "    \"\"\"Abstract cube integration calss\"\"\"\n",
    "\n",
    "    def __init__(self, k, res=None, use_tqdm=False):\n",
    "        self.res = res\n",
    "        if self.res:\n",
    "            self.k = jnp.geomspace(k[0], k[-1], self.res)\n",
    "        else:\n",
    "            self.k = jnp.asarray(k)\n",
    "        self.lnk = jnp.log(self.k)\n",
    "        self.use_tqdm = use_tqdm\n",
    "\n",
    "    def integrand(self, kx, ky, kz, R):\n",
    "        pass\n",
    "    \n",
    "    @partial(vmap, in_axes=(None, None, 0, None))\n",
    "    def integrand_2(self, kx, ky, R):\n",
    "        return jnp.trapz(self.k * self.integrand(kx, ky, self.k, R), self.lnk)\n",
    "    \n",
    "    @partial(jit, static_argnums=(0,))\n",
    "    def integrand_1(self, kx, R):\n",
    "        return jnp.trapz(self.k * self.integrand_2(kx, self.k, R), self.lnk)\n",
    "    \n",
    "    def integral(self, R):\n",
    "        integrand = []\n",
    "        k_iter = tqdm(self.k) if self.use_tqdm else self.k\n",
    "        for k in k_iter:\n",
    "            integrand.append(self.integrand_1(k, R))\n",
    "        integrand = jnp.asarray(integrand)\n",
    "        return jnp.trapz(self.k * integrand, self.lnk) * 8 # eight octants"
   ]
  },
  {
   "cell_type": "markdown",
   "metadata": {},
   "source": [
    "# 2. Generating and normalize power spectrum from EH"
   ]
  },
  {
   "cell_type": "code",
   "execution_count": 5,
   "metadata": {},
   "outputs": [],
   "source": [
    "tr = Transfer(cosmo_model=cosmo, transfer_model='EH', z=0)\n",
    "\n",
    "# Doing the Sigma8 Normalization\n",
    "interp_k = tr.k * cosmo.h # to u without `h`\n",
    "interp_T = tr.transfer_function / np.amax(tr.transfer_function) # normalized\n",
    "interp_P = interp_k**2 * interp_T**2 * interp_k**cosmo.to_format('mapping')['meta']['n']\n",
    "\n",
    "# Defining an interpolated Power Spectrum that must be normalized to match Sigma8\n",
    "k2P_unnorm = interpolate.CubicSpline(interp_k, interp_P)\n",
    "\n",
    "Radius_8 = 8.0/cosmo.h\n",
    "integrand = lambda logk: np.exp(logk)* k2P_unnorm(np.exp(logk)) * W(np.exp(logk), Radius_8)**2\n",
    "result = integrate.quad(integrand, np.log(interp_k[0]), np.log(interp_k[-1]), epsabs = 0, epsrel = 1e-6)\n",
    "sigma_norm = cosmo.to_format('mapping')['meta']['sigma8']/np.sqrt(result[0])\n",
    "# Should be: sigma_norm = 2*np.pi**2 * cosmo.to_format('mapping')['meta']['sigma8']/np.sqrt(result[0])\n",
    "\n",
    "# Redefining the Power Spectrum to be consistent with Sigma8\n",
    "#PowerSpectrum = interpolate.CubicSpline(interp_k, sigma_norm**2*interp_P)\n",
    "interp_k = jnp.asarray(interp_k)\n",
    "interp_P = jnp.asarray(interp_P)\n",
    "def k2P(k):\n",
    "    \"\"\"This k^2 P(k) carries some normalization such that int dk k2P(k) W(k, R)^2 = sigma^2.\"\"\"\n",
    "    return jnp.interp(k, interp_k, sigma_norm**2*interp_P)"
   ]
  },
  {
   "cell_type": "code",
   "execution_count": 6,
   "metadata": {},
   "outputs": [
    {
     "name": "stdout",
     "output_type": "stream",
     "text": [
      "0.6564240400000001\n",
      "0.6563394224615211\n"
     ]
    }
   ],
   "source": [
    "# sigma_8^2\n",
    "print(cosmo.to_format('mapping')['meta']['sigma8']**2)\n",
    "\n",
    "# sphere trapz\n",
    "k = jnp.geomspace(interp_k[0], interp_k[-1], 10000)\n",
    "print(float(jnp.trapz(k * k2P(k) * W(k, Radius_8)**2, np.log(k))))"
   ]
  },
  {
   "cell_type": "markdown",
   "metadata": {},
   "source": [
    "In `Transfer(z=0)`, let $T=$ `np.exp(self._unnormalised_lnT)`. $k=$ `self.k`. $n=$ `self.n`.\n",
    "\n",
    "`self.power` $=P(k)=$ `self._normalisation**2` $k^n\\,T^2$ \\\n",
    "`self.delta_k` $=\\Delta^2(k)=k^3 * P(k) / (2 \\pi)$\n",
    "\n",
    "$$\\sigma^2_8=\\frac{1}{2\\pi^2}\\int dk\\, k^2 P(k) W(k, R)^2$$\n",
    "\n",
    "Here:\n",
    "\n",
    "`self.transfer_function` $\\propto T$\n",
    "\n",
    "`interp_P` $= C k^2 \\cdot k^{n'} \\,T^2=C k^2 P(k)$, where $C$ is a unknown normalization. \\\n",
    "But it doesn't matter, we only care that for some normalization $C$,\n",
    "$$\\sigma^2_8 \\equiv \\int dk~ \\Big(C k^2P(k)\\Big) W(k, R)^2$$\n",
    "So that later $\\sigma^2(M)$ can be obtained in the exact same way.\n",
    "Here `k2P` is $C k^2P(k)$ with unknown normalization $C$."
   ]
  },
  {
   "cell_type": "markdown",
   "metadata": {},
   "source": [
    "## 2.1 Check cube $\\sigma_8$ is not crazy"
   ]
  },
  {
   "cell_type": "markdown",
   "metadata": {},
   "source": [
    "$$\\sigma^2 = \\int dk~ \\Big(C k^2P(k)\\Big) W_\\circ(k, R)^2 = \\int d^3\\vec k~ \\frac{1}{4\\pi |\\vec k|^2}\\Big(C |\\vec k|^2P(|\\vec k|)\\Big) W_\\square(\\vec k, R)^2$$"
   ]
  },
  {
   "cell_type": "code",
   "execution_count": 7,
   "metadata": {},
   "outputs": [],
   "source": [
    "class CISigmaSq (CubeIntegrator):\n",
    "    def integrand(self, kx, ky, kz, R):\n",
    "        k = jnp.sqrt(kx**2 + ky**2 + kz**2)\n",
    "        return k2P(k) / (4*jnp.pi*k**2) * W_cube(kx, ky, kz, R)**2"
   ]
  },
  {
   "cell_type": "code",
   "execution_count": 8,
   "metadata": {},
   "outputs": [
    {
     "name": "stdout",
     "output_type": "stream",
     "text": [
      "res = 64\n"
     ]
    },
    {
     "name": "stderr",
     "output_type": "stream",
     "text": [
      "100%|██████████| 64/64 [00:00<00:00, 124.59it/s]\n"
     ]
    },
    {
     "name": "stdout",
     "output_type": "stream",
     "text": [
      "res = 128\n"
     ]
    },
    {
     "name": "stderr",
     "output_type": "stream",
     "text": [
      "100%|██████████| 128/128 [00:00<00:00, 131.40it/s]\n"
     ]
    },
    {
     "name": "stdout",
     "output_type": "stream",
     "text": [
      "res = 256\n"
     ]
    },
    {
     "name": "stderr",
     "output_type": "stream",
     "text": [
      "100%|██████████| 256/256 [00:00<00:00, 419.59it/s]\n"
     ]
    },
    {
     "name": "stdout",
     "output_type": "stream",
     "text": [
      "res = 512\n"
     ]
    },
    {
     "name": "stderr",
     "output_type": "stream",
     "text": [
      "100%|██████████| 512/512 [00:00<00:00, 712.50it/s]\n"
     ]
    },
    {
     "name": "stdout",
     "output_type": "stream",
     "text": [
      "res = 1024\n"
     ]
    },
    {
     "name": "stderr",
     "output_type": "stream",
     "text": [
      "100%|██████████| 1024/1024 [00:01<00:00, 839.89it/s]\n"
     ]
    },
    {
     "name": "stdout",
     "output_type": "stream",
     "text": [
      "res = 2048\n"
     ]
    },
    {
     "name": "stderr",
     "output_type": "stream",
     "text": [
      "100%|██████████| 2048/2048 [00:07<00:00, 279.30it/s]\n"
     ]
    }
   ],
   "source": [
    "# convergence\n",
    "res_s = 2**np.arange(6, 12)\n",
    "intg_s = []\n",
    "for res in res_s:\n",
    "    print(f\"res = {res}\")\n",
    "    ci = CISigmaSq(interp_k, res=res, use_tqdm=True)\n",
    "    intg_s.append(ci.integral(R=Radius_8))\n",
    "intg_s = jnp.asarray(intg_s)"
   ]
  },
  {
   "cell_type": "code",
   "execution_count": 9,
   "metadata": {},
   "outputs": [
    {
     "data": {
      "image/png": "[encoded data removed]",
      "text/plain": [
       "<Figure size 1500x600 with 2 Axes>"
      ]
     },
     "metadata": {},
     "output_type": "display_data"
    }
   ],
   "source": [
    "fig, axs = plt.subplots(1, 2, figsize=(10, 4))\n",
    "axs[0].plot(res_s, intg_s, 'o-')\n",
    "axs[0].axhline(intg_s[-1], color='k', linestyle='--')\n",
    "axs[0].set(xscale='log')\n",
    "\n",
    "axs[1].plot(res_s, (intg_s-intg_s[-1]), 'o')\n",
    "axs[1].plot(res_s, -(intg_s-intg_s[-1]), 'o')\n",
    "axs[1].set(xscale='log', yscale='log');"
   ]
  },
  {
   "cell_type": "code",
   "execution_count": 8,
   "metadata": {},
   "outputs": [
    {
     "name": "stdout",
     "output_type": "stream",
     "text": [
      " cube in sphere 0.9795254402452758\n",
      "         sphere 0.6564240400000001\n",
      "Vcube = Vsphere 0.632314514279553\n",
      "sphere in cube 0.4658429450395703\n"
     ]
    }
   ],
   "source": [
    "ci = CISigmaSq(interp_k, res=1024, use_tqdm=False)\n",
    "print(' cube in sphere', ci.integral(R=Radius_8/np.sqrt(3)))\n",
    "print('         sphere', cosmo.to_format('mapping')['meta']['sigma8']**2)\n",
    "print('Vcube = Vsphere', ci.integral(R=np.cbrt(np.pi/6) * Radius_8))\n",
    "print('sphere in cube', ci.integral(R=Radius_8))"
   ]
  },
  {
   "cell_type": "code",
   "execution_count": 16,
   "metadata": {},
   "outputs": [
    {
     "data": {
      "text/plain": [
       "14.435231992517188"
      ]
     },
     "execution_count": 16,
     "metadata": {},
     "output_type": "execute_result"
    }
   ],
   "source": [
    "np.log10(RtoM(Radius_8))"
   ]
  },
  {
   "cell_type": "code",
   "execution_count": 14,
   "metadata": {},
   "outputs": [
    {
     "name": "stdout",
     "output_type": "stream",
     "text": [
      "11.82382500738989\n",
      "9.529955388805615\n",
      "9.529955388805613\n"
     ]
    }
   ],
   "source": [
    "print(Radius_8)\n",
    "print(np.cbrt(np.pi/6) * Radius_8)\n",
    "print(MtoR_cube(RtoM(Radius_8)))"
   ]
  },
  {
   "cell_type": "markdown",
   "metadata": {},
   "source": [
    "# 3. Operations on the Power Spectrum"
   ]
  },
  {
   "cell_type": "markdown",
   "metadata": {},
   "source": [
    "## 3.1 Spherical"
   ]
  },
  {
   "cell_type": "code",
   "execution_count": 7,
   "metadata": {},
   "outputs": [],
   "source": [
    "class SigmaMInterpSphere:\n",
    "\n",
    "    def __init__(self):\n",
    "\n",
    "        self.name = 'sphere'\n",
    "\n",
    "        k_s = jnp.geomspace(interp_k[0], interp_k[-1], 1000)\n",
    "        lnk_s = jnp.log(k_s)\n",
    "\n",
    "        @jit\n",
    "        @vmap\n",
    "        def sigma_z0(M):\n",
    "            R = MtoR(M)\n",
    "            sigmasq = jnp.trapz(k_s * k2P(k_s) * W(k_s, R)**2, lnk_s)\n",
    "            return jnp.sqrt(sigmasq)\n",
    "\n",
    "        @jit\n",
    "        @vmap\n",
    "        def dsigmasqdm_z0(M):\n",
    "            R = MtoR(M)\n",
    "            dRdM = R / (3*M)\n",
    "            return jnp.trapz(k_s * k2P(k_s) * 2 * W(k_s, R) * dWdR(k_s, R) * dRdM, lnk_s)\n",
    "\n",
    "        self.interp_m = jnp.geomspace(M_MIN, RtoM(512), 4001)\n",
    "        self.interp_sigma = sigma_z0(self.interp_m)\n",
    "        self.interp_dsigmasq_dm = dsigmasqdm_z0(self.interp_m)\n",
    "\n",
    "    def sigma_z0(self, M):\n",
    "        return jnp.interp(M, self.interp_m, self.interp_sigma)\n",
    "    \n",
    "    def dsigmasqdm_z0(self, M):\n",
    "        return jnp.interp(M, self.interp_m, self.interp_dsigmasq_dm)\n",
    "    \n",
    "smi_sphere = SigmaMInterpSphere()"
   ]
  },
  {
   "cell_type": "markdown",
   "metadata": {},
   "source": [
    "## 3.2 Cube"
   ]
  },
  {
   "cell_type": "code",
   "execution_count": 10,
   "metadata": {},
   "outputs": [],
   "source": [
    "class CISigmaSq (CubeIntegrator):\n",
    "    def integrand(self, kx, ky, kz, R):\n",
    "        k = jnp.sqrt(kx**2 + ky**2 + kz**2)\n",
    "        return k2P(k) / (4*jnp.pi*k**2) * W_cube(kx, ky, kz, R)**2\n",
    "\n",
    "ci_sigmasq = CISigmaSq(interp_k, res=1024)\n",
    "\n",
    "def sigma_z0_cube(M):\n",
    "    R = MtoR_cube(M)\n",
    "    return jnp.sqrt(ci_sigmasq.integral(R=R))\n",
    "\n",
    "\n",
    "class CIDSigmaSqDR (CubeIntegrator):\n",
    "    def integrand(self, kx, ky, kz, R):\n",
    "        k = jnp.sqrt(kx**2 + ky**2 + kz**2)\n",
    "        return k2P(k) / (4*jnp.pi*k**2) * 2 * W_cube(kx, ky, kz, R) * dWdR_cube(kx, ky, kz, R)\n",
    "    \n",
    "ci_dsigmasqdm = CIDSigmaSqDR(interp_k, res=1024)\n",
    "\n",
    "def dsigmasqdm_z0_cube(M):\n",
    "    R = MtoR_cube(M)\n",
    "    dRdM = R / (3*M)\n",
    "    dsigmasqdR = ci_dsigmasqdm.integral(R=R)\n",
    "    return dsigmasqdR * dRdM"
   ]
  },
  {
   "cell_type": "code",
   "execution_count": 26,
   "metadata": {},
   "outputs": [
    {
     "data": {
      "text/plain": [
       "Array(0.63231451, dtype=float64)"
      ]
     },
     "execution_count": 26,
     "metadata": {},
     "output_type": "execute_result"
    }
   ],
   "source": [
    "M = RtoM(Radius_8)\n",
    "R = MtoR_cube(M)\n",
    "ci_sigmasq.integral(R=R)"
   ]
  },
  {
   "cell_type": "code",
   "execution_count": 11,
   "metadata": {},
   "outputs": [],
   "source": [
    "class SigmaMInterpCube:\n",
    "    \n",
    "    def __init__(self, m_res=500):\n",
    "\n",
    "        self.name = 'cube'\n",
    "        self.m_res = m_res\n",
    "        self.interp_m = jnp.geomspace(M_MIN, RtoM(512), self.m_res)\n",
    "\n",
    "    def compute_interps(self):\n",
    "        self.interp_sigma_s = []\n",
    "        for m in tqdm(self.interp_m):\n",
    "            self.interp_sigma_s.append(sigma_z0_cube(m))\n",
    "        self.interp_sigma_s = jnp.asarray(self.interp_sigma_s)\n",
    "\n",
    "        self.interp_dsigmasqdm_s = []\n",
    "        for m in tqdm(self.interp_m):\n",
    "            self.interp_dsigmasqdm_s.append(dsigmasqdm_z0_cube(m))\n",
    "        self.interp_dsigmasqdm_s = jnp.asarray(self.interp_dsigmasqdm_s)\n",
    "\n",
    "    def save(self, path):\n",
    "        data = {\n",
    "            \"m_res\": self.m_res,\n",
    "            \"m\": self.interp_m,\n",
    "            \"sigma_s\": self.interp_sigma_s,\n",
    "            \"dsigmasqdm_s\": self.interp_dsigmasqdm_s\n",
    "        }\n",
    "        save_h5_dict(path, data)\n",
    "\n",
    "    def load(self, path):\n",
    "        data = load_h5_dict(path)\n",
    "        self.m_res = data[\"m_res\"]\n",
    "        self.interp_m = jnp.asarray(data[\"m\"])\n",
    "        self.interp_sigma_s = jnp.asarray(data[\"sigma_s\"])\n",
    "        self.interp_dsigmasqdm_s = jnp.asarray(data[\"dsigmasqdm_s\"])\n",
    "\n",
    "    def sigma_z0(self, M):\n",
    "        return jnp.interp(M, self.interp_m, self.interp_sigma_s)\n",
    "    \n",
    "    def dsigmasqdm_z0(self, M):\n",
    "        return jnp.interp(M, self.interp_m, self.interp_dsigmasqdm_s)"
   ]
  },
  {
   "cell_type": "code",
   "execution_count": null,
   "metadata": {},
   "outputs": [
    {
     "name": "stderr",
     "output_type": "stream",
     "text": [
      "  0%|          | 0/100 [00:00<?, ?it/s]"
     ]
    },
    {
     "name": "stderr",
     "output_type": "stream",
     "text": [
      "100%|██████████| 100/100 [01:13<00:00,  1.36it/s]\n",
      "100%|██████████| 100/100 [01:15<00:00,  1.33it/s]\n"
     ]
    }
   ],
   "source": [
    "smi_cube = SigmaMInterpCube(m_res=500)\n",
    "smi_cube.compute_interps()\n",
    "smi_cube.save(\"../../data/pwave/smi_cube_500.h5\")"
   ]
  },
  {
   "cell_type": "code",
   "execution_count": 12,
   "metadata": {},
   "outputs": [],
   "source": [
    "smi_cube = SigmaMInterpCube(m_res=100)\n",
    "smi_cube.load(\"../../data/pwave/smi_cube_100.h5\")"
   ]
  },
  {
   "cell_type": "code",
   "execution_count": 13,
   "metadata": {},
   "outputs": [
    {
     "data": {
      "text/plain": [
       "<matplotlib.legend.Legend at 0x7f1c9050e150>"
      ]
     },
     "execution_count": 13,
     "metadata": {},
     "output_type": "execute_result"
    },
    {
     "data": {
      "image/png": "[encoded data removed]",
      "text/plain": [
       "<Figure size 1800x750 with 2 Axes>"
      ]
     },
     "metadata": {},
     "output_type": "display_data"
    }
   ],
   "source": [
    "m_s = jnp.geomspace(M_MIN, RtoM(512), 4001)\n",
    "\n",
    "fig, axs = plt.subplots(1, 2, figsize=(12, 5))\n",
    "ax = axs[0]\n",
    "sigma_sphere = np.array([smi_sphere.sigma_z0(m) for m in m_s])\n",
    "grad_ssq_sphere = np.gradient(sigma_sphere**2, m_s)\n",
    "sigma_cube = np.array([smi_cube.sigma_z0(m) for m in m_s])\n",
    "grad_ssq_cube = np.gradient(sigma_cube**2, m_s)\n",
    "\n",
    "ax.plot(m_s, sigma_sphere, label=\"Sphere\")\n",
    "ax.plot(m_s, sigma_cube, label=\"Cube\")\n",
    "ax.set(xscale='log', yscale='log')\n",
    "ax.set(title='$\\sigma(M)$')\n",
    "ax.legend()\n",
    "\n",
    "ax = axs[1]\n",
    "ax.plot(m_s, [-smi_sphere.dsigmasqdm_z0(m) for m in m_s], 'C0', label=\"Sphere\")\n",
    "ax.plot(m_s, - grad_ssq_sphere, 'k', ls=':', label=\"Sphere np.grad\")\n",
    "ax.plot(m_s, [-smi_cube.dsigmasqdm_z0(m) for m in m_s], 'C1', label=\"Cube\")\n",
    "ax.plot(m_s, - grad_ssq_cube, 'k', ls='-', lw=1, label=\"Cube np.grad\")\n",
    "ax.set(xscale='log', yscale='log')\n",
    "ax.set(title='$d\\sigma^2/dM$')\n",
    "ax.legend()"
   ]
  },
  {
   "cell_type": "markdown",
   "metadata": {},
   "source": [
    "# Press Schechter and Sheth Tormen Mass Functions"
   ]
  },
  {
   "cell_type": "code",
   "execution_count": 8,
   "metadata": {},
   "outputs": [],
   "source": [
    "smi = smi_sphere\n",
    "\n",
    "# This is the fitting function for the Dicke Linear Growth Factor. I took this from 21cmFAST\n",
    "dicke_z_arr = jnp.linspace(0, 100, 1000)\n",
    "omegaM_z_arr = cosmo.Om(dicke_z_arr)\n",
    "def dicke(z):\n",
    "    omegaM_z = jnp.interp(z, dicke_z_arr, omegaM_z_arr)\n",
    "    \n",
    "    dicke_z = 2.5 * omegaM_z / (1.0 / 70.0 + omegaM_z * (209 - omegaM_z) / 140.0 + omegaM_z**(4.0/7.0))\n",
    "    dicke_0 = 2.5 * cosmo.Om0 / (1.0 / 70.0 + cosmo.Om0 * (209 - cosmo.Om0) / 140.0 + cosmo.Om0**(4.0/7.0))\n",
    "    \n",
    "    return dicke_z / (dicke_0 * (1.0 + z))\n",
    "\n",
    "# This is the Sheth-Tormen Mass Function. This is exactly taken from 21cmFAST, which is why the conventions\n",
    "# are a little bit weird. Anyways, this matches HMF precisely if the Sheth-Tormen parameteres are tuned\n",
    "# to match those used by 21cmFAST.\n",
    "@jit\n",
    "def dNdM_st(M, z):\n",
    "    growthf = dicke(z)\n",
    "    sigma = smi.sigma_z0(M)\n",
    "    dsigmadm = smi.dsigmasqdm_z0(M)\n",
    "    sigma = sigma * growthf\n",
    "    dsigmadm = dsigmadm * (growthf*growthf/(2.*sigma))\n",
    "    nuhat = jnp.sqrt(SHETH_a) * Deltac / sigma\n",
    "    return (-(cosmo.Om0)*rhoCrit0/M) * (dsigmadm/sigma) * jnp.sqrt(2./jnp.pi)*SHETH_A * (1+nuhat**(-2*SHETH_p)) * nuhat * jnp.exp(-nuhat*nuhat/2.0)\n",
    "\n",
    "# This is the Press-Schechter Mass Function. This is taken exactly from 21cmFAST, which is why the conventions\n",
    "# are a little bit weird. This precisely matches the HMF module.\n",
    "@jit\n",
    "def dNdM(M, z):\n",
    "    growthf = dicke(z)\n",
    "    sigma = smi.sigma_z0(M)\n",
    "    dsigmadm = smi.dsigmasqdm_z0(M)\n",
    "    sigma = sigma * growthf\n",
    "    dsigmadm = dsigmadm * (growthf*growthf/(2.*sigma))\n",
    "    return (-(cosmo.Om0)*rhoCrit0/M) * jnp.sqrt(2/jnp.pi) * (Deltac/(sigma*sigma)) * dsigmadm * jnp.exp(-(Deltac*Deltac)/(2*sigma*sigma))\n",
    "\n",
    "# I had to implement this myself. I'm not actually sure 21cmFAST does this totally correctly, but I think this\n",
    "# should be close enough. It comes from Eq. 7.81 in Galaxy \n",
    "# This is the conditional Press-Schechter\n",
    "@jit\n",
    "def dNdM_Conditional(MR, deltaR, z):\n",
    "    \n",
    "    delta2 = deltaR / dicke(z)\n",
    "    delta1 = Deltac / dicke(z)\n",
    "    \n",
    "    S1 = smi.sigma_z0(smi.interp_m)**2\n",
    "    S2 = smi.sigma_z0(MR)**2\n",
    "    \n",
    "    dS1_dM1 = smi.dsigmasqdm_z0(smi.interp_m)\n",
    "\n",
    "    n12 = (delta1 - delta2) / jnp.sqrt(S1 - S2)\n",
    "    differential = - smi.interp_m * (delta1-delta2) / 2 / n12 / jnp.sqrt(S1-S2)**3*dS1_dM1\n",
    "    differential *= (S1 > S2)\n",
    "    \n",
    "    fPS = jnp.sqrt(2/jnp.pi)*n12*jnp.exp(-n12**2 / 2)\n",
    "    \n",
    "    return jnp.where(S1 > S2, 1 / smi.interp_m**2 * fPS * jnp.abs(differential), jnp.nan) * (cosmo.Om0*rhoCrit0)"
   ]
  },
  {
   "cell_type": "markdown",
   "metadata": {},
   "source": [
    "# Load Annihilation Rates"
   ]
  },
  {
   "cell_type": "code",
   "execution_count": 9,
   "metadata": {},
   "outputs": [
    {
     "name": "stdout",
     "output_type": "stream",
     "text": [
      "1.6514133386913736e-15 7.195918224968385e+18\n"
     ]
    }
   ],
   "source": [
    "# new ann rates\n",
    "annihilation_dict = load_h5_dict(\"../../data/pwave/ann_rates_zm.h5\")\n",
    "\n",
    "annihilation_z = annihilation_dict['z_range']\n",
    "annihilation_mass = annihilation_dict['m_range']\n",
    "annihilation_rate = annihilation_dict['ann_rates']\n",
    "# [ ] In GeV^2 / cm^3 / Mpc^3\n",
    "# [X] In Msun(energy)^2 / pc^3 / Mpc^3\n",
    "print(np.min(annihilation_rate), np.max(annihilation_rate))"
   ]
  },
  {
   "cell_type": "code",
   "execution_count": null,
   "metadata": {},
   "outputs": [],
   "source": [
    "# old ann rates\n",
    "annihilation_dict = np.load('../../data/pwave/Annihilation_Dictionary.npz')\n",
    "\n",
    "annihilation_z = annihilation_dict['z_range']\n",
    "annihilation_mass = annihilation_dict['mass_range']\n",
    "annihilation_rate = annihilation_dict['annihilation_rates']\n",
    "print(np.min(annihilation_rate), np.max(annihilation_rate))"
   ]
  },
  {
   "cell_type": "code",
   "execution_count": 10,
   "metadata": {},
   "outputs": [],
   "source": [
    "log_interpolator = interpolate.RegularGridInterpolator((annihilation_z, np.log10(annihilation_mass)),\n",
    "                                                       np.log10(annihilation_rate),\n",
    "                                                       bounds_error = False, \n",
    "                                                       fill_value = np.amin(np.log10(annihilation_rate)))\n",
    "\n",
    "def annihilation_interpolator(z, M):\n",
    "    m_in = np.atleast_1d(M)\n",
    "    z_in = np.full(m_in.shape, z)\n",
    "    zm_in = np.stack([z_in, np.log10(m_in)], axis=-1)\n",
    "    return 10**log_interpolator(zm_in)"
   ]
  },
  {
   "cell_type": "code",
   "execution_count": 11,
   "metadata": {},
   "outputs": [
    {
     "name": "stderr",
     "output_type": "stream",
     "text": [
      "100%|██████████| 51/51 [00:00<00:00, 3472.50it/s]\n"
     ]
    }
   ],
   "source": [
    "interpolated_annihilation_rates = np.zeros((len(annihilation_z), len(smi.interp_m)))\n",
    "\n",
    "for i, z in enumerate(tqdm(annihilation_z)):\n",
    "    interpolated_annihilation_rates[i] = annihilation_interpolator(z, smi.interp_m)"
   ]
  },
  {
   "cell_type": "markdown",
   "metadata": {},
   "source": [
    "# Generate HMF Tables for the Conditional Press-Schechter"
   ]
  },
  {
   "cell_type": "code",
   "execution_count": 14,
   "metadata": {},
   "outputs": [
    {
     "name": "stdout",
     "output_type": "stream",
     "text": [
      "50.0 1.3622047244094486 319.758435507763\n"
     ]
    },
    {
     "data": {
      "text/plain": [
       "array([596602.34493225])"
      ]
     },
     "execution_count": 14,
     "metadata": {},
     "output_type": "execute_result"
    }
   ],
   "source": [
    "z_range = annihilation_z\n",
    "delta_range = np.linspace(-1, 1.5, 128)\n",
    "r_range = np.geomspace(.1, 512, 128)\n",
    "\n",
    "cond_dndm = np.zeros((len(z_range), len(delta_range), len(r_range), len(smi.interp_m)))\n",
    "\n",
    "func = lambda r, d, z: jnp.nan_to_num(dNdM_Conditional(RtoM_cube(r), d, z))\n",
    "func = jit(vmap(func, in_axes=(0, None, None)))\n",
    "\n",
    "z = z_range[50]\n",
    "d = delta_range[120]\n",
    "r = r_range[120]\n",
    "print(z, d, r)\n",
    "\n",
    "np.trapz(interpolated_annihilation_rates[50] * func(jnp.array([r]), d, z), smi.interp_m) * unity.value"
   ]
  },
  {
   "cell_type": "code",
   "execution_count": 15,
   "metadata": {
    "scrolled": true
   },
   "outputs": [
    {
     "name": "stderr",
     "output_type": "stream",
     "text": [
      "100%|██████████| 51/51 [00:11<00:00,  4.28it/s]\n"
     ]
    }
   ],
   "source": [
    "z_range = annihilation_z\n",
    "delta_range = np.linspace(-1, 1.5, 128)\n",
    "r_range = np.geomspace(.1, 512, 128)\n",
    "\n",
    "cond_dndm = np.zeros((len(z_range), len(delta_range), len(r_range), len(smi.interp_m)))\n",
    "\n",
    "func = lambda r, d, z: jnp.nan_to_num(dNdM_Conditional(RtoM_cube(r), d, z))\n",
    "func = jit(vmap(func, in_axes=(0, None, None)))\n",
    "\n",
    "for i, z in enumerate(tqdm(z_range)):\n",
    "    for j, delta in enumerate(delta_range):\n",
    "        cond_dndm[i, j, :] = func(r_range, delta, z)"
   ]
  },
  {
   "cell_type": "code",
   "execution_count": 16,
   "metadata": {},
   "outputs": [
    {
     "name": "stderr",
     "output_type": "stream",
     "text": [
      "  0%|          | 0/51 [00:00<?, ?it/s]"
     ]
    },
    {
     "name": "stderr",
     "output_type": "stream",
     "text": [
      "100%|██████████| 51/51 [00:22<00:00,  2.26it/s]\n"
     ]
    }
   ],
   "source": [
    "cond_annihilation_table = np.zeros((len(z_range), len(delta_range), len(r_range)))\n",
    "\n",
    "for i in tqdm(range(cond_annihilation_table.shape[0])):\n",
    "    for j in range(cond_annihilation_table.shape[1]):\n",
    "        for k in range(cond_annihilation_table.shape[2]):\n",
    "            cond_annihilation_table[i,j,k] = np.trapz(interpolated_annihilation_rates[i] * cond_dndm[i,j,k], smi.interp_m)"
   ]
  },
  {
   "cell_type": "markdown",
   "metadata": {},
   "source": [
    "# Generate HMF for Unconditional Press-Schechter"
   ]
  },
  {
   "cell_type": "code",
   "execution_count": 17,
   "metadata": {},
   "outputs": [
    {
     "name": "stdout",
     "output_type": "stream",
     "text": [
      "1.8453645674592538e-14 27333.989200189317\n",
      "1.6514133386913706e-15 7.123920077379552e+18\n"
     ]
    }
   ],
   "source": [
    "print(np.min(cond_annihilation_table), np.max(cond_annihilation_table))\n",
    "print(np.min(interpolated_annihilation_rates), np.max(interpolated_annihilation_rates))"
   ]
  },
  {
   "cell_type": "code",
   "execution_count": null,
   "metadata": {},
   "outputs": [
    {
     "name": "stdout",
     "output_type": "stream",
     "text": [
      "1.2101701612732926e-14 27334.197902892356\n",
      "1.6514133386913706e-15 7.123920077379552e+18\n"
     ]
    }
   ],
   "source": [
    "print(np.min(cond_annihilation_table), np.max(cond_annihilation_table))\n",
    "print(np.min(interpolated_annihilation_rates), np.max(interpolated_annihilation_rates))"
   ]
  },
  {
   "cell_type": "code",
   "execution_count": 19,
   "metadata": {},
   "outputs": [],
   "source": [
    "ps_annihilation_table = np.zeros((len(z_range)))\n",
    "\n",
    "for i in range(ps_annihilation_table.shape[0]):\n",
    "    ps_annihilation_table[i] = np.trapz(interpolated_annihilation_rates[i] * dNdM(smi.interp_m, z_range[i]), smi.interp_m)"
   ]
  },
  {
   "cell_type": "code",
   "execution_count": null,
   "metadata": {},
   "outputs": [],
   "source": [
    "dNdM_table = []\n",
    "dNdM_st_table = []\n",
    "for z in z_range:\n",
    "    dNdM_table.append(dNdM(smi.interp_m, z))\n",
    "    dNdM_st_table.append(dNdM_st(smi.interp_m, z))\n",
    "dNdM_table = np.array(dNdM_table)\n",
    "dNdM_st_table = np.array(dNdM_st_table)\n",
    "\n",
    "ps_m_data = {\n",
    "    'z_range': z_range,\n",
    "    'm_range': smi.interp_m,\n",
    "    'm_range_units': 'Msun',\n",
    "    'annihilation_rates': interpolated_annihilation_rates,\n",
    "    'annihilation_rates_units': 'Msun^2 / pc^3',\n",
    "    'dNdM': dNdM_table,\n",
    "    'dNdM_st': dNdM_st_table,\n",
    "    'dNdM_units': 'Msun^-1 Mpc^-3',\n",
    "}\n",
    "\n",
    "save_h5_dict('../../data/pwave/m_data.h5', ps_m_data)"
   ]
  },
  {
   "cell_type": "code",
   "execution_count": null,
   "metadata": {},
   "outputs": [
    {
     "data": {
      "text/plain": [
       "(1e-40, 1802788027702443.0)"
      ]
     },
     "execution_count": 15,
     "metadata": {},
     "output_type": "execute_result"
    },
    {
     "data": {
      "image/png": "[encoded data removed]",
      "text/plain": [
       "<Figure size 640x480 with 1 Axes>"
      ]
     },
     "metadata": {},
     "output_type": "display_data"
    }
   ],
   "source": [
    "plt.plot(smi.interp_m, smi.interp_m*dNdM(smi.interp_m, 0) * interpolated_annihilation_rates[0]) # Msun^2 / pc^3\n",
    "plt.loglog()\n",
    "plt.xlabel('$M_\\odot$')\n",
    "plt.ylabel(r'$M \\frac{dn}{dM}$ [$M_\\odot^2$ /Mpc$^3/$/pc$^{3}$]')\n",
    "plt.ylim(1e-40, None)"
   ]
  },
  {
   "cell_type": "markdown",
   "metadata": {},
   "source": [
    "# Generate HMF for Sheth-Tormen"
   ]
  },
  {
   "cell_type": "code",
   "execution_count": 20,
   "metadata": {},
   "outputs": [],
   "source": [
    "st_annihilation_table = np.zeros((len(z_range)))\n",
    "\n",
    "for i in range(ps_annihilation_table.shape[0]):\n",
    "    st_annihilation_table[i] = np.trapz(interpolated_annihilation_rates[i] * dNdM_st(smi.interp_m, z_range[i]), smi.interp_m)"
   ]
  },
  {
   "cell_type": "markdown",
   "metadata": {},
   "source": [
    "# Save the Results"
   ]
  },
  {
   "cell_type": "code",
   "execution_count": 13,
   "metadata": {},
   "outputs": [
    {
     "name": "stdout",
     "output_type": "stream",
     "text": [
      "1441.3537210485738\n"
     ]
    }
   ],
   "source": [
    "unity =  1 * (c.M_sun**2 * c.c**4 / (u.pc**3 * u.Mpc**3)).to(u.eV**2 / u.cm**3 / u.cm**3)\n",
    "print(unity.value)"
   ]
  },
  {
   "cell_type": "code",
   "execution_count": 22,
   "metadata": {},
   "outputs": [],
   "source": [
    "data_sph = load_h5_dict(\"../../data/pwave/pwave_ann_rate_o.h5\")"
   ]
  },
  {
   "cell_type": "code",
   "execution_count": 26,
   "metadata": {},
   "outputs": [
    {
     "data": {
      "text/plain": [
       "8.63552022651782"
      ]
     },
     "execution_count": 26,
     "metadata": {},
     "output_type": "execute_result"
    }
   ],
   "source": [
    "cond_annihilation_table[0][60][60]"
   ]
  },
  {
   "cell_type": "code",
   "execution_count": 27,
   "metadata": {},
   "outputs": [
    {
     "data": {
      "text/plain": [
       "8.457259877441782"
      ]
     },
     "execution_count": 27,
     "metadata": {},
     "output_type": "execute_result"
    }
   ],
   "source": [
    "data_sph['ps_cond_ann_rate_table'][0][60][60] / unity.value"
   ]
  },
  {
   "cell_type": "code",
   "execution_count": 21,
   "metadata": {},
   "outputs": [],
   "source": [
    "table_dict = {\n",
    "    'z_range' : z_range,\n",
    "    'd_range' : delta_range,\n",
    "    'r_range' : r_range,\n",
    "    'ps_cond_ann_rate_table' : cond_annihilation_table * unity.value,\n",
    "    'ps_ann_rate_table' : ps_annihilation_table * unity.value,\n",
    "    'st_ann_rate_table' : st_annihilation_table * unity.value,\n",
    "}\n",
    "save_dirs = [\n",
    "    \"/n/home07/yitians/dm21cm/DM21cm/data/pwave\",\n",
    "    \"/n/holylabs/LABS/iaifi_lab/Users/yitians/dm21cm/data/zf002/data\",\n",
    "]\n",
    "for save_dir in save_dirs:\n",
    "    save_h5_dict(save_dir + f\"/pwave_ann_rate_{smi.name}_v1regen.h5\", table_dict)"
   ]
  },
  {
   "cell_type": "code",
   "execution_count": 52,
   "metadata": {},
   "outputs": [
    {
     "data": {
      "text/plain": [
       "((51, 128, 128), (51,), (51,))"
      ]
     },
     "execution_count": 52,
     "metadata": {},
     "output_type": "execute_result"
    }
   ],
   "source": [
    "cond_annihilation_table.shape, ps_annihilation_table.shape, st_annihilation_table.shape"
   ]
  },
  {
   "cell_type": "markdown",
   "metadata": {},
   "source": [
    "# Comparison with old results"
   ]
  },
  {
   "cell_type": "code",
   "execution_count": 22,
   "metadata": {},
   "outputs": [
    {
     "data": {
      "text/plain": [
       "dict_keys(['delta_range', 'ps_ann_rate_table', 'ps_cond_ann_rate_table', 'r_range', 'st_ann_rate_table', 'z_range'])"
      ]
     },
     "execution_count": 22,
     "metadata": {},
     "output_type": "execute_result"
    }
   ],
   "source": [
    "cmp = load_h5_dict(\"../../data/pwave/pwave_ann_rate_o.h5\")\n",
    "cmp.keys()"
   ]
  },
  {
   "cell_type": "code",
   "execution_count": null,
   "metadata": {},
   "outputs": [
    {
     "data": {
      "image/png": "[encoded data removed]",
      "text/plain": [
       "<Figure size 640x480 with 1 Axes>"
      ]
     },
     "metadata": {},
     "output_type": "display_data"
    }
   ],
   "source": [
    "z = cmp['ps_cond_ann_rate_table'] / table_dict['ps_cond_ann_rate_table']\n",
    "plt.hist(z.flatten(), bins=100)\n",
    "plt.yscale('log')"
   ]
  },
  {
   "cell_type": "markdown",
   "metadata": {},
   "source": [
    "# Archive"
   ]
  },
  {
   "cell_type": "code",
   "execution_count": null,
   "metadata": {},
   "outputs": [
    {
     "data": {
      "image/png": "[encoded data removed]",
      "text/plain": [
       "<Figure size 640x480 with 1 Axes>"
      ]
     },
     "metadata": {},
     "output_type": "display_data"
    }
   ],
   "source": [
    "interp_k = tr.k * cosmo.h # to u without `h`\n",
    "interp_T = tr.transfer_function / np.amax(tr.transfer_function) # normalized\n",
    "interp_P = interp_k**2 * interp_T**2 * interp_k**cosmo.to_format('mapping')['meta']['n']\n",
    "\n",
    "plt.plot(interp_k, interp_P/interp_k**2)\n",
    "plt.plot(interp_k, tr.power)\n",
    "plt.plot(interp_k, tr.delta_k)\n",
    "plt.xscale('log')\n",
    "plt.yscale('log')\n",
    "# plt.ylim(1e0, None)"
   ]
  },
  {
   "cell_type": "markdown",
   "metadata": {},
   "source": [
    "## A. Cube integration"
   ]
  },
  {
   "cell_type": "code",
   "execution_count": null,
   "metadata": {},
   "outputs": [
    {
     "data": {
      "text/plain": [
       "3.1622776601683795"
      ]
     },
     "metadata": {},
     "output_type": "display_data"
    }
   ],
   "source": [
    "np.sqrt(10)"
   ]
  },
  {
   "cell_type": "code",
   "execution_count": null,
   "metadata": {},
   "outputs": [
    {
     "name": "stderr",
     "output_type": "stream",
     "text": [
      "100%|██████████| 10000/10000 [11:17<00:00, 14.75it/s]\n"
     ]
    },
    {
     "name": "stdout",
     "output_type": "stream",
     "text": [
      "2.7448218808073346e-09\n"
     ]
    }
   ],
   "source": [
    "resolution = 10000\n",
    "lklb = np.log(interp_k[0])\n",
    "lkub = np.log(interp_k[-1])\n",
    "lk_s = jnp.linspace(jnp.log(interp_k[0]), jnp.log(interp_k[-1]), resolution)\n",
    "k_s = jnp.exp(lk_s)\n",
    "\n",
    "def integrand_3(lkx, lky, lkz):\n",
    "    kx, ky, kz = jnp.exp(lkx), jnp.exp(lky), jnp.exp(lkz)\n",
    "    k = jnp.sqrt(kx**2 + ky**2 + kz**2)\n",
    "    return kx * ky * kz * k2P_unnorm(k) * W(kx, ky, kz, Radius_8)**2\n",
    "\n",
    "def integrand_2(lkx, lky):\n",
    "    return jnp.trapz(k_s * integrand_3(lkx, lky, lk_s), lk_s)\n",
    "\n",
    "@jit\n",
    "def integrand_1(lkx):\n",
    "    return jnp.trapz(k_s * vmap(integrand_2, (None, 0))(lkx, lk_s), lk_s)\n",
    "\n",
    "def integral():\n",
    "    integrand = []\n",
    "    for lk in tqdm(lk_s):\n",
    "        integrand.append(integrand_1(lk))\n",
    "    integrand = jnp.asarray(integrand)\n",
    "    return jnp.trapz(k_s * integrand, lk_s)\n",
    "\n",
    "print(integral())"
   ]
  },
  {
   "cell_type": "code",
   "execution_count": null,
   "metadata": {},
   "outputs": [
    {
     "data": {
      "image/png": "[encoded data removed]",
      "text/plain": [
       "<Figure size 640x480 with 1 Axes>"
      ]
     },
     "metadata": {},
     "output_type": "display_data"
    }
   ],
   "source": [
    "a = [10, 32, 100, 316, 1000, 3162, 10000]\n",
    "b = [1.8247880587527738e-11, 2.3588969428981962e-09, 3.3362717953372406e-09, 2.8484186491494225e-09, 2.6527731963891473e-09, 2.7794302923913358e-09, 2.7448218808073346e-09]\n",
    "plt.plot(a, b, 'o-')\n",
    "plt.xscale('log')"
   ]
  },
  {
   "cell_type": "code",
   "execution_count": null,
   "metadata": {},
   "outputs": [],
   "source": []
  }
 ],
 "metadata": {
  "kernelspec": {
   "display_name": "dm21cm",
   "language": "python",
   "name": "python3"
  },
  "language_info": {
   "codemirror_mode": {
    "name": "ipython",
    "version": 3
   },
   "file_extension": ".py",
   "mimetype": "text/x-python",
   "name": "python",
   "nbconvert_exporter": "python",
   "pygments_lexer": "ipython3",
   "version": "3.11.5"
  }
 },
 "nbformat": 4,
 "nbformat_minor": 4
}
