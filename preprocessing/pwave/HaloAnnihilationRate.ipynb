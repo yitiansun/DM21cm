{
 "cells": [
  {
   "cell_type": "code",
   "execution_count": 11,
   "metadata": {},
   "outputs": [],
   "source": [
    "%reload_ext autoreload\n",
    "%autoreload 2\n",
    "\n",
    "import sys\n",
    "from tqdm import tqdm\n",
    "\n",
    "import numpy as np\n",
    "import astropy.units as u\n",
    "import astropy.constants as c\n",
    "from astropy.cosmology import Planck18 as cosmo\n",
    "\n",
    "import jax.numpy as jnp\n",
    "import jax.scipy as jsp\n",
    "from jax import jit, vmap\n",
    "\n",
    "import halomod\n",
    "\n",
    "sys.path.append(\"../..\")\n",
    "from dm21cm.utils import save_h5_dict\n",
    "\n",
    "import matplotlib.pyplot as plt"
   ]
  },
  {
   "cell_type": "markdown",
   "metadata": {},
   "source": [
    "# Basic NFW-ology"
   ]
  },
  {
   "cell_type": "markdown",
   "metadata": {},
   "source": [
    "Let overdensity $\\Delta=200$, then enclosed mass within $r_\\Delta$ is \n",
    "$$M=\\frac{4\\pi}{3}r_\\Delta^3\\Delta\\rho_c.$$\n",
    "\n",
    "Since $r_\\Delta=c\\cdot r_s$,\n",
    "$$M=\\frac{4\\pi}{3}c^3r_s^3\\Delta\\rho_c,$$\n",
    "and\n",
    "$$r_s=\\left(\\frac{3M}{4\\pi\\Delta \\rho_c c^3}\\right)^{1/3}$$"
   ]
  },
  {
   "cell_type": "code",
   "execution_count": null,
   "metadata": {},
   "outputs": [],
   "source": [
    "G = c.G.to(u.pc**3/ u.M_sun / u.s**2).value # [pc^3 / Msun / s^2]\n",
    "c_light = c.c.to(u.pc/u.s).value # [pc / s]\n",
    "\n",
    "z_arr = jnp.linspace(0, 55, 1000)\n",
    "rho_crit_arr = cosmo.critical_density(z_arr).to('M_sun / pc^3').value # [Msun / pc^3]\n",
    "\n",
    "def get_critical_density(z):\n",
    "    return jnp.interp(z, z_arr, rho_crit_arr) # [Msun / pc^3]\n",
    "\n",
    "def get_halo_information(M, c, z): # ([Msun], [1], [1])\n",
    "    rho_c = get_critical_density(z) # [Msun / pc^3]\n",
    "    delta = 200\n",
    "    r_s = ((3 * M)/(4 * jnp.pi * c**3 * delta * rho_c))**(1/3) # [pc]\n",
    "    r_delta = c * r_s # [pc]\n",
    "    rho_s = ((1 + c)*M)/(16 * jnp.pi * r_s**3 * (-c + jnp.log(1 + c) + c*jnp.log(1 + c))) # [Msun / pc^3]\n",
    "    return rho_s, r_s, r_delta # [Msun / pc^3], [pc], [pc]\n",
    "\n",
    "def nfw_density(r, rho_s, r_s): # ([pc], [Msun / pc^3], [pc])\n",
    "    return 4 * rho_s / ((r/r_s) * (1 + r/r_s)**2) # [Msun / pc^3]\n",
    "\n",
    "def nfw_enclosed(r, rho_s, r_s): # ([pc], [Msun / pc^3], [pc])\n",
    "    return 16 * jnp.pi * r_s**3 * rho_s * (-(r / (r + r_s)) - jnp.log(r_s) + jnp.log(r + r_s)) # [Msun]\n",
    "\n",
    "def nfw_phi(r, rho_s, r_s): # ([pc], [Msun / pc^3], [pc])\n",
    "    return - 16 * jnp.pi * G * rho_s * r_s**3 / r * jnp.log(1 + r / r_s) # [pc^2 / s^2]"
   ]
  },
  {
   "cell_type": "markdown",
   "metadata": {},
   "source": [
    "# Jeans Analysis with the MB Approximation\n",
    "\n",
    "Following the details from: https://arxiv.org/pdf/2005.03955.pdf#page=55&zoom=100,122,684"
   ]
  },
  {
   "cell_type": "code",
   "execution_count": 5,
   "metadata": {},
   "outputs": [],
   "source": [
    "def jeans_integrand(r, rho_s, r_s): # ([pc], [Msun / pc^3], [pc])\n",
    "    return nfw_density(r, rho_s, r_s) * nfw_enclosed(r, rho_s, r_s) / r**2 # [Msun^2 / pc^5]\n",
    "\n",
    "def get_sigma_v(r, rho_s, r_s, r_delta): # ([pc], [Msun / pc^3], [pc], [pc])\n",
    "    logr_arr = jnp.linspace(jnp.log(r), jnp.log(r_delta), 300)\n",
    "    r_arr = jnp.exp(logr_arr)\n",
    "    integral = jnp.trapz(r_arr * jeans_integrand(r_arr, rho_s, r_s), logr_arr) # [Msun^2 / pc^4]\n",
    "    v_disp = 3 * G / nfw_density(r, rho_s, r_s) * integral # [pc^2 / s^2]\n",
    "    return jnp.sqrt(v_disp) # [pc / s]\n",
    "\n",
    "def get_ve(r, rho_s, r_s, r_delta): # ([pc], [Msun / pc^3], [pc], [pc])\n",
    "    psi = nfw_phi(r_delta, rho_s, r_s)- nfw_phi(r, rho_s, r_s) # [pc^2 / s^2]\n",
    "    return jnp.sqrt(2*psi) # [pc / s]"
   ]
  },
  {
   "cell_type": "markdown",
   "metadata": {},
   "source": [
    "### Relative Velocity Distribution from the Maxwell-Boltzmann Approximation\n",
    "\n",
    "Using the Maxwell-Boltzmann approximation, we have the positionally dependent velocity distribution as\n",
    "\\begin{equation}\n",
    "f(\\vec{v} | r) \\propto \\frac{1}{N} \\left[\\exp \\left( -\\frac{v^2}{v_0^2}\\right) - \\exp \\left( -\\frac{v_e^2}{v_0^2}\\right)\\right]\n",
    "\\end{equation}\n",
    "up to some overall normalization factor $N$, which depends on the radius of evaluation.\n",
    "\n",
    "To evaluate the relative velocity dispersion, we compute\n",
    "\\begin{equation}\n",
    "\\langle v_\\mathrm{rel}^2\\rangle = \\langle (\\vec{v} - \\vec{w})^2\\rangle  = \\int d^3 \\vec{v} d^3\\vec{w} f(\\vec{v}, r) f(\\vec{w}, r) |\\vec{v} - \\vec{w}|^2.\n",
    "\\end{equation}\n",
    "This can be evaluated analytically, with the result given in the method below."
   ]
  },
  {
   "cell_type": "code",
   "execution_count": 6,
   "metadata": {},
   "outputs": [],
   "source": [
    "def rel_v_disp(r, rho_s, rs, rMax): # ([pc], [Msun / pc^3], [pc], [pc])\n",
    "    ve = get_ve(r, rho_s, rs, rMax) # [pc / s]\n",
    "    sigma_v = get_sigma_v(r, rho_s, rs, rMax) # [pc / s]\n",
    "    v0 = jnp.sqrt(2/3) * sigma_v # Jeans model for NFW\n",
    "    ve = ve / v0 # [1]\n",
    "    res = 3*v0**2 + (24*v0**5*ve**5)/(5.*(6*v0**3*ve + 4*v0**3*ve**3 - 3*jnp.exp(ve**2)*jnp.sqrt(jnp.pi)*v0**3*jsp.special.erf(ve))) # [pc^2 / s^2]\n",
    "    return res / c_light**2 # [1]"
   ]
  },
  {
   "cell_type": "markdown",
   "metadata": {},
   "source": [
    "# Evaluate Annihilation Rate over the Halo\n",
    "\n",
    "The annihilation rate integrated over the halo is\n",
    "\\begin{equation}\n",
    "\\frac{dN}{dt} = \\int dV \\frac{dN}{dV dt} = \\frac{1}{2}\\int dV \\langle \\sigma v \\rangle n_\\mathrm{DM}^2\n",
    "\\end{equation}\n",
    "where $n_\\mathrm{dm}$ is the number density of dark matter. We can then write this as\n",
    "\\begin{equation}\n",
    "\\frac{dN}{dt} = \\frac{1}{2} \\left(\\frac{1}{m_\\mathrm{DM}} \\frac{\\Omega_\\mathrm{DM}}{\\Omega_\\mathrm{DM}+\\Omega_\\mathrm{B}}  \\right)^2 \\int dV \\langle \\sigma v \\rangle \\rho^2.\n",
    "\\end{equation}\n",
    "\n",
    "Next, we define the p-wave velocity-averaged cross-section as\n",
    "\\begin{equation}\n",
    "\\langle \\sigma v \\rangle = C_\\sigma \\times \\frac{\\langle v_\\mathrm{rel}^2 \\rangle}{c^2}\n",
    "\\end{equation}\n",
    "where $C_\\sigma$ is a constant and $\\langle v_\\mathrm{rel}^2 \\rangle$ is the positionally-dependent average of the squared relative velocity.\n",
    "\n",
    "Now we will compute\n",
    "\\begin{equation}\n",
    "\\frac{d\\bar N}{dt} = \\frac{1}{2 c^2} \\left(\\frac{\\Omega_\\mathrm{DM}}{\\Omega_\\mathrm{DM}+\\Omega_\\mathrm{B}}  \\right)^2 \\int dV v_\\mathrm{rel}(r)^2 \\rho^2\n",
    "\\end{equation}\n",
    "so that we can compute the halo annihilation rate as\n",
    "\\begin{equation}\n",
    "\\frac{dN}{dt} = \\frac{C_\\sigma}{m_\\mathrm{DM}^2} \\frac{d\\bar N}{dt}\n",
    "\\end{equation}"
   ]
  },
  {
   "cell_type": "code",
   "execution_count": 8,
   "metadata": {},
   "outputs": [],
   "source": [
    "rel_v_disp_vmap = vmap(rel_v_disp, in_axes=(0, None, None, None))\n",
    "omega_dm_frac = cosmo.Odm0 / (cosmo.Odm0+cosmo.Ob0)\n",
    "\n",
    "def integrate_annihilation(rho_s, r_s, r_delta): # ([Msun / pc^3], [pc], [pc])\n",
    "    r_arr = jnp.geomspace(1e-4*r_s, r_delta, 1001) # [pc]\n",
    "    rel_v_disp_arr = jnp.nan_to_num(rel_v_disp_vmap(r_arr, rho_s, r_s, r_delta)) # [1]\n",
    "    integrand = 4*np.pi * r_arr**2 * rel_v_disp_arr * nfw_density(r_arr, rho_s, r_s)**2 # [Msun^2 / pc^4]\n",
    "    return 1/2 * omega_dm_frac**2 * jnp.trapz(integrand, r_arr) # [Msun^2 / pc^3]\n",
    "\n",
    "@jit\n",
    "def get_halo_annihilation(M, c, z): # ([Msun], [1], [1])\n",
    "    rho_s, r_s, r_delta = get_halo_information(M, c, z) # [Msun / pc^3], [pc], [pc]\n",
    "    return integrate_annihilation(rho_s, r_s, r_delta) # [Msun^2 / pc^3]"
   ]
  },
  {
   "cell_type": "code",
   "execution_count": 9,
   "metadata": {},
   "outputs": [],
   "source": [
    "hm = halomod.DMHaloModel(\n",
    "    halo_concentration_model='Ludlow16',\n",
    "    z = 0, Mmin = 0., Mmax = 19, dlog10m = 0.025,\n",
    "    mdef_model='SOCritical', halo_profile_model = halomod.profiles.NFW\n",
    ")\n",
    "m_range = np.copy(hm.m)\n",
    "z_range = np.linspace(0, 50, 51)"
   ]
  },
  {
   "cell_type": "code",
   "execution_count": 10,
   "metadata": {},
   "outputs": [
    {
     "name": "stderr",
     "output_type": "stream",
     "text": [
      "  0%|          | 0/51 [00:00<?, ?it/s]"
     ]
    },
    {
     "name": "stderr",
     "output_type": "stream",
     "text": [
      "100%|██████████| 51/51 [01:20<00:00,  1.59s/it]\n"
     ]
    }
   ],
   "source": [
    "annihilation_rates = np.zeros((len(z_range), len(m_range)))\n",
    "\n",
    "for i, z in enumerate(tqdm(z_range)):\n",
    "    hm = halomod.DMHaloModel(\n",
    "        halo_concentration_model='Ludlow16', z=z_range[i],\n",
    "        Mmin = 0., Mmax = 19, dlog10m = .025,\n",
    "        mdef_model='SOCritical', halo_profile_model = halomod.profiles.NFW\n",
    "    )\n",
    "    for j in range(len(hm.m)):\n",
    "        annihilation_rates[i, j] = get_halo_annihilation(hm.m[j], hm.cmz_relation[j], z)"
   ]
  },
  {
   "cell_type": "code",
   "execution_count": 12,
   "metadata": {},
   "outputs": [],
   "source": [
    "res_dict = {\n",
    "    'z_range': z_range,\n",
    "    'm_range': m_range,\n",
    "    'ann_rates': annihilation_rates # [Msun^2 / pc^3]\n",
    "}\n",
    "save_h5_dict('../../data/pwave/ann_rates_zm.h5', res_dict)"
   ]
  },
  {
   "cell_type": "markdown",
   "metadata": {},
   "source": [
    "Since\n",
    "    $$\\frac{dN}{dt}=\\frac{C_\\sigma}{m_{DM}^2}\\frac{d\\tilde N}{dt}$$\n",
    "the dimensions are\n",
    "    $$\\frac{1}{T}=\\frac{pL^3/T}{M^2}\\frac{M^2}{pL^3},$$\n",
    "where $p$ stands for physical. `annihilation_rates` tables contains $d\\tilde N/dt$. The units would be\n",
    "    $$\\frac{M_\\odot^2 c^4}{\\mathrm{ppc}^3}\\text{\\quad or\\quad}\\frac{M_\\odot\\text{(energy)}^2}{\\mathrm{ppc}^3}$$\n",
    "After multiplying with the factor 4.23e58 it becomes\n",
    "    $$\\frac{\\mathrm{GeV}^2}{\\mathrm{pcm}^3}$$"
   ]
  },
  {
   "cell_type": "code",
   "execution_count": 13,
   "metadata": {},
   "outputs": [
    {
     "data": {
      "text/plain": [
       "(1.6514133386913736e-15, 1.0487010935420825e+23)"
      ]
     },
     "execution_count": 13,
     "metadata": {},
     "output_type": "execute_result"
    }
   ],
   "source": [
    "np.min(annihilation_rates), np.max(annihilation_rates)"
   ]
  },
  {
   "cell_type": "code",
   "execution_count": 14,
   "metadata": {},
   "outputs": [
    {
     "data": {
      "text/plain": [
       "Text(0.5, 0, 'Mass [M_sun]')"
      ]
     },
     "execution_count": 14,
     "metadata": {},
     "output_type": "execute_result"
    },
    {
     "data": {
      "image/png": "[encoded data removed]",
      "text/plain": [
       "<Figure size 640x480 with 1 Axes>"
      ]
     },
     "metadata": {},
     "output_type": "display_data"
    }
   ],
   "source": [
    "plt.plot(m_range, annihilation_rates[0])\n",
    "plt.plot(m_range, annihilation_rates[-1])\n",
    "plt.xscale('log')\n",
    "plt.yscale('log')\n",
    "plt.xlabel('Mass [M_sun]')"
   ]
  }
 ],
 "metadata": {
  "kernelspec": {
   "display_name": "dm21cm",
   "language": "python",
   "name": "python3"
  },
  "language_info": {
   "codemirror_mode": {
    "name": "ipython",
    "version": 3
   },
   "file_extension": ".py",
   "mimetype": "text/x-python",
   "name": "python",
   "nbconvert_exporter": "python",
   "pygments_lexer": "ipython3",
   "version": "3.11.5"
  }
 },
 "nbformat": 4,
 "nbformat_minor": 4
}
