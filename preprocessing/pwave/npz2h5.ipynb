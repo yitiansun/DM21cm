{
 "cells": [
  {
   "cell_type": "code",
   "execution_count": 1,
   "metadata": {},
   "outputs": [],
   "source": [
    "import numpy as np\n",
    "import astropy.units as u\n",
    "import astropy.constants as c\n",
    "\n",
    "import sys\n",
    "sys.path.append(\"../..\")\n",
    "from dm21cm.utils import save_h5_dict"
   ]
  },
  {
   "cell_type": "code",
   "execution_count": 2,
   "metadata": {},
   "outputs": [],
   "source": [
    "table = np.load(\"../../data/pwave/PWave_Dictionary.npz\", allow_pickle=True)"
   ]
  },
  {
   "cell_type": "code",
   "execution_count": 3,
   "metadata": {},
   "outputs": [
    {
     "data": {
      "text/plain": [
       "['z_range',\n",
       " 'delta_range',\n",
       " 'r_range',\n",
       " 'Conditional_Annihiation',\n",
       " 'Unconditional_Annihilation',\n",
       " 'ShethTormen_Annihilation']"
      ]
     },
     "execution_count": 3,
     "metadata": {},
     "output_type": "execute_result"
    }
   ],
   "source": [
    "list(table.keys())"
   ]
  },
  {
   "cell_type": "code",
   "execution_count": 4,
   "metadata": {},
   "outputs": [
    {
     "name": "stdout",
     "output_type": "stream",
     "text": [
      "1.2052938231351664e-14 1473689.2072645682\n",
      "2.2778492474024987e-06 19.007681713532808\n",
      "2.740726594249105e-05 17.578219828865265\n"
     ]
    }
   ],
   "source": [
    "print(np.min(table['Conditional_Annihiation']), np.max(table['Conditional_Annihiation']))\n",
    "print(np.min(table['Unconditional_Annihilation']), np.max(table['Unconditional_Annihilation']))\n",
    "print(np.min(table['ShethTormen_Annihilation']), np.max(table['ShethTormen_Annihilation']))"
   ]
  },
  {
   "cell_type": "code",
   "execution_count": 5,
   "metadata": {},
   "outputs": [
    {
     "data": {
      "text/plain": [
       "(51, 128, 128)"
      ]
     },
     "execution_count": 5,
     "metadata": {},
     "output_type": "execute_result"
    }
   ],
   "source": [
    "# cond table: (z, delta, r)\n",
    "len(table['z_range']), len(table['delta_range']), len(table['r_range'])"
   ]
  },
  {
   "cell_type": "code",
   "execution_count": 11,
   "metadata": {},
   "outputs": [
    {
     "name": "stdout",
     "output_type": "stream",
     "text": [
      "1441.3537210485738\n"
     ]
    }
   ],
   "source": [
    "unity =  1 * (c.M_sun**2 * c.c**4 / (u.pc**3 * u.Mpc**3)).to(u.eV**2 / u.cm**3 / u.cm**3)\n",
    "print(unity.value)"
   ]
  },
  {
   "cell_type": "code",
   "execution_count": 12,
   "metadata": {},
   "outputs": [],
   "source": [
    "table_dict = {\n",
    "    'z_range' : table['z_range'],\n",
    "    'delta_range' : table['delta_range'],\n",
    "    'r_range' : table['r_range'],\n",
    "    'ps_cond_ann_rate_table' : table['Conditional_Annihiation'] * unity.value,\n",
    "    'ps_ann_rate_table' : table['Unconditional_Annihilation'] * unity.value,\n",
    "    'st_ann_rate_table' : table['ShethTormen_Annihilation'] * unity.value,\n",
    "}\n",
    "save_dirs = [\"/n/home07/yitians/dm21cm/DM21cm/data/pwave\",\n",
    "             \"/n/holylabs/LABS/iaifi_lab/Users/yitians/dm21cm/data/zf002/data\"]\n",
    "for save_dir in save_dirs:\n",
    "    save_h5_dict(save_dir + \"/pwave_ann_rate.h5\", table_dict)"
   ]
  },
  {
   "cell_type": "code",
   "execution_count": null,
   "metadata": {},
   "outputs": [],
   "source": []
  }
 ],
 "metadata": {
  "kernelspec": {
   "display_name": "dm21cm",
   "language": "python",
   "name": "python3"
  },
  "language_info": {
   "codemirror_mode": {
    "name": "ipython",
    "version": 3
   },
   "file_extension": ".py",
   "mimetype": "text/x-python",
   "name": "python",
   "nbconvert_exporter": "python",
   "pygments_lexer": "ipython3",
   "version": "3.11.5"
  }
 },
 "nbformat": 4,
 "nbformat_minor": 2
}
