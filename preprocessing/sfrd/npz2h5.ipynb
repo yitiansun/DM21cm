{
 "cells": [
  {
   "cell_type": "code",
   "execution_count": 1,
   "metadata": {},
   "outputs": [],
   "source": [
    "import sys\n",
    "sys.path.append(\"..\")\n",
    "\n",
    "import numpy as np\n",
    "import astropy.units as u\n",
    "import astropy.constants as c\n",
    "\n",
    "from dm21cm.utils import save_h5_dict"
   ]
  },
  {
   "cell_type": "markdown",
   "metadata": {},
   "source": [
    "## p-wave"
   ]
  },
  {
   "cell_type": "code",
   "execution_count": 2,
   "metadata": {},
   "outputs": [],
   "source": [
    "load_dir = \"/n/home07/yitians/dm21cm/DM21cm/data/pwave\"\n",
    "save_dirs = [\"/n/home07/yitians/dm21cm/DM21cm/data/pwave\", \"/n/holylabs/LABS/iaifi_lab/Users/yitians/dm21cm/data/zf002/data\"]\n",
    "table = np.load(load_dir + \"/PWave_Dictionary.npz\", allow_pickle=True)"
   ]
  },
  {
   "cell_type": "code",
   "execution_count": 3,
   "metadata": {},
   "outputs": [
    {
     "data": {
      "text/plain": [
       "['z_range',\n",
       " 'delta_range',\n",
       " 'r_range',\n",
       " 'Conditional_Annihiation',\n",
       " 'Unconditional_Annihilation',\n",
       " 'ShethTormen_Annihilation']"
      ]
     },
     "execution_count": 3,
     "metadata": {},
     "output_type": "execute_result"
    }
   ],
   "source": [
    "list(table.keys())"
   ]
  },
  {
   "cell_type": "code",
   "execution_count": 5,
   "metadata": {},
   "outputs": [
    {
     "name": "stdout",
     "output_type": "stream",
     "text": [
      "4.234695713392759e+58\n"
     ]
    }
   ],
   "source": [
    "factor = (c.M_sun**2 * c.c**4 / (u.pc**3 * u.Mpc**3) / (u.GeV**2 / u.cm**3 / u.Mpc**3)).decompose()\n",
    "factor = factor.value\n",
    "print(factor)"
   ]
  },
  {
   "cell_type": "code",
   "execution_count": 9,
   "metadata": {},
   "outputs": [],
   "source": [
    "table_dict = {\n",
    "    'z_range' : table['z_range'],\n",
    "    'delta_range' : table['delta_range'],\n",
    "    'r_range' : table['r_range'],\n",
    "    'cond_ann_rate_table' : table['Conditional_Annihiation'],\n",
    "    'ps_ann_rate_table' : table['Unconditional_Annihilation'],\n",
    "    'st_ann_rate_table' : table['ShethTormen_Annihilation'],\n",
    "}\n",
    "for k in ['cond_ann_rate_table', 'ps_ann_rate_table', 'st_ann_rate_table']:\n",
    "    table_dict[k] = table['ShethTormen_Annihilation'][0] * c.M_sun**2 / (u.pc**3 * u.Mpc**3)\n",
    "a = table['ShethTormen_Annihilation'][0] * c.M_sun**2 / (u.pc**3 * u.Mpc**3)"
   ]
  },
  {
   "cell_type": "code",
   "execution_count": null,
   "metadata": {},
   "outputs": [],
   "source": []
  },
  {
   "cell_type": "code",
   "execution_count": 13,
   "metadata": {},
   "outputs": [
    {
     "data": {
      "text/latex": [
       "$6.5531828 \\times 10^{59} \\; \\mathrm{\\frac{GeV^{2}}{Mpc^{3}\\,cm^{3}}}$"
      ],
      "text/plain": [
       "<Quantity 6.55318279e+59 GeV2 / (Mpc3 cm3)>"
      ]
     },
     "execution_count": 13,
     "metadata": {},
     "output_type": "execute_result"
    }
   ],
   "source": [
    "(a*c.c**4).to(u.GeV**2/u.Mpc**3/u.cm**3)"
   ]
  },
  {
   "cell_type": "code",
   "execution_count": 3,
   "metadata": {},
   "outputs": [],
   "source": [
    "# pwave\n",
    "table_dict = {\n",
    "    'z_range' : table['z_range'],\n",
    "    'delta_range' : table['delta_range'],\n",
    "    'r_range' : table['r_range'],\n",
    "    'cond_ann_rate_table' : table['Conditional_Annihiation'],\n",
    "    'ps_ann_rate_table' : table['Unconditional_Annihilation'],\n",
    "    'st_ann_rate_table' : table['ShethTormen_Annihilation'],\n",
    "}\n",
    "save_h5_dict(wdir + \"/pwave_ann_rate.h5\", table_dict)"
   ]
  },
  {
   "cell_type": "code",
   "execution_count": null,
   "metadata": {},
   "outputs": [],
   "source": [
    "# sfrd\n",
    "table_dict = {\n",
    "    'z_range' : table['SFRD_Params'][0],\n",
    "    'delta_range' : table['SFRD_Params'][1],\n",
    "    'r_range' : table['SFRD_Params'][2],\n",
    "    'cond_sfrd_table' : table['Cond_SFRD_Table'],\n",
    "    'st_sfrd_table' : table['ST_SFRD_Table'],\n",
    "}\n",
    "save_h5_dict(wdir + \"/hmf_tables.h5\", table_dict)"
   ]
  },
  {
   "cell_type": "code",
   "execution_count": null,
   "metadata": {},
   "outputs": [],
   "source": []
  }
 ],
 "metadata": {
  "kernelspec": {
   "display_name": "dm21cm",
   "language": "python",
   "name": "python3"
  },
  "language_info": {
   "codemirror_mode": {
    "name": "ipython",
    "version": 3
   },
   "file_extension": ".py",
   "mimetype": "text/x-python",
   "name": "python",
   "nbconvert_exporter": "python",
   "pygments_lexer": "ipython3",
   "version": "3.11.5"
  }
 },
 "nbformat": 4,
 "nbformat_minor": 2
}
