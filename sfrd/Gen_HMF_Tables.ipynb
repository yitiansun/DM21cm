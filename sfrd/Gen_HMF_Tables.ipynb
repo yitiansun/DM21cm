{
 "cells": [
  {
   "cell_type": "code",
   "execution_count": 1,
   "metadata": {},
   "outputs": [],
   "source": [
    "import sys, os\n",
    "from tqdm import tqdm\n",
    "import numpy as np\n",
    "from scipy import integrate, interpolate, special\n",
    "\n",
    "from astropy import units, constants\n",
    "from astropy.cosmology import Planck18 as cosmo\n",
    "from hmf import Transfer, MassFunction\n",
    "\n",
    "import matplotlib.pyplot as plt"
   ]
  },
  {
   "cell_type": "markdown",
   "metadata": {},
   "source": [
    "# Basic Parameter Definitions\n",
    "\n",
    "Some of these are my choice. Some of these are hardcoded by `21cmFAST`."
   ]
  },
  {
   "cell_type": "code",
   "execution_count": 2,
   "metadata": {},
   "outputs": [],
   "source": [
    "# M_Sun / Mpc^3\n",
    "rhoCrit0 = cosmo.critical_density(0).to(units.M_sun / units.Mpc**3).value\n",
    "\n",
    "# 21cmFAST Definitions for Critical Collapse\n",
    "SHETH_a = 0.73\n",
    "SHETH_A = 0.353\n",
    "SHETH_p = 0.175\n",
    "Deltac = 1.68\n",
    "\n",
    "# Default Duty Cycle Parametrization\n",
    "M_TURN = 5.012e+08\n",
    "M_MIN = M_TURN/50"
   ]
  },
  {
   "cell_type": "markdown",
   "metadata": {},
   "source": [
    "# Convenience Methods"
   ]
  },
  {
   "cell_type": "code",
   "execution_count": 3,
   "metadata": {},
   "outputs": [],
   "source": [
    "# I took these definitions from 21cmFAST. \n",
    "def MtoR(M):\n",
    "    return np.cbrt(3*M/(4*np.pi*cosmo.Om0*rhoCrit0))\n",
    "\n",
    "def RtoM(R):\n",
    "    return 4*np.pi*cosmo.Om0*rhoCrit0*R**3 / 3\n",
    "\n",
    "\n",
    "# This is the fitting function for the Dicke Linear Growth Factor. I took this from 21cmFAST\n",
    "def dicke(z):\n",
    "    omegaM_z = cosmo.Om(z)\n",
    "    \n",
    "    dicke_z = 2.5 * omegaM_z / (1.0 / 70.0 + omegaM_z * (209 - omegaM_z) / 140.0 + pow(omegaM_z, 4.0/7.0))\n",
    "    dicke_0 = 2.5 *  cosmo.Om0 / (1.0 / 70.0 +  cosmo.Om0 * (209 -  cosmo.Om0) / 140.0 + pow( cosmo.Om0, 4.0/7.0))\n",
    "    \n",
    "    return dicke_z / (dicke_0 * (1.0 + z))\n",
    "\n",
    "\n",
    "# This is the top-hat window function. I took this from 21cmFAST\n",
    "def W(k, R):\n",
    "    \n",
    "    kR = k * R\n",
    "    mask = kR >= 1e-4\n",
    "    \n",
    "    w = np.where(mask, 3.0 * (np.sin(kR) / kR**3 - np.cos(kR) / kR**2), 0.0)\n",
    "    return w\n",
    "\n",
    "# This is the derivative of the top-hat window function with respect to R. I took this from 21cmFAST\n",
    "def dWdR(k, R):\n",
    "    kR = k * R\n",
    "    mask = k >= 1e-10\n",
    "\n",
    "    dwdr = np.where(mask, (9 * np.cos(kR) * k / kR**3) + (3 * np.sin(kR) * (1 - 3 / (kR * kR)) / (kR * R)), 0.0)\n",
    "    return dwdr"
   ]
  },
  {
   "cell_type": "markdown",
   "metadata": {},
   "source": [
    "# Generating Interpolated Power Spectrum from EH"
   ]
  },
  {
   "cell_type": "code",
   "execution_count": 4,
   "metadata": {},
   "outputs": [],
   "source": [
    "tr = Transfer(cosmo_model = cosmo, transfer_model = 'EH', z = 0)\n",
    "\n",
    "interp_k = tr.k * cosmo.h # to units without `h`\n",
    "interp_T = tr.transfer_function / np.amax(tr.transfer_function) # normalized\n",
    "interp_P = interp_k**2 * interp_T**2 * interp_k**cosmo.to_format('mapping')['meta']['n']\n",
    "\n",
    "# Defining an interpolated Power Spectrum that must be normalized to match Sigma8\n",
    "PowerSpectrum = interpolate.CubicSpline(interp_k, interp_P)\n",
    "\n",
    "# Doing the Sigma8 Normalization\n",
    "Radius_8 = 8.0/cosmo.h \n",
    "integrand = lambda logk: np.exp(logk)* PowerSpectrum(np.exp(logk)) * W(np.exp(logk), Radius_8)**2\n",
    "result = integrate.quad(integrand, np.log(interp_k[0]), np.log(interp_k[-1]), epsabs = 0, epsrel = 1e-6)\n",
    "sigma_norm = cosmo.to_format('mapping')['meta']['sigma8']/np.sqrt(result[0])\n",
    "\n",
    "# Redefining the Power Spectrum to be consistent with Sigma8\n",
    "PowerSpectrum = interpolate.CubicSpline(interp_k, sigma_norm**2*interp_P)"
   ]
  },
  {
   "cell_type": "markdown",
   "metadata": {},
   "source": [
    "# Operations on the Power Spectrum"
   ]
  },
  {
   "cell_type": "code",
   "execution_count": 5,
   "metadata": {},
   "outputs": [
    {
     "name": "stderr",
     "output_type": "stream",
     "text": [
      " 33%|███▎      | 670/2001 [00:27<01:04, 20.74it/s]/tmp/ipykernel_319140/403157157.py:19: IntegrationWarning: The maximum number of subdivisions (50) has been achieved.\n",
      "  If increasing the limit yields no improvement it is advised to analyze \n",
      "  the integrand in order to determine the difficulties.  If the position of a \n",
      "  local difficulty can be determined (singularity, discontinuity) one will \n",
      "  probably gain from splitting up the interval and calling the integrator \n",
      "  on the subranges.  Perhaps a special-purpose integrator should be used.\n",
      "  result = integrate.quad(integrand, np.log(interp_k[0]), np.log(interp_k[-1]), epsabs = 0, epsrel = 1e-6)\n",
      " 93%|█████████▎| 1858/2001 [01:32<00:09, 15.82it/s]/tmp/ipykernel_319140/403157157.py:5: IntegrationWarning: The maximum number of subdivisions (50) has been achieved.\n",
      "  If increasing the limit yields no improvement it is advised to analyze \n",
      "  the integrand in order to determine the difficulties.  If the position of a \n",
      "  local difficulty can be determined (singularity, discontinuity) one will \n",
      "  probably gain from splitting up the interval and calling the integrator \n",
      "  on the subranges.  Perhaps a special-purpose integrator should be used.\n",
      "  result = integrate.quad(integrand, np.log(interp_k[0]), np.log(interp_k[-1]), epsabs = 0, epsrel = 1e-6)\n",
      "100%|██████████| 2001/2001 [01:41<00:00, 19.69it/s]\n"
     ]
    }
   ],
   "source": [
    "def sigma_z0(M):\n",
    "    Radius = MtoR(M)\n",
    "    \n",
    "    integrand = lambda logk: np.exp(logk)* PowerSpectrum(np.exp(logk)) * W(np.exp(logk), Radius)**2\n",
    "    result = integrate.quad(integrand, np.log(interp_k[0]), np.log(interp_k[-1]), epsabs = 0, epsrel = 1e-6)\n",
    "    \n",
    "    return np.sqrt(result[0])\n",
    "\n",
    "def dsigmasqdm_z0(M):\n",
    "    Radius = MtoR(M)\n",
    "        \n",
    "    # Calculating drdrm\n",
    "    drdm = 1.0 / (4.0*np.pi * cosmo.Om(0)*rhoCrit0 * Radius*Radius)\n",
    "    \n",
    "    # Defining the integrand\n",
    "    integrand = lambda logk: np.exp(logk)* PowerSpectrum(np.exp(logk)) *\\\n",
    "                             2* W(np.exp(logk), Radius) * dWdR(np.exp(logk), Radius) * drdm\n",
    "    \n",
    "    result = integrate.quad(integrand, np.log(interp_k[0]), np.log(interp_k[-1]), epsabs = 0, epsrel = 1e-6)\n",
    "    return result[0]\n",
    "\n",
    "############################################################################\n",
    "###   The above is slow so we will define some interpolating functions   ###\n",
    "############################################################################\n",
    "\n",
    "interp_m = np.geomspace(M_MIN, RtoM(512), 2001)\n",
    "interp_sigma = np.zeros_like(interp_m)\n",
    "interp_dsigma_dm = np.zeros_like(interp_m)\n",
    "\n",
    "for i in tqdm(range(len(interp_m))):\n",
    "    interp_sigma[i] = sigma_z0(interp_m[i])\n",
    "    interp_dsigma_dm[i] = dsigmasqdm_z0(interp_m[i])\n",
    "    \n",
    "sigma_z0 = interpolate.CubicSpline(interp_m, interp_sigma)\n",
    "dsigmasqdm_z0 = interpolate.CubicSpline(interp_m, interp_dsigma_dm)"
   ]
  },
  {
   "cell_type": "code",
   "execution_count": 6,
   "metadata": {},
   "outputs": [],
   "source": [
    "np.save('./ResStack.npy', np.vstack((interp_m, interp_sigma, interp_dsigma_dm)))"
   ]
  },
  {
   "cell_type": "code",
   "execution_count": 6,
   "metadata": {},
   "outputs": [],
   "source": [
    "interp_m, interp_sigma, interp_dsigma_dm = np.load(\"../data/sfrd/ResStack.npy\")"
   ]
  },
  {
   "cell_type": "markdown",
   "metadata": {},
   "source": [
    "# Press Schechter and Sheth Tormen Mass Functions"
   ]
  },
  {
   "cell_type": "code",
   "execution_count": 7,
   "metadata": {},
   "outputs": [],
   "source": [
    "# This is the Sheth-Tormen Mass Function. This is exactly taken from 21cmFAST, which is why the conventions\n",
    "# are a little bit weird. Anyways, this matches HMF precisely if the Sheth-Tormen parameteres are tuned\n",
    "# to match those used by 21cmFAST.\n",
    "def dNdM_st(M, z):\n",
    "    \n",
    "    growthf = dicke(z)\n",
    "\n",
    "    sigma = sigma_z0(M)\n",
    "    dsigmadm = dsigmasqdm_z0(M)\n",
    "\n",
    "    sigma = sigma * growthf\n",
    "    dsigmadm = dsigmadm * (growthf*growthf/(2.*sigma))\n",
    "\n",
    "    nuhat = np.sqrt(SHETH_a) * Deltac / sigma\n",
    "\n",
    "    return (-(cosmo.Om0)*rhoCrit0/M) * (dsigmadm/sigma) * np.sqrt(2./np.pi)*SHETH_A * (1+ pow(nuhat, -2*SHETH_p)) * nuhat * pow(np.e, -nuhat*nuhat/2.0);\n",
    "\n",
    "# This is the Press-Schechter Mass Function. This is taken exactly from 21cmFAST, which is why the conventions\n",
    "# are a little bit weird. This precisely matches the HMF module.\n",
    "def dNdM(M, z):\n",
    "    growthf = dicke(z)\n",
    "\n",
    "    sigma = sigma_z0(M);\n",
    "    dsigmadm = dsigmasqdm_z0(M);\n",
    "\n",
    "    sigma = sigma * growthf;\n",
    "    dsigmadm = dsigmadm * (growthf*growthf/(2.*sigma));\n",
    "\n",
    "    return (-(cosmo.Om0)*rhoCrit0/M) * np.sqrt(2/np.pi) * (Deltac/(sigma*sigma)) * dsigmadm * np.power(np.e, -(Deltac*Deltac)/(2*sigma*sigma));\n",
    "\n",
    "\n",
    "# I had to implement this myself. I'm not actually sure 21cmFAST does this totally correctly, but I think this\n",
    "# should be close enough. It comes from Eq. 7.81 in Galaxy \n",
    "\n",
    "# This is the conditional Press-Schechter\n",
    "def dNdM_Conditional(MR, deltaR, z):\n",
    "    \n",
    "    delta2 = deltaR / dicke(z)\n",
    "    delta1 = Deltac / dicke(z)\n",
    "    \n",
    "    S1 = sigma_z0(interp_m)**2\n",
    "    S2 = sigma_z0(MR)**2\n",
    "    \n",
    "    dS1_dM1 = dsigmasqdm_z0(interp_m)\n",
    "\n",
    "    n12 = (delta1 - delta2) / np.sqrt(S1 - S2)\n",
    "    differential = -interp_m * (delta1-delta2) / 2 / n12 / np.sqrt(S1-S2)**3*dS1_dM1\n",
    "    differential *= (S1 > S2)\n",
    "    \n",
    "    fPS = np.sqrt(2/np.pi)*n12*np.exp(-n12**2 / 2)\n",
    "    \n",
    "    return np.where(S1 > S2, 1 / interp_m**2 * fPS * np.abs(differential), np.nan) * (cosmo.Om0*rhoCrit0)"
   ]
  },
  {
   "cell_type": "markdown",
   "metadata": {},
   "source": [
    "# Generate Interpolation Tables"
   ]
  },
  {
   "cell_type": "code",
   "execution_count": 8,
   "metadata": {},
   "outputs": [],
   "source": [
    "# These are me matching default behavior of 21cmFAST\n",
    "M_TURN = 5.012e+08\n",
    "M_MIN = M_TURN/50\n",
    "fStar10 = 0.05012\n",
    "alphaStar = 0.5\n",
    "\n",
    "tStar = 0.5"
   ]
  },
  {
   "cell_type": "code",
   "execution_count": 9,
   "metadata": {},
   "outputs": [],
   "source": [
    "def f_star(mHalo):\n",
    "    return fStar10 * (mHalo / 1e10)**alphaStar\n",
    "\n",
    "def m_star(mHalo):\n",
    "    return f_star(mHalo) * cosmo.Ob0 / cosmo.Om0 * mHalo\n",
    "\n",
    "def m_star_dot(mHalo, z):\n",
    "    return m_star(mHalo) / tStar * cosmo.H(z).to('1/s').value \n",
    "\n",
    "def f_duty(mHalo):\n",
    "    return np.exp(-M_TURN / mHalo)"
   ]
  },
  {
   "cell_type": "code",
   "execution_count": 10,
   "metadata": {},
   "outputs": [
    {
     "name": "stderr",
     "output_type": "stream",
     "text": [
      "/tmp/ipykernel_319140/1392383503.py:46: RuntimeWarning: invalid value encountered in sqrt\n",
      "  n12 = (delta1 - delta2) / np.sqrt(S1 - S2)\n",
      "/tmp/ipykernel_319140/1392383503.py:47: RuntimeWarning: invalid value encountered in sqrt\n",
      "  differential = -interp_m * (delta1-delta2) / 2 / n12 / np.sqrt(S1-S2)**3*dS1_dM1\n"
     ]
    },
    {
     "data": {
      "text/plain": [
       "(1e-40, 16008162657.015162)"
      ]
     },
     "execution_count": 10,
     "metadata": {},
     "output_type": "execute_result"
    },
    {
     "data": {
      "image/png": "[encoded data removed]",
      "text/plain": [
       "<Figure size 640x480 with 1 Axes>"
      ]
     },
     "metadata": {},
     "output_type": "display_data"
    }
   ],
   "source": [
    "EPSILON = 1e-6\n",
    "\n",
    "plt.plot(dNdM_Conditional(RtoM(200), 1.5, 20))\n",
    "plt.plot(dNdM_Conditional(RtoM(200), 1.6, 20))\n",
    "plt.plot(dNdM_Conditional(RtoM(200), 1.68-EPSILON, 20))\n",
    "plt.yscale('log')\n",
    "plt.ylim(1e-40, None)"
   ]
  },
  {
   "cell_type": "code",
   "execution_count": 11,
   "metadata": {
    "scrolled": true
   },
   "outputs": [
    {
     "name": "stderr",
     "output_type": "stream",
     "text": [
      "/tmp/ipykernel_319140/1392383503.py:46: RuntimeWarning: invalid value encountered in sqrt\n",
      "  n12 = (delta1 - delta2) / np.sqrt(S1 - S2)\n",
      "/tmp/ipykernel_319140/1392383503.py:47: RuntimeWarning: invalid value encountered in sqrt\n",
      "  differential = -interp_m * (delta1-delta2) / 2 / n12 / np.sqrt(S1-S2)**3*dS1_dM1\n"
     ]
    }
   ],
   "source": [
    "z = 15.\n",
    "delta_range = 1.68 - np.geomspace(1e-4, 1, 100)\n",
    "r = 5.\n",
    "cond_sfrd_arr = []\n",
    "\n",
    "for j, delta in enumerate(delta_range):\n",
    "    dndm_cond = np.nan_to_num(dNdM_Conditional(RtoM(r), delta, z))\n",
    "    integrand = dndm_cond*f_duty(interp_m) * m_star_dot(interp_m, z)\n",
    "    cond_sfrd_arr.append(np.trapz(integrand, interp_m))"
   ]
  },
  {
   "cell_type": "code",
   "execution_count": 12,
   "metadata": {},
   "outputs": [
    {
     "data": {
      "text/plain": [
       "<matplotlib.lines.Line2D at 0x7f60995a7510>"
      ]
     },
     "execution_count": 12,
     "metadata": {},
     "output_type": "execute_result"
    },
    {
     "data": {
      "image/png": "[encoded data removed]",
      "text/plain": [
       "<Figure size 640x480 with 1 Axes>"
      ]
     },
     "metadata": {},
     "output_type": "display_data"
    }
   ],
   "source": [
    "plt.plot(delta_range, cond_sfrd_arr)\n",
    "plt.yscale('log')\n",
    "plt.xlabel(r'$\\delta$')\n",
    "plt.ylabel(r'cond_sfrd')\n",
    "plt.axvline(1.5, color='r')"
   ]
  },
  {
   "cell_type": "code",
   "execution_count": 13,
   "metadata": {},
   "outputs": [
    {
     "name": "stderr",
     "output_type": "stream",
     "text": [
      "  0%|          | 0/50 [00:00<?, ?it/s]/tmp/ipykernel_319140/1392383503.py:46: RuntimeWarning: invalid value encountered in sqrt\n",
      "  n12 = (delta1 - delta2) / np.sqrt(S1 - S2)\n",
      "/tmp/ipykernel_319140/1392383503.py:47: RuntimeWarning: invalid value encountered in sqrt\n",
      "  differential = -interp_m * (delta1-delta2) / 2 / n12 / np.sqrt(S1-S2)**3*dS1_dM1\n",
      "/tmp/ipykernel_319140/1392383503.py:46: RuntimeWarning: divide by zero encountered in divide\n",
      "  n12 = (delta1 - delta2) / np.sqrt(S1 - S2)\n",
      "/tmp/ipykernel_319140/1392383503.py:47: RuntimeWarning: invalid value encountered in divide\n",
      "  differential = -interp_m * (delta1-delta2) / 2 / n12 / np.sqrt(S1-S2)**3*dS1_dM1\n",
      "/tmp/ipykernel_319140/1392383503.py:50: RuntimeWarning: invalid value encountered in multiply\n",
      "  fPS = np.sqrt(2/np.pi)*n12*np.exp(-n12**2 / 2)\n",
      "100%|██████████| 50/50 [01:03<00:00,  1.26s/it]\n"
     ]
    }
   ],
   "source": [
    "z_range = np.geomspace(5, 50, 50)\n",
    "# delta_range = np.linspace(-1, 1.5, 128)\n",
    "delta_range = 1.68 - np.geomspace(1e-4, 2.68, 51)\n",
    "r_range = np.geomspace(.1, 512, 52)\n",
    "\n",
    "cond_sfrd = np.zeros((len(z_range), len(delta_range), len(r_range)))\n",
    "for i, z in enumerate(tqdm(z_range)):\n",
    "    for j, delta in enumerate(delta_range):\n",
    "        for k, r in enumerate(r_range):\n",
    "            dndm_cond = np.nan_to_num(dNdM_Conditional(RtoM(r), delta, z))\n",
    "            integrand = dndm_cond*f_duty(interp_m) * m_star_dot(interp_m, z)\n",
    "            cond_sfrd[i, j, k] = np.trapz(integrand, interp_m)"
   ]
  },
  {
   "cell_type": "code",
   "execution_count": 14,
   "metadata": {},
   "outputs": [],
   "source": [
    "st_sfrd = np.zeros_like(z_range)\n",
    "\n",
    "for i in range(len(z_range)):\n",
    "    dndm_st = dNdM_st(interp_m, z_range[i])\n",
    "    integrand = dndm_st*f_duty(interp_m) * m_star_dot(interp_m, z_range[i])\n",
    "    st_sfrd[i] = np.trapz(integrand, interp_m)"
   ]
  },
  {
   "cell_type": "code",
   "execution_count": 15,
   "metadata": {},
   "outputs": [],
   "source": [
    "sys.path.append(\"..\")\n",
    "from dm21cm.utils import save_h5_dict, load_h5_dict"
   ]
  },
  {
   "cell_type": "code",
   "execution_count": 16,
   "metadata": {},
   "outputs": [],
   "source": [
    "table_dict = {\n",
    "    'z_range' : z_range,\n",
    "    'delta_range' : delta_range,\n",
    "    'r_range' : r_range,\n",
    "    'cond_sfrd_table' : cond_sfrd,\n",
    "    'st_sfrd_table' : st_sfrd,\n",
    "}\n",
    "save_h5_dict(\"../data/sfrd/sfrd_tables_interp.h5\", table_dict)"
   ]
  },
  {
   "cell_type": "code",
   "execution_count": 52,
   "metadata": {},
   "outputs": [],
   "source": [
    "# partially old table\n",
    "table_prev = load_h5_dict(os.environ['DM21CM_DATA_DIR'] + \"/tf/zf01/data/hmf_tables.h5\")\n",
    "table_dict = {\n",
    "    'z_range' : z_range,\n",
    "    'delta_range' : delta_range,\n",
    "    'r_range' : r_range,\n",
    "    'cond_sfrd_table' : cond_sfrd,\n",
    "    'st_sfrd_table' : interpolate.interp1d(table_prev['z_range'], table_prev['st_sfrd_table'])(z_range),\n",
    "}\n",
    "save_h5_dict(\"../data/sfrd/sfrd_tables_partold.h5\", table_dict)"
   ]
  },
  {
   "cell_type": "code",
   "execution_count": 56,
   "metadata": {},
   "outputs": [],
   "source": [
    "# deploy\n",
    "! cp ../data/sfrd/sfrd_tables.h5 $DM21CM_DATA_DIR/tf/zf01/data/sfrd_tables.h5"
   ]
  },
  {
   "cell_type": "code",
   "execution_count": null,
   "metadata": {},
   "outputs": [],
   "source": [
    "# npy\n",
    "res_dict = dict()\n",
    "res_dict['SFRD_Params'] =np.array([z_range, delta_range, r_range], dtype = list)\n",
    "res_dict['Cond_SFRD_Table'] = cond_sfrd\n",
    "res_dict['ST_SFRD_Table'] = st_sfrd\n",
    "np.savez('./Interpolators.npz', **res_dict, allow_pickle = True)"
   ]
  },
  {
   "cell_type": "markdown",
   "metadata": {},
   "source": [
    "## previous tables"
   ]
  },
  {
   "cell_type": "code",
   "execution_count": 48,
   "metadata": {},
   "outputs": [
    {
     "data": {
      "text/plain": [
       "'/n/holyscratch01/iaifi_lab/yitians/dm21cm/DM21cm/data'"
      ]
     },
     "execution_count": 48,
     "metadata": {},
     "output_type": "execute_result"
    }
   ],
   "source": [
    "os.environ['DM21CM_DATA_DIR']"
   ]
  },
  {
   "cell_type": "code",
   "execution_count": 49,
   "metadata": {},
   "outputs": [],
   "source": [
    "! cp /n/holyscratch01/iaifi_lab/yitians/dm21cm/DM21cm/data/tf/zf01/data/hmf_tables.h5 hmf_tables_old.h5"
   ]
  },
  {
   "cell_type": "code",
   "execution_count": 38,
   "metadata": {},
   "outputs": [
    {
     "data": {
      "text/plain": [
       "<matplotlib.legend.Legend at 0x7f78541a0f90>"
      ]
     },
     "execution_count": 38,
     "metadata": {},
     "output_type": "execute_result"
    },
    {
     "data": {
      "image/png": "[encoded data removed]",
      "text/plain": [
       "<Figure size 640x480 with 1 Axes>"
      ]
     },
     "metadata": {},
     "output_type": "display_data"
    }
   ],
   "source": [
    "plt.plot(table_prev['z_range'], table_prev['st_sfrd_table'], label='old')\n",
    "plt.plot(z_range, st_sfrd, label='new')\n",
    "plt.loglog()\n",
    "plt.ylim(1e-9, 1e-7)\n",
    "plt.xlabel('z')\n",
    "plt.ylabel('ST SFRD')\n",
    "plt.legend()"
   ]
  },
  {
   "cell_type": "code",
   "execution_count": 41,
   "metadata": {},
   "outputs": [],
   "source": [
    "z = 15.\n",
    "r = 5.\n",
    "ps_sfrd_interp = interpolate.RegularGridInterpolator((z_range, delta_range, r_range), cond_sfrd, bounds_error=False, fill_value=0)\n",
    "ps_sfrd_arr = ps_sfrd_interp([[z, d, r] for d in delta_range])\n",
    "\n",
    "old_ps_sfrd_interp = interpolate.RegularGridInterpolator((table_prev['z_range'], table_prev['delta_range'], table_prev['r_range']), table_prev['cond_sfrd_table'], bounds_error=False, fill_value=0)\n",
    "old_ps_sfrd_arr = old_ps_sfrd_interp([[z, d, r] for d in delta_range])"
   ]
  },
  {
   "cell_type": "code",
   "execution_count": 42,
   "metadata": {},
   "outputs": [
    {
     "data": {
      "text/plain": [
       "Text(0, 0.5, 'cond_sfrd')"
      ]
     },
     "execution_count": 42,
     "metadata": {},
     "output_type": "execute_result"
    },
    {
     "data": {
      "image/png": "[encoded data removed]",
      "text/plain": [
       "<Figure size 640x480 with 1 Axes>"
      ]
     },
     "metadata": {},
     "output_type": "display_data"
    }
   ],
   "source": [
    "plt.plot(delta_range, old_ps_sfrd_arr, label='old')\n",
    "plt.plot(delta_range, ps_sfrd_arr, label='new')\n",
    "plt.yscale('log')\n",
    "plt.xlabel(r'$\\delta$')\n",
    "plt.ylabel(r'cond_sfrd')"
   ]
  },
  {
   "cell_type": "code",
   "execution_count": null,
   "metadata": {},
   "outputs": [],
   "source": []
  }
 ],
 "metadata": {
  "kernelspec": {
   "display_name": "dm21cm",
   "language": "python",
   "name": "python3"
  },
  "language_info": {
   "codemirror_mode": {
    "name": "ipython",
    "version": 3
   },
   "file_extension": ".py",
   "mimetype": "text/x-python",
   "name": "python",
   "nbconvert_exporter": "python",
   "pygments_lexer": "ipython3",
   "version": "3.11.5"
  }
 },
 "nbformat": 4,
 "nbformat_minor": 4
}
