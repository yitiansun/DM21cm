{
 "cells": [
  {
   "cell_type": "code",
   "execution_count": 1,
   "metadata": {},
   "outputs": [],
   "source": [
    "import sys\n",
    "sys.path.append(\"..\")\n",
    "\n",
    "import numpy as np\n",
    "\n",
    "from dm21cm.utils import save_h5_dict"
   ]
  },
  {
   "cell_type": "code",
   "execution_count": 2,
   "metadata": {},
   "outputs": [],
   "source": [
    "wdir = \"/n/holyscratch01/iaifi_lab/yitians/dm21cm/DM21cm/data/tf/zf01/data\"\n",
    "table = np.load(wdir + \"/hmf_tables.npz\", allow_pickle=True)"
   ]
  },
  {
   "cell_type": "code",
   "execution_count": 3,
   "metadata": {},
   "outputs": [],
   "source": [
    "table_dict = {\n",
    "    'z_range' : table['SFRD_Params'][0],\n",
    "    'delta_range' : table['SFRD_Params'][1],\n",
    "    'r_range' : table['SFRD_Params'][2],\n",
    "    'cond_sfrd_table' : table['Cond_SFRD_Table'],\n",
    "    'st_sfrd_table' : table['ST_SFRD_Table'],\n",
    "}\n",
    "save_h5_dict(wdir + \"/hmf_tables.h5\", table_dict)"
   ]
  },
  {
   "cell_type": "code",
   "execution_count": null,
   "metadata": {},
   "outputs": [],
   "source": []
  }
 ],
 "metadata": {
  "kernelspec": {
   "display_name": "dm21cm",
   "language": "python",
   "name": "python3"
  },
  "language_info": {
   "codemirror_mode": {
    "name": "ipython",
    "version": 3
   },
   "file_extension": ".py",
   "mimetype": "text/x-python",
   "name": "python",
   "nbconvert_exporter": "python",
   "pygments_lexer": "ipython3",
   "version": "3.11.5"
  }
 },
 "nbformat": 4,
 "nbformat_minor": 2
}
